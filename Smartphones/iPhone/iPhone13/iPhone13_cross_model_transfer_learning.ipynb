{
 "cells": [
  {
   "cell_type": "code",
   "execution_count": 1,
   "metadata": {},
   "outputs": [
    {
     "name": "stderr",
     "output_type": "stream",
     "text": [
      "2022-10-28 11:26:02.523698: I tensorflow/core/platform/cpu_feature_guard.cc:193] This TensorFlow binary is optimized with oneAPI Deep Neural Network Library (oneDNN) to use the following CPU instructions in performance-critical operations:  AVX2 FMA\n",
      "To enable them in other operations, rebuild TensorFlow with the appropriate compiler flags.\n"
     ]
    }
   ],
   "source": [
    "import h5py\n",
    "import numpy as np\n",
    "import pandas as pd\n",
    "import scipy\n",
    "from scipy import signal\n",
    "import matplotlib.pyplot as plt\n",
    "import tensorflow as tf\n",
    "from tensorflow import keras\n",
    "from sklearn.model_selection import train_test_split\n",
    "from sklearn.preprocessing import MinMaxScaler\n",
    "from sklearn.metrics import confusion_matrix\n",
    "from sklearn.metrics import classification_report\n",
    "#from tqdm import tqdm\n",
    "import warnings\n",
    "warnings.filterwarnings('ignore')"
   ]
  },
  {
   "cell_type": "markdown",
   "metadata": {},
   "source": [
    "## Cross-model Validation by applying Transfer Learning"
   ]
  },
  {
   "cell_type": "markdown",
   "metadata": {},
   "source": [
    "Read iPhone13_I dataset"
   ]
  },
  {
   "cell_type": "code",
   "execution_count": 2,
   "metadata": {},
   "outputs": [
    {
     "data": {
      "text/html": [
       "<div>\n",
       "<style scoped>\n",
       "    .dataframe tbody tr th:only-of-type {\n",
       "        vertical-align: middle;\n",
       "    }\n",
       "\n",
       "    .dataframe tbody tr th {\n",
       "        vertical-align: top;\n",
       "    }\n",
       "\n",
       "    .dataframe thead th {\n",
       "        text-align: right;\n",
       "    }\n",
       "</style>\n",
       "<table border=\"1\" class=\"dataframe\">\n",
       "  <thead>\n",
       "    <tr style=\"text-align: right;\">\n",
       "      <th></th>\n",
       "      <th>0</th>\n",
       "      <th>1</th>\n",
       "      <th>2</th>\n",
       "      <th>3</th>\n",
       "      <th>4</th>\n",
       "      <th>5</th>\n",
       "      <th>6</th>\n",
       "      <th>7</th>\n",
       "      <th>8</th>\n",
       "      <th>9</th>\n",
       "      <th>...</th>\n",
       "      <th>2039</th>\n",
       "      <th>2040</th>\n",
       "      <th>2041</th>\n",
       "      <th>2042</th>\n",
       "      <th>2043</th>\n",
       "      <th>2044</th>\n",
       "      <th>2045</th>\n",
       "      <th>2046</th>\n",
       "      <th>2047</th>\n",
       "      <th>labels</th>\n",
       "    </tr>\n",
       "  </thead>\n",
       "  <tbody>\n",
       "    <tr>\n",
       "      <th>1</th>\n",
       "      <td>4.761936e-01</td>\n",
       "      <td>7.462537e-01</td>\n",
       "      <td>1.000000e+00</td>\n",
       "      <td>9.999999e-01</td>\n",
       "      <td>9.999999e-01</td>\n",
       "      <td>9.999999e-01</td>\n",
       "      <td>1.000000e+00</td>\n",
       "      <td>7.628606e-01</td>\n",
       "      <td>8.163937e-01</td>\n",
       "      <td>7.940208e-01</td>\n",
       "      <td>...</td>\n",
       "      <td>8.683546e-01</td>\n",
       "      <td>9.172477e-01</td>\n",
       "      <td>8.926962e-01</td>\n",
       "      <td>9.743119e-01</td>\n",
       "      <td>9.110338e-01</td>\n",
       "      <td>1.000000e+00</td>\n",
       "      <td>1.000000e+00</td>\n",
       "      <td>1.000000e+00</td>\n",
       "      <td>7.467434e-01</td>\n",
       "      <td>0.0</td>\n",
       "    </tr>\n",
       "    <tr>\n",
       "      <th>2</th>\n",
       "      <td>9.471413e-01</td>\n",
       "      <td>8.972449e-01</td>\n",
       "      <td>9.608108e-02</td>\n",
       "      <td>1.637575e-01</td>\n",
       "      <td>1.214086e-01</td>\n",
       "      <td>1.592363e-01</td>\n",
       "      <td>3.375854e-01</td>\n",
       "      <td>1.789118e-01</td>\n",
       "      <td>1.384011e-01</td>\n",
       "      <td>1.200082e-01</td>\n",
       "      <td>...</td>\n",
       "      <td>3.821414e-01</td>\n",
       "      <td>1.748950e-01</td>\n",
       "      <td>2.337102e-02</td>\n",
       "      <td>4.523218e-01</td>\n",
       "      <td>6.789261e-01</td>\n",
       "      <td>2.257810e-01</td>\n",
       "      <td>3.417216e-02</td>\n",
       "      <td>6.341586e-02</td>\n",
       "      <td>9.123225e-01</td>\n",
       "      <td>0.0</td>\n",
       "    </tr>\n",
       "    <tr>\n",
       "      <th>3</th>\n",
       "      <td>9.367439e-01</td>\n",
       "      <td>8.944372e-01</td>\n",
       "      <td>6.211657e-02</td>\n",
       "      <td>1.141974e-01</td>\n",
       "      <td>1.698997e-01</td>\n",
       "      <td>2.636282e-01</td>\n",
       "      <td>3.508669e-01</td>\n",
       "      <td>1.235017e-01</td>\n",
       "      <td>4.009470e-01</td>\n",
       "      <td>5.819136e-01</td>\n",
       "      <td>...</td>\n",
       "      <td>3.697716e-01</td>\n",
       "      <td>3.106888e-01</td>\n",
       "      <td>2.255814e-01</td>\n",
       "      <td>4.326394e-01</td>\n",
       "      <td>2.584235e-01</td>\n",
       "      <td>6.165699e-02</td>\n",
       "      <td>6.849753e-02</td>\n",
       "      <td>5.509797e-02</td>\n",
       "      <td>8.854198e-01</td>\n",
       "      <td>0.0</td>\n",
       "    </tr>\n",
       "    <tr>\n",
       "      <th>4</th>\n",
       "      <td>9.212657e-01</td>\n",
       "      <td>8.973215e-01</td>\n",
       "      <td>5.436719e-02</td>\n",
       "      <td>2.123216e-01</td>\n",
       "      <td>2.294114e-01</td>\n",
       "      <td>3.085415e-01</td>\n",
       "      <td>3.516977e-01</td>\n",
       "      <td>3.713803e-01</td>\n",
       "      <td>4.845761e-01</td>\n",
       "      <td>1.516180e-01</td>\n",
       "      <td>...</td>\n",
       "      <td>4.295740e-01</td>\n",
       "      <td>2.893520e-01</td>\n",
       "      <td>3.582524e-01</td>\n",
       "      <td>1.755044e-01</td>\n",
       "      <td>1.562677e-01</td>\n",
       "      <td>5.027995e-02</td>\n",
       "      <td>1.297548e-01</td>\n",
       "      <td>7.996013e-02</td>\n",
       "      <td>8.842411e-01</td>\n",
       "      <td>0.0</td>\n",
       "    </tr>\n",
       "    <tr>\n",
       "      <th>5</th>\n",
       "      <td>9.101710e-01</td>\n",
       "      <td>8.780430e-01</td>\n",
       "      <td>4.402389e-02</td>\n",
       "      <td>9.206606e-02</td>\n",
       "      <td>8.317954e-02</td>\n",
       "      <td>1.347911e-01</td>\n",
       "      <td>1.313327e-01</td>\n",
       "      <td>2.374243e-01</td>\n",
       "      <td>4.581659e-01</td>\n",
       "      <td>4.934578e-01</td>\n",
       "      <td>...</td>\n",
       "      <td>3.469205e-01</td>\n",
       "      <td>1.947705e-01</td>\n",
       "      <td>1.916352e-01</td>\n",
       "      <td>2.158481e-01</td>\n",
       "      <td>3.443035e-01</td>\n",
       "      <td>4.491858e-01</td>\n",
       "      <td>2.689210e-01</td>\n",
       "      <td>1.582262e-02</td>\n",
       "      <td>8.631172e-01</td>\n",
       "      <td>0.0</td>\n",
       "    </tr>\n",
       "    <tr>\n",
       "      <th>...</th>\n",
       "      <td>...</td>\n",
       "      <td>...</td>\n",
       "      <td>...</td>\n",
       "      <td>...</td>\n",
       "      <td>...</td>\n",
       "      <td>...</td>\n",
       "      <td>...</td>\n",
       "      <td>...</td>\n",
       "      <td>...</td>\n",
       "      <td>...</td>\n",
       "      <td>...</td>\n",
       "      <td>...</td>\n",
       "      <td>...</td>\n",
       "      <td>...</td>\n",
       "      <td>...</td>\n",
       "      <td>...</td>\n",
       "      <td>...</td>\n",
       "      <td>...</td>\n",
       "      <td>...</td>\n",
       "      <td>...</td>\n",
       "      <td>...</td>\n",
       "    </tr>\n",
       "    <tr>\n",
       "      <th>99996</th>\n",
       "      <td>4.342035e-38</td>\n",
       "      <td>3.434249e-39</td>\n",
       "      <td>3.149516e-40</td>\n",
       "      <td>5.873557e-40</td>\n",
       "      <td>4.112447e-40</td>\n",
       "      <td>2.028080e-39</td>\n",
       "      <td>5.686904e-40</td>\n",
       "      <td>1.102125e-39</td>\n",
       "      <td>1.254456e-39</td>\n",
       "      <td>2.925981e-40</td>\n",
       "      <td>...</td>\n",
       "      <td>1.841296e-39</td>\n",
       "      <td>5.670004e-40</td>\n",
       "      <td>6.141695e-40</td>\n",
       "      <td>4.132962e-40</td>\n",
       "      <td>2.798771e-40</td>\n",
       "      <td>2.734648e-40</td>\n",
       "      <td>1.826158e-40</td>\n",
       "      <td>2.509978e-40</td>\n",
       "      <td>7.721311e-39</td>\n",
       "      <td>9.0</td>\n",
       "    </tr>\n",
       "    <tr>\n",
       "      <th>99997</th>\n",
       "      <td>4.318159e-38</td>\n",
       "      <td>3.782791e-39</td>\n",
       "      <td>1.022186e-39</td>\n",
       "      <td>3.295139e-40</td>\n",
       "      <td>8.654279e-40</td>\n",
       "      <td>4.249285e-39</td>\n",
       "      <td>3.832397e-40</td>\n",
       "      <td>7.368952e-40</td>\n",
       "      <td>1.963303e-39</td>\n",
       "      <td>1.465793e-39</td>\n",
       "      <td>...</td>\n",
       "      <td>2.693565e-39</td>\n",
       "      <td>8.959804e-40</td>\n",
       "      <td>5.003771e-40</td>\n",
       "      <td>1.258576e-40</td>\n",
       "      <td>3.477686e-40</td>\n",
       "      <td>3.516012e-40</td>\n",
       "      <td>1.450386e-39</td>\n",
       "      <td>5.213755e-40</td>\n",
       "      <td>6.623052e-39</td>\n",
       "      <td>9.0</td>\n",
       "    </tr>\n",
       "    <tr>\n",
       "      <th>99998</th>\n",
       "      <td>4.129522e-38</td>\n",
       "      <td>2.971595e-39</td>\n",
       "      <td>1.050996e-39</td>\n",
       "      <td>6.863083e-40</td>\n",
       "      <td>9.133958e-40</td>\n",
       "      <td>1.520775e-39</td>\n",
       "      <td>1.181066e-39</td>\n",
       "      <td>1.273923e-39</td>\n",
       "      <td>9.537083e-40</td>\n",
       "      <td>1.614946e-39</td>\n",
       "      <td>...</td>\n",
       "      <td>1.324727e-39</td>\n",
       "      <td>3.181788e-40</td>\n",
       "      <td>7.601259e-40</td>\n",
       "      <td>9.548980e-40</td>\n",
       "      <td>4.421867e-40</td>\n",
       "      <td>4.893937e-40</td>\n",
       "      <td>3.329589e-39</td>\n",
       "      <td>1.135511e-39</td>\n",
       "      <td>6.127573e-39</td>\n",
       "      <td>9.0</td>\n",
       "    </tr>\n",
       "    <tr>\n",
       "      <th>99999</th>\n",
       "      <td>4.169834e-38</td>\n",
       "      <td>3.260244e-39</td>\n",
       "      <td>6.325980e-40</td>\n",
       "      <td>1.017295e-39</td>\n",
       "      <td>1.103318e-39</td>\n",
       "      <td>1.339755e-39</td>\n",
       "      <td>4.606965e-40</td>\n",
       "      <td>8.830983e-40</td>\n",
       "      <td>9.244422e-40</td>\n",
       "      <td>3.025431e-40</td>\n",
       "      <td>...</td>\n",
       "      <td>2.596009e-39</td>\n",
       "      <td>4.891106e-40</td>\n",
       "      <td>3.929311e-40</td>\n",
       "      <td>6.756865e-40</td>\n",
       "      <td>3.350126e-40</td>\n",
       "      <td>2.824023e-40</td>\n",
       "      <td>2.425938e-39</td>\n",
       "      <td>9.847261e-40</td>\n",
       "      <td>6.189866e-39</td>\n",
       "      <td>9.0</td>\n",
       "    </tr>\n",
       "    <tr>\n",
       "      <th>100000</th>\n",
       "      <td>3.964059e-38</td>\n",
       "      <td>2.788340e-39</td>\n",
       "      <td>7.337101e-40</td>\n",
       "      <td>6.669802e-40</td>\n",
       "      <td>1.064398e-39</td>\n",
       "      <td>2.790330e-39</td>\n",
       "      <td>4.307872e-40</td>\n",
       "      <td>1.875767e-39</td>\n",
       "      <td>2.735099e-39</td>\n",
       "      <td>3.453486e-40</td>\n",
       "      <td>...</td>\n",
       "      <td>1.865320e-39</td>\n",
       "      <td>6.382494e-40</td>\n",
       "      <td>5.867699e-40</td>\n",
       "      <td>5.876709e-40</td>\n",
       "      <td>3.170270e-40</td>\n",
       "      <td>2.596438e-40</td>\n",
       "      <td>2.405884e-39</td>\n",
       "      <td>2.439756e-39</td>\n",
       "      <td>4.094569e-39</td>\n",
       "      <td>9.0</td>\n",
       "    </tr>\n",
       "  </tbody>\n",
       "</table>\n",
       "<p>100000 rows × 2049 columns</p>\n",
       "</div>"
      ],
      "text/plain": [
       "0                  0             1             2             3             4  \\\n",
       "1       4.761936e-01  7.462537e-01  1.000000e+00  9.999999e-01  9.999999e-01   \n",
       "2       9.471413e-01  8.972449e-01  9.608108e-02  1.637575e-01  1.214086e-01   \n",
       "3       9.367439e-01  8.944372e-01  6.211657e-02  1.141974e-01  1.698997e-01   \n",
       "4       9.212657e-01  8.973215e-01  5.436719e-02  2.123216e-01  2.294114e-01   \n",
       "5       9.101710e-01  8.780430e-01  4.402389e-02  9.206606e-02  8.317954e-02   \n",
       "...              ...           ...           ...           ...           ...   \n",
       "99996   4.342035e-38  3.434249e-39  3.149516e-40  5.873557e-40  4.112447e-40   \n",
       "99997   4.318159e-38  3.782791e-39  1.022186e-39  3.295139e-40  8.654279e-40   \n",
       "99998   4.129522e-38  2.971595e-39  1.050996e-39  6.863083e-40  9.133958e-40   \n",
       "99999   4.169834e-38  3.260244e-39  6.325980e-40  1.017295e-39  1.103318e-39   \n",
       "100000  3.964059e-38  2.788340e-39  7.337101e-40  6.669802e-40  1.064398e-39   \n",
       "\n",
       "0                  5             6             7             8             9  \\\n",
       "1       9.999999e-01  1.000000e+00  7.628606e-01  8.163937e-01  7.940208e-01   \n",
       "2       1.592363e-01  3.375854e-01  1.789118e-01  1.384011e-01  1.200082e-01   \n",
       "3       2.636282e-01  3.508669e-01  1.235017e-01  4.009470e-01  5.819136e-01   \n",
       "4       3.085415e-01  3.516977e-01  3.713803e-01  4.845761e-01  1.516180e-01   \n",
       "5       1.347911e-01  1.313327e-01  2.374243e-01  4.581659e-01  4.934578e-01   \n",
       "...              ...           ...           ...           ...           ...   \n",
       "99996   2.028080e-39  5.686904e-40  1.102125e-39  1.254456e-39  2.925981e-40   \n",
       "99997   4.249285e-39  3.832397e-40  7.368952e-40  1.963303e-39  1.465793e-39   \n",
       "99998   1.520775e-39  1.181066e-39  1.273923e-39  9.537083e-40  1.614946e-39   \n",
       "99999   1.339755e-39  4.606965e-40  8.830983e-40  9.244422e-40  3.025431e-40   \n",
       "100000  2.790330e-39  4.307872e-40  1.875767e-39  2.735099e-39  3.453486e-40   \n",
       "\n",
       "0       ...          2039          2040          2041          2042  \\\n",
       "1       ...  8.683546e-01  9.172477e-01  8.926962e-01  9.743119e-01   \n",
       "2       ...  3.821414e-01  1.748950e-01  2.337102e-02  4.523218e-01   \n",
       "3       ...  3.697716e-01  3.106888e-01  2.255814e-01  4.326394e-01   \n",
       "4       ...  4.295740e-01  2.893520e-01  3.582524e-01  1.755044e-01   \n",
       "5       ...  3.469205e-01  1.947705e-01  1.916352e-01  2.158481e-01   \n",
       "...     ...           ...           ...           ...           ...   \n",
       "99996   ...  1.841296e-39  5.670004e-40  6.141695e-40  4.132962e-40   \n",
       "99997   ...  2.693565e-39  8.959804e-40  5.003771e-40  1.258576e-40   \n",
       "99998   ...  1.324727e-39  3.181788e-40  7.601259e-40  9.548980e-40   \n",
       "99999   ...  2.596009e-39  4.891106e-40  3.929311e-40  6.756865e-40   \n",
       "100000  ...  1.865320e-39  6.382494e-40  5.867699e-40  5.876709e-40   \n",
       "\n",
       "0               2043          2044          2045          2046          2047  \\\n",
       "1       9.110338e-01  1.000000e+00  1.000000e+00  1.000000e+00  7.467434e-01   \n",
       "2       6.789261e-01  2.257810e-01  3.417216e-02  6.341586e-02  9.123225e-01   \n",
       "3       2.584235e-01  6.165699e-02  6.849753e-02  5.509797e-02  8.854198e-01   \n",
       "4       1.562677e-01  5.027995e-02  1.297548e-01  7.996013e-02  8.842411e-01   \n",
       "5       3.443035e-01  4.491858e-01  2.689210e-01  1.582262e-02  8.631172e-01   \n",
       "...              ...           ...           ...           ...           ...   \n",
       "99996   2.798771e-40  2.734648e-40  1.826158e-40  2.509978e-40  7.721311e-39   \n",
       "99997   3.477686e-40  3.516012e-40  1.450386e-39  5.213755e-40  6.623052e-39   \n",
       "99998   4.421867e-40  4.893937e-40  3.329589e-39  1.135511e-39  6.127573e-39   \n",
       "99999   3.350126e-40  2.824023e-40  2.425938e-39  9.847261e-40  6.189866e-39   \n",
       "100000  3.170270e-40  2.596438e-40  2.405884e-39  2.439756e-39  4.094569e-39   \n",
       "\n",
       "0       labels  \n",
       "1          0.0  \n",
       "2          0.0  \n",
       "3          0.0  \n",
       "4          0.0  \n",
       "5          0.0  \n",
       "...        ...  \n",
       "99996      9.0  \n",
       "99997      9.0  \n",
       "99998      9.0  \n",
       "99999      9.0  \n",
       "100000     9.0  \n",
       "\n",
       "[100000 rows x 2049 columns]"
      ]
     },
     "execution_count": 2,
     "metadata": {},
     "output_type": "execute_result"
    }
   ],
   "source": [
    "data = pd.read_csv(\"/Users/Lojenaa/Documents/PhD/Smartphones/Cross-device-Portability-of-EMSCA/Smartphones/iPhone/iPhone13/i13_I.csv\",comment='#',  index_col=0, header=None, low_memory=False).T\n",
    "data"
   ]
  },
  {
   "cell_type": "code",
   "execution_count": 3,
   "metadata": {},
   "outputs": [],
   "source": [
    "Y = labels = data['labels']\n",
    "X = data = data.drop(columns=['labels'])"
   ]
  },
  {
   "cell_type": "markdown",
   "metadata": {},
   "source": [
    "iPhone13_I_Besh model to iPhone13_I dataset"
   ]
  },
  {
   "cell_type": "code",
   "execution_count": 4,
   "metadata": {},
   "outputs": [
    {
     "name": "stderr",
     "output_type": "stream",
     "text": [
      "2022-10-28 11:31:49.841565: I tensorflow/core/platform/cpu_feature_guard.cc:193] This TensorFlow binary is optimized with oneAPI Deep Neural Network Library (oneDNN) to use the following CPU instructions in performance-critical operations:  AVX2 FMA\n",
      "To enable them in other operations, rebuild TensorFlow with the appropriate compiler flags.\n"
     ]
    },
    {
     "name": "stdout",
     "output_type": "stream",
     "text": [
      "Model: \"sequential_1\"\n",
      "_________________________________________________________________\n",
      " Layer (type)                Output Shape              Param #   \n",
      "=================================================================\n",
      " dense (Dense)               (None, 1400)              2868600   \n",
      "                                                                 \n",
      " dense_1 (Dense)             (None, 800)               1120800   \n",
      "                                                                 \n",
      " dense_2 (Dense)             (None, 500)               400500    \n",
      "                                                                 \n",
      " dense_3 (Dense)             (None, 200)               100200    \n",
      "                                                                 \n",
      " dense_4 (Dense)             (None, 100)               20100     \n",
      "                                                                 \n",
      " dense_5 (Dense)             (None, 10)                1010      \n",
      "                                                                 \n",
      "=================================================================\n",
      "Total params: 4,511,210\n",
      "Trainable params: 4,511,210\n",
      "Non-trainable params: 0\n",
      "_________________________________________________________________\n"
     ]
    }
   ],
   "source": [
    "model = keras.models.load_model(\"/Users/Lojenaa/Documents/PhD/Smartphones/Cross-device-Portability-of-EMSCA/Smartphones/iPhone/iPhone13/iPHONE13_I_BeSh_model.h5\")\n",
    "model.summary()"
   ]
  },
  {
   "cell_type": "code",
   "execution_count": 5,
   "metadata": {},
   "outputs": [
    {
     "name": "stdout",
     "output_type": "stream",
     "text": [
      "Model: \"sequential_1\"\n",
      "_________________________________________________________________\n",
      " Layer (type)                Output Shape              Param #   \n",
      "=================================================================\n",
      " dense (Dense)               (None, 1400)              2868600   \n",
      "                                                                 \n",
      " dense_1 (Dense)             (None, 800)               1120800   \n",
      "                                                                 \n",
      " dense_2 (Dense)             (None, 500)               400500    \n",
      "                                                                 \n",
      " dense_3 (Dense)             (None, 200)               100200    \n",
      "                                                                 \n",
      " dense_4 (Dense)             (None, 100)               20100     \n",
      "                                                                 \n",
      " dense_5 (Dense)             (None, 10)                1010      \n",
      "                                                                 \n",
      "=================================================================\n",
      "Total params: 4,511,210\n",
      "Trainable params: 1,010\n",
      "Non-trainable params: 4,510,200\n",
      "_________________________________________________________________\n"
     ]
    }
   ],
   "source": [
    "# Freeze all layers except the last one.\n",
    "for layer in model.layers[:-1]:\n",
    "  layer.trainable = False\n",
    "\n",
    "model.summary()"
   ]
  },
  {
   "cell_type": "code",
   "execution_count": 6,
   "metadata": {},
   "outputs": [],
   "source": [
    "opt = keras.optimizers.SGD(learning_rate=0.001)\n",
    "model.compile(loss=\"sparse_categorical_crossentropy\", optimizer=opt, metrics=[\"accuracy\"])"
   ]
  },
  {
   "cell_type": "code",
   "execution_count": 8,
   "metadata": {},
   "outputs": [
    {
     "name": "stdout",
     "output_type": "stream",
     "text": [
      "Epoch 1/25\n",
      "3125/3125 [==============================] - 11s 4ms/step - loss: 0.6281 - accuracy: 0.7450\n",
      "Epoch 2/25\n",
      "3125/3125 [==============================] - 12s 4ms/step - loss: 0.5591 - accuracy: 0.7804\n",
      "Epoch 3/25\n",
      "3125/3125 [==============================] - 11s 3ms/step - loss: 0.5237 - accuracy: 0.7969\n",
      "Epoch 4/25\n",
      "3125/3125 [==============================] - 11s 3ms/step - loss: 0.5020 - accuracy: 0.8056\n",
      "Epoch 5/25\n",
      "3125/3125 [==============================] - 12s 4ms/step - loss: 0.4870 - accuracy: 0.8107\n",
      "Epoch 6/25\n",
      "3125/3125 [==============================] - 13s 4ms/step - loss: 0.4748 - accuracy: 0.8144\n",
      "Epoch 7/25\n",
      "3125/3125 [==============================] - 18s 6ms/step - loss: 0.4652 - accuracy: 0.8177\n",
      "Epoch 8/25\n",
      "3125/3125 [==============================] - 13s 4ms/step - loss: 0.4583 - accuracy: 0.8205\n",
      "Epoch 9/25\n",
      "3125/3125 [==============================] - 14s 4ms/step - loss: 0.4513 - accuracy: 0.8228\n",
      "Epoch 10/25\n",
      "3125/3125 [==============================] - 13s 4ms/step - loss: 0.4457 - accuracy: 0.8257\n",
      "Epoch 11/25\n",
      "3125/3125 [==============================] - 14s 4ms/step - loss: 0.4406 - accuracy: 0.8265\n",
      "Epoch 12/25\n",
      "3125/3125 [==============================] - 12s 4ms/step - loss: 0.4357 - accuracy: 0.8295\n",
      "Epoch 13/25\n",
      "3125/3125 [==============================] - 12s 4ms/step - loss: 0.4316 - accuracy: 0.8302\n",
      "Epoch 14/25\n",
      "3125/3125 [==============================] - 13s 4ms/step - loss: 0.4281 - accuracy: 0.8318\n",
      "Epoch 15/25\n",
      "3125/3125 [==============================] - 12s 4ms/step - loss: 0.4244 - accuracy: 0.8334\n",
      "Epoch 16/25\n",
      "3125/3125 [==============================] - 13s 4ms/step - loss: 0.4214 - accuracy: 0.8348\n",
      "Epoch 17/25\n",
      "3125/3125 [==============================] - 13s 4ms/step - loss: 0.4187 - accuracy: 0.8352\n",
      "Epoch 18/25\n",
      "3125/3125 [==============================] - 13s 4ms/step - loss: 0.4152 - accuracy: 0.8370\n",
      "Epoch 19/25\n",
      "3125/3125 [==============================] - 14s 4ms/step - loss: 0.4127 - accuracy: 0.8382\n",
      "Epoch 20/25\n",
      "3125/3125 [==============================] - 14s 4ms/step - loss: 0.4105 - accuracy: 0.8384\n",
      "Epoch 21/25\n",
      "3125/3125 [==============================] - 14s 4ms/step - loss: 0.4079 - accuracy: 0.8399\n",
      "Epoch 22/25\n",
      "3125/3125 [==============================] - 14s 5ms/step - loss: 0.4058 - accuracy: 0.8410\n",
      "Epoch 23/25\n",
      "3125/3125 [==============================] - 13s 4ms/step - loss: 0.4035 - accuracy: 0.8423\n",
      "Epoch 24/25\n",
      "3125/3125 [==============================] - 14s 4ms/step - loss: 0.4018 - accuracy: 0.8422\n",
      "Epoch 25/25\n",
      "3125/3125 [==============================] - 14s 4ms/step - loss: 0.3996 - accuracy: 0.8443\n"
     ]
    }
   ],
   "source": [
    "history = model.fit(X, Y, epochs=25)"
   ]
  },
  {
   "cell_type": "code",
   "execution_count": 9,
   "metadata": {},
   "outputs": [
    {
     "data": {
      "image/png": "[encoded data removed]",
      "text/plain": [
       "<Figure size 800x500 with 1 Axes>"
      ]
     },
     "metadata": {},
     "output_type": "display_data"
    }
   ],
   "source": [
    "pd.DataFrame(history.history).plot(figsize=(8, 5))\n",
    "plt.grid(True)\n",
    "plt.gca().set_ylim(0, 1) # set the vertical range to [0-1]\n",
    "plt.show()"
   ]
  },
  {
   "cell_type": "code",
   "execution_count": 10,
   "metadata": {},
   "outputs": [
    {
     "name": "stdout",
     "output_type": "stream",
     "text": [
      "3125/3125 [==============================] - 12s 4ms/step - loss: 0.3991 - accuracy: 0.8437\n",
      "test loss, test acc: [0.3990943431854248, 0.8436899781227112]\n"
     ]
    }
   ],
   "source": [
    "results = model.evaluate(X, Y)\n",
    "print(\"test loss, test acc:\", results)"
   ]
  },
  {
   "cell_type": "code",
   "execution_count": 11,
   "metadata": {},
   "outputs": [
    {
     "name": "stdout",
     "output_type": "stream",
     "text": [
      "3125/3125 [==============================] - 12s 4ms/step\n",
      "[6 0 0 ... 9 9 9]\n",
      "6\n"
     ]
    }
   ],
   "source": [
    "y_pred = np.argmax(model.predict(X), axis=-1)\n",
    "print(y_pred)\n",
    "print(y_pred[0])"
   ]
  },
  {
   "cell_type": "code",
   "execution_count": 12,
   "metadata": {},
   "outputs": [
    {
     "name": "stdout",
     "output_type": "stream",
     "text": [
      "[[ 9453     0     0     0     0     0   547     0     0     0]\n",
      " [    2  7155  1332     2   303  1186     0     0    20     0]\n",
      " [    2  2375  6610     4   495   497     0     0    17     0]\n",
      " [    3     0    36  9957     0     3     0     0     0     1]\n",
      " [    1   251   226     6  7807  1139     1     0   568     1]\n",
      " [    3  1655   313     3  1876  6095     0     0    55     0]\n",
      " [  824     0     0     0     0     0  9176     0     0     0]\n",
      " [    1     0     0     2     0     0     1  9995     1     0]\n",
      " [    1    14     8     5  1810    41     0     0  8121     0]\n",
      " [    0     0     0     0     0     0     0     0     0 10000]]\n",
      "              precision    recall  f1-score   support\n",
      "\n",
      "         0.0       0.92      0.95      0.93     10000\n",
      "         1.0       0.62      0.72      0.67     10000\n",
      "         2.0       0.78      0.66      0.71     10000\n",
      "         3.0       1.00      1.00      1.00     10000\n",
      "         4.0       0.64      0.78      0.70     10000\n",
      "         5.0       0.68      0.61      0.64     10000\n",
      "         6.0       0.94      0.92      0.93     10000\n",
      "         7.0       1.00      1.00      1.00     10000\n",
      "         8.0       0.92      0.81      0.86     10000\n",
      "         9.0       1.00      1.00      1.00     10000\n",
      "\n",
      "    accuracy                           0.84    100000\n",
      "   macro avg       0.85      0.84      0.84    100000\n",
      "weighted avg       0.85      0.84      0.84    100000\n",
      "\n"
     ]
    }
   ],
   "source": [
    "print(confusion_matrix(Y, y_pred))\n",
    "print(classification_report(Y, y_pred))"
   ]
  },
  {
   "cell_type": "markdown",
   "metadata": {},
   "source": [
    "iPhone13_II model to iPhone13_I dataset"
   ]
  },
  {
   "cell_type": "code",
   "execution_count": 13,
   "metadata": {},
   "outputs": [
    {
     "name": "stdout",
     "output_type": "stream",
     "text": [
      "Model: \"sequential\"\n",
      "_________________________________________________________________\n",
      " Layer (type)                Output Shape              Param #   \n",
      "=================================================================\n",
      " dense (Dense)               (None, 1400)              2868600   \n",
      "                                                                 \n",
      " dense_1 (Dense)             (None, 800)               1120800   \n",
      "                                                                 \n",
      " dense_2 (Dense)             (None, 500)               400500    \n",
      "                                                                 \n",
      " dense_3 (Dense)             (None, 200)               100200    \n",
      "                                                                 \n",
      " dense_4 (Dense)             (None, 100)               20100     \n",
      "                                                                 \n",
      " dense_5 (Dense)             (None, 10)                1010      \n",
      "                                                                 \n",
      "=================================================================\n",
      "Total params: 4,511,210\n",
      "Trainable params: 4,511,210\n",
      "Non-trainable params: 0\n",
      "_________________________________________________________________\n"
     ]
    }
   ],
   "source": [
    "model = keras.models.load_model(\"/Users/Lojenaa/Documents/PhD/Smartphones/Cross-device-Portability-of-EMSCA/Smartphones/iPhone/iPhone13/iPHONE13_II_model.h5\")\n",
    "model.summary()"
   ]
  },
  {
   "cell_type": "code",
   "execution_count": 14,
   "metadata": {},
   "outputs": [
    {
     "name": "stdout",
     "output_type": "stream",
     "text": [
      "Model: \"sequential\"\n",
      "_________________________________________________________________\n",
      " Layer (type)                Output Shape              Param #   \n",
      "=================================================================\n",
      " dense (Dense)               (None, 1400)              2868600   \n",
      "                                                                 \n",
      " dense_1 (Dense)             (None, 800)               1120800   \n",
      "                                                                 \n",
      " dense_2 (Dense)             (None, 500)               400500    \n",
      "                                                                 \n",
      " dense_3 (Dense)             (None, 200)               100200    \n",
      "                                                                 \n",
      " dense_4 (Dense)             (None, 100)               20100     \n",
      "                                                                 \n",
      " dense_5 (Dense)             (None, 10)                1010      \n",
      "                                                                 \n",
      "=================================================================\n",
      "Total params: 4,511,210\n",
      "Trainable params: 1,010\n",
      "Non-trainable params: 4,510,200\n",
      "_________________________________________________________________\n"
     ]
    }
   ],
   "source": [
    "# Freeze all layers except the last one.\n",
    "for layer in model.layers[:-1]:\n",
    "  layer.trainable = False\n",
    "\n",
    "model.summary()"
   ]
  },
  {
   "cell_type": "code",
   "execution_count": 15,
   "metadata": {},
   "outputs": [],
   "source": [
    "opt = keras.optimizers.SGD(learning_rate=0.001)\n",
    "model.compile(loss=\"sparse_categorical_crossentropy\", optimizer=opt, metrics=[\"accuracy\"])"
   ]
  },
  {
   "cell_type": "code",
   "execution_count": 16,
   "metadata": {},
   "outputs": [
    {
     "name": "stdout",
     "output_type": "stream",
     "text": [
      "Epoch 1/25\n",
      "3125/3125 [==============================] - 14s 4ms/step - loss: 1.6371 - accuracy: 0.4949\n",
      "Epoch 2/25\n",
      "3125/3125 [==============================] - 13s 4ms/step - loss: 0.6686 - accuracy: 0.7166\n",
      "Epoch 3/25\n",
      "3125/3125 [==============================] - 13s 4ms/step - loss: 0.5812 - accuracy: 0.7569\n",
      "Epoch 4/25\n",
      "3125/3125 [==============================] - 13s 4ms/step - loss: 0.5496 - accuracy: 0.7712\n",
      "Epoch 5/25\n",
      "3125/3125 [==============================] - 13s 4ms/step - loss: 0.5318 - accuracy: 0.7791\n",
      "Epoch 6/25\n",
      "3125/3125 [==============================] - 14s 4ms/step - loss: 0.5202 - accuracy: 0.7836\n",
      "Epoch 7/25\n",
      "3125/3125 [==============================] - 17s 5ms/step - loss: 0.5114 - accuracy: 0.7877\n",
      "Epoch 8/25\n",
      "3125/3125 [==============================] - 15s 5ms/step - loss: 0.5047 - accuracy: 0.7897\n",
      "Epoch 9/25\n",
      "3125/3125 [==============================] - 16s 5ms/step - loss: 0.4999 - accuracy: 0.7932\n",
      "Epoch 10/25\n",
      "3125/3125 [==============================] - 14s 4ms/step - loss: 0.4953 - accuracy: 0.7958\n",
      "Epoch 11/25\n",
      "3125/3125 [==============================] - 14s 5ms/step - loss: 0.4914 - accuracy: 0.7963\n",
      "Epoch 12/25\n",
      "3125/3125 [==============================] - 14s 4ms/step - loss: 0.4882 - accuracy: 0.7984\n",
      "Epoch 13/25\n",
      "3125/3125 [==============================] - 14s 4ms/step - loss: 0.4853 - accuracy: 0.7997\n",
      "Epoch 14/25\n",
      "3125/3125 [==============================] - 14s 5ms/step - loss: 0.4823 - accuracy: 0.8016\n",
      "Epoch 15/25\n",
      "3125/3125 [==============================] - 14s 4ms/step - loss: 0.4804 - accuracy: 0.8025\n",
      "Epoch 16/25\n",
      "3125/3125 [==============================] - 14s 4ms/step - loss: 0.4777 - accuracy: 0.8041\n",
      "Epoch 17/25\n",
      "3125/3125 [==============================] - 13s 4ms/step - loss: 0.4758 - accuracy: 0.8059\n",
      "Epoch 18/25\n",
      "3125/3125 [==============================] - 14s 4ms/step - loss: 0.4741 - accuracy: 0.8064\n",
      "Epoch 19/25\n",
      "3125/3125 [==============================] - 14s 5ms/step - loss: 0.4719 - accuracy: 0.8079\n",
      "Epoch 20/25\n",
      "3125/3125 [==============================] - 14s 4ms/step - loss: 0.4704 - accuracy: 0.8080\n",
      "Epoch 21/25\n",
      "3125/3125 [==============================] - 14s 4ms/step - loss: 0.4681 - accuracy: 0.8091\n",
      "Epoch 22/25\n",
      "3125/3125 [==============================] - 14s 4ms/step - loss: 0.4668 - accuracy: 0.8117\n",
      "Epoch 23/25\n",
      "3125/3125 [==============================] - 14s 4ms/step - loss: 0.4652 - accuracy: 0.8111\n",
      "Epoch 24/25\n",
      "3125/3125 [==============================] - 14s 5ms/step - loss: 0.4637 - accuracy: 0.8119\n",
      "Epoch 25/25\n",
      "3125/3125 [==============================] - 14s 4ms/step - loss: 0.4623 - accuracy: 0.8132\n"
     ]
    }
   ],
   "source": [
    "history = model.fit(X, Y, epochs=25)"
   ]
  },
  {
   "cell_type": "code",
   "execution_count": 17,
   "metadata": {},
   "outputs": [
    {
     "data": {
      "image/png": "[encoded data removed]",
      "text/plain": [
       "<Figure size 800x500 with 1 Axes>"
      ]
     },
     "metadata": {},
     "output_type": "display_data"
    }
   ],
   "source": [
    "pd.DataFrame(history.history).plot(figsize=(8, 5))\n",
    "plt.grid(True)\n",
    "plt.gca().set_ylim(0, 1) # set the vertical range to [0-1]\n",
    "plt.show()"
   ]
  },
  {
   "cell_type": "code",
   "execution_count": 18,
   "metadata": {},
   "outputs": [
    {
     "name": "stdout",
     "output_type": "stream",
     "text": [
      "3125/3125 [==============================] - 12s 4ms/step - loss: 0.4606 - accuracy: 0.8146\n",
      "test loss, test acc: [0.4605696201324463, 0.8145800232887268]\n"
     ]
    }
   ],
   "source": [
    "results = model.evaluate(X, Y)\n",
    "print(\"test loss, test acc:\", results)"
   ]
  },
  {
   "cell_type": "code",
   "execution_count": 19,
   "metadata": {},
   "outputs": [
    {
     "name": "stdout",
     "output_type": "stream",
     "text": [
      "3125/3125 [==============================] - 12s 4ms/step\n",
      "[0 0 0 ... 9 9 9]\n",
      "0\n"
     ]
    }
   ],
   "source": [
    "y_pred = np.argmax(model.predict(X), axis=-1)\n",
    "print(y_pred)\n",
    "print(y_pred[0])"
   ]
  },
  {
   "cell_type": "code",
   "execution_count": 20,
   "metadata": {},
   "outputs": [
    {
     "name": "stdout",
     "output_type": "stream",
     "text": [
      "[[ 7994     0     0     0     0     0  2006     0     0     0]\n",
      " [    2  5522  1895     2  1603   958     0     0    18     0]\n",
      " [    2  1364  8057     5   396   159     0     0    17     0]\n",
      " [    1     1     6  9990     1     0     1     0     0     0]\n",
      " [    1  1095   419     3  6928  1265     0     0   289     0]\n",
      " [    3  1101   374     2  2817  5136     0     0   567     0]\n",
      " [ 1475     0     0     0     0     0  8525     0     0     0]\n",
      " [    1     0     1     0     0     1     0  9996     1     0]\n",
      " [    1     2    28     0   120   539     0     0  9310     0]\n",
      " [    0     0     0     0     0     0     0     0     0 10000]]\n",
      "              precision    recall  f1-score   support\n",
      "\n",
      "         0.0       0.84      0.80      0.82     10000\n",
      "         1.0       0.61      0.55      0.58     10000\n",
      "         2.0       0.75      0.81      0.78     10000\n",
      "         3.0       1.00      1.00      1.00     10000\n",
      "         4.0       0.58      0.69      0.63     10000\n",
      "         5.0       0.64      0.51      0.57     10000\n",
      "         6.0       0.81      0.85      0.83     10000\n",
      "         7.0       1.00      1.00      1.00     10000\n",
      "         8.0       0.91      0.93      0.92     10000\n",
      "         9.0       1.00      1.00      1.00     10000\n",
      "\n",
      "    accuracy                           0.81    100000\n",
      "   macro avg       0.81      0.81      0.81    100000\n",
      "weighted avg       0.81      0.81      0.81    100000\n",
      "\n"
     ]
    }
   ],
   "source": [
    "print(confusion_matrix(Y, y_pred))\n",
    "print(classification_report(Y, y_pred))"
   ]
  },
  {
   "cell_type": "markdown",
   "metadata": {},
   "source": [
    "iPhone13_III model to iPhone13_I dataset"
   ]
  },
  {
   "cell_type": "code",
   "execution_count": 21,
   "metadata": {},
   "outputs": [
    {
     "name": "stdout",
     "output_type": "stream",
     "text": [
      "Model: \"sequential\"\n",
      "_________________________________________________________________\n",
      " Layer (type)                Output Shape              Param #   \n",
      "=================================================================\n",
      " dense (Dense)               (None, 1400)              2868600   \n",
      "                                                                 \n",
      " dense_1 (Dense)             (None, 800)               1120800   \n",
      "                                                                 \n",
      " dense_2 (Dense)             (None, 500)               400500    \n",
      "                                                                 \n",
      " dense_3 (Dense)             (None, 200)               100200    \n",
      "                                                                 \n",
      " dense_4 (Dense)             (None, 100)               20100     \n",
      "                                                                 \n",
      " dense_5 (Dense)             (None, 10)                1010      \n",
      "                                                                 \n",
      "=================================================================\n",
      "Total params: 4,511,210\n",
      "Trainable params: 4,511,210\n",
      "Non-trainable params: 0\n",
      "_________________________________________________________________\n"
     ]
    }
   ],
   "source": [
    "model = keras.models.load_model(\"/Users/Lojenaa/Documents/PhD/Smartphones/Cross-device-Portability-of-EMSCA/Smartphones/iPhone/iPhone13/iPHONE13_III_model.h5\")\n",
    "model.summary()"
   ]
  },
  {
   "cell_type": "code",
   "execution_count": 22,
   "metadata": {},
   "outputs": [
    {
     "name": "stdout",
     "output_type": "stream",
     "text": [
      "Model: \"sequential\"\n",
      "_________________________________________________________________\n",
      " Layer (type)                Output Shape              Param #   \n",
      "=================================================================\n",
      " dense (Dense)               (None, 1400)              2868600   \n",
      "                                                                 \n",
      " dense_1 (Dense)             (None, 800)               1120800   \n",
      "                                                                 \n",
      " dense_2 (Dense)             (None, 500)               400500    \n",
      "                                                                 \n",
      " dense_3 (Dense)             (None, 200)               100200    \n",
      "                                                                 \n",
      " dense_4 (Dense)             (None, 100)               20100     \n",
      "                                                                 \n",
      " dense_5 (Dense)             (None, 10)                1010      \n",
      "                                                                 \n",
      "=================================================================\n",
      "Total params: 4,511,210\n",
      "Trainable params: 1,010\n",
      "Non-trainable params: 4,510,200\n",
      "_________________________________________________________________\n"
     ]
    }
   ],
   "source": [
    "# Freeze all layers except the last one.\n",
    "for layer in model.layers[:-1]:\n",
    "  layer.trainable = False\n",
    "\n",
    "model.summary()"
   ]
  },
  {
   "cell_type": "code",
   "execution_count": 23,
   "metadata": {},
   "outputs": [],
   "source": [
    "opt = keras.optimizers.SGD(learning_rate=0.001)\n",
    "model.compile(loss=\"sparse_categorical_crossentropy\", optimizer=opt, metrics=[\"accuracy\"])"
   ]
  },
  {
   "cell_type": "code",
   "execution_count": 24,
   "metadata": {},
   "outputs": [
    {
     "name": "stdout",
     "output_type": "stream",
     "text": [
      "Epoch 1/25\n",
      "3125/3125 [==============================] - 14s 4ms/step - loss: 2.0137 - accuracy: 0.2749\n",
      "Epoch 2/25\n",
      "3125/3125 [==============================] - 13s 4ms/step - loss: 1.5476 - accuracy: 0.4967\n",
      "Epoch 3/25\n",
      "3125/3125 [==============================] - 14s 4ms/step - loss: 1.4080 - accuracy: 0.5746\n",
      "Epoch 4/25\n",
      "3125/3125 [==============================] - 15s 5ms/step - loss: 1.3081 - accuracy: 0.6059\n",
      "Epoch 5/25\n",
      "3125/3125 [==============================] - 14s 5ms/step - loss: 1.2309 - accuracy: 0.6239\n",
      "Epoch 6/25\n",
      "3125/3125 [==============================] - 16s 5ms/step - loss: 1.1688 - accuracy: 0.6378\n",
      "Epoch 7/25\n",
      "3125/3125 [==============================] - 16s 5ms/step - loss: 1.1181 - accuracy: 0.6486\n",
      "Epoch 8/25\n",
      "3125/3125 [==============================] - 14s 5ms/step - loss: 1.0764 - accuracy: 0.6582\n",
      "Epoch 9/25\n",
      "3125/3125 [==============================] - 14s 5ms/step - loss: 1.0411 - accuracy: 0.6642\n",
      "Epoch 10/25\n",
      "3125/3125 [==============================] - 14s 4ms/step - loss: 1.0118 - accuracy: 0.6724\n",
      "Epoch 11/25\n",
      "3125/3125 [==============================] - 14s 4ms/step - loss: 0.9862 - accuracy: 0.6765\n",
      "Epoch 12/25\n",
      "3125/3125 [==============================] - 14s 4ms/step - loss: 0.9642 - accuracy: 0.6806\n",
      "Epoch 13/25\n",
      "3125/3125 [==============================] - 14s 4ms/step - loss: 0.9448 - accuracy: 0.6852\n",
      "Epoch 14/25\n",
      "3125/3125 [==============================] - 14s 4ms/step - loss: 0.9277 - accuracy: 0.6894\n",
      "Epoch 15/25\n",
      "3125/3125 [==============================] - 14s 4ms/step - loss: 0.9128 - accuracy: 0.6932\n",
      "Epoch 16/25\n",
      "3125/3125 [==============================] - 14s 4ms/step - loss: 0.8991 - accuracy: 0.6962\n",
      "Epoch 17/25\n",
      "3125/3125 [==============================] - 14s 4ms/step - loss: 0.8869 - accuracy: 0.7006\n",
      "Epoch 18/25\n",
      "3125/3125 [==============================] - 14s 5ms/step - loss: 0.8761 - accuracy: 0.7021\n",
      "Epoch 19/25\n",
      "3125/3125 [==============================] - 12s 4ms/step - loss: 0.8656 - accuracy: 0.7045\n",
      "Epoch 20/25\n",
      "3125/3125 [==============================] - 13s 4ms/step - loss: 0.8568 - accuracy: 0.7084\n",
      "Epoch 21/25\n",
      "3125/3125 [==============================] - 12s 4ms/step - loss: 0.8483 - accuracy: 0.7090\n",
      "Epoch 22/25\n",
      "3125/3125 [==============================] - 12s 4ms/step - loss: 0.8406 - accuracy: 0.7106\n",
      "Epoch 23/25\n",
      "3125/3125 [==============================] - 14s 5ms/step - loss: 0.8332 - accuracy: 0.7130\n",
      "Epoch 24/25\n",
      "3125/3125 [==============================] - 16s 5ms/step - loss: 0.8264 - accuracy: 0.7151\n",
      "Epoch 25/25\n",
      "3125/3125 [==============================] - 13s 4ms/step - loss: 0.8201 - accuracy: 0.7174\n"
     ]
    }
   ],
   "source": [
    "history = model.fit(X, Y, epochs=25)"
   ]
  },
  {
   "cell_type": "code",
   "execution_count": 25,
   "metadata": {},
   "outputs": [
    {
     "data": {
      "image/png": "[encoded data removed]",
      "text/plain": [
       "<Figure size 800x500 with 1 Axes>"
      ]
     },
     "metadata": {},
     "output_type": "display_data"
    }
   ],
   "source": [
    "pd.DataFrame(history.history).plot(figsize=(8, 5))\n",
    "plt.grid(True)\n",
    "plt.gca().set_ylim(0, 1) # set the vertical range to [0-1]\n",
    "plt.show()"
   ]
  },
  {
   "cell_type": "code",
   "execution_count": 26,
   "metadata": {},
   "outputs": [
    {
     "name": "stdout",
     "output_type": "stream",
     "text": [
      "3125/3125 [==============================] - 12s 4ms/step - loss: 0.8210 - accuracy: 0.7000\n",
      "test loss, test acc: [0.8209564089775085, 0.7000200152397156]\n"
     ]
    }
   ],
   "source": [
    "results = model.evaluate(X, Y)\n",
    "print(\"test loss, test acc:\", results)"
   ]
  },
  {
   "cell_type": "code",
   "execution_count": 27,
   "metadata": {},
   "outputs": [
    {
     "name": "stdout",
     "output_type": "stream",
     "text": [
      "3125/3125 [==============================] - 12s 4ms/step\n",
      "[0 0 0 ... 9 9 9]\n",
      "0\n"
     ]
    }
   ],
   "source": [
    "y_pred = np.argmax(model.predict(X), axis=-1)\n",
    "print(y_pred)\n",
    "print(y_pred[0])"
   ]
  },
  {
   "cell_type": "code",
   "execution_count": 28,
   "metadata": {},
   "outputs": [
    {
     "name": "stdout",
     "output_type": "stream",
     "text": [
      "[[ 9464     0     0     0     0     0   536     0     0     0]\n",
      " [    3   376  2374   154   580  5831    11     3   668     0]\n",
      " [    3    39  5540   604   737  2825    10     3   239     0]\n",
      " [    2     0    96  9880     8     4     8     2     0     0]\n",
      " [    3     7  1175   195  3891  3766     9    30   924     0]\n",
      " [    4    69  1204   109   883  6697     9    14  1011     0]\n",
      " [  288     8     2     0     0     2  9698     0     2     0]\n",
      " [    1     0     0     1     1     0    13  9981     3     0]\n",
      " [    1    11   221   109   989  4036    10   148  4475     0]\n",
      " [    0     0     0     0     0     0     0     0     0 10000]]\n",
      "              precision    recall  f1-score   support\n",
      "\n",
      "         0.0       0.97      0.95      0.96     10000\n",
      "         1.0       0.74      0.04      0.07     10000\n",
      "         2.0       0.52      0.55      0.54     10000\n",
      "         3.0       0.89      0.99      0.94     10000\n",
      "         4.0       0.55      0.39      0.46     10000\n",
      "         5.0       0.29      0.67      0.40     10000\n",
      "         6.0       0.94      0.97      0.96     10000\n",
      "         7.0       0.98      1.00      0.99     10000\n",
      "         8.0       0.61      0.45      0.52     10000\n",
      "         9.0       1.00      1.00      1.00     10000\n",
      "\n",
      "    accuracy                           0.70    100000\n",
      "   macro avg       0.75      0.70      0.68    100000\n",
      "weighted avg       0.75      0.70      0.68    100000\n",
      "\n"
     ]
    }
   ],
   "source": [
    "print(confusion_matrix(Y, y_pred))\n",
    "print(classification_report(Y, y_pred))"
   ]
  },
  {
   "cell_type": "markdown",
   "metadata": {},
   "source": [
    "Read iPhone13_II dataset"
   ]
  },
  {
   "cell_type": "code",
   "execution_count": 29,
   "metadata": {},
   "outputs": [
    {
     "data": {
      "text/html": [
       "<div>\n",
       "<style scoped>\n",
       "    .dataframe tbody tr th:only-of-type {\n",
       "        vertical-align: middle;\n",
       "    }\n",
       "\n",
       "    .dataframe tbody tr th {\n",
       "        vertical-align: top;\n",
       "    }\n",
       "\n",
       "    .dataframe thead th {\n",
       "        text-align: right;\n",
       "    }\n",
       "</style>\n",
       "<table border=\"1\" class=\"dataframe\">\n",
       "  <thead>\n",
       "    <tr style=\"text-align: right;\">\n",
       "      <th></th>\n",
       "      <th>0</th>\n",
       "      <th>1</th>\n",
       "      <th>2</th>\n",
       "      <th>3</th>\n",
       "      <th>4</th>\n",
       "      <th>5</th>\n",
       "      <th>6</th>\n",
       "      <th>7</th>\n",
       "      <th>8</th>\n",
       "      <th>9</th>\n",
       "      <th>...</th>\n",
       "      <th>2039</th>\n",
       "      <th>2040</th>\n",
       "      <th>2041</th>\n",
       "      <th>2042</th>\n",
       "      <th>2043</th>\n",
       "      <th>2044</th>\n",
       "      <th>2045</th>\n",
       "      <th>2046</th>\n",
       "      <th>2047</th>\n",
       "      <th>labels</th>\n",
       "    </tr>\n",
       "  </thead>\n",
       "  <tbody>\n",
       "    <tr>\n",
       "      <th>1</th>\n",
       "      <td>0.297562</td>\n",
       "      <td>0.233066</td>\n",
       "      <td>0.457479</td>\n",
       "      <td>0.204337</td>\n",
       "      <td>0.106389</td>\n",
       "      <td>0.209360</td>\n",
       "      <td>0.229010</td>\n",
       "      <td>0.232259</td>\n",
       "      <td>0.277606</td>\n",
       "      <td>0.365730</td>\n",
       "      <td>...</td>\n",
       "      <td>0.684227</td>\n",
       "      <td>0.830842</td>\n",
       "      <td>0.859823</td>\n",
       "      <td>0.410364</td>\n",
       "      <td>0.224956</td>\n",
       "      <td>0.292599</td>\n",
       "      <td>0.352029</td>\n",
       "      <td>0.210114</td>\n",
       "      <td>0.208219</td>\n",
       "      <td>0.0</td>\n",
       "    </tr>\n",
       "    <tr>\n",
       "      <th>2</th>\n",
       "      <td>1.000000</td>\n",
       "      <td>1.000000</td>\n",
       "      <td>1.000000</td>\n",
       "      <td>0.149414</td>\n",
       "      <td>0.635175</td>\n",
       "      <td>0.880382</td>\n",
       "      <td>0.488410</td>\n",
       "      <td>0.478789</td>\n",
       "      <td>0.854326</td>\n",
       "      <td>1.000000</td>\n",
       "      <td>...</td>\n",
       "      <td>0.167834</td>\n",
       "      <td>1.000000</td>\n",
       "      <td>0.447257</td>\n",
       "      <td>0.261568</td>\n",
       "      <td>0.384385</td>\n",
       "      <td>1.000000</td>\n",
       "      <td>0.473173</td>\n",
       "      <td>0.163629</td>\n",
       "      <td>0.074192</td>\n",
       "      <td>0.0</td>\n",
       "    </tr>\n",
       "    <tr>\n",
       "      <th>3</th>\n",
       "      <td>0.132538</td>\n",
       "      <td>0.228191</td>\n",
       "      <td>0.848126</td>\n",
       "      <td>1.000000</td>\n",
       "      <td>1.000000</td>\n",
       "      <td>1.000000</td>\n",
       "      <td>0.726369</td>\n",
       "      <td>0.338763</td>\n",
       "      <td>0.078774</td>\n",
       "      <td>0.456367</td>\n",
       "      <td>...</td>\n",
       "      <td>0.302293</td>\n",
       "      <td>0.443405</td>\n",
       "      <td>0.900594</td>\n",
       "      <td>1.000000</td>\n",
       "      <td>0.808641</td>\n",
       "      <td>0.569301</td>\n",
       "      <td>0.420698</td>\n",
       "      <td>0.188868</td>\n",
       "      <td>0.150457</td>\n",
       "      <td>0.0</td>\n",
       "    </tr>\n",
       "    <tr>\n",
       "      <th>4</th>\n",
       "      <td>0.427119</td>\n",
       "      <td>0.220546</td>\n",
       "      <td>0.568178</td>\n",
       "      <td>0.389744</td>\n",
       "      <td>0.191698</td>\n",
       "      <td>0.424645</td>\n",
       "      <td>1.000000</td>\n",
       "      <td>1.000000</td>\n",
       "      <td>1.000000</td>\n",
       "      <td>0.555668</td>\n",
       "      <td>...</td>\n",
       "      <td>1.000000</td>\n",
       "      <td>0.934328</td>\n",
       "      <td>1.000000</td>\n",
       "      <td>0.561862</td>\n",
       "      <td>0.085071</td>\n",
       "      <td>0.421608</td>\n",
       "      <td>0.799410</td>\n",
       "      <td>0.805795</td>\n",
       "      <td>0.651758</td>\n",
       "      <td>0.0</td>\n",
       "    </tr>\n",
       "    <tr>\n",
       "      <th>5</th>\n",
       "      <td>0.914260</td>\n",
       "      <td>0.132575</td>\n",
       "      <td>0.670569</td>\n",
       "      <td>0.419908</td>\n",
       "      <td>0.878314</td>\n",
       "      <td>0.452749</td>\n",
       "      <td>0.288505</td>\n",
       "      <td>0.750649</td>\n",
       "      <td>0.332200</td>\n",
       "      <td>0.278570</td>\n",
       "      <td>...</td>\n",
       "      <td>0.789007</td>\n",
       "      <td>0.983066</td>\n",
       "      <td>0.918889</td>\n",
       "      <td>0.810478</td>\n",
       "      <td>1.000000</td>\n",
       "      <td>0.398669</td>\n",
       "      <td>1.000000</td>\n",
       "      <td>1.000000</td>\n",
       "      <td>1.000000</td>\n",
       "      <td>0.0</td>\n",
       "    </tr>\n",
       "    <tr>\n",
       "      <th>...</th>\n",
       "      <td>...</td>\n",
       "      <td>...</td>\n",
       "      <td>...</td>\n",
       "      <td>...</td>\n",
       "      <td>...</td>\n",
       "      <td>...</td>\n",
       "      <td>...</td>\n",
       "      <td>...</td>\n",
       "      <td>...</td>\n",
       "      <td>...</td>\n",
       "      <td>...</td>\n",
       "      <td>...</td>\n",
       "      <td>...</td>\n",
       "      <td>...</td>\n",
       "      <td>...</td>\n",
       "      <td>...</td>\n",
       "      <td>...</td>\n",
       "      <td>...</td>\n",
       "      <td>...</td>\n",
       "      <td>...</td>\n",
       "      <td>...</td>\n",
       "    </tr>\n",
       "    <tr>\n",
       "      <th>99996</th>\n",
       "      <td>0.945611</td>\n",
       "      <td>0.911776</td>\n",
       "      <td>0.004651</td>\n",
       "      <td>0.095358</td>\n",
       "      <td>0.127845</td>\n",
       "      <td>0.056760</td>\n",
       "      <td>0.074933</td>\n",
       "      <td>0.164572</td>\n",
       "      <td>0.204945</td>\n",
       "      <td>0.225184</td>\n",
       "      <td>...</td>\n",
       "      <td>0.039545</td>\n",
       "      <td>0.213280</td>\n",
       "      <td>0.222680</td>\n",
       "      <td>0.240510</td>\n",
       "      <td>0.350115</td>\n",
       "      <td>0.153002</td>\n",
       "      <td>0.121078</td>\n",
       "      <td>0.108132</td>\n",
       "      <td>0.907721</td>\n",
       "      <td>9.0</td>\n",
       "    </tr>\n",
       "    <tr>\n",
       "      <th>99997</th>\n",
       "      <td>0.945107</td>\n",
       "      <td>0.902097</td>\n",
       "      <td>0.054984</td>\n",
       "      <td>0.052296</td>\n",
       "      <td>0.096186</td>\n",
       "      <td>0.316988</td>\n",
       "      <td>0.312775</td>\n",
       "      <td>0.284003</td>\n",
       "      <td>0.402535</td>\n",
       "      <td>0.150490</td>\n",
       "      <td>...</td>\n",
       "      <td>0.428464</td>\n",
       "      <td>0.361175</td>\n",
       "      <td>0.374063</td>\n",
       "      <td>0.198039</td>\n",
       "      <td>0.236810</td>\n",
       "      <td>0.201250</td>\n",
       "      <td>0.047031</td>\n",
       "      <td>0.087383</td>\n",
       "      <td>0.941060</td>\n",
       "      <td>9.0</td>\n",
       "    </tr>\n",
       "    <tr>\n",
       "      <th>99998</th>\n",
       "      <td>0.918672</td>\n",
       "      <td>0.875337</td>\n",
       "      <td>0.100129</td>\n",
       "      <td>0.268197</td>\n",
       "      <td>0.073969</td>\n",
       "      <td>0.219161</td>\n",
       "      <td>0.327708</td>\n",
       "      <td>0.249369</td>\n",
       "      <td>0.056085</td>\n",
       "      <td>0.195662</td>\n",
       "      <td>...</td>\n",
       "      <td>0.300324</td>\n",
       "      <td>0.210309</td>\n",
       "      <td>0.029482</td>\n",
       "      <td>0.217746</td>\n",
       "      <td>0.198687</td>\n",
       "      <td>0.170925</td>\n",
       "      <td>0.153327</td>\n",
       "      <td>0.018015</td>\n",
       "      <td>0.882255</td>\n",
       "      <td>9.0</td>\n",
       "    </tr>\n",
       "    <tr>\n",
       "      <th>99999</th>\n",
       "      <td>0.941268</td>\n",
       "      <td>0.884760</td>\n",
       "      <td>0.039909</td>\n",
       "      <td>0.054803</td>\n",
       "      <td>0.125151</td>\n",
       "      <td>0.100740</td>\n",
       "      <td>0.047902</td>\n",
       "      <td>0.176813</td>\n",
       "      <td>0.383219</td>\n",
       "      <td>0.224704</td>\n",
       "      <td>...</td>\n",
       "      <td>0.277375</td>\n",
       "      <td>0.042647</td>\n",
       "      <td>0.262912</td>\n",
       "      <td>0.388251</td>\n",
       "      <td>0.355299</td>\n",
       "      <td>0.219967</td>\n",
       "      <td>0.111637</td>\n",
       "      <td>0.044845</td>\n",
       "      <td>0.912748</td>\n",
       "      <td>9.0</td>\n",
       "    </tr>\n",
       "    <tr>\n",
       "      <th>100000</th>\n",
       "      <td>0.959842</td>\n",
       "      <td>0.948432</td>\n",
       "      <td>0.104548</td>\n",
       "      <td>0.189591</td>\n",
       "      <td>0.260197</td>\n",
       "      <td>0.370741</td>\n",
       "      <td>0.294739</td>\n",
       "      <td>0.462831</td>\n",
       "      <td>0.420854</td>\n",
       "      <td>0.351362</td>\n",
       "      <td>...</td>\n",
       "      <td>0.422435</td>\n",
       "      <td>0.487953</td>\n",
       "      <td>0.325731</td>\n",
       "      <td>0.151243</td>\n",
       "      <td>0.080085</td>\n",
       "      <td>0.126786</td>\n",
       "      <td>0.076710</td>\n",
       "      <td>0.043551</td>\n",
       "      <td>0.929415</td>\n",
       "      <td>9.0</td>\n",
       "    </tr>\n",
       "  </tbody>\n",
       "</table>\n",
       "<p>100000 rows × 2049 columns</p>\n",
       "</div>"
      ],
      "text/plain": [
       "0              0         1         2         3         4         5         6  \\\n",
       "1       0.297562  0.233066  0.457479  0.204337  0.106389  0.209360  0.229010   \n",
       "2       1.000000  1.000000  1.000000  0.149414  0.635175  0.880382  0.488410   \n",
       "3       0.132538  0.228191  0.848126  1.000000  1.000000  1.000000  0.726369   \n",
       "4       0.427119  0.220546  0.568178  0.389744  0.191698  0.424645  1.000000   \n",
       "5       0.914260  0.132575  0.670569  0.419908  0.878314  0.452749  0.288505   \n",
       "...          ...       ...       ...       ...       ...       ...       ...   \n",
       "99996   0.945611  0.911776  0.004651  0.095358  0.127845  0.056760  0.074933   \n",
       "99997   0.945107  0.902097  0.054984  0.052296  0.096186  0.316988  0.312775   \n",
       "99998   0.918672  0.875337  0.100129  0.268197  0.073969  0.219161  0.327708   \n",
       "99999   0.941268  0.884760  0.039909  0.054803  0.125151  0.100740  0.047902   \n",
       "100000  0.959842  0.948432  0.104548  0.189591  0.260197  0.370741  0.294739   \n",
       "\n",
       "0              7         8         9  ...      2039      2040      2041  \\\n",
       "1       0.232259  0.277606  0.365730  ...  0.684227  0.830842  0.859823   \n",
       "2       0.478789  0.854326  1.000000  ...  0.167834  1.000000  0.447257   \n",
       "3       0.338763  0.078774  0.456367  ...  0.302293  0.443405  0.900594   \n",
       "4       1.000000  1.000000  0.555668  ...  1.000000  0.934328  1.000000   \n",
       "5       0.750649  0.332200  0.278570  ...  0.789007  0.983066  0.918889   \n",
       "...          ...       ...       ...  ...       ...       ...       ...   \n",
       "99996   0.164572  0.204945  0.225184  ...  0.039545  0.213280  0.222680   \n",
       "99997   0.284003  0.402535  0.150490  ...  0.428464  0.361175  0.374063   \n",
       "99998   0.249369  0.056085  0.195662  ...  0.300324  0.210309  0.029482   \n",
       "99999   0.176813  0.383219  0.224704  ...  0.277375  0.042647  0.262912   \n",
       "100000  0.462831  0.420854  0.351362  ...  0.422435  0.487953  0.325731   \n",
       "\n",
       "0           2042      2043      2044      2045      2046      2047  labels  \n",
       "1       0.410364  0.224956  0.292599  0.352029  0.210114  0.208219     0.0  \n",
       "2       0.261568  0.384385  1.000000  0.473173  0.163629  0.074192     0.0  \n",
       "3       1.000000  0.808641  0.569301  0.420698  0.188868  0.150457     0.0  \n",
       "4       0.561862  0.085071  0.421608  0.799410  0.805795  0.651758     0.0  \n",
       "5       0.810478  1.000000  0.398669  1.000000  1.000000  1.000000     0.0  \n",
       "...          ...       ...       ...       ...       ...       ...     ...  \n",
       "99996   0.240510  0.350115  0.153002  0.121078  0.108132  0.907721     9.0  \n",
       "99997   0.198039  0.236810  0.201250  0.047031  0.087383  0.941060     9.0  \n",
       "99998   0.217746  0.198687  0.170925  0.153327  0.018015  0.882255     9.0  \n",
       "99999   0.388251  0.355299  0.219967  0.111637  0.044845  0.912748     9.0  \n",
       "100000  0.151243  0.080085  0.126786  0.076710  0.043551  0.929415     9.0  \n",
       "\n",
       "[100000 rows x 2049 columns]"
      ]
     },
     "execution_count": 29,
     "metadata": {},
     "output_type": "execute_result"
    }
   ],
   "source": [
    "data = pd.read_csv(\"/Users/Lojenaa/Documents/PhD/Smartphones/Cross-device-Portability-of-EMSCA/Smartphones/iPhone/iPhone13/i13_II.csv\",comment='#',  index_col=0, header=None, low_memory=False).T\n",
    "data"
   ]
  },
  {
   "cell_type": "code",
   "execution_count": 30,
   "metadata": {},
   "outputs": [],
   "source": [
    "Y = labels = data['labels']\n",
    "X = data = data.drop(columns=['labels'])"
   ]
  },
  {
   "cell_type": "markdown",
   "metadata": {},
   "source": [
    "iPhone13_I model to iPhone13_II dataset"
   ]
  },
  {
   "cell_type": "code",
   "execution_count": 4,
   "metadata": {},
   "outputs": [
    {
     "name": "stderr",
     "output_type": "stream",
     "text": [
      "2022-10-28 10:44:58.096455: I tensorflow/core/platform/cpu_feature_guard.cc:193] This TensorFlow binary is optimized with oneAPI Deep Neural Network Library (oneDNN) to use the following CPU instructions in performance-critical operations:  AVX2 FMA\n",
      "To enable them in other operations, rebuild TensorFlow with the appropriate compiler flags.\n"
     ]
    },
    {
     "name": "stdout",
     "output_type": "stream",
     "text": [
      "Model: \"sequential_1\"\n",
      "_________________________________________________________________\n",
      " Layer (type)                Output Shape              Param #   \n",
      "=================================================================\n",
      " dense_6 (Dense)             (None, 1400)              2868600   \n",
      "                                                                 \n",
      " dense_7 (Dense)             (None, 800)               1120800   \n",
      "                                                                 \n",
      " dense_8 (Dense)             (None, 500)               400500    \n",
      "                                                                 \n",
      " dense_9 (Dense)             (None, 200)               100200    \n",
      "                                                                 \n",
      " dense_10 (Dense)            (None, 100)               20100     \n",
      "                                                                 \n",
      " dense_11 (Dense)            (None, 10)                1010      \n",
      "                                                                 \n",
      "=================================================================\n",
      "Total params: 4,511,210\n",
      "Trainable params: 4,511,210\n",
      "Non-trainable params: 0\n",
      "_________________________________________________________________\n"
     ]
    }
   ],
   "source": [
    "model = keras.models.load_model(\"/Users/Lojenaa/Documents/PhD/Smartphones/Cross-device-Portability-of-EMSCA/Smartphones/iPhone/iPhone13/iPHONE13_I_model.h5\")\n",
    "model.summary()"
   ]
  },
  {
   "cell_type": "code",
   "execution_count": 5,
   "metadata": {},
   "outputs": [
    {
     "name": "stdout",
     "output_type": "stream",
     "text": [
      "Model: \"sequential_1\"\n",
      "_________________________________________________________________\n",
      " Layer (type)                Output Shape              Param #   \n",
      "=================================================================\n",
      " dense_6 (Dense)             (None, 1400)              2868600   \n",
      "                                                                 \n",
      " dense_7 (Dense)             (None, 800)               1120800   \n",
      "                                                                 \n",
      " dense_8 (Dense)             (None, 500)               400500    \n",
      "                                                                 \n",
      " dense_9 (Dense)             (None, 200)               100200    \n",
      "                                                                 \n",
      " dense_10 (Dense)            (None, 100)               20100     \n",
      "                                                                 \n",
      " dense_11 (Dense)            (None, 10)                1010      \n",
      "                                                                 \n",
      "=================================================================\n",
      "Total params: 4,511,210\n",
      "Trainable params: 1,010\n",
      "Non-trainable params: 4,510,200\n",
      "_________________________________________________________________\n"
     ]
    }
   ],
   "source": [
    "# Freeze all layers except the last one.\n",
    "for layer in model.layers[:-1]:\n",
    "  layer.trainable = False\n",
    "\n",
    "model.summary()"
   ]
  },
  {
   "cell_type": "code",
   "execution_count": 6,
   "metadata": {},
   "outputs": [],
   "source": [
    "opt = keras.optimizers.SGD(learning_rate=0.001)\n",
    "model.compile(loss=\"sparse_categorical_crossentropy\", optimizer=opt, metrics=[\"accuracy\"])"
   ]
  },
  {
   "cell_type": "code",
   "execution_count": 7,
   "metadata": {},
   "outputs": [
    {
     "name": "stdout",
     "output_type": "stream",
     "text": [
      "Epoch 1/25\n",
      "3125/3125 [==============================] - 12s 4ms/step - loss: 1.3574 - accuracy: 0.6488\n",
      "Epoch 2/25\n",
      "3125/3125 [==============================] - 10s 3ms/step - loss: 0.3800 - accuracy: 0.9025\n",
      "Epoch 3/25\n",
      "3125/3125 [==============================] - 11s 3ms/step - loss: 0.3135 - accuracy: 0.9214\n",
      "Epoch 4/25\n",
      "3125/3125 [==============================] - 11s 3ms/step - loss: 0.2811 - accuracy: 0.9295\n",
      "Epoch 5/25\n",
      "3125/3125 [==============================] - 12s 4ms/step - loss: 0.2609 - accuracy: 0.9340\n",
      "Epoch 6/25\n",
      "3125/3125 [==============================] - 11s 4ms/step - loss: 0.2466 - accuracy: 0.9372\n",
      "Epoch 7/25\n",
      "3125/3125 [==============================] - 11s 4ms/step - loss: 0.2360 - accuracy: 0.9398\n",
      "Epoch 8/25\n",
      "3125/3125 [==============================] - 12s 4ms/step - loss: 0.2273 - accuracy: 0.9421\n",
      "Epoch 9/25\n",
      "3125/3125 [==============================] - 11s 3ms/step - loss: 0.2204 - accuracy: 0.9435\n",
      "Epoch 10/25\n",
      "3125/3125 [==============================] - 11s 3ms/step - loss: 0.2146 - accuracy: 0.9452\n",
      "Epoch 11/25\n",
      "3125/3125 [==============================] - 11s 3ms/step - loss: 0.2096 - accuracy: 0.9468\n",
      "Epoch 12/25\n",
      "3125/3125 [==============================] - 11s 4ms/step - loss: 0.2052 - accuracy: 0.9474\n",
      "Epoch 13/25\n",
      "3125/3125 [==============================] - 11s 3ms/step - loss: 0.2013 - accuracy: 0.9485\n",
      "Epoch 14/25\n",
      "3125/3125 [==============================] - 11s 3ms/step - loss: 0.1979 - accuracy: 0.9495\n",
      "Epoch 15/25\n",
      "3125/3125 [==============================] - 11s 3ms/step - loss: 0.1947 - accuracy: 0.9503\n",
      "Epoch 16/25\n",
      "3125/3125 [==============================] - 12s 4ms/step - loss: 0.1919 - accuracy: 0.9511\n",
      "Epoch 17/25\n",
      "3125/3125 [==============================] - 11s 3ms/step - loss: 0.1892 - accuracy: 0.9517\n",
      "Epoch 18/25\n",
      "3125/3125 [==============================] - 10s 3ms/step - loss: 0.1869 - accuracy: 0.9523\n",
      "Epoch 19/25\n",
      "3125/3125 [==============================] - 11s 4ms/step - loss: 0.1846 - accuracy: 0.9528\n",
      "Epoch 20/25\n",
      "3125/3125 [==============================] - 11s 4ms/step - loss: 0.1824 - accuracy: 0.9532\n",
      "Epoch 21/25\n",
      "3125/3125 [==============================] - 13s 4ms/step - loss: 0.1804 - accuracy: 0.9541\n",
      "Epoch 22/25\n",
      "3125/3125 [==============================] - 13s 4ms/step - loss: 0.1785 - accuracy: 0.9544\n",
      "Epoch 23/25\n",
      "3125/3125 [==============================] - 12s 4ms/step - loss: 0.1767 - accuracy: 0.9551\n",
      "Epoch 24/25\n",
      "3125/3125 [==============================] - 12s 4ms/step - loss: 0.1750 - accuracy: 0.9551\n",
      "Epoch 25/25\n",
      "3125/3125 [==============================] - 12s 4ms/step - loss: 0.1735 - accuracy: 0.9557\n"
     ]
    }
   ],
   "source": [
    "history = model.fit(X, Y, epochs=25)"
   ]
  },
  {
   "cell_type": "code",
   "execution_count": 8,
   "metadata": {},
   "outputs": [
    {
     "data": {
      "image/png": "[encoded data removed]",
      "text/plain": [
       "<Figure size 800x500 with 1 Axes>"
      ]
     },
     "metadata": {},
     "output_type": "display_data"
    }
   ],
   "source": [
    "pd.DataFrame(history.history).plot(figsize=(8, 5))\n",
    "plt.grid(True)\n",
    "plt.gca().set_ylim(0, 1) # set the vertical range to [0-1]\n",
    "plt.show()"
   ]
  },
  {
   "cell_type": "code",
   "execution_count": 9,
   "metadata": {},
   "outputs": [
    {
     "name": "stdout",
     "output_type": "stream",
     "text": [
      "3125/3125 [==============================] - 12s 4ms/step - loss: 0.1721 - accuracy: 0.9559\n",
      "test loss, test acc: [0.1720663458108902, 0.9559199810028076]\n"
     ]
    }
   ],
   "source": [
    "results = model.evaluate(X, Y)\n",
    "print(\"test loss, test acc:\", results)"
   ]
  },
  {
   "cell_type": "code",
   "execution_count": 10,
   "metadata": {},
   "outputs": [
    {
     "name": "stdout",
     "output_type": "stream",
     "text": [
      "3125/3125 [==============================] - 11s 4ms/step\n",
      "[4 4 4 ... 9 9 9]\n",
      "4\n"
     ]
    }
   ],
   "source": [
    "y_pred = np.argmax(model.predict(X), axis=-1)\n",
    "print(y_pred)\n",
    "print(y_pred[0])"
   ]
  },
  {
   "cell_type": "code",
   "execution_count": 11,
   "metadata": {},
   "outputs": [
    {
     "name": "stdout",
     "output_type": "stream",
     "text": [
      "[[9994    0    0    0    5    0    0    0    0    1]\n",
      " [   0 9645    0  205    1   77    0   69    3    0]\n",
      " [   0    1 9826    1    2   92   76    1    0    1]\n",
      " [   0  182    0 8904    0   23    0  890    1    0]\n",
      " [   0    0    0    0 9975    0    0    0    3   22]\n",
      " [   0   99  173   17    1 9582  122    5    1    0]\n",
      " [   0    9   52    0    2  165 9761    0    8    3]\n",
      " [   0   89    0  893   27    4    0 8986    1    0]\n",
      " [   0    0    0    0    7    0    1    0 9532  460]\n",
      " [   0    0    0    0    5    0   21    0  587 9387]]\n",
      "              precision    recall  f1-score   support\n",
      "\n",
      "         0.0       1.00      1.00      1.00     10000\n",
      "         1.0       0.96      0.96      0.96     10000\n",
      "         2.0       0.98      0.98      0.98     10000\n",
      "         3.0       0.89      0.89      0.89     10000\n",
      "         4.0       1.00      1.00      1.00     10000\n",
      "         5.0       0.96      0.96      0.96     10000\n",
      "         6.0       0.98      0.98      0.98     10000\n",
      "         7.0       0.90      0.90      0.90     10000\n",
      "         8.0       0.94      0.95      0.95     10000\n",
      "         9.0       0.95      0.94      0.94     10000\n",
      "\n",
      "    accuracy                           0.96    100000\n",
      "   macro avg       0.96      0.96      0.96    100000\n",
      "weighted avg       0.96      0.96      0.96    100000\n",
      "\n"
     ]
    }
   ],
   "source": [
    "print(confusion_matrix(Y, y_pred))\n",
    "print(classification_report(Y, y_pred))"
   ]
  },
  {
   "cell_type": "markdown",
   "metadata": {},
   "source": [
    "iPhone13_I_BeSh model to iPhone13_II dataset"
   ]
  },
  {
   "cell_type": "code",
   "execution_count": 31,
   "metadata": {},
   "outputs": [
    {
     "name": "stdout",
     "output_type": "stream",
     "text": [
      "Model: \"sequential_1\"\n",
      "_________________________________________________________________\n",
      " Layer (type)                Output Shape              Param #   \n",
      "=================================================================\n",
      " dense (Dense)               (None, 1400)              2868600   \n",
      "                                                                 \n",
      " dense_1 (Dense)             (None, 800)               1120800   \n",
      "                                                                 \n",
      " dense_2 (Dense)             (None, 500)               400500    \n",
      "                                                                 \n",
      " dense_3 (Dense)             (None, 200)               100200    \n",
      "                                                                 \n",
      " dense_4 (Dense)             (None, 100)               20100     \n",
      "                                                                 \n",
      " dense_5 (Dense)             (None, 10)                1010      \n",
      "                                                                 \n",
      "=================================================================\n",
      "Total params: 4,511,210\n",
      "Trainable params: 4,511,210\n",
      "Non-trainable params: 0\n",
      "_________________________________________________________________\n"
     ]
    }
   ],
   "source": [
    "model = keras.models.load_model(\"/Users/Lojenaa/Documents/PhD/Smartphones/Cross-device-Portability-of-EMSCA/Smartphones/iPhone/iPhone13/iPHONE13_I_BeSh_model.h5\")\n",
    "model.summary()"
   ]
  },
  {
   "cell_type": "code",
   "execution_count": 32,
   "metadata": {},
   "outputs": [
    {
     "name": "stdout",
     "output_type": "stream",
     "text": [
      "Model: \"sequential_1\"\n",
      "_________________________________________________________________\n",
      " Layer (type)                Output Shape              Param #   \n",
      "=================================================================\n",
      " dense (Dense)               (None, 1400)              2868600   \n",
      "                                                                 \n",
      " dense_1 (Dense)             (None, 800)               1120800   \n",
      "                                                                 \n",
      " dense_2 (Dense)             (None, 500)               400500    \n",
      "                                                                 \n",
      " dense_3 (Dense)             (None, 200)               100200    \n",
      "                                                                 \n",
      " dense_4 (Dense)             (None, 100)               20100     \n",
      "                                                                 \n",
      " dense_5 (Dense)             (None, 10)                1010      \n",
      "                                                                 \n",
      "=================================================================\n",
      "Total params: 4,511,210\n",
      "Trainable params: 1,010\n",
      "Non-trainable params: 4,510,200\n",
      "_________________________________________________________________\n"
     ]
    }
   ],
   "source": [
    "# Freeze all layers except the last one.\n",
    "for layer in model.layers[:-1]:\n",
    "  layer.trainable = False\n",
    "\n",
    "model.summary()"
   ]
  },
  {
   "cell_type": "code",
   "execution_count": 33,
   "metadata": {},
   "outputs": [],
   "source": [
    "opt = keras.optimizers.SGD(learning_rate=0.001)\n",
    "model.compile(loss=\"sparse_categorical_crossentropy\", optimizer=opt, metrics=[\"accuracy\"])"
   ]
  },
  {
   "cell_type": "code",
   "execution_count": 34,
   "metadata": {},
   "outputs": [
    {
     "name": "stdout",
     "output_type": "stream",
     "text": [
      "Epoch 1/25\n",
      "3125/3125 [==============================] - 13s 4ms/step - loss: 1.0996 - accuracy: 0.7192\n",
      "Epoch 2/25\n",
      "3125/3125 [==============================] - 11s 4ms/step - loss: 0.3546 - accuracy: 0.9541\n",
      "Epoch 3/25\n",
      "3125/3125 [==============================] - 12s 4ms/step - loss: 0.2835 - accuracy: 0.9673\n",
      "Epoch 4/25\n",
      "3125/3125 [==============================] - 11s 3ms/step - loss: 0.2483 - accuracy: 0.9716\n",
      "Epoch 5/25\n",
      "3125/3125 [==============================] - 11s 4ms/step - loss: 0.2255 - accuracy: 0.9743\n",
      "Epoch 6/25\n",
      "3125/3125 [==============================] - 11s 3ms/step - loss: 0.2091 - accuracy: 0.9759\n",
      "Epoch 7/25\n",
      "3125/3125 [==============================] - 11s 4ms/step - loss: 0.1963 - accuracy: 0.9773\n",
      "Epoch 8/25\n",
      "3125/3125 [==============================] - 11s 3ms/step - loss: 0.1857 - accuracy: 0.9780\n",
      "Epoch 9/25\n",
      "3125/3125 [==============================] - 12s 4ms/step - loss: 0.1769 - accuracy: 0.9787\n",
      "Epoch 10/25\n",
      "3125/3125 [==============================] - 12s 4ms/step - loss: 0.1692 - accuracy: 0.9790\n",
      "Epoch 11/25\n",
      "3125/3125 [==============================] - 12s 4ms/step - loss: 0.1623 - accuracy: 0.9794\n",
      "Epoch 12/25\n",
      "3125/3125 [==============================] - 11s 4ms/step - loss: 0.1562 - accuracy: 0.9801\n",
      "Epoch 13/25\n",
      "3125/3125 [==============================] - 11s 4ms/step - loss: 0.1505 - accuracy: 0.9805\n",
      "Epoch 14/25\n",
      "3125/3125 [==============================] - 11s 3ms/step - loss: 0.1452 - accuracy: 0.9805\n",
      "Epoch 15/25\n",
      "3125/3125 [==============================] - 11s 3ms/step - loss: 0.1404 - accuracy: 0.9809\n",
      "Epoch 16/25\n",
      "3125/3125 [==============================] - 12s 4ms/step - loss: 0.1357 - accuracy: 0.9811\n",
      "Epoch 17/25\n",
      "3125/3125 [==============================] - 14s 4ms/step - loss: 0.1313 - accuracy: 0.9817\n",
      "Epoch 18/25\n",
      "3125/3125 [==============================] - 10s 3ms/step - loss: 0.1272 - accuracy: 0.9817\n",
      "Epoch 19/25\n",
      "3125/3125 [==============================] - 11s 3ms/step - loss: 0.1231 - accuracy: 0.9820\n",
      "Epoch 20/25\n",
      "3125/3125 [==============================] - 10s 3ms/step - loss: 0.1193 - accuracy: 0.9817\n",
      "Epoch 21/25\n",
      "3125/3125 [==============================] - 11s 4ms/step - loss: 0.1156 - accuracy: 0.9819\n",
      "Epoch 22/25\n",
      "3125/3125 [==============================] - 12s 4ms/step - loss: 0.1121 - accuracy: 0.9820\n",
      "Epoch 23/25\n",
      "3125/3125 [==============================] - 12s 4ms/step - loss: 0.1086 - accuracy: 0.9824\n",
      "Epoch 24/25\n",
      "3125/3125 [==============================] - 12s 4ms/step - loss: 0.1052 - accuracy: 0.9825\n",
      "Epoch 25/25\n",
      "3125/3125 [==============================] - 11s 4ms/step - loss: 0.1020 - accuracy: 0.9827\n"
     ]
    }
   ],
   "source": [
    "history = model.fit(X, Y, epochs=25)"
   ]
  },
  {
   "cell_type": "code",
   "execution_count": 35,
   "metadata": {},
   "outputs": [
    {
     "data": {
      "image/png": "[encoded data removed]",
      "text/plain": [
       "<Figure size 800x500 with 1 Axes>"
      ]
     },
     "metadata": {},
     "output_type": "display_data"
    }
   ],
   "source": [
    "pd.DataFrame(history.history).plot(figsize=(8, 5))\n",
    "plt.grid(True)\n",
    "plt.gca().set_ylim(0, 1) # set the vertical range to [0-1]\n",
    "plt.show()"
   ]
  },
  {
   "cell_type": "code",
   "execution_count": 36,
   "metadata": {},
   "outputs": [
    {
     "name": "stdout",
     "output_type": "stream",
     "text": [
      "3125/3125 [==============================] - 12s 4ms/step - loss: 0.1010 - accuracy: 0.9828\n",
      "test loss, test acc: [0.1009572297334671, 0.9827799797058105]\n"
     ]
    }
   ],
   "source": [
    "results = model.evaluate(X, Y)\n",
    "print(\"test loss, test acc:\", results)"
   ]
  },
  {
   "cell_type": "code",
   "execution_count": 37,
   "metadata": {},
   "outputs": [
    {
     "name": "stdout",
     "output_type": "stream",
     "text": [
      "3125/3125 [==============================] - 12s 4ms/step\n",
      "[4 4 4 ... 9 9 9]\n",
      "4\n"
     ]
    }
   ],
   "source": [
    "y_pred = np.argmax(model.predict(X), axis=-1)\n",
    "print(y_pred)\n",
    "print(y_pred[0])"
   ]
  },
  {
   "cell_type": "code",
   "execution_count": 38,
   "metadata": {},
   "outputs": [
    {
     "name": "stdout",
     "output_type": "stream",
     "text": [
      "[[ 9995     0     0     0     5     0     0     0     0     0]\n",
      " [    0  9725     4     1     1   227    29     8     3     2]\n",
      " [    0     1  9855     1     2    34    27    79     0     1]\n",
      " [    0    14     0  9949     0    15     1    19     1     1]\n",
      " [    0     0     0     0 10000     0     0     0     0     0]\n",
      " [    0   546    68    33     0  9295    43    11     2     2]\n",
      " [    0    61    42     1     2    34  9858     0     1     1]\n",
      " [   14     5   236    16     3     7     2  9715     0     2]\n",
      " [    0     0     0     0     4     0     0     0  9923    73]\n",
      " [    0     0     0     0     3     0     0     0    34  9963]]\n",
      "              precision    recall  f1-score   support\n",
      "\n",
      "         0.0       1.00      1.00      1.00     10000\n",
      "         1.0       0.94      0.97      0.96     10000\n",
      "         2.0       0.97      0.99      0.98     10000\n",
      "         3.0       0.99      0.99      0.99     10000\n",
      "         4.0       1.00      1.00      1.00     10000\n",
      "         5.0       0.97      0.93      0.95     10000\n",
      "         6.0       0.99      0.99      0.99     10000\n",
      "         7.0       0.99      0.97      0.98     10000\n",
      "         8.0       1.00      0.99      0.99     10000\n",
      "         9.0       0.99      1.00      0.99     10000\n",
      "\n",
      "    accuracy                           0.98    100000\n",
      "   macro avg       0.98      0.98      0.98    100000\n",
      "weighted avg       0.98      0.98      0.98    100000\n",
      "\n"
     ]
    }
   ],
   "source": [
    "print(confusion_matrix(Y, y_pred))\n",
    "print(classification_report(Y, y_pred))"
   ]
  },
  {
   "cell_type": "markdown",
   "metadata": {},
   "source": [
    "iPhone13_III model to iPhone13_II dataset"
   ]
  },
  {
   "cell_type": "code",
   "execution_count": 12,
   "metadata": {},
   "outputs": [
    {
     "name": "stdout",
     "output_type": "stream",
     "text": [
      "Model: \"sequential\"\n",
      "_________________________________________________________________\n",
      " Layer (type)                Output Shape              Param #   \n",
      "=================================================================\n",
      " dense (Dense)               (None, 1400)              2868600   \n",
      "                                                                 \n",
      " dense_1 (Dense)             (None, 800)               1120800   \n",
      "                                                                 \n",
      " dense_2 (Dense)             (None, 500)               400500    \n",
      "                                                                 \n",
      " dense_3 (Dense)             (None, 200)               100200    \n",
      "                                                                 \n",
      " dense_4 (Dense)             (None, 100)               20100     \n",
      "                                                                 \n",
      " dense_5 (Dense)             (None, 10)                1010      \n",
      "                                                                 \n",
      "=================================================================\n",
      "Total params: 4,511,210\n",
      "Trainable params: 4,511,210\n",
      "Non-trainable params: 0\n",
      "_________________________________________________________________\n"
     ]
    }
   ],
   "source": [
    "model = keras.models.load_model(\"/Users/Lojenaa/Documents/PhD/Smartphones/Cross-device-Portability-of-EMSCA/Smartphones/iPhone/iPhone13/iPHONE13_III_model.h5\")\n",
    "model.summary()"
   ]
  },
  {
   "cell_type": "code",
   "execution_count": 13,
   "metadata": {},
   "outputs": [
    {
     "name": "stdout",
     "output_type": "stream",
     "text": [
      "Model: \"sequential\"\n",
      "_________________________________________________________________\n",
      " Layer (type)                Output Shape              Param #   \n",
      "=================================================================\n",
      " dense (Dense)               (None, 1400)              2868600   \n",
      "                                                                 \n",
      " dense_1 (Dense)             (None, 800)               1120800   \n",
      "                                                                 \n",
      " dense_2 (Dense)             (None, 500)               400500    \n",
      "                                                                 \n",
      " dense_3 (Dense)             (None, 200)               100200    \n",
      "                                                                 \n",
      " dense_4 (Dense)             (None, 100)               20100     \n",
      "                                                                 \n",
      " dense_5 (Dense)             (None, 10)                1010      \n",
      "                                                                 \n",
      "=================================================================\n",
      "Total params: 4,511,210\n",
      "Trainable params: 1,010\n",
      "Non-trainable params: 4,510,200\n",
      "_________________________________________________________________\n"
     ]
    }
   ],
   "source": [
    "# Freeze all layers except the last one.\n",
    "for layer in model.layers[:-1]:\n",
    "  layer.trainable = False\n",
    "\n",
    "model.summary()"
   ]
  },
  {
   "cell_type": "code",
   "execution_count": 14,
   "metadata": {},
   "outputs": [],
   "source": [
    "opt = keras.optimizers.SGD(learning_rate=0.001)\n",
    "model.compile(loss=\"sparse_categorical_crossentropy\", optimizer=opt, metrics=[\"accuracy\"])"
   ]
  },
  {
   "cell_type": "code",
   "execution_count": 15,
   "metadata": {},
   "outputs": [
    {
     "name": "stdout",
     "output_type": "stream",
     "text": [
      "Epoch 1/25\n",
      "3125/3125 [==============================] - 14s 4ms/step - loss: 2.1003 - accuracy: 0.3044\n",
      "Epoch 2/25\n",
      "3125/3125 [==============================] - 14s 4ms/step - loss: 1.3245 - accuracy: 0.6130\n",
      "Epoch 3/25\n",
      "3125/3125 [==============================] - 16s 5ms/step - loss: 1.1280 - accuracy: 0.7058\n",
      "Epoch 4/25\n",
      "3125/3125 [==============================] - 14s 4ms/step - loss: 1.0157 - accuracy: 0.7533\n",
      "Epoch 5/25\n",
      "3125/3125 [==============================] - 15s 5ms/step - loss: 0.9385 - accuracy: 0.7799\n",
      "Epoch 6/25\n",
      "3125/3125 [==============================] - 14s 5ms/step - loss: 0.8813 - accuracy: 0.7976\n",
      "Epoch 7/25\n",
      "3125/3125 [==============================] - 13s 4ms/step - loss: 0.8363 - accuracy: 0.8104\n",
      "Epoch 8/25\n",
      "3125/3125 [==============================] - 13s 4ms/step - loss: 0.7996 - accuracy: 0.8206\n",
      "Epoch 9/25\n",
      "3125/3125 [==============================] - 15s 5ms/step - loss: 0.7685 - accuracy: 0.8286\n",
      "Epoch 10/25\n",
      "3125/3125 [==============================] - 14s 4ms/step - loss: 0.7423 - accuracy: 0.8334\n",
      "Epoch 11/25\n",
      "3125/3125 [==============================] - 13s 4ms/step - loss: 0.7196 - accuracy: 0.8399\n",
      "Epoch 12/25\n",
      "3125/3125 [==============================] - 13s 4ms/step - loss: 0.6995 - accuracy: 0.8440\n",
      "Epoch 13/25\n",
      "3125/3125 [==============================] - 13s 4ms/step - loss: 0.6818 - accuracy: 0.8485\n",
      "Epoch 14/25\n",
      "3125/3125 [==============================] - 13s 4ms/step - loss: 0.6657 - accuracy: 0.8509\n",
      "Epoch 15/25\n",
      "3125/3125 [==============================] - 13s 4ms/step - loss: 0.6507 - accuracy: 0.8524\n",
      "Epoch 16/25\n",
      "3125/3125 [==============================] - 13s 4ms/step - loss: 0.6379 - accuracy: 0.8553\n",
      "Epoch 17/25\n",
      "3125/3125 [==============================] - 13s 4ms/step - loss: 0.6257 - accuracy: 0.8585\n",
      "Epoch 18/25\n",
      "3125/3125 [==============================] - 13s 4ms/step - loss: 0.6147 - accuracy: 0.8593\n",
      "Epoch 19/25\n",
      "3125/3125 [==============================] - 13s 4ms/step - loss: 0.6041 - accuracy: 0.8614\n",
      "Epoch 20/25\n",
      "3125/3125 [==============================] - 13s 4ms/step - loss: 0.5947 - accuracy: 0.8630\n",
      "Epoch 21/25\n",
      "3125/3125 [==============================] - 13s 4ms/step - loss: 0.5854 - accuracy: 0.8641\n",
      "Epoch 22/25\n",
      "3125/3125 [==============================] - 13s 4ms/step - loss: 0.5770 - accuracy: 0.8650\n",
      "Epoch 23/25\n",
      "3125/3125 [==============================] - 13s 4ms/step - loss: 0.5691 - accuracy: 0.8659\n",
      "Epoch 24/25\n",
      "3125/3125 [==============================] - 14s 4ms/step - loss: 0.5616 - accuracy: 0.8667\n",
      "Epoch 25/25\n",
      "3125/3125 [==============================] - 14s 4ms/step - loss: 0.5544 - accuracy: 0.8675\n"
     ]
    }
   ],
   "source": [
    "history = model.fit(X, Y, epochs=25)"
   ]
  },
  {
   "cell_type": "code",
   "execution_count": 16,
   "metadata": {},
   "outputs": [
    {
     "data": {
      "image/png": "[encoded data removed]",
      "text/plain": [
       "<Figure size 800x500 with 1 Axes>"
      ]
     },
     "metadata": {},
     "output_type": "display_data"
    }
   ],
   "source": [
    "pd.DataFrame(history.history).plot(figsize=(8, 5))\n",
    "plt.grid(True)\n",
    "plt.gca().set_ylim(0, 1) # set the vertical range to [0-1]\n",
    "plt.show()"
   ]
  },
  {
   "cell_type": "code",
   "execution_count": 17,
   "metadata": {},
   "outputs": [
    {
     "name": "stdout",
     "output_type": "stream",
     "text": [
      "3125/3125 [==============================] - 12s 4ms/step - loss: 0.5509 - accuracy: 0.8669\n",
      "test loss, test acc: [0.5509257316589355, 0.866919994354248]\n"
     ]
    }
   ],
   "source": [
    "results = model.evaluate(X, Y)\n",
    "print(\"test loss, test acc:\", results)"
   ]
  },
  {
   "cell_type": "code",
   "execution_count": 18,
   "metadata": {},
   "outputs": [
    {
     "name": "stdout",
     "output_type": "stream",
     "text": [
      "3125/3125 [==============================] - 12s 4ms/step\n",
      "[0 4 0 ... 9 9 9]\n",
      "0\n"
     ]
    }
   ],
   "source": [
    "y_pred = np.argmax(model.predict(X), axis=-1)\n",
    "print(y_pred)\n",
    "print(y_pred[0])"
   ]
  },
  {
   "cell_type": "code",
   "execution_count": 19,
   "metadata": {},
   "outputs": [
    {
     "name": "stdout",
     "output_type": "stream",
     "text": [
      "[[9998    0    0    0    2    0    0    0    0    0]\n",
      " [   1 6759  162  619    2 1068  159 1215   15    0]\n",
      " [   0    0 9191    0    3  116  557  124    9    0]\n",
      " [   1   13    0 9399    2  402    0  169   14    0]\n",
      " [   1    0    0    0 9975    0    0    0   21    3]\n",
      " [   0  255  477  611    2 7133  200 1307   14    1]\n",
      " [   0    0 1165    0    3  103 8715    0   13    1]\n",
      " [  26  328  606  567    1 2145   16 6286   25    0]\n",
      " [   3   14    0    0    6    0    0    2 9509  466]\n",
      " [   1    0    0    0    3    0    3    1  265 9727]]\n",
      "              precision    recall  f1-score   support\n",
      "\n",
      "         0.0       1.00      1.00      1.00     10000\n",
      "         1.0       0.92      0.68      0.78     10000\n",
      "         2.0       0.79      0.92      0.85     10000\n",
      "         3.0       0.84      0.94      0.89     10000\n",
      "         4.0       1.00      1.00      1.00     10000\n",
      "         5.0       0.65      0.71      0.68     10000\n",
      "         6.0       0.90      0.87      0.89     10000\n",
      "         7.0       0.69      0.63      0.66     10000\n",
      "         8.0       0.96      0.95      0.96     10000\n",
      "         9.0       0.95      0.97      0.96     10000\n",
      "\n",
      "    accuracy                           0.87    100000\n",
      "   macro avg       0.87      0.87      0.87    100000\n",
      "weighted avg       0.87      0.87      0.87    100000\n",
      "\n"
     ]
    }
   ],
   "source": [
    "print(confusion_matrix(Y, y_pred))\n",
    "print(classification_report(Y, y_pred))"
   ]
  },
  {
   "cell_type": "markdown",
   "metadata": {},
   "source": [
    "Read iPhone13_III dataset"
   ]
  },
  {
   "cell_type": "code",
   "execution_count": 39,
   "metadata": {},
   "outputs": [
    {
     "data": {
      "text/html": [
       "<div>\n",
       "<style scoped>\n",
       "    .dataframe tbody tr th:only-of-type {\n",
       "        vertical-align: middle;\n",
       "    }\n",
       "\n",
       "    .dataframe tbody tr th {\n",
       "        vertical-align: top;\n",
       "    }\n",
       "\n",
       "    .dataframe thead th {\n",
       "        text-align: right;\n",
       "    }\n",
       "</style>\n",
       "<table border=\"1\" class=\"dataframe\">\n",
       "  <thead>\n",
       "    <tr style=\"text-align: right;\">\n",
       "      <th></th>\n",
       "      <th>0</th>\n",
       "      <th>1</th>\n",
       "      <th>2</th>\n",
       "      <th>3</th>\n",
       "      <th>4</th>\n",
       "      <th>5</th>\n",
       "      <th>6</th>\n",
       "      <th>7</th>\n",
       "      <th>8</th>\n",
       "      <th>9</th>\n",
       "      <th>...</th>\n",
       "      <th>2039</th>\n",
       "      <th>2040</th>\n",
       "      <th>2041</th>\n",
       "      <th>2042</th>\n",
       "      <th>2043</th>\n",
       "      <th>2044</th>\n",
       "      <th>2045</th>\n",
       "      <th>2046</th>\n",
       "      <th>2047</th>\n",
       "      <th>labels</th>\n",
       "    </tr>\n",
       "  </thead>\n",
       "  <tbody>\n",
       "    <tr>\n",
       "      <th>1</th>\n",
       "      <td>0.422498</td>\n",
       "      <td>0.680489</td>\n",
       "      <td>1.000000</td>\n",
       "      <td>1.000000</td>\n",
       "      <td>1.000000</td>\n",
       "      <td>1.000000</td>\n",
       "      <td>1.000000</td>\n",
       "      <td>0.834423</td>\n",
       "      <td>0.834500</td>\n",
       "      <td>0.718599</td>\n",
       "      <td>...</td>\n",
       "      <td>0.750746</td>\n",
       "      <td>0.763691</td>\n",
       "      <td>0.706715</td>\n",
       "      <td>0.702801</td>\n",
       "      <td>1.000000</td>\n",
       "      <td>1.000000</td>\n",
       "      <td>1.000000</td>\n",
       "      <td>1.000000</td>\n",
       "      <td>0.688021</td>\n",
       "      <td>0.0</td>\n",
       "    </tr>\n",
       "    <tr>\n",
       "      <th>2</th>\n",
       "      <td>0.929037</td>\n",
       "      <td>0.853783</td>\n",
       "      <td>0.101921</td>\n",
       "      <td>0.103562</td>\n",
       "      <td>0.092609</td>\n",
       "      <td>0.162482</td>\n",
       "      <td>0.193398</td>\n",
       "      <td>0.074014</td>\n",
       "      <td>0.108654</td>\n",
       "      <td>0.290425</td>\n",
       "      <td>...</td>\n",
       "      <td>0.207853</td>\n",
       "      <td>0.345914</td>\n",
       "      <td>0.340843</td>\n",
       "      <td>0.318369</td>\n",
       "      <td>0.532507</td>\n",
       "      <td>0.323057</td>\n",
       "      <td>0.264786</td>\n",
       "      <td>0.069383</td>\n",
       "      <td>0.906716</td>\n",
       "      <td>0.0</td>\n",
       "    </tr>\n",
       "    <tr>\n",
       "      <th>3</th>\n",
       "      <td>0.941623</td>\n",
       "      <td>0.896120</td>\n",
       "      <td>0.060363</td>\n",
       "      <td>0.109833</td>\n",
       "      <td>0.152149</td>\n",
       "      <td>0.140870</td>\n",
       "      <td>0.167666</td>\n",
       "      <td>0.195334</td>\n",
       "      <td>0.330166</td>\n",
       "      <td>0.157229</td>\n",
       "      <td>...</td>\n",
       "      <td>0.330707</td>\n",
       "      <td>0.094808</td>\n",
       "      <td>0.053913</td>\n",
       "      <td>0.247789</td>\n",
       "      <td>0.299523</td>\n",
       "      <td>0.174564</td>\n",
       "      <td>0.114524</td>\n",
       "      <td>0.098097</td>\n",
       "      <td>0.941664</td>\n",
       "      <td>0.0</td>\n",
       "    </tr>\n",
       "    <tr>\n",
       "      <th>4</th>\n",
       "      <td>0.815995</td>\n",
       "      <td>0.778228</td>\n",
       "      <td>0.082594</td>\n",
       "      <td>0.182406</td>\n",
       "      <td>0.182273</td>\n",
       "      <td>0.151699</td>\n",
       "      <td>0.245746</td>\n",
       "      <td>0.440105</td>\n",
       "      <td>0.395093</td>\n",
       "      <td>0.148037</td>\n",
       "      <td>...</td>\n",
       "      <td>0.165981</td>\n",
       "      <td>0.312658</td>\n",
       "      <td>0.384464</td>\n",
       "      <td>0.321797</td>\n",
       "      <td>0.246556</td>\n",
       "      <td>0.108866</td>\n",
       "      <td>0.058167</td>\n",
       "      <td>0.007849</td>\n",
       "      <td>0.759296</td>\n",
       "      <td>0.0</td>\n",
       "    </tr>\n",
       "    <tr>\n",
       "      <th>5</th>\n",
       "      <td>0.795723</td>\n",
       "      <td>0.751092</td>\n",
       "      <td>0.066276</td>\n",
       "      <td>0.093429</td>\n",
       "      <td>0.039035</td>\n",
       "      <td>0.196214</td>\n",
       "      <td>0.303661</td>\n",
       "      <td>0.279657</td>\n",
       "      <td>0.039834</td>\n",
       "      <td>0.135989</td>\n",
       "      <td>...</td>\n",
       "      <td>0.148099</td>\n",
       "      <td>0.200362</td>\n",
       "      <td>0.209867</td>\n",
       "      <td>0.665128</td>\n",
       "      <td>0.608885</td>\n",
       "      <td>0.243823</td>\n",
       "      <td>0.126856</td>\n",
       "      <td>0.012633</td>\n",
       "      <td>0.760249</td>\n",
       "      <td>0.0</td>\n",
       "    </tr>\n",
       "    <tr>\n",
       "      <th>...</th>\n",
       "      <td>...</td>\n",
       "      <td>...</td>\n",
       "      <td>...</td>\n",
       "      <td>...</td>\n",
       "      <td>...</td>\n",
       "      <td>...</td>\n",
       "      <td>...</td>\n",
       "      <td>...</td>\n",
       "      <td>...</td>\n",
       "      <td>...</td>\n",
       "      <td>...</td>\n",
       "      <td>...</td>\n",
       "      <td>...</td>\n",
       "      <td>...</td>\n",
       "      <td>...</td>\n",
       "      <td>...</td>\n",
       "      <td>...</td>\n",
       "      <td>...</td>\n",
       "      <td>...</td>\n",
       "      <td>...</td>\n",
       "      <td>...</td>\n",
       "    </tr>\n",
       "    <tr>\n",
       "      <th>99996</th>\n",
       "      <td>0.933560</td>\n",
       "      <td>0.919221</td>\n",
       "      <td>0.047033</td>\n",
       "      <td>0.261235</td>\n",
       "      <td>0.279359</td>\n",
       "      <td>0.195774</td>\n",
       "      <td>0.183475</td>\n",
       "      <td>0.283673</td>\n",
       "      <td>0.361993</td>\n",
       "      <td>0.348998</td>\n",
       "      <td>...</td>\n",
       "      <td>0.460885</td>\n",
       "      <td>0.377014</td>\n",
       "      <td>0.408991</td>\n",
       "      <td>0.570479</td>\n",
       "      <td>0.268484</td>\n",
       "      <td>0.204830</td>\n",
       "      <td>0.133601</td>\n",
       "      <td>0.076476</td>\n",
       "      <td>0.872792</td>\n",
       "      <td>9.0</td>\n",
       "    </tr>\n",
       "    <tr>\n",
       "      <th>99997</th>\n",
       "      <td>0.934426</td>\n",
       "      <td>0.901555</td>\n",
       "      <td>0.070696</td>\n",
       "      <td>0.132777</td>\n",
       "      <td>0.059176</td>\n",
       "      <td>0.141208</td>\n",
       "      <td>0.211734</td>\n",
       "      <td>0.377847</td>\n",
       "      <td>0.519662</td>\n",
       "      <td>0.149129</td>\n",
       "      <td>...</td>\n",
       "      <td>0.460394</td>\n",
       "      <td>0.466287</td>\n",
       "      <td>0.498449</td>\n",
       "      <td>0.352417</td>\n",
       "      <td>0.317433</td>\n",
       "      <td>0.098610</td>\n",
       "      <td>0.067554</td>\n",
       "      <td>0.084241</td>\n",
       "      <td>0.933651</td>\n",
       "      <td>9.0</td>\n",
       "    </tr>\n",
       "    <tr>\n",
       "      <th>99998</th>\n",
       "      <td>0.931663</td>\n",
       "      <td>0.928754</td>\n",
       "      <td>0.052643</td>\n",
       "      <td>0.049096</td>\n",
       "      <td>0.182915</td>\n",
       "      <td>0.404265</td>\n",
       "      <td>0.275208</td>\n",
       "      <td>0.169362</td>\n",
       "      <td>0.230368</td>\n",
       "      <td>0.422917</td>\n",
       "      <td>...</td>\n",
       "      <td>0.209413</td>\n",
       "      <td>0.551867</td>\n",
       "      <td>0.383992</td>\n",
       "      <td>0.296554</td>\n",
       "      <td>0.436850</td>\n",
       "      <td>0.254137</td>\n",
       "      <td>0.051285</td>\n",
       "      <td>0.090958</td>\n",
       "      <td>0.899035</td>\n",
       "      <td>9.0</td>\n",
       "    </tr>\n",
       "    <tr>\n",
       "      <th>99999</th>\n",
       "      <td>0.931983</td>\n",
       "      <td>0.908526</td>\n",
       "      <td>0.003918</td>\n",
       "      <td>0.074554</td>\n",
       "      <td>0.328282</td>\n",
       "      <td>0.291110</td>\n",
       "      <td>0.172624</td>\n",
       "      <td>0.133035</td>\n",
       "      <td>0.114316</td>\n",
       "      <td>0.128454</td>\n",
       "      <td>...</td>\n",
       "      <td>0.231542</td>\n",
       "      <td>0.236621</td>\n",
       "      <td>0.260887</td>\n",
       "      <td>0.375407</td>\n",
       "      <td>0.268695</td>\n",
       "      <td>0.193573</td>\n",
       "      <td>0.293027</td>\n",
       "      <td>0.146010</td>\n",
       "      <td>0.887647</td>\n",
       "      <td>9.0</td>\n",
       "    </tr>\n",
       "    <tr>\n",
       "      <th>100000</th>\n",
       "      <td>0.947790</td>\n",
       "      <td>0.910159</td>\n",
       "      <td>0.029929</td>\n",
       "      <td>0.102176</td>\n",
       "      <td>0.046947</td>\n",
       "      <td>0.085339</td>\n",
       "      <td>0.195093</td>\n",
       "      <td>0.282001</td>\n",
       "      <td>0.234754</td>\n",
       "      <td>0.182175</td>\n",
       "      <td>...</td>\n",
       "      <td>0.316852</td>\n",
       "      <td>0.397028</td>\n",
       "      <td>0.448638</td>\n",
       "      <td>0.282818</td>\n",
       "      <td>0.247660</td>\n",
       "      <td>0.126251</td>\n",
       "      <td>0.223080</td>\n",
       "      <td>0.110046</td>\n",
       "      <td>0.947869</td>\n",
       "      <td>9.0</td>\n",
       "    </tr>\n",
       "  </tbody>\n",
       "</table>\n",
       "<p>100000 rows × 2049 columns</p>\n",
       "</div>"
      ],
      "text/plain": [
       "0              0         1         2         3         4         5         6  \\\n",
       "1       0.422498  0.680489  1.000000  1.000000  1.000000  1.000000  1.000000   \n",
       "2       0.929037  0.853783  0.101921  0.103562  0.092609  0.162482  0.193398   \n",
       "3       0.941623  0.896120  0.060363  0.109833  0.152149  0.140870  0.167666   \n",
       "4       0.815995  0.778228  0.082594  0.182406  0.182273  0.151699  0.245746   \n",
       "5       0.795723  0.751092  0.066276  0.093429  0.039035  0.196214  0.303661   \n",
       "...          ...       ...       ...       ...       ...       ...       ...   \n",
       "99996   0.933560  0.919221  0.047033  0.261235  0.279359  0.195774  0.183475   \n",
       "99997   0.934426  0.901555  0.070696  0.132777  0.059176  0.141208  0.211734   \n",
       "99998   0.931663  0.928754  0.052643  0.049096  0.182915  0.404265  0.275208   \n",
       "99999   0.931983  0.908526  0.003918  0.074554  0.328282  0.291110  0.172624   \n",
       "100000  0.947790  0.910159  0.029929  0.102176  0.046947  0.085339  0.195093   \n",
       "\n",
       "0              7         8         9  ...      2039      2040      2041  \\\n",
       "1       0.834423  0.834500  0.718599  ...  0.750746  0.763691  0.706715   \n",
       "2       0.074014  0.108654  0.290425  ...  0.207853  0.345914  0.340843   \n",
       "3       0.195334  0.330166  0.157229  ...  0.330707  0.094808  0.053913   \n",
       "4       0.440105  0.395093  0.148037  ...  0.165981  0.312658  0.384464   \n",
       "5       0.279657  0.039834  0.135989  ...  0.148099  0.200362  0.209867   \n",
       "...          ...       ...       ...  ...       ...       ...       ...   \n",
       "99996   0.283673  0.361993  0.348998  ...  0.460885  0.377014  0.408991   \n",
       "99997   0.377847  0.519662  0.149129  ...  0.460394  0.466287  0.498449   \n",
       "99998   0.169362  0.230368  0.422917  ...  0.209413  0.551867  0.383992   \n",
       "99999   0.133035  0.114316  0.128454  ...  0.231542  0.236621  0.260887   \n",
       "100000  0.282001  0.234754  0.182175  ...  0.316852  0.397028  0.448638   \n",
       "\n",
       "0           2042      2043      2044      2045      2046      2047  labels  \n",
       "1       0.702801  1.000000  1.000000  1.000000  1.000000  0.688021     0.0  \n",
       "2       0.318369  0.532507  0.323057  0.264786  0.069383  0.906716     0.0  \n",
       "3       0.247789  0.299523  0.174564  0.114524  0.098097  0.941664     0.0  \n",
       "4       0.321797  0.246556  0.108866  0.058167  0.007849  0.759296     0.0  \n",
       "5       0.665128  0.608885  0.243823  0.126856  0.012633  0.760249     0.0  \n",
       "...          ...       ...       ...       ...       ...       ...     ...  \n",
       "99996   0.570479  0.268484  0.204830  0.133601  0.076476  0.872792     9.0  \n",
       "99997   0.352417  0.317433  0.098610  0.067554  0.084241  0.933651     9.0  \n",
       "99998   0.296554  0.436850  0.254137  0.051285  0.090958  0.899035     9.0  \n",
       "99999   0.375407  0.268695  0.193573  0.293027  0.146010  0.887647     9.0  \n",
       "100000  0.282818  0.247660  0.126251  0.223080  0.110046  0.947869     9.0  \n",
       "\n",
       "[100000 rows x 2049 columns]"
      ]
     },
     "execution_count": 39,
     "metadata": {},
     "output_type": "execute_result"
    }
   ],
   "source": [
    "data = pd.read_csv(\"/Users/Lojenaa/Documents/PhD/Smartphones/Cross-device-Portability-of-EMSCA/Smartphones/iPhone/iPhone13/i13_III.csv\",comment='#',  index_col=0, header=None, low_memory=False).T\n",
    "data"
   ]
  },
  {
   "cell_type": "code",
   "execution_count": 40,
   "metadata": {},
   "outputs": [],
   "source": [
    "Y = labels = data['labels']\n",
    "X = data = data.drop(columns=['labels'])"
   ]
  },
  {
   "cell_type": "markdown",
   "metadata": {},
   "source": [
    "iPhone13_I model to iPhone13_III dataset"
   ]
  },
  {
   "cell_type": "code",
   "execution_count": 41,
   "metadata": {},
   "outputs": [
    {
     "name": "stdout",
     "output_type": "stream",
     "text": [
      "Model: \"sequential_1\"\n",
      "_________________________________________________________________\n",
      " Layer (type)                Output Shape              Param #   \n",
      "=================================================================\n",
      " dense_6 (Dense)             (None, 1400)              2868600   \n",
      "                                                                 \n",
      " dense_7 (Dense)             (None, 800)               1120800   \n",
      "                                                                 \n",
      " dense_8 (Dense)             (None, 500)               400500    \n",
      "                                                                 \n",
      " dense_9 (Dense)             (None, 200)               100200    \n",
      "                                                                 \n",
      " dense_10 (Dense)            (None, 100)               20100     \n",
      "                                                                 \n",
      " dense_11 (Dense)            (None, 10)                1010      \n",
      "                                                                 \n",
      "=================================================================\n",
      "Total params: 4,511,210\n",
      "Trainable params: 4,511,210\n",
      "Non-trainable params: 0\n",
      "_________________________________________________________________\n"
     ]
    }
   ],
   "source": [
    "model = keras.models.load_model(\"/Users/Lojenaa/Documents/PhD/Smartphones/Cross-device-Portability-of-EMSCA/Smartphones/iPhone/iPhone13/iPHONE13_I_model.h5\")\n",
    "model.summary()"
   ]
  },
  {
   "cell_type": "code",
   "execution_count": 42,
   "metadata": {},
   "outputs": [
    {
     "name": "stdout",
     "output_type": "stream",
     "text": [
      "Model: \"sequential_1\"\n",
      "_________________________________________________________________\n",
      " Layer (type)                Output Shape              Param #   \n",
      "=================================================================\n",
      " dense_6 (Dense)             (None, 1400)              2868600   \n",
      "                                                                 \n",
      " dense_7 (Dense)             (None, 800)               1120800   \n",
      "                                                                 \n",
      " dense_8 (Dense)             (None, 500)               400500    \n",
      "                                                                 \n",
      " dense_9 (Dense)             (None, 200)               100200    \n",
      "                                                                 \n",
      " dense_10 (Dense)            (None, 100)               20100     \n",
      "                                                                 \n",
      " dense_11 (Dense)            (None, 10)                1010      \n",
      "                                                                 \n",
      "=================================================================\n",
      "Total params: 4,511,210\n",
      "Trainable params: 1,010\n",
      "Non-trainable params: 4,510,200\n",
      "_________________________________________________________________\n"
     ]
    }
   ],
   "source": [
    "# Freeze all layers except the last one.\n",
    "for layer in model.layers[:-1]:\n",
    "  layer.trainable = False\n",
    "\n",
    "model.summary()"
   ]
  },
  {
   "cell_type": "code",
   "execution_count": 43,
   "metadata": {},
   "outputs": [],
   "source": [
    "opt = keras.optimizers.SGD(learning_rate=0.001)\n",
    "model.compile(loss=\"sparse_categorical_crossentropy\", optimizer=opt, metrics=[\"accuracy\"])"
   ]
  },
  {
   "cell_type": "code",
   "execution_count": 44,
   "metadata": {},
   "outputs": [
    {
     "name": "stdout",
     "output_type": "stream",
     "text": [
      "Epoch 1/25\n",
      "3125/3125 [==============================] - 13s 4ms/step - loss: 1.9160 - accuracy: 0.2938\n",
      "Epoch 2/25\n",
      "3125/3125 [==============================] - 12s 4ms/step - loss: 1.3491 - accuracy: 0.4531\n",
      "Epoch 3/25\n",
      "3125/3125 [==============================] - 12s 4ms/step - loss: 1.2026 - accuracy: 0.5408\n",
      "Epoch 4/25\n",
      "3125/3125 [==============================] - 11s 3ms/step - loss: 1.1226 - accuracy: 0.5796\n",
      "Epoch 5/25\n",
      "3125/3125 [==============================] - 11s 4ms/step - loss: 1.0701 - accuracy: 0.6020\n",
      "Epoch 6/25\n",
      "3125/3125 [==============================] - 11s 3ms/step - loss: 1.0318 - accuracy: 0.6173\n",
      "Epoch 7/25\n",
      "3125/3125 [==============================] - 11s 3ms/step - loss: 1.0036 - accuracy: 0.6277\n",
      "Epoch 8/25\n",
      "3125/3125 [==============================] - 16s 5ms/step - loss: 0.9799 - accuracy: 0.6331\n",
      "Epoch 9/25\n",
      "3125/3125 [==============================] - 11s 4ms/step - loss: 0.9600 - accuracy: 0.6392\n",
      "Epoch 10/25\n",
      "3125/3125 [==============================] - 12s 4ms/step - loss: 0.9435 - accuracy: 0.6451\n",
      "Epoch 11/25\n",
      "3125/3125 [==============================] - 12s 4ms/step - loss: 0.9285 - accuracy: 0.6485\n",
      "Epoch 12/25\n",
      "3125/3125 [==============================] - 11s 4ms/step - loss: 0.9161 - accuracy: 0.6525\n",
      "Epoch 13/25\n",
      "3125/3125 [==============================] - 11s 4ms/step - loss: 0.9042 - accuracy: 0.6567\n",
      "Epoch 14/25\n",
      "3125/3125 [==============================] - 11s 3ms/step - loss: 0.8938 - accuracy: 0.6615\n",
      "Epoch 15/25\n",
      "3125/3125 [==============================] - 12s 4ms/step - loss: 0.8846 - accuracy: 0.6643\n",
      "Epoch 16/25\n",
      "3125/3125 [==============================] - 11s 3ms/step - loss: 0.8758 - accuracy: 0.6683\n",
      "Epoch 17/25\n",
      "3125/3125 [==============================] - 11s 4ms/step - loss: 0.8675 - accuracy: 0.6711\n",
      "Epoch 18/25\n",
      "3125/3125 [==============================] - 11s 3ms/step - loss: 0.8598 - accuracy: 0.6743\n",
      "Epoch 19/25\n",
      "3125/3125 [==============================] - 11s 3ms/step - loss: 0.8527 - accuracy: 0.6769\n",
      "Epoch 20/25\n",
      "3125/3125 [==============================] - 11s 3ms/step - loss: 0.8464 - accuracy: 0.6777\n",
      "Epoch 21/25\n",
      "3125/3125 [==============================] - 11s 4ms/step - loss: 0.8400 - accuracy: 0.6815\n",
      "Epoch 22/25\n",
      "3125/3125 [==============================] - 11s 3ms/step - loss: 0.8341 - accuracy: 0.6838\n",
      "Epoch 23/25\n",
      "3125/3125 [==============================] - 11s 3ms/step - loss: 0.8281 - accuracy: 0.6865\n",
      "Epoch 24/25\n",
      "3125/3125 [==============================] - 11s 3ms/step - loss: 0.8231 - accuracy: 0.6891\n",
      "Epoch 25/25\n",
      "3125/3125 [==============================] - 11s 3ms/step - loss: 0.8176 - accuracy: 0.6917\n"
     ]
    }
   ],
   "source": [
    "history = model.fit(X, Y, epochs=25)"
   ]
  },
  {
   "cell_type": "code",
   "execution_count": 45,
   "metadata": {},
   "outputs": [
    {
     "data": {
      "image/png": "[encoded data removed]",
      "text/plain": [
       "<Figure size 800x500 with 1 Axes>"
      ]
     },
     "metadata": {},
     "output_type": "display_data"
    }
   ],
   "source": [
    "pd.DataFrame(history.history).plot(figsize=(8, 5))\n",
    "plt.grid(True)\n",
    "plt.gca().set_ylim(0, 1) # set the vertical range to [0-1]\n",
    "plt.show()"
   ]
  },
  {
   "cell_type": "code",
   "execution_count": 46,
   "metadata": {},
   "outputs": [
    {
     "name": "stdout",
     "output_type": "stream",
     "text": [
      "3125/3125 [==============================] - 13s 4ms/step - loss: 0.8101 - accuracy: 0.7034\n",
      "test loss, test acc: [0.8100899457931519, 0.7034000158309937]\n"
     ]
    }
   ],
   "source": [
    "results = model.evaluate(X, Y)\n",
    "print(\"test loss, test acc:\", results)"
   ]
  },
  {
   "cell_type": "code",
   "execution_count": 47,
   "metadata": {},
   "outputs": [
    {
     "name": "stdout",
     "output_type": "stream",
     "text": [
      "3125/3125 [==============================] - 12s 4ms/step\n",
      "[0 0 0 ... 9 9 9]\n",
      "0\n"
     ]
    }
   ],
   "source": [
    "y_pred = np.argmax(model.predict(X), axis=-1)\n",
    "print(y_pred)\n",
    "print(y_pred[0])"
   ]
  },
  {
   "cell_type": "code",
   "execution_count": 48,
   "metadata": {},
   "outputs": [
    {
     "name": "stdout",
     "output_type": "stream",
     "text": [
      "[[8246 1272   79    5  127    0    0    0    0  271]\n",
      " [1830 7248  150   17  282    0    1    0    0  472]\n",
      " [  73   49 6950 1629  911    3   27    0    0  358]\n",
      " [  67   54 3516 4337 1354    2   18    0    0  652]\n",
      " [ 467  486 1123 1215 3975    0    1    0    0 2733]\n",
      " [   0    0   26   31    0 8341  995  575   27    5]\n",
      " [  19    6   11    8    1  824 7927 1169   35    0]\n",
      " [   0    0    0    0    0  604 1381 7682  333    0]\n",
      " [  25    0    0    1    0   55    8  419 9492    0]\n",
      " [ 459  539  247  440 2172    0    1    0    0 6142]]\n",
      "              precision    recall  f1-score   support\n",
      "\n",
      "         0.0       0.74      0.82      0.78     10000\n",
      "         1.0       0.75      0.72      0.74     10000\n",
      "         2.0       0.57      0.69      0.63     10000\n",
      "         3.0       0.56      0.43      0.49     10000\n",
      "         4.0       0.45      0.40      0.42     10000\n",
      "         5.0       0.85      0.83      0.84     10000\n",
      "         6.0       0.77      0.79      0.78     10000\n",
      "         7.0       0.78      0.77      0.77     10000\n",
      "         8.0       0.96      0.95      0.95     10000\n",
      "         9.0       0.58      0.61      0.60     10000\n",
      "\n",
      "    accuracy                           0.70    100000\n",
      "   macro avg       0.70      0.70      0.70    100000\n",
      "weighted avg       0.70      0.70      0.70    100000\n",
      "\n"
     ]
    }
   ],
   "source": [
    "print(confusion_matrix(Y, y_pred))\n",
    "print(classification_report(Y, y_pred))"
   ]
  },
  {
   "cell_type": "markdown",
   "metadata": {},
   "source": [
    "iPhone13_I_BeSh model to iPhone13_III dataset"
   ]
  },
  {
   "cell_type": "code",
   "execution_count": 49,
   "metadata": {},
   "outputs": [
    {
     "name": "stdout",
     "output_type": "stream",
     "text": [
      "Model: \"sequential_1\"\n",
      "_________________________________________________________________\n",
      " Layer (type)                Output Shape              Param #   \n",
      "=================================================================\n",
      " dense (Dense)               (None, 1400)              2868600   \n",
      "                                                                 \n",
      " dense_1 (Dense)             (None, 800)               1120800   \n",
      "                                                                 \n",
      " dense_2 (Dense)             (None, 500)               400500    \n",
      "                                                                 \n",
      " dense_3 (Dense)             (None, 200)               100200    \n",
      "                                                                 \n",
      " dense_4 (Dense)             (None, 100)               20100     \n",
      "                                                                 \n",
      " dense_5 (Dense)             (None, 10)                1010      \n",
      "                                                                 \n",
      "=================================================================\n",
      "Total params: 4,511,210\n",
      "Trainable params: 4,511,210\n",
      "Non-trainable params: 0\n",
      "_________________________________________________________________\n"
     ]
    }
   ],
   "source": [
    "model = keras.models.load_model(\"/Users/Lojenaa/Documents/PhD/Smartphones/Cross-device-Portability-of-EMSCA/Smartphones/iPhone/iPhone13/iPHONE13_I_BeSh_model.h5\")\n",
    "model.summary()"
   ]
  },
  {
   "cell_type": "code",
   "execution_count": 50,
   "metadata": {},
   "outputs": [
    {
     "name": "stdout",
     "output_type": "stream",
     "text": [
      "Model: \"sequential_1\"\n",
      "_________________________________________________________________\n",
      " Layer (type)                Output Shape              Param #   \n",
      "=================================================================\n",
      " dense (Dense)               (None, 1400)              2868600   \n",
      "                                                                 \n",
      " dense_1 (Dense)             (None, 800)               1120800   \n",
      "                                                                 \n",
      " dense_2 (Dense)             (None, 500)               400500    \n",
      "                                                                 \n",
      " dense_3 (Dense)             (None, 200)               100200    \n",
      "                                                                 \n",
      " dense_4 (Dense)             (None, 100)               20100     \n",
      "                                                                 \n",
      " dense_5 (Dense)             (None, 10)                1010      \n",
      "                                                                 \n",
      "=================================================================\n",
      "Total params: 4,511,210\n",
      "Trainable params: 1,010\n",
      "Non-trainable params: 4,510,200\n",
      "_________________________________________________________________\n"
     ]
    }
   ],
   "source": [
    "# Freeze all layers except the last one.\n",
    "for layer in model.layers[:-1]:\n",
    "  layer.trainable = False\n",
    "\n",
    "model.summary()"
   ]
  },
  {
   "cell_type": "code",
   "execution_count": 51,
   "metadata": {},
   "outputs": [],
   "source": [
    "opt = keras.optimizers.SGD(learning_rate=0.001)\n",
    "model.compile(loss=\"sparse_categorical_crossentropy\", optimizer=opt, metrics=[\"accuracy\"])"
   ]
  },
  {
   "cell_type": "code",
   "execution_count": 52,
   "metadata": {},
   "outputs": [
    {
     "name": "stdout",
     "output_type": "stream",
     "text": [
      "Epoch 1/25\n",
      "3125/3125 [==============================] - 14s 4ms/step - loss: 1.7458 - accuracy: 0.4374\n",
      "Epoch 2/25\n",
      "3125/3125 [==============================] - 14s 4ms/step - loss: 0.9364 - accuracy: 0.6150\n",
      "Epoch 3/25\n",
      "3125/3125 [==============================] - 13s 4ms/step - loss: 0.8446 - accuracy: 0.6486\n",
      "Epoch 4/25\n",
      "3125/3125 [==============================] - 13s 4ms/step - loss: 0.7919 - accuracy: 0.6703\n",
      "Epoch 5/25\n",
      "3125/3125 [==============================] - 13s 4ms/step - loss: 0.7571 - accuracy: 0.6855\n",
      "Epoch 6/25\n",
      "3125/3125 [==============================] - 13s 4ms/step - loss: 0.7308 - accuracy: 0.6988\n",
      "Epoch 7/25\n",
      "3125/3125 [==============================] - 13s 4ms/step - loss: 0.7096 - accuracy: 0.7076\n",
      "Epoch 8/25\n",
      "3125/3125 [==============================] - 16s 5ms/step - loss: 0.6915 - accuracy: 0.7166\n",
      "Epoch 9/25\n",
      "3125/3125 [==============================] - 15s 5ms/step - loss: 0.6767 - accuracy: 0.7216\n",
      "Epoch 10/25\n",
      "3125/3125 [==============================] - 14s 4ms/step - loss: 0.6635 - accuracy: 0.7277\n",
      "Epoch 11/25\n",
      "3125/3125 [==============================] - 13s 4ms/step - loss: 0.6523 - accuracy: 0.7328\n",
      "Epoch 12/25\n",
      "3125/3125 [==============================] - 13s 4ms/step - loss: 0.6417 - accuracy: 0.7385\n",
      "Epoch 13/25\n",
      "3125/3125 [==============================] - 13s 4ms/step - loss: 0.6328 - accuracy: 0.7399\n",
      "Epoch 14/25\n",
      "3125/3125 [==============================] - 13s 4ms/step - loss: 0.6233 - accuracy: 0.7448\n",
      "Epoch 15/25\n",
      "3125/3125 [==============================] - 13s 4ms/step - loss: 0.6159 - accuracy: 0.7489\n",
      "Epoch 16/25\n",
      "3125/3125 [==============================] - 13s 4ms/step - loss: 0.6081 - accuracy: 0.7523\n",
      "Epoch 17/25\n",
      "3125/3125 [==============================] - 13s 4ms/step - loss: 0.6013 - accuracy: 0.7562\n",
      "Epoch 18/25\n",
      "3125/3125 [==============================] - 12s 4ms/step - loss: 0.5945 - accuracy: 0.7576\n",
      "Epoch 19/25\n",
      "3125/3125 [==============================] - 12s 4ms/step - loss: 0.5870 - accuracy: 0.7621\n",
      "Epoch 20/25\n",
      "3125/3125 [==============================] - 12s 4ms/step - loss: 0.5822 - accuracy: 0.7645\n",
      "Epoch 21/25\n",
      "3125/3125 [==============================] - 12s 4ms/step - loss: 0.5749 - accuracy: 0.7679\n",
      "Epoch 22/25\n",
      "3125/3125 [==============================] - 13s 4ms/step - loss: 0.5712 - accuracy: 0.7694\n",
      "Epoch 23/25\n",
      "3125/3125 [==============================] - 13s 4ms/step - loss: 0.5658 - accuracy: 0.7713\n",
      "Epoch 24/25\n",
      "3125/3125 [==============================] - 13s 4ms/step - loss: 0.5609 - accuracy: 0.7734\n",
      "Epoch 25/25\n",
      "3125/3125 [==============================] - 13s 4ms/step - loss: 0.5564 - accuracy: 0.7742\n"
     ]
    }
   ],
   "source": [
    "history = model.fit(X, Y, epochs=25)"
   ]
  },
  {
   "cell_type": "code",
   "execution_count": 53,
   "metadata": {},
   "outputs": [
    {
     "data": {
      "image/png": "[encoded data removed]",
      "text/plain": [
       "<Figure size 800x500 with 1 Axes>"
      ]
     },
     "metadata": {},
     "output_type": "display_data"
    }
   ],
   "source": [
    "pd.DataFrame(history.history).plot(figsize=(8, 5))\n",
    "plt.grid(True)\n",
    "plt.gca().set_ylim(0, 1) # set the vertical range to [0-1]\n",
    "plt.show()"
   ]
  },
  {
   "cell_type": "code",
   "execution_count": 54,
   "metadata": {},
   "outputs": [
    {
     "name": "stdout",
     "output_type": "stream",
     "text": [
      "3125/3125 [==============================] - 12s 4ms/step - loss: 0.5367 - accuracy: 0.7945\n",
      "test loss, test acc: [0.5366602540016174, 0.7944999933242798]\n"
     ]
    }
   ],
   "source": [
    "results = model.evaluate(X, Y)\n",
    "print(\"test loss, test acc:\", results)"
   ]
  },
  {
   "cell_type": "code",
   "execution_count": 55,
   "metadata": {},
   "outputs": [
    {
     "name": "stdout",
     "output_type": "stream",
     "text": [
      "3125/3125 [==============================] - 12s 4ms/step\n",
      "[9 0 0 ... 9 4 9]\n",
      "9\n"
     ]
    }
   ],
   "source": [
    "y_pred = np.argmax(model.predict(X), axis=-1)\n",
    "print(y_pred)\n",
    "print(y_pred[0])"
   ]
  },
  {
   "cell_type": "code",
   "execution_count": 56,
   "metadata": {},
   "outputs": [
    {
     "name": "stdout",
     "output_type": "stream",
     "text": [
      "[[7612 2190    0    5   32    0    0    0    0  161]\n",
      " [1301 8107    1    2  206    0    0    0    0  383]\n",
      " [  11    2 5855 3816  296    0    0    0    0   20]\n",
      " [   7    5 1511 7812  523    0    0    0    0  142]\n",
      " [  37  515   16  734 5426    0    0    0    0 3272]\n",
      " [   0    0    5    4    1 9533  152  303    2    0]\n",
      " [  22    4    6    0    0  255 9011  702    0    0]\n",
      " [   0    0    0    0    0  278  602 8861  259    0]\n",
      " [  25    0    1    0    0    9    4  144 9817    0]\n",
      " [ 165  734    1  257 1427    0    0    0    0 7416]]\n",
      "              precision    recall  f1-score   support\n",
      "\n",
      "         0.0       0.83      0.76      0.79     10000\n",
      "         1.0       0.70      0.81      0.75     10000\n",
      "         2.0       0.79      0.59      0.67     10000\n",
      "         3.0       0.62      0.78      0.69     10000\n",
      "         4.0       0.69      0.54      0.61     10000\n",
      "         5.0       0.95      0.95      0.95     10000\n",
      "         6.0       0.92      0.90      0.91     10000\n",
      "         7.0       0.89      0.89      0.89     10000\n",
      "         8.0       0.97      0.98      0.98     10000\n",
      "         9.0       0.65      0.74      0.69     10000\n",
      "\n",
      "    accuracy                           0.79    100000\n",
      "   macro avg       0.80      0.79      0.79    100000\n",
      "weighted avg       0.80      0.79      0.79    100000\n",
      "\n"
     ]
    }
   ],
   "source": [
    "print(confusion_matrix(Y, y_pred))\n",
    "print(classification_report(Y, y_pred))"
   ]
  },
  {
   "cell_type": "markdown",
   "metadata": {},
   "source": [
    "iPhone13_II model to iPhone13_III dataset"
   ]
  },
  {
   "cell_type": "code",
   "execution_count": 57,
   "metadata": {},
   "outputs": [
    {
     "name": "stdout",
     "output_type": "stream",
     "text": [
      "Model: \"sequential\"\n",
      "_________________________________________________________________\n",
      " Layer (type)                Output Shape              Param #   \n",
      "=================================================================\n",
      " dense (Dense)               (None, 1400)              2868600   \n",
      "                                                                 \n",
      " dense_1 (Dense)             (None, 800)               1120800   \n",
      "                                                                 \n",
      " dense_2 (Dense)             (None, 500)               400500    \n",
      "                                                                 \n",
      " dense_3 (Dense)             (None, 200)               100200    \n",
      "                                                                 \n",
      " dense_4 (Dense)             (None, 100)               20100     \n",
      "                                                                 \n",
      " dense_5 (Dense)             (None, 10)                1010      \n",
      "                                                                 \n",
      "=================================================================\n",
      "Total params: 4,511,210\n",
      "Trainable params: 4,511,210\n",
      "Non-trainable params: 0\n",
      "_________________________________________________________________\n"
     ]
    }
   ],
   "source": [
    "model = keras.models.load_model(\"/Users/Lojenaa/Documents/PhD/Smartphones/Cross-device-Portability-of-EMSCA/Smartphones/iPhone/iPhone13/iPHONE13_II_model.h5\")\n",
    "model.summary()"
   ]
  },
  {
   "cell_type": "code",
   "execution_count": 58,
   "metadata": {},
   "outputs": [
    {
     "name": "stdout",
     "output_type": "stream",
     "text": [
      "Model: \"sequential\"\n",
      "_________________________________________________________________\n",
      " Layer (type)                Output Shape              Param #   \n",
      "=================================================================\n",
      " dense (Dense)               (None, 1400)              2868600   \n",
      "                                                                 \n",
      " dense_1 (Dense)             (None, 800)               1120800   \n",
      "                                                                 \n",
      " dense_2 (Dense)             (None, 500)               400500    \n",
      "                                                                 \n",
      " dense_3 (Dense)             (None, 200)               100200    \n",
      "                                                                 \n",
      " dense_4 (Dense)             (None, 100)               20100     \n",
      "                                                                 \n",
      " dense_5 (Dense)             (None, 10)                1010      \n",
      "                                                                 \n",
      "=================================================================\n",
      "Total params: 4,511,210\n",
      "Trainable params: 1,010\n",
      "Non-trainable params: 4,510,200\n",
      "_________________________________________________________________\n"
     ]
    }
   ],
   "source": [
    "# Freeze all layers except the last one.\n",
    "for layer in model.layers[:-1]:\n",
    "  layer.trainable = False\n",
    "\n",
    "model.summary()"
   ]
  },
  {
   "cell_type": "code",
   "execution_count": 59,
   "metadata": {},
   "outputs": [],
   "source": [
    "opt = keras.optimizers.SGD(learning_rate=0.001)\n",
    "model.compile(loss=\"sparse_categorical_crossentropy\", optimizer=opt, metrics=[\"accuracy\"])"
   ]
  },
  {
   "cell_type": "code",
   "execution_count": 60,
   "metadata": {},
   "outputs": [
    {
     "name": "stdout",
     "output_type": "stream",
     "text": [
      "Epoch 1/25\n",
      "3125/3125 [==============================] - 14s 4ms/step - loss: 1.8837 - accuracy: 0.3725\n",
      "Epoch 2/25\n",
      "3125/3125 [==============================] - 14s 4ms/step - loss: 1.1588 - accuracy: 0.5901\n",
      "Epoch 3/25\n",
      "3125/3125 [==============================] - 14s 4ms/step - loss: 1.0435 - accuracy: 0.6312\n",
      "Epoch 4/25\n",
      "3125/3125 [==============================] - 13s 4ms/step - loss: 0.9810 - accuracy: 0.6521\n",
      "Epoch 5/25\n",
      "3125/3125 [==============================] - 14s 4ms/step - loss: 0.9374 - accuracy: 0.6657\n",
      "Epoch 6/25\n",
      "3125/3125 [==============================] - 14s 4ms/step - loss: 0.9045 - accuracy: 0.6743\n",
      "Epoch 7/25\n",
      "3125/3125 [==============================] - 15s 5ms/step - loss: 0.8772 - accuracy: 0.6852\n",
      "Epoch 8/25\n",
      "3125/3125 [==============================] - 18s 6ms/step - loss: 0.8548 - accuracy: 0.6911\n",
      "Epoch 9/25\n",
      "3125/3125 [==============================] - 14s 5ms/step - loss: 0.8347 - accuracy: 0.6991\n",
      "Epoch 10/25\n",
      "3125/3125 [==============================] - 13s 4ms/step - loss: 0.8181 - accuracy: 0.7049\n",
      "Epoch 11/25\n",
      "3125/3125 [==============================] - 15s 5ms/step - loss: 0.8034 - accuracy: 0.7077\n",
      "Epoch 12/25\n",
      "3125/3125 [==============================] - 16s 5ms/step - loss: 0.7898 - accuracy: 0.7126\n",
      "Epoch 13/25\n",
      "3125/3125 [==============================] - 14s 5ms/step - loss: 0.7778 - accuracy: 0.7185\n",
      "Epoch 14/25\n",
      "3125/3125 [==============================] - 14s 4ms/step - loss: 0.7668 - accuracy: 0.7229\n",
      "Epoch 15/25\n",
      "3125/3125 [==============================] - 14s 4ms/step - loss: 0.7567 - accuracy: 0.7251\n",
      "Epoch 16/25\n",
      "3125/3125 [==============================] - 14s 4ms/step - loss: 0.7474 - accuracy: 0.7288\n",
      "Epoch 17/25\n",
      "3125/3125 [==============================] - 14s 4ms/step - loss: 0.7387 - accuracy: 0.7319\n",
      "Epoch 18/25\n",
      "3125/3125 [==============================] - 14s 4ms/step - loss: 0.7311 - accuracy: 0.7348\n",
      "Epoch 19/25\n",
      "3125/3125 [==============================] - 14s 4ms/step - loss: 0.7232 - accuracy: 0.7378\n",
      "Epoch 20/25\n",
      "3125/3125 [==============================] - 14s 5ms/step - loss: 0.7162 - accuracy: 0.7407\n",
      "Epoch 21/25\n",
      "3125/3125 [==============================] - 14s 4ms/step - loss: 0.7098 - accuracy: 0.7427\n",
      "Epoch 22/25\n",
      "3125/3125 [==============================] - 14s 5ms/step - loss: 0.7034 - accuracy: 0.7444\n",
      "Epoch 23/25\n",
      "3125/3125 [==============================] - 14s 5ms/step - loss: 0.6974 - accuracy: 0.7482\n",
      "Epoch 24/25\n",
      "3125/3125 [==============================] - 14s 4ms/step - loss: 0.6919 - accuracy: 0.7500\n",
      "Epoch 25/25\n",
      "3125/3125 [==============================] - 14s 4ms/step - loss: 0.6864 - accuracy: 0.7534\n"
     ]
    }
   ],
   "source": [
    "history = model.fit(X, Y, epochs=25)"
   ]
  },
  {
   "cell_type": "code",
   "execution_count": 61,
   "metadata": {},
   "outputs": [
    {
     "data": {
      "image/png": "[encoded data removed]",
      "text/plain": [
       "<Figure size 800x500 with 1 Axes>"
      ]
     },
     "metadata": {},
     "output_type": "display_data"
    }
   ],
   "source": [
    "pd.DataFrame(history.history).plot(figsize=(8, 5))\n",
    "plt.grid(True)\n",
    "plt.gca().set_ylim(0, 1) # set the vertical range to [0-1]\n",
    "plt.show()"
   ]
  },
  {
   "cell_type": "code",
   "execution_count": 62,
   "metadata": {},
   "outputs": [
    {
     "name": "stdout",
     "output_type": "stream",
     "text": [
      "3125/3125 [==============================] - 12s 4ms/step - loss: 0.6804 - accuracy: 0.7561\n",
      "test loss, test acc: [0.6803941130638123, 0.7561200261116028]\n"
     ]
    }
   ],
   "source": [
    "results = model.evaluate(X, Y)\n",
    "print(\"test loss, test acc:\", results)"
   ]
  },
  {
   "cell_type": "code",
   "execution_count": 64,
   "metadata": {},
   "outputs": [
    {
     "name": "stdout",
     "output_type": "stream",
     "text": [
      "3125/3125 [==============================] - 11s 4ms/step\n",
      "[1 0 0 ... 4 3 9]\n",
      "1\n"
     ]
    }
   ],
   "source": [
    "y_pred = np.argmax(model.predict(X), axis=-1)\n",
    "print(y_pred)\n",
    "print(y_pred[0])"
   ]
  },
  {
   "cell_type": "code",
   "execution_count": 65,
   "metadata": {},
   "outputs": [
    {
     "name": "stdout",
     "output_type": "stream",
     "text": [
      "[[9039  777    8   16  142    0    0    0    0   18]\n",
      " [1295 8356    7    1  104    0    0    0    0  237]\n",
      " [ 116   78 6058 2398 1267   21    8    0    0   54]\n",
      " [ 108  131 2646 5103 1927    7    4    1    0   73]\n",
      " [ 197  202  518  861 7264    4    2    0    0  952]\n",
      " [   0    0    9   30    2 9032  636  199   89    3]\n",
      " [  26    1   63    9    1  522 8742  597   39    0]\n",
      " [   0    0    0    3    0  156  577 8770  494    0]\n",
      " [  25    0    1    1    0  108   10  623 9232    0]\n",
      " [ 314  482  702  481 4002    2    1    0    0 4016]]\n",
      "              precision    recall  f1-score   support\n",
      "\n",
      "         0.0       0.81      0.90      0.86     10000\n",
      "         1.0       0.83      0.84      0.83     10000\n",
      "         2.0       0.61      0.61      0.61     10000\n",
      "         3.0       0.57      0.51      0.54     10000\n",
      "         4.0       0.49      0.73      0.59     10000\n",
      "         5.0       0.92      0.90      0.91     10000\n",
      "         6.0       0.88      0.87      0.88     10000\n",
      "         7.0       0.86      0.88      0.87     10000\n",
      "         8.0       0.94      0.92      0.93     10000\n",
      "         9.0       0.75      0.40      0.52     10000\n",
      "\n",
      "    accuracy                           0.76    100000\n",
      "   macro avg       0.77      0.76      0.75    100000\n",
      "weighted avg       0.77      0.76      0.75    100000\n",
      "\n"
     ]
    }
   ],
   "source": [
    "print(confusion_matrix(Y, y_pred))\n",
    "print(classification_report(Y, y_pred))"
   ]
  }
 ],
 "metadata": {
  "kernelspec": {
   "display_name": "Python 3.10.7 64-bit",
   "language": "python",
   "name": "python3"
  },
  "language_info": {
   "codemirror_mode": {
    "name": "ipython",
    "version": 3
   },
   "file_extension": ".py",
   "mimetype": "text/x-python",
   "name": "python",
   "nbconvert_exporter": "python",
   "pygments_lexer": "ipython3",
   "version": "3.10.7"
  },
  "orig_nbformat": 4,
  "vscode": {
   "interpreter": {
    "hash": "aee8b7b246df8f9039afb4144a1f6fd8d2ca17a180786b69acc140d282b71a49"
   }
  }
 },
 "nbformat": 4,
 "nbformat_minor": 2
}
