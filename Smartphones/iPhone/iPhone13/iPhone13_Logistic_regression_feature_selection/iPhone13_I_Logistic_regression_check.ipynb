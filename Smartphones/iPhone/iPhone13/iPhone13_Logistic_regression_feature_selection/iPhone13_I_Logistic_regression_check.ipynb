{
 "cells": [
  {
   "cell_type": "code",
   "execution_count": 2,
   "metadata": {},
   "outputs": [],
   "source": [
    "import h5py\n",
    "import numpy as np\n",
    "import pandas as pd\n",
    "import scipy\n",
    "from scipy import signal\n",
    "import matplotlib.pyplot as plt\n",
    "import tensorflow as tf\n",
    "from tensorflow import keras\n",
    "from sklearn import metrics\n",
    "from sklearn.model_selection import train_test_split\n",
    "from sklearn.preprocessing import MinMaxScaler\n",
    "from sklearn.metrics import confusion_matrix\n",
    "from sklearn.metrics import classification_report\n",
    "import warnings\n",
    "warnings.filterwarnings('ignore')"
   ]
  },
  {
   "cell_type": "code",
   "execution_count": 3,
   "metadata": {},
   "outputs": [],
   "source": [
    "def getData(cfileName):\n",
    "\n",
    "    # Read the *.cfile which has each element in float32 format.\n",
    "    data = np.fromfile(cfileName, dtype=\"float32\")\n",
    "\n",
    "    # Take each consecutive interleaved I sample and Q sample to create a single complex element.\n",
    "    data = data[0::2] + 1j*data[1::2]\n",
    "    #print(\"data type=\", type(data))\n",
    "    # Return the complex numpy array.\n",
    "    return data\n",
    "\n",
    "\n",
    "def create_dataset(data, class_label):\n",
    "    f, t, Zxx = signal.stft(data, fs=20e6, nperseg=fft_size, noverlap=fft_overlap)\n",
    "    print(len(f))\n",
    "    print(len(t))\n",
    "    print(Zxx.shape)\n",
    "\n",
    "    del data\n",
    "\n",
    "    Zxx = Zxx.transpose()\n",
    "\n",
    "    Zxx = abs(Zxx)\n",
    "    # scaling the features (only real part of the data can be used)\n",
    "    scaler = MinMaxScaler()\n",
    "    scaler.fit(Zxx)\n",
    "    print(scaler.data_max_)\n",
    "    Zxx = scaler.transform(Zxx)\n",
    "\n",
    "    X = Zxx[:num_samp_per_class]\n",
    "    Y = np.full(num_samp_per_class, class_label)\n",
    "\n",
    "    return X, Y\n",
    "\n",
    "\n",
    "# number of samples per class\n",
    "num_samp_per_class = 10000\n",
    "\n",
    "# FFT size for the STFT operation (which is same as the feature vector size)\n",
    "fft_size = feature_vector_size = 2048 #1024\n",
    "\n",
    "# number of overlapping samples for the STFT operation\n",
    "fft_overlap = 256"
   ]
  },
  {
   "cell_type": "markdown",
   "metadata": {},
   "source": [
    "## iPhone13_I dataset"
   ]
  },
  {
   "cell_type": "code",
   "execution_count": 3,
   "metadata": {},
   "outputs": [
    {
     "name": "stdout",
     "output_type": "stream",
     "text": [
      "[0.015625 +0.015625j  0.       +0.j        0.0078125+0.j        ...\n",
      " 0.0234375+0.0078125j 0.0234375+0.0078125j 0.03125  -0.0078125j]\n",
      "2048\n",
      "77387\n",
      "(2048, 77387)\n",
      "[0.01826616 0.00950806 0.00373913 ... 0.00167015 0.00381105 0.00957042]\n",
      "0\n",
      "(10000, 2048)\n",
      "(10000,)\n",
      "[0.0078125+0.015625j  0.0078125+0.j        0.015625 +0.j        ...\n",
      " 0.015625 +0.0234375j 0.015625 +0.j        0.015625 +0.j       ]\n",
      "2048\n",
      "81265\n",
      "(2048, 81265)\n",
      "[0.01835838 0.00961773 0.00350257 ... 0.00192106 0.00369137 0.00963282]\n",
      "1\n",
      "(20000, 2048)\n",
      "(20000,)\n",
      "[0.03125  +0.015625j  0.03125  +0.0078125j 0.015625 +0.0078125j ...\n",
      " 0.0234375+0.015625j  0.0234375+0.0078125j 0.015625 -0.0078125j]\n",
      "2048\n",
      "82947\n",
      "(2048, 82947)\n",
      "[0.01815592 0.00944388 0.00397235 ... 0.00185365 0.0036876  0.00957425]\n",
      "2\n",
      "(30000, 2048)\n",
      "(30000,)\n",
      "[0.       +0.03125j  0.       +0.j       0.015625 +0.j       ...\n",
      " 0.015625 -0.015625j 0.0234375+0.015625j 0.0078125+0.015625j]\n",
      "2048\n",
      "82654\n",
      "(2048, 82654)\n",
      "[0.01825963 0.00967498 0.00359683 ... 0.00195847 0.00358379 0.01038325]\n",
      "3\n",
      "(40000, 2048)\n",
      "(40000,)\n",
      "[ 0.0078125+0.j         0.015625 +0.0078125j  0.015625 +0.015625j  ...\n",
      " -0.0078125-0.0078125j  0.015625 -0.0078125j  0.015625 +0.j       ]\n",
      "2048\n",
      "81924\n",
      "(2048, 81924)\n",
      "[0.018229   0.00966399 0.00349916 ... 0.0020021  0.00391866 0.00949263]\n",
      "4\n",
      "(50000, 2048)\n",
      "(50000,)\n",
      "[0.015625 +0.0078125j 0.0078125+0.j        0.0078125+0.0078125j ...\n",
      " 0.015625 +0.0078125j 0.       -0.0078125j 0.015625 -0.0078125j]\n",
      "2048\n",
      "87043\n",
      "(2048, 87043)\n",
      "[0.01827244 0.0094937  0.00347372 ... 0.00184199 0.00369919 0.00941139]\n",
      "5\n",
      "(60000, 2048)\n",
      "(60000,)\n",
      "[0.015625 +0.015625j  0.0234375+0.0078125j 0.       -0.0078125j ...\n",
      " 0.015625 +0.j        0.015625 +0.0078125j 0.       +0.0078125j]\n",
      "2048\n",
      "80022\n",
      "(2048, 80022)\n",
      "[0.01823433 0.00957463 0.0036588  ... 0.00179094 0.00355725 0.00951913]\n",
      "6\n",
      "(70000, 2048)\n",
      "(70000,)\n",
      "[0.015625 +0.015625j  0.0078125+0.0078125j 0.015625 +0.j        ...\n",
      " 0.015625 +0.015625j  0.03125  +0.015625j  0.015625 +0.0078125j]\n",
      "2048\n",
      "91505\n",
      "(2048, 91505)\n",
      "[0.01846059 0.01017757 0.00355808 ... 0.00216458 0.00378412 0.01003891]\n",
      "7\n",
      "(80000, 2048)\n",
      "(80000,)\n",
      "[0.015625 +0.015625j  0.0078125+0.j        0.0234375+0.j        ...\n",
      " 0.015625 +0.0234375j 0.015625 -0.015625j  0.015625 +0.0234375j]\n",
      "2048\n",
      "90846\n",
      "(2048, 90846)\n",
      "[0.01815063 0.00949299 0.00352803 ... 0.00193189 0.00359627 0.00958246]\n",
      "8\n",
      "(90000, 2048)\n",
      "(90000,)\n",
      "[ 3.1250000e-02+7.8125000e-03j  1.5625000e-02+1.5625000e-02j\n",
      "  1.5625000e-02+0.0000000e+00j ... -1.3769394e-33-7.7207416e-35j\n",
      " -6.0356438e-12-3.6518317e+31j  2.0628625e-32-6.2134089e-35j]\n",
      "2048\n",
      "81414\n",
      "(2048, 81414)\n",
      "[2.0676641e+35 5.4073593e+35 2.4178817e+35 ... 8.1073708e+34 2.0754027e+35\n",
      " 2.6083747e+35]\n",
      "9\n",
      "(100000, 2048)\n",
      "(100000,)\n"
     ]
    }
   ],
   "source": [
    "class_label = 10\n",
    "for i in range(class_label):\n",
    "\n",
    "    folder_path = \"/Volumes/Transcend/PhD in Computing/Data Collection/Smartphones/EM_Signals/iPhone13/iPhone13_I/\"\n",
    "    if(i==0):\n",
    "        data = getData(folder_path + \"calender-app.cfile\")\n",
    "        print(np.array(data))\n",
    "        X, Y = create_dataset(data, i)\n",
    "\n",
    "    else:\n",
    "\n",
    "        if(i==1):\n",
    "            data = getData(folder_path + \"camera-photo.cfile\")\n",
    "            print(np.array(data))\n",
    "            dataset, label = create_dataset(data, i)\n",
    "\n",
    "        if(i==2):\n",
    "            data = getData(folder_path + \"camera-video.cfile\")\n",
    "            print(np.array(data))\n",
    "            dataset, label = create_dataset(data, i)\n",
    "\n",
    "        if(i==3):\n",
    "            data = getData(folder_path + \"email-app.cfile\")\n",
    "            print(np.array(data))\n",
    "            dataset, label = create_dataset(data, i)\n",
    "\n",
    "        if(i==4):\n",
    "            data = getData(folder_path + \"gallery-app.cfile\")\n",
    "            print(np.array(data))\n",
    "            dataset, label = create_dataset(data, i)\n",
    "\n",
    "        if(i==5):\n",
    "            data = getData(folder_path + \"home-screen.cfile\")\n",
    "            print(np.array(data))\n",
    "            dataset, label = create_dataset(data, i)\n",
    "\n",
    "        if(i==6):\n",
    "            data = getData(folder_path + \"idle.cfile\")\n",
    "            print(np.array(data))\n",
    "            dataset, label = create_dataset(data, i)\n",
    "\n",
    "        if(i==7):\n",
    "            data = getData(folder_path + \"phone-app.cfile\")\n",
    "            print(np.array(data))\n",
    "            dataset, label = create_dataset(data, i)\n",
    "\n",
    "        if(i==8):\n",
    "            data = getData(folder_path + \"sms-app.cfile\")\n",
    "            print(np.array(data))\n",
    "            dataset, label = create_dataset(data, i)\n",
    "\n",
    "        if(i==9):\n",
    "            data = getData(folder_path + \"web_browser-app.cfile\")\n",
    "            print(np.array(data))\n",
    "            dataset, label = create_dataset(data, i)\n",
    "\n",
    "        X = np.concatenate((X, dataset), axis=0) \n",
    "        Y = np.concatenate((Y, label), axis=0)\n",
    "        \n",
    "    print(i)\n",
    "    print(X.shape)\n",
    "    print(Y.shape)\n",
    "\n",
    "# combine all em signals into one dataframe\n",
    "em_data = pd.DataFrame(X)\n",
    "em_data.insert(len(em_data.columns), 'labels', Y)\n",
    "\n",
    "# save to csv file\n",
    "# (em_data.T).to_csv(f'/Users/Lojenaa/Documents/PhD/Smartphones/Cross-device-Portability-of-EMSCA/Smartphones/iPhone/iPhone13/i13_I_BeSh.csv', header=False)"
   ]
  },
  {
   "cell_type": "code",
   "execution_count": 4,
   "metadata": {},
   "outputs": [],
   "source": [
    "# Split data to train and test sets\n",
    "X_train, X_test, y_train, y_test = train_test_split(X, Y, test_size=0.1, random_state=0)"
   ]
  },
  {
   "cell_type": "markdown",
   "metadata": {},
   "source": [
    "## Logistic Regression for Feature Selection"
   ]
  },
  {
   "cell_type": "code",
   "execution_count": 4,
   "metadata": {},
   "outputs": [],
   "source": [
    "from sklearn.feature_selection import SelectKBest, SelectPercentile\n",
    "from sklearn.metrics import accuracy_score\n",
    "from sklearn.linear_model import LinearRegression, LogisticRegression\n",
    "from sklearn.feature_selection import SelectFromModel"
   ]
  },
  {
   "cell_type": "code",
   "execution_count": 6,
   "metadata": {},
   "outputs": [
    {
     "data": {
      "text/html": [
       "<style>#sk-container-id-1 {color: black;background-color: white;}#sk-container-id-1 pre{padding: 0;}#sk-container-id-1 div.sk-toggleable {background-color: white;}#sk-container-id-1 label.sk-toggleable__label {cursor: pointer;display: block;width: 100%;margin-bottom: 0;padding: 0.3em;box-sizing: border-box;text-align: center;}#sk-container-id-1 label.sk-toggleable__label-arrow:before {content: \"▸\";float: left;margin-right: 0.25em;color: #696969;}#sk-container-id-1 label.sk-toggleable__label-arrow:hover:before {color: black;}#sk-container-id-1 div.sk-estimator:hover label.sk-toggleable__label-arrow:before {color: black;}#sk-container-id-1 div.sk-toggleable__content {max-height: 0;max-width: 0;overflow: hidden;text-align: left;background-color: #f0f8ff;}#sk-container-id-1 div.sk-toggleable__content pre {margin: 0.2em;color: black;border-radius: 0.25em;background-color: #f0f8ff;}#sk-container-id-1 input.sk-toggleable__control:checked~div.sk-toggleable__content {max-height: 200px;max-width: 100%;overflow: auto;}#sk-container-id-1 input.sk-toggleable__control:checked~label.sk-toggleable__label-arrow:before {content: \"▾\";}#sk-container-id-1 div.sk-estimator input.sk-toggleable__control:checked~label.sk-toggleable__label {background-color: #d4ebff;}#sk-container-id-1 div.sk-label input.sk-toggleable__control:checked~label.sk-toggleable__label {background-color: #d4ebff;}#sk-container-id-1 input.sk-hidden--visually {border: 0;clip: rect(1px 1px 1px 1px);clip: rect(1px, 1px, 1px, 1px);height: 1px;margin: -1px;overflow: hidden;padding: 0;position: absolute;width: 1px;}#sk-container-id-1 div.sk-estimator {font-family: monospace;background-color: #f0f8ff;border: 1px dotted black;border-radius: 0.25em;box-sizing: border-box;margin-bottom: 0.5em;}#sk-container-id-1 div.sk-estimator:hover {background-color: #d4ebff;}#sk-container-id-1 div.sk-parallel-item::after {content: \"\";width: 100%;border-bottom: 1px solid gray;flex-grow: 1;}#sk-container-id-1 div.sk-label:hover label.sk-toggleable__label {background-color: #d4ebff;}#sk-container-id-1 div.sk-serial::before {content: \"\";position: absolute;border-left: 1px solid gray;box-sizing: border-box;top: 0;bottom: 0;left: 50%;z-index: 0;}#sk-container-id-1 div.sk-serial {display: flex;flex-direction: column;align-items: center;background-color: white;padding-right: 0.2em;padding-left: 0.2em;position: relative;}#sk-container-id-1 div.sk-item {position: relative;z-index: 1;}#sk-container-id-1 div.sk-parallel {display: flex;align-items: stretch;justify-content: center;background-color: white;position: relative;}#sk-container-id-1 div.sk-item::before, #sk-container-id-1 div.sk-parallel-item::before {content: \"\";position: absolute;border-left: 1px solid gray;box-sizing: border-box;top: 0;bottom: 0;left: 50%;z-index: -1;}#sk-container-id-1 div.sk-parallel-item {display: flex;flex-direction: column;z-index: 1;position: relative;background-color: white;}#sk-container-id-1 div.sk-parallel-item:first-child::after {align-self: flex-end;width: 50%;}#sk-container-id-1 div.sk-parallel-item:last-child::after {align-self: flex-start;width: 50%;}#sk-container-id-1 div.sk-parallel-item:only-child::after {width: 0;}#sk-container-id-1 div.sk-dashed-wrapped {border: 1px dashed gray;margin: 0 0.4em 0.5em 0.4em;box-sizing: border-box;padding-bottom: 0.4em;background-color: white;}#sk-container-id-1 div.sk-label label {font-family: monospace;font-weight: bold;display: inline-block;line-height: 1.2em;}#sk-container-id-1 div.sk-label-container {text-align: center;}#sk-container-id-1 div.sk-container {/* jupyter's `normalize.less` sets `[hidden] { display: none; }` but bootstrap.min.css set `[hidden] { display: none !important; }` so we also need the `!important` here to be able to override the default hidden behavior on the sphinx rendered scikit-learn.org. See: https://github.com/scikit-learn/scikit-learn/issues/21755 */display: inline-block !important;position: relative;}#sk-container-id-1 div.sk-text-repr-fallback {display: none;}</style><div id=\"sk-container-id-1\" class=\"sk-top-container\"><div class=\"sk-text-repr-fallback\"><pre>SelectFromModel(estimator=LinearRegression())</pre><b>In a Jupyter environment, please rerun this cell to show the HTML representation or trust the notebook. <br />On GitHub, the HTML representation is unable to render, please try loading this page with nbviewer.org.</b></div><div class=\"sk-container\" hidden><div class=\"sk-item sk-dashed-wrapped\"><div class=\"sk-label-container\"><div class=\"sk-label sk-toggleable\"><input class=\"sk-toggleable__control sk-hidden--visually\" id=\"sk-estimator-id-1\" type=\"checkbox\" ><label for=\"sk-estimator-id-1\" class=\"sk-toggleable__label sk-toggleable__label-arrow\">SelectFromModel</label><div class=\"sk-toggleable__content\"><pre>SelectFromModel(estimator=LinearRegression())</pre></div></div></div><div class=\"sk-parallel\"><div class=\"sk-parallel-item\"><div class=\"sk-item\"><div class=\"sk-label-container\"><div class=\"sk-label sk-toggleable\"><input class=\"sk-toggleable__control sk-hidden--visually\" id=\"sk-estimator-id-2\" type=\"checkbox\" ><label for=\"sk-estimator-id-2\" class=\"sk-toggleable__label sk-toggleable__label-arrow\">estimator: LinearRegression</label><div class=\"sk-toggleable__content\"><pre>LinearRegression()</pre></div></div></div><div class=\"sk-serial\"><div class=\"sk-item\"><div class=\"sk-estimator sk-toggleable\"><input class=\"sk-toggleable__control sk-hidden--visually\" id=\"sk-estimator-id-3\" type=\"checkbox\" ><label for=\"sk-estimator-id-3\" class=\"sk-toggleable__label sk-toggleable__label-arrow\">LinearRegression</label><div class=\"sk-toggleable__content\"><pre>LinearRegression()</pre></div></div></div></div></div></div></div></div></div></div>"
      ],
      "text/plain": [
       "SelectFromModel(estimator=LinearRegression())"
      ]
     },
     "execution_count": 6,
     "metadata": {},
     "output_type": "execute_result"
    }
   ],
   "source": [
    "sel = SelectFromModel(LinearRegression())\n",
    "sel.fit(X_train, y_train)"
   ]
  },
  {
   "cell_type": "code",
   "execution_count": 7,
   "metadata": {},
   "outputs": [
    {
     "data": {
      "text/plain": [
       "array([ True,  True, False, ..., False, False,  True])"
      ]
     },
     "execution_count": 7,
     "metadata": {},
     "output_type": "execute_result"
    }
   ],
   "source": [
    "sel.get_support()"
   ]
  },
  {
   "cell_type": "code",
   "execution_count": 8,
   "metadata": {},
   "outputs": [
    {
     "data": {
      "text/plain": [
       "array([-6.6627555 ,  2.07759   , -0.19002283, ..., -0.05159498,\n",
       "       -0.14759128,  2.628275  ], dtype=float32)"
      ]
     },
     "execution_count": 8,
     "metadata": {},
     "output_type": "execute_result"
    }
   ],
   "source": [
    "sel.estimator_.coef_"
   ]
  },
  {
   "cell_type": "code",
   "execution_count": 9,
   "metadata": {},
   "outputs": [
    {
     "data": {
      "text/plain": [
       "0.24800664"
      ]
     },
     "execution_count": 9,
     "metadata": {},
     "output_type": "execute_result"
    }
   ],
   "source": [
    "mean = np.mean(np.abs(sel.estimator_.coef_))\n",
    "mean"
   ]
  },
  {
   "cell_type": "code",
   "execution_count": 10,
   "metadata": {},
   "outputs": [
    {
     "data": {
      "text/plain": [
       "array([6.6627555 , 2.07759   , 0.19002283, ..., 0.05159498, 0.14759128,\n",
       "       2.628275  ], dtype=float32)"
      ]
     },
     "execution_count": 10,
     "metadata": {},
     "output_type": "execute_result"
    }
   ],
   "source": [
    "np.abs(sel.estimator_.coef_)"
   ]
  },
  {
   "cell_type": "code",
   "execution_count": 11,
   "metadata": {},
   "outputs": [],
   "source": [
    "X_train_reg = sel.transform(X_train)\n",
    "X_test_reg = sel.transform(X_test)"
   ]
  },
  {
   "cell_type": "code",
   "execution_count": 12,
   "metadata": {},
   "outputs": [
    {
     "data": {
      "text/plain": [
       "(10000, 476)"
      ]
     },
     "execution_count": 12,
     "metadata": {},
     "output_type": "execute_result"
    }
   ],
   "source": [
    "X_test_reg.shape"
   ]
  },
  {
   "cell_type": "code",
   "execution_count": 13,
   "metadata": {},
   "outputs": [],
   "source": [
    "feature_vector_size = np. size(X_test_reg, 1)"
   ]
  },
  {
   "cell_type": "code",
   "execution_count": 14,
   "metadata": {},
   "outputs": [
    {
     "name": "stdout",
     "output_type": "stream",
     "text": [
      "Model: \"sequential\"\n",
      "_________________________________________________________________\n",
      " Layer (type)                Output Shape              Param #   \n",
      "=================================================================\n",
      " dense (Dense)               (None, 1400)              667800    \n",
      "                                                                 \n",
      " dense_1 (Dense)             (None, 800)               1120800   \n",
      "                                                                 \n",
      " dense_2 (Dense)             (None, 500)               400500    \n",
      "                                                                 \n",
      " dense_3 (Dense)             (None, 200)               100200    \n",
      "                                                                 \n"
     ]
    },
    {
     "name": "stderr",
     "output_type": "stream",
     "text": [
      "2023-04-17 18:51:55.339237: I tensorflow/core/platform/cpu_feature_guard.cc:193] This TensorFlow binary is optimized with oneAPI Deep Neural Network Library (oneDNN) to use the following CPU instructions in performance-critical operations:  AVX2 FMA\n",
      "To enable them in other operations, rebuild TensorFlow with the appropriate compiler flags.\n"
     ]
    },
    {
     "name": "stdout",
     "output_type": "stream",
     "text": [
      " dense_4 (Dense)             (None, 100)               20100     \n",
      "                                                                 \n",
      " dense_5 (Dense)             (None, 10)                1010      \n",
      "                                                                 \n",
      "=================================================================\n",
      "Total params: 2,310,410\n",
      "Trainable params: 2,310,410\n",
      "Non-trainable params: 0\n",
      "_________________________________________________________________\n"
     ]
    }
   ],
   "source": [
    "model = keras.models.Sequential()\n",
    "model.add(keras.layers.Input(shape=(feature_vector_size,)))\n",
    "model.add(keras.layers.Dense(1400, activation=\"relu\"))\n",
    "model.add(keras.layers.Dense(800, activation=\"relu\"))\n",
    "model.add(keras.layers.Dense(500, activation=\"relu\"))\n",
    "model.add(keras.layers.Dense(200, activation=\"relu\"))\n",
    "model.add(keras.layers.Dense(100, activation=\"relu\"))\n",
    "model.add(keras.layers.Dense(10, activation=\"softmax\"))\n",
    "model.summary()"
   ]
  },
  {
   "cell_type": "code",
   "execution_count": 15,
   "metadata": {},
   "outputs": [],
   "source": [
    "opt = keras.optimizers.SGD(learning_rate=0.001)\n",
    "model.compile(loss=\"sparse_categorical_crossentropy\", optimizer=opt, metrics=[\"accuracy\"])"
   ]
  },
  {
   "cell_type": "code",
   "execution_count": 16,
   "metadata": {},
   "outputs": [
    {
     "name": "stdout",
     "output_type": "stream",
     "text": [
      "Epoch 1/30\n",
      "2532/2532 [==============================] - 16s 6ms/step - loss: 2.2472 - accuracy: 0.4378 - val_loss: 2.1757 - val_accuracy: 0.4906\n",
      "Epoch 2/30\n",
      "2532/2532 [==============================] - 16s 6ms/step - loss: 2.0085 - accuracy: 0.6061 - val_loss: 1.7719 - val_accuracy: 0.8549\n",
      "Epoch 3/30\n",
      "2532/2532 [==============================] - 16s 6ms/step - loss: 1.4209 - accuracy: 0.9270 - val_loss: 1.0110 - val_accuracy: 0.9299\n",
      "Epoch 4/30\n",
      "2532/2532 [==============================] - 15s 6ms/step - loss: 0.6340 - accuracy: 0.9623 - val_loss: 0.3690 - val_accuracy: 0.9274\n",
      "Epoch 5/30\n",
      "2532/2532 [==============================] - 15s 6ms/step - loss: 0.2561 - accuracy: 0.9879 - val_loss: 0.1776 - val_accuracy: 0.9917\n",
      "Epoch 6/30\n",
      "2532/2532 [==============================] - 16s 6ms/step - loss: 0.1345 - accuracy: 0.9943 - val_loss: 0.0992 - val_accuracy: 0.9958\n",
      "Epoch 7/30\n",
      "2532/2532 [==============================] - 15s 6ms/step - loss: 0.0772 - accuracy: 0.9963 - val_loss: 0.0604 - val_accuracy: 0.9969\n",
      "Epoch 8/30\n",
      "2532/2532 [==============================] - 15s 6ms/step - loss: 0.0499 - accuracy: 0.9974 - val_loss: 0.0418 - val_accuracy: 0.9976\n",
      "Epoch 9/30\n",
      "2532/2532 [==============================] - 16s 6ms/step - loss: 0.0366 - accuracy: 0.9979 - val_loss: 0.0324 - val_accuracy: 0.9981\n",
      "Epoch 10/30\n",
      "2532/2532 [==============================] - 16s 6ms/step - loss: 0.0292 - accuracy: 0.9984 - val_loss: 0.0269 - val_accuracy: 0.9986\n",
      "Epoch 11/30\n",
      "2532/2532 [==============================] - 15s 6ms/step - loss: 0.0245 - accuracy: 0.9986 - val_loss: 0.0233 - val_accuracy: 0.9987\n",
      "Epoch 12/30\n",
      "2532/2532 [==============================] - 15s 6ms/step - loss: 0.0214 - accuracy: 0.9988 - val_loss: 0.0207 - val_accuracy: 0.9988\n",
      "Epoch 13/30\n",
      "2532/2532 [==============================] - 16s 6ms/step - loss: 0.0190 - accuracy: 0.9989 - val_loss: 0.0190 - val_accuracy: 0.9991\n",
      "Epoch 14/30\n",
      "2532/2532 [==============================] - 15s 6ms/step - loss: 0.0173 - accuracy: 0.9990 - val_loss: 0.0176 - val_accuracy: 0.9991\n",
      "Epoch 15/30\n",
      "2532/2532 [==============================] - 15s 6ms/step - loss: 0.0160 - accuracy: 0.9991 - val_loss: 0.0170 - val_accuracy: 0.9989\n",
      "Epoch 16/30\n",
      "2532/2532 [==============================] - 15s 6ms/step - loss: 0.0149 - accuracy: 0.9991 - val_loss: 0.0158 - val_accuracy: 0.9992\n",
      "Epoch 17/30\n",
      "2532/2532 [==============================] - 15s 6ms/step - loss: 0.0140 - accuracy: 0.9992 - val_loss: 0.0151 - val_accuracy: 0.9993\n",
      "Epoch 18/30\n",
      "2532/2532 [==============================] - 16s 6ms/step - loss: 0.0132 - accuracy: 0.9993 - val_loss: 0.0146 - val_accuracy: 0.9994\n",
      "Epoch 19/30\n",
      "2532/2532 [==============================] - 16s 6ms/step - loss: 0.0125 - accuracy: 0.9993 - val_loss: 0.0143 - val_accuracy: 0.9996\n",
      "Epoch 20/30\n",
      "2532/2532 [==============================] - 15s 6ms/step - loss: 0.0119 - accuracy: 0.9993 - val_loss: 0.0137 - val_accuracy: 0.9996\n",
      "Epoch 21/30\n",
      "2532/2532 [==============================] - 16s 6ms/step - loss: 0.0114 - accuracy: 0.9993 - val_loss: 0.0133 - val_accuracy: 0.9996\n",
      "Epoch 22/30\n",
      "2532/2532 [==============================] - 15s 6ms/step - loss: 0.0110 - accuracy: 0.9994 - val_loss: 0.0131 - val_accuracy: 0.9994\n",
      "Epoch 23/30\n",
      "2532/2532 [==============================] - 16s 6ms/step - loss: 0.0106 - accuracy: 0.9994 - val_loss: 0.0129 - val_accuracy: 0.9993\n",
      "Epoch 24/30\n",
      "2532/2532 [==============================] - 15s 6ms/step - loss: 0.0103 - accuracy: 0.9994 - val_loss: 0.0125 - val_accuracy: 0.9994\n",
      "Epoch 25/30\n",
      "2532/2532 [==============================] - 16s 6ms/step - loss: 0.0099 - accuracy: 0.9994 - val_loss: 0.0124 - val_accuracy: 0.9996\n",
      "Epoch 26/30\n",
      "2532/2532 [==============================] - 16s 6ms/step - loss: 0.0096 - accuracy: 0.9995 - val_loss: 0.0122 - val_accuracy: 0.9996\n",
      "Epoch 27/30\n",
      "2532/2532 [==============================] - 15s 6ms/step - loss: 0.0094 - accuracy: 0.9995 - val_loss: 0.0119 - val_accuracy: 0.9996\n",
      "Epoch 28/30\n",
      "2532/2532 [==============================] - 15s 6ms/step - loss: 0.0091 - accuracy: 0.9995 - val_loss: 0.0118 - val_accuracy: 0.9993\n",
      "Epoch 29/30\n",
      "2532/2532 [==============================] - 15s 6ms/step - loss: 0.0089 - accuracy: 0.9995 - val_loss: 0.0117 - val_accuracy: 0.9996\n",
      "Epoch 30/30\n",
      "2532/2532 [==============================] - 15s 6ms/step - loss: 0.0086 - accuracy: 0.9995 - val_loss: 0.0117 - val_accuracy: 0.9996\n"
     ]
    }
   ],
   "source": [
    "checkpoint_cb = keras.callbacks.ModelCheckpoint(\"/Users/Lojenaa/Documents/PhD/Smartphones/Cross-device-Portability-of-EMSCA/Smartphones/iPhone/iPhone13/iPhone13_Logistic_regression_feature_selection/iPhone13_I_LG_Model.h5\", save_best_only=True)\n",
    "history = model.fit(X_train_reg, y_train, epochs=30, validation_split=0.1, callbacks=[checkpoint_cb])"
   ]
  },
  {
   "cell_type": "code",
   "execution_count": 17,
   "metadata": {},
   "outputs": [
    {
     "data": {
      "image/png": "[encoded data removed]",
      "text/plain": [
       "<Figure size 800x500 with 1 Axes>"
      ]
     },
     "metadata": {},
     "output_type": "display_data"
    }
   ],
   "source": [
    "pd.DataFrame(history.history).plot(figsize=(8, 5))\n",
    "plt.grid(True)\n",
    "plt.gca().set_ylim(0, 1) # set the vertical range to [0-1]\n",
    "plt.show()"
   ]
  },
  {
   "cell_type": "code",
   "execution_count": 18,
   "metadata": {},
   "outputs": [],
   "source": [
    "model = keras.models.load_model(\"/Users/Lojenaa/Documents/PhD/Smartphones/Cross-device-Portability-of-EMSCA/Smartphones/iPhone/iPhone13/iPhone13_Logistic_regression_feature_selection/iPhone13_I_LG_Model.h5\")"
   ]
  },
  {
   "cell_type": "code",
   "execution_count": 21,
   "metadata": {},
   "outputs": [
    {
     "name": "stdout",
     "output_type": "stream",
     "text": [
      "313/313 [==============================] - 1s 3ms/step - loss: 0.0147 - accuracy: 0.9991\n",
      "test loss, test acc: [0.014736717566847801, 0.9991000294685364]\n"
     ]
    }
   ],
   "source": [
    "results = model.evaluate(X_test_reg, y_test)\n",
    "print(\"test loss, test acc:\", results)"
   ]
  },
  {
   "cell_type": "code",
   "execution_count": 23,
   "metadata": {},
   "outputs": [
    {
     "name": "stdout",
     "output_type": "stream",
     "text": [
      "313/313 [==============================] - 1s 3ms/step\n",
      "[0 6 5 ... 5 5 6]\n",
      "0\n",
      "[[1011    0    0    0    0    0    0    0    0    0]\n",
      " [   0 1009    0    0    0    1    0    0    0    0]\n",
      " [   0    0  991    0    0    2    0    0    0    0]\n",
      " [   1    0    0  938    0    0    0    0    0    0]\n",
      " [   0    2    0    0 1041    0    0    0    0    0]\n",
      " [   0    1    0    0    0 1026    0    0    0    0]\n",
      " [   1    1    0    0    0    0  997    0    0    0]\n",
      " [   0    0    0    0    0    0    0  974    0    0]\n",
      " [   0    0    0    0    0    0    0    0 1003    0]\n",
      " [   0    0    0    0    0    0    0    0    0 1001]]\n",
      "              precision    recall  f1-score   support\n",
      "\n",
      "           0       1.00      1.00      1.00      1011\n",
      "           1       1.00      1.00      1.00      1010\n",
      "           2       1.00      1.00      1.00       993\n",
      "           3       1.00      1.00      1.00       939\n",
      "           4       1.00      1.00      1.00      1043\n",
      "           5       1.00      1.00      1.00      1027\n",
      "           6       1.00      1.00      1.00       999\n",
      "           7       1.00      1.00      1.00       974\n",
      "           8       1.00      1.00      1.00      1003\n",
      "           9       1.00      1.00      1.00      1001\n",
      "\n",
      "    accuracy                           1.00     10000\n",
      "   macro avg       1.00      1.00      1.00     10000\n",
      "weighted avg       1.00      1.00      1.00     10000\n",
      "\n"
     ]
    }
   ],
   "source": [
    "y_pred = np.argmax(model.predict(X_test_reg), axis=-1)\n",
    "print(y_pred)\n",
    "print(y_pred[0])\n",
    "\n",
    "print(confusion_matrix(y_test, y_pred))\n",
    "print(classification_report(y_test, y_pred))"
   ]
  },
  {
   "cell_type": "code",
   "execution_count": 26,
   "metadata": {},
   "outputs": [
    {
     "name": "stdout",
     "output_type": "stream",
     "text": [
      "Test Accuracy:0.9991\n"
     ]
    },
    {
     "data": {
      "text/plain": [
       "Text(0.5, 1.0, 'Accuracy:0.999')"
      ]
     },
     "execution_count": 26,
     "metadata": {},
     "output_type": "execute_result"
    },
    {
     "data": {
      "image/png": "[encoded data removed]",
      "text/plain": [
       "<Figure size 1500x1500 with 2 Axes>"
      ]
     },
     "metadata": {},
     "output_type": "display_data"
    }
   ],
   "source": [
    "# confusion matrix plot\n",
    "plt.rcParams[\"figure.figsize\"] = (15,15)\n",
    "fig, axs = plt.subplots(1)\n",
    "\n",
    "test_acc = metrics.accuracy_score(y_pred,y_test)\n",
    "print(f\"Test Accuracy:{test_acc}\")\n",
    "metrics.ConfusionMatrixDisplay.from_predictions(y_test, y_pred, ax=axs)\n",
    "plt.title(f\"Accuracy:{test_acc:.3f}\")\n",
    "# plt.savefig(f'/Users/Lojenaa/Documents/PhD/Smartphones/Cross-device-Portability-of-EMSCA/Smartphones/iPhone/iPhone13/iPhone13_II_confusion_matrix.pdf')"
   ]
  },
  {
   "cell_type": "markdown",
   "metadata": {},
   "source": [
    "## Test a trained Model to a different dataset"
   ]
  },
  {
   "cell_type": "markdown",
   "metadata": {},
   "source": [
    "## iPhone13_II dataset"
   ]
  },
  {
   "cell_type": "code",
   "execution_count": 5,
   "metadata": {},
   "outputs": [
    {
     "name": "stdout",
     "output_type": "stream",
     "text": [
      "[ 0.078125 +0.09375j    0.5625   -0.8046875j -0.984375 +0.9921875j ...\n",
      "  0.015625 +0.015625j   0.0078125-0.0078125j  0.015625 +0.015625j ]\n",
      "2048\n",
      "81191\n",
      "(2048, 81191)\n",
      "[0.03497613 0.0617279  0.03110138 ... 0.02998163 0.05360715 0.04346049]\n",
      "0\n",
      "(10000, 2048)\n",
      "(10000,)\n",
      "[0.015625 +0.0078125j 0.03125  +0.0078125j 0.0078125+0.015625j  ...\n",
      " 0.0078125+0.0078125j 0.0234375+0.0078125j 0.015625 +0.j       ]\n",
      "2048\n",
      "72123\n",
      "(2048, 72123)\n",
      "[0.0184771  0.00980769 0.00377408 ... 0.00184979 0.00378497 0.00949242]\n",
      "1\n",
      "(20000, 2048)\n",
      "(20000,)\n",
      "[0.0234375+0.0078125j 0.015625 +0.0078125j 0.0078125+0.015625j  ...\n",
      " 0.015625 +0.0078125j 0.0078125+0.j        0.0234375+0.0078125j]\n",
      "2048\n",
      "92893\n",
      "(2048, 92893)\n",
      "[0.01809648 0.00941779 0.00405625 ... 0.00197094 0.00359252 0.00953348]\n",
      "2\n",
      "(30000, 2048)\n",
      "(30000,)\n",
      "[-0.0078125-0.0078125j  0.0234375-0.0078125j  0.0234375+0.j        ...\n",
      "  0.03125  +0.0078125j  0.015625 +0.0078125j  0.03125  +0.j       ]\n",
      "2048\n",
      "56322\n",
      "(2048, 56322)\n",
      "[0.01820297 0.00946224 0.00370945 ... 0.00208693 0.00383636 0.00951074]\n",
      "3\n",
      "(40000, 2048)\n",
      "(40000,)\n",
      "[0.0390625+0.j        0.015625 +0.0234375j 0.015625 +0.j        ...\n",
      " 0.0078125+0.0078125j 0.015625 +0.015625j  0.015625 +0.0078125j]\n",
      "2048\n",
      "71462\n",
      "(2048, 71462)\n",
      "[0.01826507 0.00975554 0.00367946 ... 0.00179136 0.0036102  0.00943712]\n",
      "4\n",
      "(50000, 2048)\n",
      "(50000,)\n",
      "[ 0.015625 +0.j         0.015625 +0.0078125j  0.0234375-0.0078125j ...\n",
      " -0.0078125-0.0078125j  0.015625 +0.0078125j  0.0234375-0.0078125j]\n",
      "2048\n",
      "77534\n",
      "(2048, 77534)\n",
      "[0.01885366 0.00955299 0.00381812 ... 0.00175554 0.00354502 0.00999323]\n",
      "5\n",
      "(60000, 2048)\n",
      "(60000,)\n",
      "[0.0078125+0.0078125j 0.       +0.0078125j 0.015625 +0.0078125j ...\n",
      " 0.015625 +0.0078125j 0.0078125+0.j        0.0234375+0.j       ]\n",
      "2048\n",
      "71756\n",
      "(2048, 71756)\n",
      "[0.01843879 0.00944655 0.00375897 ... 0.00207559 0.00387582 0.00955302]\n",
      "6\n",
      "(70000, 2048)\n",
      "(70000,)\n",
      "[0.0078125+0.0078125j 0.015625 +0.015625j  0.015625 +0.j        ...\n",
      " 0.015625 +0.0078125j 0.015625 -0.0078125j 0.0234375+0.015625j ]\n",
      "2048\n",
      "73292\n",
      "(2048, 73292)\n",
      "[0.01814853 0.00943132 0.00351341 ... 0.00200969 0.00380519 0.00951231]\n",
      "7\n",
      "(80000, 2048)\n",
      "(80000,)\n",
      "[0.015625 +0.0078125j 0.015625 +0.0078125j 0.015625 +0.j        ...\n",
      " 0.0234375+0.0078125j 0.0078125+0.015625j  0.0234375+0.0078125j]\n",
      "2048\n",
      "71611\n",
      "(2048, 71611)\n",
      "[0.01817658 0.00939571 0.00359913 ... 0.00174631 0.00362656 0.00942984]\n",
      "8\n",
      "(90000, 2048)\n",
      "(90000,)\n",
      "[0.0234375+0.j        0.03125  +0.0078125j 0.03125  +0.015625j  ...\n",
      " 0.0390625+0.0078125j 0.0234375+0.j        0.       +0.0078125j]\n",
      "2048\n",
      "84116\n",
      "(2048, 84116)\n",
      "[0.01812239 0.00943426 0.00367463 ... 0.00178114 0.00367117 0.00942098]\n",
      "9\n",
      "(100000, 2048)\n",
      "(100000,)\n"
     ]
    }
   ],
   "source": [
    "class_label = 10\n",
    "for i in range(class_label):\n",
    "\n",
    "    folder_path = \"/Volumes/Transcend/PhD in Computing/Data Collection/Smartphones/EM_Signals/iPhone13/iPhone13_II/\"\n",
    "    if(i==0):\n",
    "        data = getData(folder_path + \"calender-app.cfile\")\n",
    "        print(np.array(data))\n",
    "        X, Y = create_dataset(data, i)\n",
    "\n",
    "    else:\n",
    "\n",
    "        if(i==1):\n",
    "            data = getData(folder_path + \"camera-photo.cfile\")\n",
    "            print(np.array(data))\n",
    "            dataset, label = create_dataset(data, i)\n",
    "\n",
    "        if(i==2):\n",
    "            data = getData(folder_path + \"camera-video.cfile\")\n",
    "            print(np.array(data))\n",
    "            dataset, label = create_dataset(data, i)\n",
    "\n",
    "        if(i==3):\n",
    "            data = getData(folder_path + \"email-app.cfile\")\n",
    "            print(np.array(data))\n",
    "            dataset, label = create_dataset(data, i)\n",
    "\n",
    "        if(i==4):\n",
    "            data = getData(folder_path + \"gallery-app.cfile\")\n",
    "            print(np.array(data))\n",
    "            dataset, label = create_dataset(data, i)\n",
    "\n",
    "        if(i==5):\n",
    "            data = getData(folder_path + \"home-screen.cfile\")\n",
    "            print(np.array(data))\n",
    "            dataset, label = create_dataset(data, i)\n",
    "\n",
    "        if(i==6):\n",
    "            data = getData(folder_path + \"idle.cfile\")\n",
    "            print(np.array(data))\n",
    "            dataset, label = create_dataset(data, i)\n",
    "\n",
    "        if(i==7):\n",
    "            data = getData(folder_path + \"phone-app.cfile\")\n",
    "            print(np.array(data))\n",
    "            dataset, label = create_dataset(data, i)\n",
    "\n",
    "        if(i==8):\n",
    "            data = getData(folder_path + \"sms-app.cfile\")\n",
    "            print(np.array(data))\n",
    "            dataset, label = create_dataset(data, i)\n",
    "\n",
    "        if(i==9):\n",
    "            data = getData(folder_path + \"web_browser-app.cfile\")\n",
    "            print(np.array(data))\n",
    "            dataset, label = create_dataset(data, i)\n",
    "\n",
    "        X = np.concatenate((X, dataset), axis=0) \n",
    "        Y = np.concatenate((Y, label), axis=0)\n",
    "        \n",
    "    print(i)\n",
    "    print(X.shape)\n",
    "    print(Y.shape)\n",
    "\n",
    "# combine all em signals into one dataframe\n",
    "em_data = pd.DataFrame(X)\n",
    "em_data.insert(len(em_data.columns), 'labels', Y)\n",
    "\n",
    "# save to csv file\n",
    "# (em_data.T).to_csv(f'/Users/Lojenaa/Documents/PhD/Smartphones/Cross-device-Portability-of-EMSCA/Smartphones/iPhone/iPhone13/i13_I_BeSh.csv', header=False)"
   ]
  },
  {
   "cell_type": "markdown",
   "metadata": {},
   "source": [
    "Cross-model Validation without training"
   ]
  },
  {
   "cell_type": "code",
   "execution_count": 6,
   "metadata": {},
   "outputs": [
    {
     "name": "stderr",
     "output_type": "stream",
     "text": [
      "2023-04-19 11:15:49.586342: I tensorflow/core/platform/cpu_feature_guard.cc:193] This TensorFlow binary is optimized with oneAPI Deep Neural Network Library (oneDNN) to use the following CPU instructions in performance-critical operations:  AVX2 FMA\n",
      "To enable them in other operations, rebuild TensorFlow with the appropriate compiler flags.\n"
     ]
    },
    {
     "name": "stdout",
     "output_type": "stream",
     "text": [
      "Model: \"sequential\"\n",
      "_________________________________________________________________\n",
      " Layer (type)                Output Shape              Param #   \n",
      "=================================================================\n",
      " dense (Dense)               (None, 1400)              667800    \n",
      "                                                                 \n",
      " dense_1 (Dense)             (None, 800)               1120800   \n",
      "                                                                 \n",
      " dense_2 (Dense)             (None, 500)               400500    \n",
      "                                                                 \n",
      " dense_3 (Dense)             (None, 200)               100200    \n",
      "                                                                 \n",
      " dense_4 (Dense)             (None, 100)               20100     \n",
      "                                                                 \n",
      " dense_5 (Dense)             (None, 10)                1010      \n",
      "                                                                 \n",
      "=================================================================\n",
      "Total params: 2,310,410\n",
      "Trainable params: 2,310,410\n",
      "Non-trainable params: 0\n",
      "_________________________________________________________________\n"
     ]
    }
   ],
   "source": [
    "model = keras.models.load_model(\"/Users/Lojenaa/Documents/PhD/Smartphones/Cross-device-Portability-of-EMSCA/Smartphones/iPhone/iPhone13/iPhone13_Logistic_regression_feature_selection/iPhone13_I_LG_Model.h5\")\n",
    "model.summary()"
   ]
  },
  {
   "cell_type": "code",
   "execution_count": 7,
   "metadata": {},
   "outputs": [
    {
     "data": {
      "text/html": [
       "<style>#sk-container-id-1 {color: black;background-color: white;}#sk-container-id-1 pre{padding: 0;}#sk-container-id-1 div.sk-toggleable {background-color: white;}#sk-container-id-1 label.sk-toggleable__label {cursor: pointer;display: block;width: 100%;margin-bottom: 0;padding: 0.3em;box-sizing: border-box;text-align: center;}#sk-container-id-1 label.sk-toggleable__label-arrow:before {content: \"▸\";float: left;margin-right: 0.25em;color: #696969;}#sk-container-id-1 label.sk-toggleable__label-arrow:hover:before {color: black;}#sk-container-id-1 div.sk-estimator:hover label.sk-toggleable__label-arrow:before {color: black;}#sk-container-id-1 div.sk-toggleable__content {max-height: 0;max-width: 0;overflow: hidden;text-align: left;background-color: #f0f8ff;}#sk-container-id-1 div.sk-toggleable__content pre {margin: 0.2em;color: black;border-radius: 0.25em;background-color: #f0f8ff;}#sk-container-id-1 input.sk-toggleable__control:checked~div.sk-toggleable__content {max-height: 200px;max-width: 100%;overflow: auto;}#sk-container-id-1 input.sk-toggleable__control:checked~label.sk-toggleable__label-arrow:before {content: \"▾\";}#sk-container-id-1 div.sk-estimator input.sk-toggleable__control:checked~label.sk-toggleable__label {background-color: #d4ebff;}#sk-container-id-1 div.sk-label input.sk-toggleable__control:checked~label.sk-toggleable__label {background-color: #d4ebff;}#sk-container-id-1 input.sk-hidden--visually {border: 0;clip: rect(1px 1px 1px 1px);clip: rect(1px, 1px, 1px, 1px);height: 1px;margin: -1px;overflow: hidden;padding: 0;position: absolute;width: 1px;}#sk-container-id-1 div.sk-estimator {font-family: monospace;background-color: #f0f8ff;border: 1px dotted black;border-radius: 0.25em;box-sizing: border-box;margin-bottom: 0.5em;}#sk-container-id-1 div.sk-estimator:hover {background-color: #d4ebff;}#sk-container-id-1 div.sk-parallel-item::after {content: \"\";width: 100%;border-bottom: 1px solid gray;flex-grow: 1;}#sk-container-id-1 div.sk-label:hover label.sk-toggleable__label {background-color: #d4ebff;}#sk-container-id-1 div.sk-serial::before {content: \"\";position: absolute;border-left: 1px solid gray;box-sizing: border-box;top: 0;bottom: 0;left: 50%;z-index: 0;}#sk-container-id-1 div.sk-serial {display: flex;flex-direction: column;align-items: center;background-color: white;padding-right: 0.2em;padding-left: 0.2em;position: relative;}#sk-container-id-1 div.sk-item {position: relative;z-index: 1;}#sk-container-id-1 div.sk-parallel {display: flex;align-items: stretch;justify-content: center;background-color: white;position: relative;}#sk-container-id-1 div.sk-item::before, #sk-container-id-1 div.sk-parallel-item::before {content: \"\";position: absolute;border-left: 1px solid gray;box-sizing: border-box;top: 0;bottom: 0;left: 50%;z-index: -1;}#sk-container-id-1 div.sk-parallel-item {display: flex;flex-direction: column;z-index: 1;position: relative;background-color: white;}#sk-container-id-1 div.sk-parallel-item:first-child::after {align-self: flex-end;width: 50%;}#sk-container-id-1 div.sk-parallel-item:last-child::after {align-self: flex-start;width: 50%;}#sk-container-id-1 div.sk-parallel-item:only-child::after {width: 0;}#sk-container-id-1 div.sk-dashed-wrapped {border: 1px dashed gray;margin: 0 0.4em 0.5em 0.4em;box-sizing: border-box;padding-bottom: 0.4em;background-color: white;}#sk-container-id-1 div.sk-label label {font-family: monospace;font-weight: bold;display: inline-block;line-height: 1.2em;}#sk-container-id-1 div.sk-label-container {text-align: center;}#sk-container-id-1 div.sk-container {/* jupyter's `normalize.less` sets `[hidden] { display: none; }` but bootstrap.min.css set `[hidden] { display: none !important; }` so we also need the `!important` here to be able to override the default hidden behavior on the sphinx rendered scikit-learn.org. See: https://github.com/scikit-learn/scikit-learn/issues/21755 */display: inline-block !important;position: relative;}#sk-container-id-1 div.sk-text-repr-fallback {display: none;}</style><div id=\"sk-container-id-1\" class=\"sk-top-container\"><div class=\"sk-text-repr-fallback\"><pre>SelectFromModel(estimator=LinearRegression())</pre><b>In a Jupyter environment, please rerun this cell to show the HTML representation or trust the notebook. <br />On GitHub, the HTML representation is unable to render, please try loading this page with nbviewer.org.</b></div><div class=\"sk-container\" hidden><div class=\"sk-item sk-dashed-wrapped\"><div class=\"sk-label-container\"><div class=\"sk-label sk-toggleable\"><input class=\"sk-toggleable__control sk-hidden--visually\" id=\"sk-estimator-id-1\" type=\"checkbox\" ><label for=\"sk-estimator-id-1\" class=\"sk-toggleable__label sk-toggleable__label-arrow\">SelectFromModel</label><div class=\"sk-toggleable__content\"><pre>SelectFromModel(estimator=LinearRegression())</pre></div></div></div><div class=\"sk-parallel\"><div class=\"sk-parallel-item\"><div class=\"sk-item\"><div class=\"sk-label-container\"><div class=\"sk-label sk-toggleable\"><input class=\"sk-toggleable__control sk-hidden--visually\" id=\"sk-estimator-id-2\" type=\"checkbox\" ><label for=\"sk-estimator-id-2\" class=\"sk-toggleable__label sk-toggleable__label-arrow\">estimator: LinearRegression</label><div class=\"sk-toggleable__content\"><pre>LinearRegression()</pre></div></div></div><div class=\"sk-serial\"><div class=\"sk-item\"><div class=\"sk-estimator sk-toggleable\"><input class=\"sk-toggleable__control sk-hidden--visually\" id=\"sk-estimator-id-3\" type=\"checkbox\" ><label for=\"sk-estimator-id-3\" class=\"sk-toggleable__label sk-toggleable__label-arrow\">LinearRegression</label><div class=\"sk-toggleable__content\"><pre>LinearRegression()</pre></div></div></div></div></div></div></div></div></div></div>"
      ],
      "text/plain": [
       "SelectFromModel(estimator=LinearRegression())"
      ]
     },
     "execution_count": 7,
     "metadata": {},
     "output_type": "execute_result"
    }
   ],
   "source": [
    "sel = SelectFromModel(LinearRegression())\n",
    "sel.fit(X, Y)"
   ]
  },
  {
   "cell_type": "code",
   "execution_count": 8,
   "metadata": {},
   "outputs": [
    {
     "data": {
      "text/plain": [
       "array([ True,  True,  True, ..., False, False,  True])"
      ]
     },
     "execution_count": 8,
     "metadata": {},
     "output_type": "execute_result"
    }
   ],
   "source": [
    "sel.get_support()"
   ]
  },
  {
   "cell_type": "code",
   "execution_count": 9,
   "metadata": {},
   "outputs": [
    {
     "data": {
      "text/plain": [
       "array([-1.071996  ,  2.195732  ,  0.3421899 , ...,  0.03307049,\n",
       "        0.17408371, -1.143582  ], dtype=float32)"
      ]
     },
     "execution_count": 9,
     "metadata": {},
     "output_type": "execute_result"
    }
   ],
   "source": [
    "sel.estimator_.coef_"
   ]
  },
  {
   "cell_type": "code",
   "execution_count": 10,
   "metadata": {},
   "outputs": [
    {
     "data": {
      "text/plain": [
       "0.25845665"
      ]
     },
     "execution_count": 10,
     "metadata": {},
     "output_type": "execute_result"
    }
   ],
   "source": [
    "mean = np.mean(np.abs(sel.estimator_.coef_))\n",
    "mean"
   ]
  },
  {
   "cell_type": "code",
   "execution_count": 11,
   "metadata": {},
   "outputs": [
    {
     "data": {
      "text/plain": [
       "array([1.071996  , 2.195732  , 0.3421899 , ..., 0.03307049, 0.17408371,\n",
       "       1.143582  ], dtype=float32)"
      ]
     },
     "execution_count": 11,
     "metadata": {},
     "output_type": "execute_result"
    }
   ],
   "source": [
    "np.abs(sel.estimator_.coef_)"
   ]
  },
  {
   "cell_type": "code",
   "execution_count": 14,
   "metadata": {},
   "outputs": [],
   "source": [
    "X_reg = sel.transform(X)"
   ]
  },
  {
   "cell_type": "code",
   "execution_count": 16,
   "metadata": {},
   "outputs": [
    {
     "data": {
      "text/plain": [
       "(100000, 535)"
      ]
     },
     "execution_count": 16,
     "metadata": {},
     "output_type": "execute_result"
    }
   ],
   "source": [
    "X_reg.shape"
   ]
  },
  {
   "cell_type": "code",
   "execution_count": 17,
   "metadata": {},
   "outputs": [
    {
     "ename": "ValueError",
     "evalue": "in user code:\n\n    File \"/Library/Frameworks/Python.framework/Versions/3.10/lib/python3.10/site-packages/keras/engine/training.py\", line 1727, in test_function  *\n        return step_function(self, iterator)\n    File \"/Library/Frameworks/Python.framework/Versions/3.10/lib/python3.10/site-packages/keras/engine/training.py\", line 1713, in step_function  **\n        outputs = model.distribute_strategy.run(run_step, args=(data,))\n    File \"/Library/Frameworks/Python.framework/Versions/3.10/lib/python3.10/site-packages/keras/engine/training.py\", line 1701, in run_step  **\n        outputs = model.test_step(data)\n    File \"/Library/Frameworks/Python.framework/Versions/3.10/lib/python3.10/site-packages/keras/engine/training.py\", line 1665, in test_step\n        y_pred = self(x, training=False)\n    File \"/Library/Frameworks/Python.framework/Versions/3.10/lib/python3.10/site-packages/keras/utils/traceback_utils.py\", line 70, in error_handler\n        raise e.with_traceback(filtered_tb) from None\n    File \"/Library/Frameworks/Python.framework/Versions/3.10/lib/python3.10/site-packages/keras/engine/input_spec.py\", line 295, in assert_input_compatibility\n        raise ValueError(\n\n    ValueError: Input 0 of layer \"sequential\" is incompatible with the layer: expected shape=(None, 476), found shape=(32, 535)\n",
     "output_type": "error",
     "traceback": [
      "\u001b[0;31m---------------------------------------------------------------------------\u001b[0m",
      "\u001b[0;31mValueError\u001b[0m                                Traceback (most recent call last)",
      "Cell \u001b[0;32mIn [17], line 1\u001b[0m\n\u001b[0;32m----> 1\u001b[0m results \u001b[38;5;241m=\u001b[39m \u001b[43mmodel\u001b[49m\u001b[38;5;241;43m.\u001b[39;49m\u001b[43mevaluate\u001b[49m\u001b[43m(\u001b[49m\u001b[43mX_reg\u001b[49m\u001b[43m,\u001b[49m\u001b[43m \u001b[49m\u001b[43mY\u001b[49m\u001b[43m)\u001b[49m\n\u001b[1;32m      2\u001b[0m \u001b[38;5;28mprint\u001b[39m(\u001b[38;5;124m\"\u001b[39m\u001b[38;5;124mtest loss, test acc:\u001b[39m\u001b[38;5;124m\"\u001b[39m, results)\n",
      "File \u001b[0;32m/Library/Frameworks/Python.framework/Versions/3.10/lib/python3.10/site-packages/keras/utils/traceback_utils.py:70\u001b[0m, in \u001b[0;36mfilter_traceback.<locals>.error_handler\u001b[0;34m(*args, **kwargs)\u001b[0m\n\u001b[1;32m     67\u001b[0m     filtered_tb \u001b[39m=\u001b[39m _process_traceback_frames(e\u001b[39m.\u001b[39m__traceback__)\n\u001b[1;32m     68\u001b[0m     \u001b[39m# To get the full stack trace, call:\u001b[39;00m\n\u001b[1;32m     69\u001b[0m     \u001b[39m# `tf.debugging.disable_traceback_filtering()`\u001b[39;00m\n\u001b[0;32m---> 70\u001b[0m     \u001b[39mraise\u001b[39;00m e\u001b[39m.\u001b[39mwith_traceback(filtered_tb) \u001b[39mfrom\u001b[39;00m \u001b[39mNone\u001b[39m\n\u001b[1;32m     71\u001b[0m \u001b[39mfinally\u001b[39;00m:\n\u001b[1;32m     72\u001b[0m     \u001b[39mdel\u001b[39;00m filtered_tb\n",
      "File \u001b[0;32m/var/folders/nq/d4h77pw53tgd7xgld4x_r8nc0000gp/T/__autograph_generated_file04ugk9ow.py:15\u001b[0m, in \u001b[0;36mouter_factory.<locals>.inner_factory.<locals>.tf__test_function\u001b[0;34m(iterator)\u001b[0m\n\u001b[1;32m     13\u001b[0m \u001b[39mtry\u001b[39;00m:\n\u001b[1;32m     14\u001b[0m     do_return \u001b[39m=\u001b[39m \u001b[39mTrue\u001b[39;00m\n\u001b[0;32m---> 15\u001b[0m     retval_ \u001b[39m=\u001b[39m ag__\u001b[39m.\u001b[39mconverted_call(ag__\u001b[39m.\u001b[39mld(step_function), (ag__\u001b[39m.\u001b[39mld(\u001b[39mself\u001b[39m), ag__\u001b[39m.\u001b[39mld(iterator)), \u001b[39mNone\u001b[39;00m, fscope)\n\u001b[1;32m     16\u001b[0m \u001b[39mexcept\u001b[39;00m:\n\u001b[1;32m     17\u001b[0m     do_return \u001b[39m=\u001b[39m \u001b[39mFalse\u001b[39;00m\n",
      "\u001b[0;31mValueError\u001b[0m: in user code:\n\n    File \"/Library/Frameworks/Python.framework/Versions/3.10/lib/python3.10/site-packages/keras/engine/training.py\", line 1727, in test_function  *\n        return step_function(self, iterator)\n    File \"/Library/Frameworks/Python.framework/Versions/3.10/lib/python3.10/site-packages/keras/engine/training.py\", line 1713, in step_function  **\n        outputs = model.distribute_strategy.run(run_step, args=(data,))\n    File \"/Library/Frameworks/Python.framework/Versions/3.10/lib/python3.10/site-packages/keras/engine/training.py\", line 1701, in run_step  **\n        outputs = model.test_step(data)\n    File \"/Library/Frameworks/Python.framework/Versions/3.10/lib/python3.10/site-packages/keras/engine/training.py\", line 1665, in test_step\n        y_pred = self(x, training=False)\n    File \"/Library/Frameworks/Python.framework/Versions/3.10/lib/python3.10/site-packages/keras/utils/traceback_utils.py\", line 70, in error_handler\n        raise e.with_traceback(filtered_tb) from None\n    File \"/Library/Frameworks/Python.framework/Versions/3.10/lib/python3.10/site-packages/keras/engine/input_spec.py\", line 295, in assert_input_compatibility\n        raise ValueError(\n\n    ValueError: Input 0 of layer \"sequential\" is incompatible with the layer: expected shape=(None, 476), found shape=(32, 535)\n"
     ]
    }
   ],
   "source": [
    "results = model.evaluate(X_reg, Y)\n",
    "print(\"test loss, test acc:\", results)"
   ]
  }
 ],
 "metadata": {
  "kernelspec": {
   "display_name": "Python 3.10.7 64-bit",
   "language": "python",
   "name": "python3"
  },
  "language_info": {
   "codemirror_mode": {
    "name": "ipython",
    "version": 3
   },
   "file_extension": ".py",
   "mimetype": "text/x-python",
   "name": "python",
   "nbconvert_exporter": "python",
   "pygments_lexer": "ipython3",
   "version": "3.10.7"
  },
  "orig_nbformat": 4,
  "vscode": {
   "interpreter": {
    "hash": "aee8b7b246df8f9039afb4144a1f6fd8d2ca17a180786b69acc140d282b71a49"
   }
  }
 },
 "nbformat": 4,
 "nbformat_minor": 2
}
