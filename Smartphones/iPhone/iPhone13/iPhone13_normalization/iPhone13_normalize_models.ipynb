{
 "cells": [
  {
   "cell_type": "code",
   "execution_count": 1,
   "metadata": {},
   "outputs": [
    {
     "name": "stderr",
     "output_type": "stream",
     "text": [
      "2023-04-24 21:01:58.845337: I tensorflow/core/platform/cpu_feature_guard.cc:182] This TensorFlow binary is optimized to use available CPU instructions in performance-critical operations.\n",
      "To enable the following instructions: SSE4.1 SSE4.2, in other operations, rebuild TensorFlow with the appropriate compiler flags.\n"
     ]
    }
   ],
   "source": [
    "import h5py\n",
    "import numpy as np\n",
    "import pandas as pd\n",
    "import scipy\n",
    "from scipy import signal\n",
    "import matplotlib.pyplot as plt\n",
    "import tensorflow as tf\n",
    "from tensorflow import keras\n",
    "from sklearn import metrics\n",
    "from sklearn.model_selection import train_test_split\n",
    "from sklearn.preprocessing import MinMaxScaler\n",
    "from sklearn.metrics import confusion_matrix\n",
    "from sklearn.metrics import classification_report\n",
    "#from tqdm import tqdm\n",
    "import warnings\n",
    "warnings.filterwarnings('ignore')"
   ]
  },
  {
   "cell_type": "code",
   "execution_count": 2,
   "metadata": {},
   "outputs": [],
   "source": [
    "def getData(cfileName):\n",
    "\n",
    "    # Read the *.cfile which has each element in float32 format.\n",
    "    data = np.fromfile(cfileName, dtype=\"float32\")\n",
    "   \n",
    "    # Take each consecutive interleaved I sample and Q sample to create a single complex element.\n",
    "    data = data[0::2] + 1j*data[1::2]\n",
    "    #print(\"data type=\", type(data))\n",
    "    # Return the complex numpy array.\n",
    "    \n",
    "    data = normalize(data)\n",
    "    return data\n",
    "\n",
    "def normalize(signal):\n",
    "    if signal.std() == 0:\n",
    "        return signal\n",
    "    return (signal - signal.mean()) / signal.std()\n",
    "\n",
    "def create_dataset(data, class_label):\n",
    "    f, t, Zxx = signal.stft(data, fs=20e6, nperseg=fft_size, noverlap=fft_overlap)\n",
    "    print(len(f))\n",
    "    print(len(t))\n",
    "    print(Zxx.shape)\n",
    "\n",
    "    del data\n",
    "\n",
    "    Zxx = Zxx.transpose()\n",
    "\n",
    "    Zxx = abs(Zxx)\n",
    "    # scaling the features (only real part of the data can be used)\n",
    "    scaler = MinMaxScaler()\n",
    "    scaler.fit(Zxx)\n",
    "    print(scaler.data_max_)\n",
    "    Zxx = scaler.transform(Zxx)\n",
    "\n",
    "    X = Zxx[:num_samp_per_class]\n",
    "    Y = np.full(num_samp_per_class, class_label)\n",
    "\n",
    "    return X, Y\n",
    "\n",
    "\n",
    "# number of samples per class\n",
    "num_samp_per_class = 10000\n",
    "\n",
    "# FFT size for the STFT operation (which is same as the feature vector size)\n",
    "fft_size = feature_vector_size = 2048 #1024\n",
    "\n",
    "# number of overlapping samples for the STFT operation\n",
    "fft_overlap = 256"
   ]
  },
  {
   "cell_type": "markdown",
   "metadata": {},
   "source": [
    "## create iPhone13_I own Models"
   ]
  },
  {
   "cell_type": "markdown",
   "metadata": {},
   "source": [
    "## iPhone13_I dataset\n",
    "the very first dataset"
   ]
  },
  {
   "cell_type": "code",
   "execution_count": 3,
   "metadata": {},
   "outputs": [
    {
     "name": "stdout",
     "output_type": "stream",
     "text": [
      "[-0.04094758+0.7403925j  -1.2457979 -0.46445787j -0.6433727 -0.46445787j\n",
      " ...  0.5614776 +0.1379673j   0.5614776 +0.1379673j\n",
      "  1.1639028 -1.066883j  ]\n",
      "2048\n",
      "77387\n",
      "(2048, 77387)\n",
      "[0.21128763 0.11525805 0.07911973 ... 0.07200941 0.0757337  0.12055532]\n",
      "(10000, 2048)\n",
      "(10000,)\n",
      "[-0.59611106+0.6811873j  -0.59611106-0.43906635j -0.03598427-0.43906635j\n",
      " ... -0.03598427+1.241314j   -0.03598427-0.43906635j\n",
      " -0.03598427-0.43906635j]\n",
      "2048\n",
      "81265\n",
      "(2048, 81265)\n",
      "[0.11910544 0.08144721 0.0712228  ... 0.07138769 0.08515362 0.08866709]\n",
      "(20000, 2048)\n",
      "(20000,)\n",
      "[ 1.0650288+0.69148296j  1.0650288+0.14122179j -0.0354936+0.14122179j ...\n",
      "  0.5147676+0.69148296j  0.5147676+0.14122179j -0.0354936-0.95930064j]\n",
      "2048\n",
      "82947\n",
      "(2048, 82947)\n",
      "[0.22773421 0.11793426 0.07490409 ... 0.06576841 0.06908313 0.1137925 ]\n",
      "(30000, 2048)\n",
      "(30000,)\n",
      "[-1.0360122 +1.6226187j  -1.0360122 -0.38390732j -0.03274924-0.38390732j\n",
      " ... -0.03274924-1.3871703j   0.46888226+0.6193557j\n",
      " -0.53438073+0.6193557j ]\n",
      "2048\n",
      "82654\n",
      "(2048, 82654)\n",
      "[0.21464762 0.11191937 0.10437544 ... 0.06911339 0.1023688  0.13087668]\n",
      "(40000, 2048)\n",
      "(40000,)\n",
      "[-0.57775253-0.43587238j -0.02759033+0.11428981j -0.02759033+0.664452j\n",
      " ... -1.6780769 -0.9860346j  -0.02759033-0.9860346j\n",
      " -0.02759033-0.43587238j]\n",
      "2048\n",
      "81924\n",
      "(2048, 81924)\n",
      "[0.10739977 0.08415825 0.08150376 ... 0.06876007 0.07381768 0.08346415]\n",
      "(50000, 2048)\n",
      "(50000,)\n",
      "[-0.0318558+0.12507522j -0.5878651-0.43093407j -0.5878651+0.12507522j ...\n",
      " -0.0318558+0.12507522j -1.1438744-0.9869433j  -0.0318558-0.9869433j ]\n",
      "2048\n",
      "87043\n",
      "(2048, 87043)\n",
      "[0.19084826 0.10326553 0.09023781 ... 0.07675377 0.0933454  0.10973089]\n",
      "(60000, 2048)\n",
      "(60000,)\n",
      "[-0.03382585+0.7379537j   0.5678964 +0.13623148j -1.2372705 -1.0672132j\n",
      " ... -0.03382585-0.46549082j -0.03382585+0.13623148j\n",
      " -1.2372705 +0.13623148j]\n",
      "2048\n",
      "80022\n",
      "(2048, 80022)\n",
      "[0.12985444 0.08068646 0.07322393 ... 0.0844002  0.07740582 0.07908147]\n",
      "(70000, 2048)\n",
      "(70000,)\n",
      "[-0.02045155+0.6653431j  -0.54969645+0.13609819j -0.02045155-0.3931467j\n",
      " ... -0.02045155+0.6653431j   1.0380383 +0.6653431j\n",
      " -0.02045155+0.13609819j]\n",
      "2048\n",
      "91505\n",
      "(2048, 91505)\n",
      "[0.19087891 0.12112579 0.12770715 ... 0.13989422 0.13149494 0.12955731]\n",
      "(80000, 2048)\n",
      "(80000,)\n",
      "[-0.02204942+0.64382637j -0.553778  -0.41963077j  0.50967914-0.41963077j\n",
      " ... -0.02204942+1.175555j   -0.02204942-1.4830879j\n",
      " -0.02204942+1.175555j  ]\n",
      "2048\n",
      "90846\n",
      "(2048, 90846)\n",
      "[0.19899002 0.09153845 0.07566401 ... 0.06223564 0.06621721 0.12767704]\n",
      "(90000, 2048)\n",
      "(90000,)\n",
      "[nan+nanj nan+nanj nan+nanj ... nan+nanj nan+nanj nan+nanj]\n",
      "2048\n",
      "81414\n",
      "(2048, 81414)\n",
      "[nan nan nan ... nan nan nan]\n",
      "(100000, 2048)\n",
      "(100000,)\n"
     ]
    }
   ],
   "source": [
    "class_label = 10\n",
    "for i in range(class_label):\n",
    "\n",
    "    folder_path = \"/Volumes/Transcend/PhD in Computing/Data Collection/Smartphones/EM_Signals/iPhone13/iPhone13_I/\"\n",
    "    if(i==0):\n",
    "        data = getData(folder_path + \"calender-app.cfile\")\n",
    "        print(np.array(data))\n",
    "        X, Y = create_dataset(data, i)\n",
    "\n",
    "    else:\n",
    "\n",
    "        if(i==1):\n",
    "            data = getData(folder_path + \"camera-photo.cfile\")\n",
    "            print(np.array(data))\n",
    "            dataset, label = create_dataset(data, i)\n",
    "\n",
    "        if(i==2):\n",
    "            data = getData(folder_path + \"camera-video.cfile\")\n",
    "            print(np.array(data))\n",
    "            dataset, label = create_dataset(data, i)\n",
    "\n",
    "        if(i==3):\n",
    "            data = getData(folder_path + \"email-app.cfile\")\n",
    "            print(np.array(data))\n",
    "            dataset, label = create_dataset(data, i)\n",
    "\n",
    "        if(i==4):\n",
    "            data = getData(folder_path + \"gallery-app.cfile\")\n",
    "            print(np.array(data))\n",
    "            dataset, label = create_dataset(data, i)\n",
    "\n",
    "        if(i==5):\n",
    "            data = getData(folder_path + \"home-screen.cfile\")\n",
    "            print(np.array(data))\n",
    "            dataset, label = create_dataset(data, i)\n",
    "\n",
    "        if(i==6):\n",
    "            data = getData(folder_path + \"idle.cfile\")\n",
    "            print(np.array(data))\n",
    "            dataset, label = create_dataset(data, i)\n",
    "\n",
    "        if(i==7):\n",
    "            data = getData(folder_path + \"phone-app.cfile\")\n",
    "            print(np.array(data))\n",
    "            dataset, label = create_dataset(data, i)\n",
    "\n",
    "        if(i==8):\n",
    "            data = getData(folder_path + \"sms-app.cfile\")\n",
    "            print(np.array(data))\n",
    "            dataset, label = create_dataset(data, i)\n",
    "\n",
    "        if(i==9):\n",
    "            data = getData(folder_path + \"web_browser-app.cfile\")\n",
    "            print(np.array(data))\n",
    "            dataset, label = create_dataset(data, i)\n",
    "\n",
    "        X = np.concatenate((X, dataset), axis=0) \n",
    "        Y = np.concatenate((Y, label), axis=0)\n",
    "        \n",
    "    print(X.shape)\n",
    "    print(Y.shape)\n",
    "\n",
    "# combine all em signals into one dataframe\n",
    "em_data = pd.DataFrame(X)\n",
    "em_data.insert(len(em_data.columns), 'labels', Y)\n",
    "\n",
    "# save to csv file\n",
    "# (em_data.T).to_csv(f'/Users/Lojenaa/Documents/PhD/Smartphones/Cross-device-Portability-of-EMSCA/Smartphones/iPhone/iPhone13/i13_I_BeSh.csv', header=False)"
   ]
  },
  {
   "cell_type": "code",
   "execution_count": 4,
   "metadata": {},
   "outputs": [
    {
     "ename": "ValueError",
     "evalue": "at least one array or dtype is required",
     "output_type": "error",
     "traceback": [
      "\u001b[0;31m---------------------------------------------------------------------------\u001b[0m",
      "\u001b[0;31mValueError\u001b[0m                                Traceback (most recent call last)",
      "Cell \u001b[0;32mIn[4], line 27\u001b[0m\n\u001b[1;32m     25\u001b[0m     classes\u001b[39m.\u001b[39mappend(unique_label)\n\u001b[1;32m     26\u001b[0m colors \u001b[39m=\u001b[39m [labels2colors[label] \u001b[39mfor\u001b[39;00m label \u001b[39min\u001b[39;00m labels]\n\u001b[0;32m---> 27\u001b[0m plot_3d(data,\u001b[39m\"\u001b[39;49m\u001b[39mEM\u001b[39;49m\u001b[39m\"\u001b[39;49m, colors, classes,\u001b[39mf\u001b[39;49m\u001b[39m'\u001b[39;49m\u001b[39m/Users/Lojenaa/Documents/PhD/Smartphones/Cross-device-Portability-of-EMSCA/Smartphones/iPhone/iPhone13/iPhone13_normalization/i13_I_normalize_scatter.pdf\u001b[39;49m\u001b[39m'\u001b[39;49m)\n",
      "Cell \u001b[0;32mIn[4], line 5\u001b[0m, in \u001b[0;36mplot_3d\u001b[0;34m(signal, plot_name, colors, labels, out_path)\u001b[0m\n\u001b[1;32m      3\u001b[0m \u001b[39mdef\u001b[39;00m \u001b[39mplot_3d\u001b[39m(signal, plot_name, colors, labels, out_path):\n\u001b[1;32m      4\u001b[0m     pca \u001b[39m=\u001b[39m PCA(n_components\u001b[39m=\u001b[39m\u001b[39m3\u001b[39m)\n\u001b[0;32m----> 5\u001b[0m     pca_data \u001b[39m=\u001b[39mpd\u001b[39m.\u001b[39mDataFrame(pca\u001b[39m.\u001b[39;49mfit_transform(signal))\n\u001b[1;32m      6\u001b[0m     \u001b[39m# visualize in 3d\u001b[39;00m\n\u001b[1;32m      7\u001b[0m     fig \u001b[39m=\u001b[39m plt\u001b[39m.\u001b[39mfigure(figsize\u001b[39m=\u001b[39m(\u001b[39m15\u001b[39m,\u001b[39m8\u001b[39m))\n",
      "File \u001b[0;32m/usr/local/Caskroom/miniforge/base/lib/python3.10/site-packages/sklearn/utils/_set_output.py:140\u001b[0m, in \u001b[0;36m_wrap_method_output.<locals>.wrapped\u001b[0;34m(self, X, *args, **kwargs)\u001b[0m\n\u001b[1;32m    138\u001b[0m \u001b[39m@wraps\u001b[39m(f)\n\u001b[1;32m    139\u001b[0m \u001b[39mdef\u001b[39;00m \u001b[39mwrapped\u001b[39m(\u001b[39mself\u001b[39m, X, \u001b[39m*\u001b[39margs, \u001b[39m*\u001b[39m\u001b[39m*\u001b[39mkwargs):\n\u001b[0;32m--> 140\u001b[0m     data_to_wrap \u001b[39m=\u001b[39m f(\u001b[39mself\u001b[39;49m, X, \u001b[39m*\u001b[39;49margs, \u001b[39m*\u001b[39;49m\u001b[39m*\u001b[39;49mkwargs)\n\u001b[1;32m    141\u001b[0m     \u001b[39mif\u001b[39;00m \u001b[39misinstance\u001b[39m(data_to_wrap, \u001b[39mtuple\u001b[39m):\n\u001b[1;32m    142\u001b[0m         \u001b[39m# only wrap the first output for cross decomposition\u001b[39;00m\n\u001b[1;32m    143\u001b[0m         \u001b[39mreturn\u001b[39;00m (\n\u001b[1;32m    144\u001b[0m             _wrap_data_with_container(method, data_to_wrap[\u001b[39m0\u001b[39m], X, \u001b[39mself\u001b[39m),\n\u001b[1;32m    145\u001b[0m             \u001b[39m*\u001b[39mdata_to_wrap[\u001b[39m1\u001b[39m:],\n\u001b[1;32m    146\u001b[0m         )\n",
      "File \u001b[0;32m/usr/local/Caskroom/miniforge/base/lib/python3.10/site-packages/sklearn/decomposition/_pca.py:462\u001b[0m, in \u001b[0;36mPCA.fit_transform\u001b[0;34m(self, X, y)\u001b[0m\n\u001b[1;32m    439\u001b[0m \u001b[39m\u001b[39m\u001b[39m\"\"\"Fit the model with X and apply the dimensionality reduction on X.\u001b[39;00m\n\u001b[1;32m    440\u001b[0m \n\u001b[1;32m    441\u001b[0m \u001b[39mParameters\u001b[39;00m\n\u001b[0;32m   (...)\u001b[0m\n\u001b[1;32m    458\u001b[0m \u001b[39mC-ordered array, use 'np.ascontiguousarray'.\u001b[39;00m\n\u001b[1;32m    459\u001b[0m \u001b[39m\"\"\"\u001b[39;00m\n\u001b[1;32m    460\u001b[0m \u001b[39mself\u001b[39m\u001b[39m.\u001b[39m_validate_params()\n\u001b[0;32m--> 462\u001b[0m U, S, Vt \u001b[39m=\u001b[39m \u001b[39mself\u001b[39;49m\u001b[39m.\u001b[39;49m_fit(X)\n\u001b[1;32m    463\u001b[0m U \u001b[39m=\u001b[39m U[:, : \u001b[39mself\u001b[39m\u001b[39m.\u001b[39mn_components_]\n\u001b[1;32m    465\u001b[0m \u001b[39mif\u001b[39;00m \u001b[39mself\u001b[39m\u001b[39m.\u001b[39mwhiten:\n\u001b[1;32m    466\u001b[0m     \u001b[39m# X_new = X * V / S * sqrt(n_samples) = U * sqrt(n_samples)\u001b[39;00m\n",
      "File \u001b[0;32m/usr/local/Caskroom/miniforge/base/lib/python3.10/site-packages/sklearn/decomposition/_pca.py:485\u001b[0m, in \u001b[0;36mPCA._fit\u001b[0;34m(self, X)\u001b[0m\n\u001b[1;32m    479\u001b[0m \u001b[39mif\u001b[39;00m issparse(X):\n\u001b[1;32m    480\u001b[0m     \u001b[39mraise\u001b[39;00m \u001b[39mTypeError\u001b[39;00m(\n\u001b[1;32m    481\u001b[0m         \u001b[39m\"\u001b[39m\u001b[39mPCA does not support sparse input. See \u001b[39m\u001b[39m\"\u001b[39m\n\u001b[1;32m    482\u001b[0m         \u001b[39m\"\u001b[39m\u001b[39mTruncatedSVD for a possible alternative.\u001b[39m\u001b[39m\"\u001b[39m\n\u001b[1;32m    483\u001b[0m     )\n\u001b[0;32m--> 485\u001b[0m X \u001b[39m=\u001b[39m \u001b[39mself\u001b[39;49m\u001b[39m.\u001b[39;49m_validate_data(\n\u001b[1;32m    486\u001b[0m     X, dtype\u001b[39m=\u001b[39;49m[np\u001b[39m.\u001b[39;49mfloat64, np\u001b[39m.\u001b[39;49mfloat32], ensure_2d\u001b[39m=\u001b[39;49m\u001b[39mTrue\u001b[39;49;00m, copy\u001b[39m=\u001b[39;49m\u001b[39mself\u001b[39;49m\u001b[39m.\u001b[39;49mcopy\n\u001b[1;32m    487\u001b[0m )\n\u001b[1;32m    489\u001b[0m \u001b[39m# Handle n_components==None\u001b[39;00m\n\u001b[1;32m    490\u001b[0m \u001b[39mif\u001b[39;00m \u001b[39mself\u001b[39m\u001b[39m.\u001b[39mn_components \u001b[39mis\u001b[39;00m \u001b[39mNone\u001b[39;00m:\n",
      "File \u001b[0;32m/usr/local/Caskroom/miniforge/base/lib/python3.10/site-packages/sklearn/base.py:565\u001b[0m, in \u001b[0;36mBaseEstimator._validate_data\u001b[0;34m(self, X, y, reset, validate_separately, **check_params)\u001b[0m\n\u001b[1;32m    563\u001b[0m     \u001b[39mraise\u001b[39;00m \u001b[39mValueError\u001b[39;00m(\u001b[39m\"\u001b[39m\u001b[39mValidation should be done on X, y or both.\u001b[39m\u001b[39m\"\u001b[39m)\n\u001b[1;32m    564\u001b[0m \u001b[39melif\u001b[39;00m \u001b[39mnot\u001b[39;00m no_val_X \u001b[39mand\u001b[39;00m no_val_y:\n\u001b[0;32m--> 565\u001b[0m     X \u001b[39m=\u001b[39m check_array(X, input_name\u001b[39m=\u001b[39;49m\u001b[39m\"\u001b[39;49m\u001b[39mX\u001b[39;49m\u001b[39m\"\u001b[39;49m, \u001b[39m*\u001b[39;49m\u001b[39m*\u001b[39;49mcheck_params)\n\u001b[1;32m    566\u001b[0m     out \u001b[39m=\u001b[39m X\n\u001b[1;32m    567\u001b[0m \u001b[39melif\u001b[39;00m no_val_X \u001b[39mand\u001b[39;00m \u001b[39mnot\u001b[39;00m no_val_y:\n",
      "File \u001b[0;32m/usr/local/Caskroom/miniforge/base/lib/python3.10/site-packages/sklearn/utils/validation.py:778\u001b[0m, in \u001b[0;36mcheck_array\u001b[0;34m(array, accept_sparse, accept_large_sparse, dtype, order, copy, force_all_finite, ensure_2d, allow_nd, ensure_min_samples, ensure_min_features, estimator, input_name)\u001b[0m\n\u001b[1;32m    774\u001b[0m     pandas_requires_conversion \u001b[39m=\u001b[39m \u001b[39many\u001b[39m(\n\u001b[1;32m    775\u001b[0m         _pandas_dtype_needs_early_conversion(i) \u001b[39mfor\u001b[39;00m i \u001b[39min\u001b[39;00m dtypes_orig\n\u001b[1;32m    776\u001b[0m     )\n\u001b[1;32m    777\u001b[0m     \u001b[39mif\u001b[39;00m \u001b[39mall\u001b[39m(\u001b[39misinstance\u001b[39m(dtype_iter, np\u001b[39m.\u001b[39mdtype) \u001b[39mfor\u001b[39;00m dtype_iter \u001b[39min\u001b[39;00m dtypes_orig):\n\u001b[0;32m--> 778\u001b[0m         dtype_orig \u001b[39m=\u001b[39m np\u001b[39m.\u001b[39;49mresult_type(\u001b[39m*\u001b[39;49mdtypes_orig)\n\u001b[1;32m    780\u001b[0m \u001b[39melif\u001b[39;00m \u001b[39mhasattr\u001b[39m(array, \u001b[39m\"\u001b[39m\u001b[39miloc\u001b[39m\u001b[39m\"\u001b[39m) \u001b[39mand\u001b[39;00m \u001b[39mhasattr\u001b[39m(array, \u001b[39m\"\u001b[39m\u001b[39mdtype\u001b[39m\u001b[39m\"\u001b[39m):\n\u001b[1;32m    781\u001b[0m     \u001b[39m# array is a pandas series\u001b[39;00m\n\u001b[1;32m    782\u001b[0m     pandas_requires_conversion \u001b[39m=\u001b[39m _pandas_dtype_needs_early_conversion(array\u001b[39m.\u001b[39mdtype)\n",
      "File \u001b[0;32m<__array_function__ internals>:180\u001b[0m, in \u001b[0;36mresult_type\u001b[0;34m(*args, **kwargs)\u001b[0m\n",
      "\u001b[0;31mValueError\u001b[0m: at least one array or dtype is required"
     ]
    }
   ],
   "source": [
    "from sklearn.decomposition import PCA\n",
    "\n",
    "def plot_3d(signal, plot_name, colors, labels, out_path):\n",
    "    pca = PCA(n_components=3)\n",
    "    pca_data =pd.DataFrame(pca.fit_transform(signal))\n",
    "    # visualize in 3d\n",
    "    fig = plt.figure(figsize=(15,8))\n",
    "    ax = fig.add_subplot(1, 1, 1, projection='3d')\n",
    "    scatter =ax.scatter(pca_data[0],pca_data[1],pca_data[2], c=colors)\n",
    "    ax.view_init(elev=35, azim=170)\n",
    "    ax.legend(handles=scatter.legend_elements()[0], loc=\"best\", labels=labels);\n",
    "    ax.set_title(plot_name);\n",
    "    plt.savefig(out_path)\n",
    "\n",
    "# EM scatter\n",
    "data = em_data\n",
    "labels = data['labels']\n",
    "data = data.drop(columns=['labels'])\n",
    "data = data.dropna(axis='columns')\n",
    "unique_labels = labels.unique()\n",
    "labels2colors = {}\n",
    "classes = []\n",
    "for i,unique_label in enumerate(unique_labels):\n",
    "    labels2colors[unique_label] = i\n",
    "    classes.append(unique_label)\n",
    "colors = [labels2colors[label] for label in labels]\n",
    "plot_3d(data,\"EM\", colors, classes,f'/Users/Lojenaa/Documents/PhD/Smartphones/Cross-device-Portability-of-EMSCA/Smartphones/iPhone/iPhone13/iPhone13_normalization/i13_I_normalize_scatter.pdf')"
   ]
  },
  {
   "cell_type": "code",
   "execution_count": 5,
   "metadata": {},
   "outputs": [],
   "source": [
    "# Split data to train and test sets\n",
    "X_train, X_test, y_train, y_test = train_test_split(X, Y, test_size=0.1, random_state=0)"
   ]
  },
  {
   "cell_type": "code",
   "execution_count": 6,
   "metadata": {},
   "outputs": [
    {
     "name": "stdout",
     "output_type": "stream",
     "text": [
      "Model: \"sequential\"\n",
      "_________________________________________________________________\n",
      " Layer (type)                Output Shape              Param #   \n",
      "=================================================================\n",
      " dense (Dense)               (None, 1400)              2868600   \n",
      "                                                                 \n",
      " dense_1 (Dense)             (None, 800)               1120800   \n",
      "                                                                 \n",
      " dense_2 (Dense)             (None, 500)               400500    \n",
      "                                                                 \n",
      " dense_3 (Dense)             (None, 200)               100200    \n",
      "                                                                 \n",
      " dense_4 (Dense)             (None, 100)               20100     \n",
      "                                                                 \n",
      " dense_5 (Dense)             (None, 10)                1010      \n",
      "                                                                 \n",
      "=================================================================\n",
      "Total params: 4,511,210\n",
      "Trainable params: 4,511,210\n",
      "Non-trainable params: 0\n",
      "_________________________________________________________________\n"
     ]
    }
   ],
   "source": [
    "model = keras.models.Sequential()\n",
    "model.add(keras.layers.Input(shape=(feature_vector_size,)))\n",
    "model.add(keras.layers.Dense(1400, activation=\"relu\"))\n",
    "model.add(keras.layers.Dense(800, activation=\"relu\"))\n",
    "model.add(keras.layers.Dense(500, activation=\"relu\"))\n",
    "model.add(keras.layers.Dense(200, activation=\"relu\"))\n",
    "model.add(keras.layers.Dense(100, activation=\"relu\"))\n",
    "model.add(keras.layers.Dense(10, activation=\"softmax\"))\n",
    "model.summary()"
   ]
  },
  {
   "cell_type": "code",
   "execution_count": 7,
   "metadata": {},
   "outputs": [
    {
     "name": "stdout",
     "output_type": "stream",
     "text": [
      "Epoch 1/30\n",
      "2532/2532 [==============================] - 15s 6ms/step - loss: nan - accuracy: 0.0995 - val_loss: nan - val_accuracy: 0.1024\n",
      "Epoch 2/30\n",
      "2532/2532 [==============================] - 14s 6ms/step - loss: nan - accuracy: 0.0996 - val_loss: nan - val_accuracy: 0.1024\n",
      "Epoch 3/30\n",
      "2532/2532 [==============================] - 15s 6ms/step - loss: nan - accuracy: 0.0996 - val_loss: nan - val_accuracy: 0.1024\n",
      "Epoch 4/30\n",
      "2532/2532 [==============================] - 15s 6ms/step - loss: nan - accuracy: 0.0996 - val_loss: nan - val_accuracy: 0.1024\n",
      "Epoch 5/30\n",
      "2532/2532 [==============================] - 15s 6ms/step - loss: nan - accuracy: 0.0996 - val_loss: nan - val_accuracy: 0.1024\n",
      "Epoch 6/30\n",
      "2532/2532 [==============================] - 15s 6ms/step - loss: nan - accuracy: 0.0996 - val_loss: nan - val_accuracy: 0.1024\n",
      "Epoch 7/30\n",
      "2532/2532 [==============================] - 15s 6ms/step - loss: nan - accuracy: 0.0996 - val_loss: nan - val_accuracy: 0.1024\n",
      "Epoch 8/30\n",
      "2532/2532 [==============================] - 15s 6ms/step - loss: nan - accuracy: 0.0996 - val_loss: nan - val_accuracy: 0.1024\n",
      "Epoch 9/30\n",
      "2532/2532 [==============================] - 15s 6ms/step - loss: nan - accuracy: 0.0996 - val_loss: nan - val_accuracy: 0.1024\n",
      "Epoch 10/30\n",
      "2532/2532 [==============================] - 15s 6ms/step - loss: nan - accuracy: 0.0996 - val_loss: nan - val_accuracy: 0.1024\n",
      "Epoch 11/30\n",
      "2532/2532 [==============================] - 15s 6ms/step - loss: nan - accuracy: 0.0996 - val_loss: nan - val_accuracy: 0.1024\n",
      "Epoch 12/30\n",
      "2532/2532 [==============================] - 15s 6ms/step - loss: nan - accuracy: 0.0996 - val_loss: nan - val_accuracy: 0.1024\n",
      "Epoch 13/30\n",
      "2532/2532 [==============================] - 15s 6ms/step - loss: nan - accuracy: 0.0996 - val_loss: nan - val_accuracy: 0.1024\n",
      "Epoch 14/30\n",
      "2532/2532 [==============================] - 15s 6ms/step - loss: nan - accuracy: 0.0996 - val_loss: nan - val_accuracy: 0.1024\n",
      "Epoch 15/30\n",
      "2532/2532 [==============================] - 15s 6ms/step - loss: nan - accuracy: 0.0996 - val_loss: nan - val_accuracy: 0.1024\n",
      "Epoch 16/30\n",
      "2532/2532 [==============================] - 15s 6ms/step - loss: nan - accuracy: 0.0996 - val_loss: nan - val_accuracy: 0.1024\n",
      "Epoch 17/30\n",
      "2532/2532 [==============================] - 15s 6ms/step - loss: nan - accuracy: 0.0996 - val_loss: nan - val_accuracy: 0.1024\n",
      "Epoch 18/30\n",
      "2532/2532 [==============================] - 15s 6ms/step - loss: nan - accuracy: 0.0996 - val_loss: nan - val_accuracy: 0.1024\n",
      "Epoch 19/30\n",
      "2532/2532 [==============================] - 15s 6ms/step - loss: nan - accuracy: 0.0996 - val_loss: nan - val_accuracy: 0.1024\n",
      "Epoch 20/30\n",
      "2532/2532 [==============================] - 15s 6ms/step - loss: nan - accuracy: 0.0996 - val_loss: nan - val_accuracy: 0.1024\n",
      "Epoch 21/30\n",
      "2532/2532 [==============================] - 15s 6ms/step - loss: nan - accuracy: 0.0996 - val_loss: nan - val_accuracy: 0.1024\n",
      "Epoch 22/30\n",
      "2532/2532 [==============================] - 15s 6ms/step - loss: nan - accuracy: 0.0996 - val_loss: nan - val_accuracy: 0.1024\n",
      "Epoch 23/30\n",
      "2532/2532 [==============================] - 15s 6ms/step - loss: nan - accuracy: 0.0996 - val_loss: nan - val_accuracy: 0.1024\n",
      "Epoch 24/30\n",
      "2532/2532 [==============================] - 15s 6ms/step - loss: nan - accuracy: 0.0996 - val_loss: nan - val_accuracy: 0.1024\n",
      "Epoch 25/30\n",
      "2532/2532 [==============================] - 15s 6ms/step - loss: nan - accuracy: 0.0996 - val_loss: nan - val_accuracy: 0.1024\n",
      "Epoch 26/30\n",
      "2532/2532 [==============================] - 15s 6ms/step - loss: nan - accuracy: 0.0996 - val_loss: nan - val_accuracy: 0.1024\n",
      "Epoch 27/30\n",
      "2532/2532 [==============================] - 55s 22ms/step - loss: nan - accuracy: 0.0996 - val_loss: nan - val_accuracy: 0.1024\n",
      "Epoch 28/30\n",
      "2532/2532 [==============================] - 15s 6ms/step - loss: nan - accuracy: 0.0996 - val_loss: nan - val_accuracy: 0.1024\n",
      "Epoch 29/30\n",
      "2532/2532 [==============================] - 15s 6ms/step - loss: nan - accuracy: 0.0996 - val_loss: nan - val_accuracy: 0.1024\n",
      "Epoch 30/30\n",
      "2532/2532 [==============================] - 15s 6ms/step - loss: nan - accuracy: 0.0996 - val_loss: nan - val_accuracy: 0.1024\n"
     ]
    }
   ],
   "source": [
    "opt = keras.optimizers.SGD(learning_rate=0.001)\n",
    "model.compile(loss=\"sparse_categorical_crossentropy\", optimizer=opt, metrics=[\"accuracy\"])\n",
    "\n",
    "checkpoint_cb = keras.callbacks.ModelCheckpoint(\"/Users/Lojenaa/Documents/PhD/Smartphones/Cross-device-Portability-of-EMSCA/Smartphones/iPhone/iPhone13/iPhone13_normalization/iPHONE13_I_normalize_model.h5\", save_best_only=True)\n",
    "history = model.fit(X_train, y_train, epochs=30, validation_split=0.1, callbacks=[checkpoint_cb])"
   ]
  },
  {
   "cell_type": "code",
   "execution_count": 8,
   "metadata": {},
   "outputs": [
    {
     "data": {
      "image/png": "[encoded data removed]",
      "text/plain": [
       "<Figure size 800x500 with 1 Axes>"
      ]
     },
     "metadata": {},
     "output_type": "display_data"
    }
   ],
   "source": [
    "pd.DataFrame(history.history).plot(figsize=(8, 5))\n",
    "plt.grid(True)\n",
    "plt.gca().set_ylim(0, 1) # set the vertical range to [0-1]\n",
    "plt.show()"
   ]
  },
  {
   "cell_type": "code",
   "execution_count": null,
   "metadata": {},
   "outputs": [],
   "source": [
    "model = keras.models.load_model(\"/Users/Lojenaa/Documents/PhD/Smartphones/Cross-device-Portability-of-EMSCA/Smartphones/iPhone/iPhone13/iPhone13_own_models/iPHONE13_I_model.h5\")"
   ]
  },
  {
   "cell_type": "code",
   "execution_count": 9,
   "metadata": {},
   "outputs": [
    {
     "name": "stdout",
     "output_type": "stream",
     "text": [
      "313/313 [==============================] - 1s 2ms/step - loss: nan - accuracy: 0.1011\n",
      "test loss, test acc: [nan, 0.10109999775886536]\n"
     ]
    }
   ],
   "source": [
    "results = model.evaluate(X_test, y_test)\n",
    "print(\"test loss, test acc:\", results)"
   ]
  },
  {
   "cell_type": "code",
   "execution_count": 10,
   "metadata": {},
   "outputs": [
    {
     "name": "stdout",
     "output_type": "stream",
     "text": [
      "313/313 [==============================] - 1s 2ms/step\n",
      "[0 0 0 ... 0 0 0]\n",
      "0\n"
     ]
    }
   ],
   "source": [
    "y_pred = np.argmax(model.predict(X_test), axis=-1)\n",
    "print(y_pred)\n",
    "print(y_pred[0])"
   ]
  },
  {
   "cell_type": "code",
   "execution_count": 11,
   "metadata": {},
   "outputs": [
    {
     "name": "stdout",
     "output_type": "stream",
     "text": [
      "[[1011    0    0    0    0    0    0    0    0    0]\n",
      " [1010    0    0    0    0    0    0    0    0    0]\n",
      " [ 993    0    0    0    0    0    0    0    0    0]\n",
      " [ 939    0    0    0    0    0    0    0    0    0]\n",
      " [1043    0    0    0    0    0    0    0    0    0]\n",
      " [1027    0    0    0    0    0    0    0    0    0]\n",
      " [ 999    0    0    0    0    0    0    0    0    0]\n",
      " [ 974    0    0    0    0    0    0    0    0    0]\n",
      " [1003    0    0    0    0    0    0    0    0    0]\n",
      " [1001    0    0    0    0    0    0    0    0    0]]\n",
      "              precision    recall  f1-score   support\n",
      "\n",
      "           0       0.10      1.00      0.18      1011\n",
      "           1       0.00      0.00      0.00      1010\n",
      "           2       0.00      0.00      0.00       993\n",
      "           3       0.00      0.00      0.00       939\n",
      "           4       0.00      0.00      0.00      1043\n",
      "           5       0.00      0.00      0.00      1027\n",
      "           6       0.00      0.00      0.00       999\n",
      "           7       0.00      0.00      0.00       974\n",
      "           8       0.00      0.00      0.00      1003\n",
      "           9       0.00      0.00      0.00      1001\n",
      "\n",
      "    accuracy                           0.10     10000\n",
      "   macro avg       0.01      0.10      0.02     10000\n",
      "weighted avg       0.01      0.10      0.02     10000\n",
      "\n"
     ]
    }
   ],
   "source": [
    "print(confusion_matrix(y_test, y_pred))\n",
    "print(classification_report(y_test, y_pred))"
   ]
  },
  {
   "cell_type": "code",
   "execution_count": 12,
   "metadata": {},
   "outputs": [
    {
     "name": "stdout",
     "output_type": "stream",
     "text": [
      "Test Accuracy:0.1011\n"
     ]
    },
    {
     "data": {
      "text/plain": [
       "Text(0.5, 1.0, 'Accuracy:0.101')"
      ]
     },
     "execution_count": 12,
     "metadata": {},
     "output_type": "execute_result"
    },
    {
     "data": {
      "image/png": "[encoded data removed]",
      "text/plain": [
       "<Figure size 1500x1500 with 2 Axes>"
      ]
     },
     "metadata": {},
     "output_type": "display_data"
    }
   ],
   "source": [
    "# confusion matrix plot\n",
    "plt.rcParams[\"figure.figsize\"] = (15,15)\n",
    "fig, axs = plt.subplots(1)\n",
    "\n",
    "test_acc = metrics.accuracy_score(y_pred,y_test)\n",
    "print(f\"Test Accuracy:{test_acc}\")\n",
    "metrics.ConfusionMatrixDisplay.from_predictions(y_test, y_pred, ax=axs)\n",
    "plt.title(f\"Accuracy:{test_acc:.3f}\")\n",
    "# plt.savefig(f'/Users/Lojenaa/Documents/PhD/Smartphones/Cross-device-Portability-of-EMSCA/Smartphones/iPhone/iPhone13/iPhone13_II_confusion_matrix.pdf')"
   ]
  },
  {
   "cell_type": "markdown",
   "metadata": {},
   "source": [
    "## iPhone13_I_BeSh dataset"
   ]
  },
  {
   "cell_type": "code",
   "execution_count": null,
   "metadata": {},
   "outputs": [],
   "source": [
    "class_label = 10\n",
    "for i in range(class_label):\n",
    "\n",
    "    folder_path = \"/Volumes/Transcend/PhD in Computing/Data Collection/Smartphones/EM_Signals_Location_oriented/iPhone13_Beer Sheve,Israel/\"\n",
    "    if(i==0):\n",
    "        data = getData(folder_path + \"calendar_app.cfile\")\n",
    "        print(np.array(data))\n",
    "        X, Y = create_dataset(data, i)\n",
    "\n",
    "    else:\n",
    "\n",
    "        if(i==1):\n",
    "            data = getData(folder_path + \"camera_photo.cfile\")\n",
    "            print(np.array(data))\n",
    "            dataset, label = create_dataset(data, i)\n",
    "\n",
    "        if(i==2):\n",
    "            data = getData(folder_path + \"camera_video.cfile\")\n",
    "            print(np.array(data))\n",
    "            dataset, label = create_dataset(data, i)\n",
    "\n",
    "        if(i==3):\n",
    "            data = getData(folder_path + \"email_app.cfile\")\n",
    "            print(np.array(data))\n",
    "            dataset, label = create_dataset(data, i)\n",
    "\n",
    "        if(i==4):\n",
    "            data = getData(folder_path + \"gallery_app.cfile\")\n",
    "            print(np.array(data))\n",
    "            dataset, label = create_dataset(data, i)\n",
    "\n",
    "        if(i==5):\n",
    "            data = getData(folder_path + \"home_screen.cfile\")\n",
    "            print(np.array(data))\n",
    "            dataset, label = create_dataset(data, i)\n",
    "\n",
    "        if(i==6):\n",
    "            data = getData(folder_path + \"idle.cfile\")\n",
    "            print(np.array(data))\n",
    "            dataset, label = create_dataset(data, i)\n",
    "\n",
    "        if(i==7):\n",
    "            data = getData(folder_path + \"phone_app.cfile\")\n",
    "            print(np.array(data))\n",
    "            dataset, label = create_dataset(data, i)\n",
    "\n",
    "        if(i==8):\n",
    "            data = getData(folder_path + \"sms_app.cfile\")\n",
    "            print(np.array(data))\n",
    "            dataset, label = create_dataset(data, i)\n",
    "\n",
    "        if(i==9):\n",
    "            data = getData(folder_path + \"web_browser_app.cfile\")\n",
    "            print(np.array(data))\n",
    "            dataset, label = create_dataset(data, i)\n",
    "\n",
    "        X = np.concatenate((X, dataset), axis=0) \n",
    "        Y = np.concatenate((Y, label), axis=0)\n",
    "        \n",
    "    print(X.shape)\n",
    "    print(Y.shape)\n",
    "\n",
    "# combine all em signals into one dataframe\n",
    "em_data = pd.DataFrame(X)\n",
    "em_data.insert(len(em_data.columns), 'labels', Y)\n",
    "\n",
    "# save to csv file\n",
    "# (em_data.T).to_csv(f'/Users/Lojenaa/Documents/PhD/Smartphones/Cross-device-Portability-of-EMSCA/Smartphones/iPhone/iPhone13/i13_I_BeSh.csv', header=False)"
   ]
  },
  {
   "cell_type": "code",
   "execution_count": null,
   "metadata": {},
   "outputs": [],
   "source": [
    "from sklearn.decomposition import PCA\n",
    "\n",
    "def plot_3d(signal, plot_name, colors, labels, out_path):\n",
    "    pca = PCA(n_components=3)\n",
    "    pca_data =pd.DataFrame(pca.fit_transform(signal))\n",
    "    # visualize in 3d\n",
    "    fig = plt.figure(figsize=(15,8))\n",
    "    ax = fig.add_subplot(1, 1, 1, projection='3d')\n",
    "    scatter =ax.scatter(pca_data[0],pca_data[1],pca_data[2], c=colors)\n",
    "    ax.view_init(elev=35, azim=170)\n",
    "    ax.legend(handles=scatter.legend_elements()[0], loc=\"best\", labels=labels);\n",
    "    ax.set_title(plot_name);\n",
    "    plt.savefig(out_path)\n",
    "\n",
    "# EM scatter\n",
    "data = em_data\n",
    "labels = data['labels']\n",
    "data = data.drop(columns=['labels'])\n",
    "data = data.dropna(axis='columns')\n",
    "unique_labels = labels.unique()\n",
    "labels2colors = {}\n",
    "classes = []\n",
    "for i,unique_label in enumerate(unique_labels):\n",
    "    labels2colors[unique_label] = i\n",
    "    classes.append(unique_label)\n",
    "colors = [labels2colors[label] for label in labels]\n",
    "plot_3d(data,\"EM\", colors, classes,f'/Users/Lojenaa/Documents/PhD/Smartphones/Cross-device-Portability-of-EMSCA/Smartphones/iPhone/iPhone13/iPhone13_own_models/i13_I_BeSh_scatter.pdf')"
   ]
  },
  {
   "cell_type": "code",
   "execution_count": null,
   "metadata": {},
   "outputs": [],
   "source": [
    "# Split data to train and test sets\n",
    "X_train, X_test, y_train, y_test = train_test_split(X, Y, test_size=0.1, random_state=0)"
   ]
  },
  {
   "cell_type": "code",
   "execution_count": null,
   "metadata": {},
   "outputs": [],
   "source": [
    "model = keras.models.Sequential()\n",
    "model.add(keras.layers.Input(shape=(feature_vector_size,)))\n",
    "model.add(keras.layers.Dense(1400, activation=\"relu\"))\n",
    "model.add(keras.layers.Dense(800, activation=\"relu\"))\n",
    "model.add(keras.layers.Dense(500, activation=\"relu\"))\n",
    "model.add(keras.layers.Dense(200, activation=\"relu\"))\n",
    "model.add(keras.layers.Dense(100, activation=\"relu\"))\n",
    "model.add(keras.layers.Dense(10, activation=\"softmax\"))\n",
    "model.summary()"
   ]
  },
  {
   "cell_type": "code",
   "execution_count": null,
   "metadata": {},
   "outputs": [],
   "source": [
    "opt = keras.optimizers.SGD(learning_rate=0.001)\n",
    "model.compile(loss=\"sparse_categorical_crossentropy\", optimizer=opt, metrics=[\"accuracy\"])"
   ]
  },
  {
   "cell_type": "code",
   "execution_count": null,
   "metadata": {},
   "outputs": [],
   "source": [
    "checkpoint_cb = keras.callbacks.ModelCheckpoint(\"/Users/Lojenaa/Documents/PhD/Smartphones/Cross-device-Portability-of-EMSCA/Smartphones/iPhone/iPhone13/iPhone13_own_models/iPHONE13_I_BeSh_model.h5\", save_best_only=True)\n",
    "history = model.fit(X_train, y_train, epochs=30, validation_split=0.1, callbacks=[checkpoint_cb])"
   ]
  },
  {
   "cell_type": "code",
   "execution_count": null,
   "metadata": {},
   "outputs": [],
   "source": [
    "pd.DataFrame(history.history).plot(figsize=(8, 5))\n",
    "plt.grid(True)\n",
    "plt.gca().set_ylim(0, 1) # set the vertical range to [0-1]\n",
    "plt.show()"
   ]
  },
  {
   "cell_type": "code",
   "execution_count": null,
   "metadata": {},
   "outputs": [],
   "source": [
    "model = keras.models.load_model(\"/Users/Lojenaa/Documents/PhD/Smartphones/Cross-device-Portability-of-EMSCA/Smartphones/iPhone/iPhone13/iPhone13_own_models/iPHONE13_I_BeSh_model.h5\")"
   ]
  },
  {
   "cell_type": "code",
   "execution_count": null,
   "metadata": {},
   "outputs": [],
   "source": [
    "results = model.evaluate(X_test, y_test)\n",
    "print(\"test loss, test acc:\", results)"
   ]
  },
  {
   "cell_type": "code",
   "execution_count": null,
   "metadata": {},
   "outputs": [],
   "source": [
    "y_pred = np.argmax(model.predict(X_test), axis=-1)\n",
    "print(y_pred)\n",
    "print(y_pred[0])"
   ]
  },
  {
   "cell_type": "code",
   "execution_count": null,
   "metadata": {},
   "outputs": [],
   "source": [
    "print(confusion_matrix(y_test, y_pred))\n",
    "print(classification_report(y_test, y_pred))"
   ]
  },
  {
   "cell_type": "code",
   "execution_count": null,
   "metadata": {},
   "outputs": [],
   "source": [
    "# confusion matrix plot\n",
    "plt.rcParams[\"figure.figsize\"] = (15,15)\n",
    "fig, axs = plt.subplots(1)\n",
    "\n",
    "test_acc = metrics.accuracy_score(y_pred,y_test)\n",
    "print(f\"Test Accuracy:{test_acc}\")\n",
    "metrics.ConfusionMatrixDisplay.from_predictions(y_test, y_pred, ax=axs)\n",
    "plt.title(f\"Accuracy:{test_acc:.3f}\")\n",
    "# plt.savefig(f'/Users/Lojenaa/Documents/PhD/Smartphones/Cross-device-Portability-of-EMSCA/Smartphones/iPhone/iPhone13/iPhone13_I_confusion_matrix.pdf')"
   ]
  },
  {
   "cell_type": "markdown",
   "metadata": {},
   "source": [
    "## iPhone13_I(ii) dataset"
   ]
  },
  {
   "cell_type": "code",
   "execution_count": null,
   "metadata": {},
   "outputs": [],
   "source": [
    "class_label = 10\n",
    "for i in range(class_label):\n",
    "\n",
    "    folder_path = \"/Volumes/Transcend/PhD in Computing/Data Collection/Smartphones/EM_Signals_Validate/iPhone13/iPhone13_I_(ii)/\"\n",
    "    if(i==0):\n",
    "        data = getData(folder_path + \"calendar_app.cfile\")\n",
    "        print(np.array(data))\n",
    "        X, Y = create_dataset(data, i)\n",
    "\n",
    "    else:\n",
    "\n",
    "        if(i==1):\n",
    "            data = getData(folder_path + \"camera_photo.cfile\")\n",
    "            print(np.array(data))\n",
    "            dataset, label = create_dataset(data, i)\n",
    "\n",
    "        if(i==2):\n",
    "            data = getData(folder_path + \"camera_video.cfile\")\n",
    "            print(np.array(data))\n",
    "            dataset, label = create_dataset(data, i)\n",
    "\n",
    "        if(i==3):\n",
    "            data = getData(folder_path + \"email_app.cfile\")\n",
    "            print(np.array(data))\n",
    "            dataset, label = create_dataset(data, i)\n",
    "\n",
    "        if(i==4):\n",
    "            data = getData(folder_path + \"gallery_app.cfile\")\n",
    "            print(np.array(data))\n",
    "            dataset, label = create_dataset(data, i)\n",
    "\n",
    "        if(i==5):\n",
    "            data = getData(folder_path + \"home_screen.cfile\")\n",
    "            print(np.array(data))\n",
    "            dataset, label = create_dataset(data, i)\n",
    "\n",
    "        if(i==6):\n",
    "            data = getData(folder_path + \"idle.cfile\")\n",
    "            print(np.array(data))\n",
    "            dataset, label = create_dataset(data, i)\n",
    "\n",
    "        if(i==7):\n",
    "            data = getData(folder_path + \"phone_app.cfile\")\n",
    "            print(np.array(data))\n",
    "            dataset, label = create_dataset(data, i)\n",
    "\n",
    "        if(i==8):\n",
    "            data = getData(folder_path + \"sms_app.cfile\")\n",
    "            print(np.array(data))\n",
    "            dataset, label = create_dataset(data, i)\n",
    "\n",
    "        if(i==9):\n",
    "            data = getData(folder_path + \"web-browser_app.cfile\")\n",
    "            print(np.array(data))\n",
    "            dataset, label = create_dataset(data, i)\n",
    "\n",
    "        X = np.concatenate((X, dataset), axis=0) \n",
    "        Y = np.concatenate((Y, label), axis=0)\n",
    "        \n",
    "    print(X.shape)\n",
    "    print(Y.shape)\n",
    "\n",
    "# combine all em signals into one dataframe\n",
    "em_data = pd.DataFrame(X)\n",
    "em_data.insert(len(em_data.columns), 'labels', Y)\n",
    "\n",
    "# save to csv file\n",
    "# (em_data.T).to_csv(f'/Users/Lojenaa/Documents/PhD/Smartphones/Cross-device-Portability-of-EMSCA/Smartphones/iPhone/iPhone13/i13_I_BeSh.csv', header=False)"
   ]
  },
  {
   "cell_type": "code",
   "execution_count": null,
   "metadata": {},
   "outputs": [],
   "source": [
    "# Split data to train and test sets\n",
    "X_train, X_test, y_train, y_test = train_test_split(X, Y, test_size=0.1, random_state=0)"
   ]
  },
  {
   "cell_type": "code",
   "execution_count": null,
   "metadata": {},
   "outputs": [],
   "source": [
    "model = keras.models.Sequential()\n",
    "model.add(keras.layers.Input(shape=(feature_vector_size,)))\n",
    "model.add(keras.layers.Dense(1400, activation=\"relu\"))\n",
    "model.add(keras.layers.Dense(800, activation=\"relu\"))\n",
    "model.add(keras.layers.Dense(500, activation=\"relu\"))\n",
    "model.add(keras.layers.Dense(200, activation=\"relu\"))\n",
    "model.add(keras.layers.Dense(100, activation=\"relu\"))\n",
    "model.add(keras.layers.Dense(10, activation=\"softmax\"))\n",
    "model.summary()"
   ]
  },
  {
   "cell_type": "code",
   "execution_count": null,
   "metadata": {},
   "outputs": [],
   "source": [
    "opt = keras.optimizers.SGD(learning_rate=0.001)\n",
    "model.compile(loss=\"sparse_categorical_crossentropy\", optimizer=opt, metrics=[\"accuracy\"])"
   ]
  },
  {
   "cell_type": "code",
   "execution_count": null,
   "metadata": {},
   "outputs": [],
   "source": [
    "checkpoint_cb = keras.callbacks.ModelCheckpoint(\"/Users/Lojenaa/Documents/PhD/Smartphones/Cross-device-Portability-of-EMSCA/Smartphones/iPhone/iPhone13/iPhone13_own_models/iPHONE13_I(ii)_model.h5\", save_best_only=True)\n",
    "history = model.fit(X_train, y_train, epochs=30, validation_split=0.1, callbacks=[checkpoint_cb])"
   ]
  },
  {
   "cell_type": "code",
   "execution_count": null,
   "metadata": {},
   "outputs": [],
   "source": [
    "pd.DataFrame(history.history).plot(figsize=(8, 5))\n",
    "plt.grid(True)\n",
    "plt.gca().set_ylim(0, 1) # set the vertical range to [0-1]\n",
    "plt.show()"
   ]
  },
  {
   "cell_type": "code",
   "execution_count": null,
   "metadata": {},
   "outputs": [],
   "source": [
    "model = keras.models.load_model(\"/Users/Lojenaa/Documents/PhD/Smartphones/Cross-device-Portability-of-EMSCA/Smartphones/iPhone/iPhone13/iPhone13_own_models/iPHONE13_I(ii)_model.h5\")"
   ]
  },
  {
   "cell_type": "code",
   "execution_count": null,
   "metadata": {},
   "outputs": [],
   "source": [
    "results = model.evaluate(X_test, y_test)\n",
    "print(\"test loss, test acc:\", results)"
   ]
  },
  {
   "cell_type": "code",
   "execution_count": null,
   "metadata": {},
   "outputs": [],
   "source": [
    "y_pred = np.argmax(model.predict(X_test), axis=-1)\n",
    "print(y_pred)\n",
    "print(y_pred[0])"
   ]
  },
  {
   "cell_type": "code",
   "execution_count": null,
   "metadata": {},
   "outputs": [],
   "source": [
    "print(confusion_matrix(y_test, y_pred))\n",
    "print(classification_report(y_test, y_pred))"
   ]
  },
  {
   "cell_type": "code",
   "execution_count": null,
   "metadata": {},
   "outputs": [],
   "source": [
    "# confusion matrix plot\n",
    "plt.rcParams[\"figure.figsize\"] = (15,15)\n",
    "fig, axs = plt.subplots(1)\n",
    "\n",
    "test_acc = metrics.accuracy_score(y_pred,y_test)\n",
    "print(f\"Test Accuracy:{test_acc}\")\n",
    "metrics.ConfusionMatrixDisplay.from_predictions(y_test, y_pred, ax=axs)\n",
    "plt.title(f\"Accuracy:{test_acc:.3f}\")\n",
    "plt.savefig(f'/Users/Lojenaa/Documents/PhD/Smartphones/Cross-device-Portability-of-EMSCA/Smartphones/iPhone/iPhone13/iPhone13_I_confusion_matrix.pdf')"
   ]
  },
  {
   "cell_type": "markdown",
   "metadata": {},
   "source": [
    "## iPhone13_I(iii) dataset"
   ]
  },
  {
   "cell_type": "code",
   "execution_count": null,
   "metadata": {},
   "outputs": [],
   "source": [
    "class_label = 10\n",
    "for i in range(class_label):\n",
    "\n",
    "    folder_path = \"/Volumes/Transcend/PhD in Computing/Data Collection/Smartphones/EM_Signals_iPhone13_I_Validate/iPhone13_I_(iii)/\"\n",
    "    if(i==0):\n",
    "        data = getData(folder_path + \"calendar-app.cfile\")\n",
    "        print(np.array(data))\n",
    "        X, Y = create_dataset(data, i)\n",
    "\n",
    "    else:\n",
    "\n",
    "        if(i==1):\n",
    "            data = getData(folder_path + \"camera-photo.cfile\")\n",
    "            print(np.array(data))\n",
    "            dataset, label = create_dataset(data, i)\n",
    "\n",
    "        if(i==2):\n",
    "            data = getData(folder_path + \"camera-video.cfile\")\n",
    "            print(np.array(data))\n",
    "            dataset, label = create_dataset(data, i)\n",
    "\n",
    "        if(i==3):\n",
    "            data = getData(folder_path + \"email-app.cfile\")\n",
    "            print(np.array(data))\n",
    "            dataset, label = create_dataset(data, i)\n",
    "\n",
    "        if(i==4):\n",
    "            data = getData(folder_path + \"gallery-app.cfile\")\n",
    "            print(np.array(data))\n",
    "            dataset, label = create_dataset(data, i)\n",
    "\n",
    "        if(i==5):\n",
    "            data = getData(folder_path + \"home-screen.cfile\")\n",
    "            print(np.array(data))\n",
    "            dataset, label = create_dataset(data, i)\n",
    "\n",
    "        if(i==6):\n",
    "            data = getData(folder_path + \"idle.cfile\")\n",
    "            print(np.array(data))\n",
    "            dataset, label = create_dataset(data, i)\n",
    "\n",
    "        if(i==7):\n",
    "            data = getData(folder_path + \"phone-app.cfile\")\n",
    "            print(np.array(data))\n",
    "            dataset, label = create_dataset(data, i)\n",
    "\n",
    "        if(i==8):\n",
    "            data = getData(folder_path + \"sms-app.cfile\")\n",
    "            print(np.array(data))\n",
    "            dataset, label = create_dataset(data, i)\n",
    "\n",
    "        if(i==9):\n",
    "            data = getData(folder_path + \"web_browser-app.cfile\")\n",
    "            print(np.array(data))\n",
    "            dataset, label = create_dataset(data, i)\n",
    "\n",
    "        X = np.concatenate((X, dataset), axis=0) \n",
    "        Y = np.concatenate((Y, label), axis=0)\n",
    "        \n",
    "    print(X.shape)\n",
    "    print(Y.shape)\n",
    "\n",
    "# combine all em signals into one dataframe\n",
    "em_data = pd.DataFrame(X)\n",
    "em_data.insert(len(em_data.columns), 'labels', Y)\n",
    "\n",
    "# save to csv file\n",
    "# (em_data.T).to_csv(f'/Users/Lojenaa/Documents/PhD/Smartphones/Cross-device-Portability-of-EMSCA/Smartphones/iPhone/iPhone13/i13_I_BeSh.csv', header=False)"
   ]
  },
  {
   "cell_type": "code",
   "execution_count": null,
   "metadata": {},
   "outputs": [],
   "source": [
    "from sklearn.decomposition import PCA\n",
    "\n",
    "def plot_3d(signal, plot_name, colors, labels, out_path):\n",
    "    pca = PCA(n_components=3)\n",
    "    pca_data =pd.DataFrame(pca.fit_transform(signal))\n",
    "    # visualize in 3d\n",
    "    fig = plt.figure(figsize=(15,8))\n",
    "    ax = fig.add_subplot(1, 1, 1, projection='3d')\n",
    "    scatter =ax.scatter(pca_data[0],pca_data[1],pca_data[2], c=colors)\n",
    "    ax.view_init(elev=35, azim=170)\n",
    "    ax.legend(handles=scatter.legend_elements()[0], loc=\"best\", labels=labels);\n",
    "    ax.set_title(plot_name);\n",
    "    plt.savefig(out_path)\n",
    "\n",
    "# EM scatter\n",
    "data = em_data\n",
    "labels = data['labels']\n",
    "data = data.drop(columns=['labels'])\n",
    "data = data.dropna(axis='columns')\n",
    "unique_labels = labels.unique()\n",
    "labels2colors = {}\n",
    "classes = []\n",
    "for i,unique_label in enumerate(unique_labels):\n",
    "    labels2colors[unique_label] = i\n",
    "    classes.append(unique_label)\n",
    "colors = [labels2colors[label] for label in labels]\n",
    "plot_3d(data,\"EM\", colors, classes,f'/Users/Lojenaa/Documents/PhD/Smartphones/Cross-device-Portability-of-EMSCA/Smartphones/iPhone/iPhone13/iPhone13_own_models/i13_I(iii)_scatter.pdf')"
   ]
  },
  {
   "cell_type": "code",
   "execution_count": null,
   "metadata": {},
   "outputs": [],
   "source": [
    "# Split data to train and test sets\n",
    "X_train, X_test, y_train, y_test = train_test_split(X, Y, test_size=0.1, random_state=0)"
   ]
  },
  {
   "cell_type": "code",
   "execution_count": null,
   "metadata": {},
   "outputs": [],
   "source": [
    "model = keras.models.Sequential()\n",
    "model.add(keras.layers.Input(shape=(feature_vector_size,)))\n",
    "model.add(keras.layers.Dense(1400, activation=\"relu\"))\n",
    "model.add(keras.layers.Dense(800, activation=\"relu\"))\n",
    "model.add(keras.layers.Dense(500, activation=\"relu\"))\n",
    "model.add(keras.layers.Dense(200, activation=\"relu\"))\n",
    "model.add(keras.layers.Dense(100, activation=\"relu\"))\n",
    "model.add(keras.layers.Dense(10, activation=\"softmax\"))\n",
    "model.summary()"
   ]
  },
  {
   "cell_type": "code",
   "execution_count": null,
   "metadata": {},
   "outputs": [],
   "source": [
    "opt = keras.optimizers.SGD(learning_rate=0.001)\n",
    "model.compile(loss=\"sparse_categorical_crossentropy\", optimizer=opt, metrics=[\"accuracy\"])\n",
    "\n",
    "checkpoint_cb = keras.callbacks.ModelCheckpoint(\"/Users/Lojenaa/Documents/PhD/Smartphones/Cross-device-Portability-of-EMSCA/Smartphones/iPhone/iPhone13/iPhone13_own_models/iPHONE13_I(iii)_model.h5\", save_best_only=True)\n",
    "history = model.fit(X_train, y_train, epochs=30, validation_split=0.1, callbacks=[checkpoint_cb])"
   ]
  },
  {
   "cell_type": "code",
   "execution_count": null,
   "metadata": {},
   "outputs": [],
   "source": [
    "pd.DataFrame(history.history).plot(figsize=(8, 5))\n",
    "plt.grid(True)\n",
    "plt.gca().set_ylim(0, 1) # set the vertical range to [0-1]\n",
    "plt.show()"
   ]
  },
  {
   "cell_type": "code",
   "execution_count": null,
   "metadata": {},
   "outputs": [],
   "source": [
    "model = keras.models.load_model(\"/Users/Lojenaa/Documents/PhD/Smartphones/Cross-device-Portability-of-EMSCA/Smartphones/iPhone/iPhone13/iPhone13_own_models/iPHONE13_I(iii)_model.h5\")"
   ]
  },
  {
   "cell_type": "code",
   "execution_count": null,
   "metadata": {},
   "outputs": [],
   "source": [
    "results = model.evaluate(X_test, y_test)\n",
    "print(\"test loss, test acc:\", results)"
   ]
  },
  {
   "cell_type": "code",
   "execution_count": null,
   "metadata": {},
   "outputs": [],
   "source": [
    "y_pred = np.argmax(model.predict(X_test), axis=-1)\n",
    "print(y_pred)\n",
    "print(y_pred[0])"
   ]
  },
  {
   "cell_type": "code",
   "execution_count": null,
   "metadata": {},
   "outputs": [],
   "source": [
    "print(confusion_matrix(y_test, y_pred))\n",
    "print(classification_report(y_test, y_pred))"
   ]
  },
  {
   "cell_type": "code",
   "execution_count": null,
   "metadata": {},
   "outputs": [],
   "source": [
    "# confusion matrix plot\n",
    "plt.rcParams[\"figure.figsize\"] = (15,15)\n",
    "fig, axs = plt.subplots(1)\n",
    "\n",
    "test_acc = metrics.accuracy_score(y_pred,y_test)\n",
    "print(f\"Test Accuracy:{test_acc}\")\n",
    "metrics.ConfusionMatrixDisplay.from_predictions(y_test, y_pred, ax=axs)\n",
    "plt.title(f\"Accuracy:{test_acc:.3f}\")\n",
    "# plt.savefig(f'/Users/Lojenaa/Documents/PhD/Smartphones/Cross-device-Portability-of-EMSCA/Smartphones/iPhone/iPhone13/iPhone13_II_confusion_matrix.pdf')"
   ]
  },
  {
   "cell_type": "markdown",
   "metadata": {},
   "source": [
    "## iPhone13_I_data1 dataset"
   ]
  },
  {
   "cell_type": "code",
   "execution_count": null,
   "metadata": {},
   "outputs": [],
   "source": [
    "class_label = 10\n",
    "for i in range(class_label):\n",
    "\n",
    "    folder_path = \"/Volumes/Transcend/PhD in Computing/Data Collection/Smartphones/EM_Signals_iPhone13_I_Validate/iPhone13_I_data1/\"\n",
    "    if(i==0):\n",
    "        data = getData(folder_path + \"calendar_app.cfile\")\n",
    "        print(np.array(data))\n",
    "        X, Y = create_dataset(data, i)\n",
    "\n",
    "    else:\n",
    "\n",
    "        if(i==1):\n",
    "            data = getData(folder_path + \"camera_photo.cfile\")\n",
    "            print(np.array(data))\n",
    "            dataset, label = create_dataset(data, i)\n",
    "\n",
    "        if(i==2):\n",
    "            data = getData(folder_path + \"camera_video.cfile\")\n",
    "            print(np.array(data))\n",
    "            dataset, label = create_dataset(data, i)\n",
    "\n",
    "        if(i==3):\n",
    "            data = getData(folder_path + \"email_app.cfile\")\n",
    "            print(np.array(data))\n",
    "            dataset, label = create_dataset(data, i)\n",
    "\n",
    "        if(i==4):\n",
    "            data = getData(folder_path + \"gallary_app.cfile\")\n",
    "            print(np.array(data))\n",
    "            dataset, label = create_dataset(data, i)\n",
    "\n",
    "        if(i==5):\n",
    "            data = getData(folder_path + \"home_screen.cfile\")\n",
    "            print(np.array(data))\n",
    "            dataset, label = create_dataset(data, i)\n",
    "\n",
    "        if(i==6):\n",
    "            data = getData(folder_path + \"idle.cfile\")\n",
    "            print(np.array(data))\n",
    "            dataset, label = create_dataset(data, i)\n",
    "\n",
    "        if(i==7):\n",
    "            data = getData(folder_path + \"phone_app.cfile\")\n",
    "            print(np.array(data))\n",
    "            dataset, label = create_dataset(data, i)\n",
    "\n",
    "        if(i==8):\n",
    "            data = getData(folder_path + \"sms_app.cfile\")\n",
    "            print(np.array(data))\n",
    "            dataset, label = create_dataset(data, i)\n",
    "\n",
    "        if(i==9):\n",
    "            data = getData(folder_path + \"web_browser_app.cfile\")\n",
    "            print(np.array(data))\n",
    "            dataset, label = create_dataset(data, i)\n",
    "\n",
    "        X = np.concatenate((X, dataset), axis=0) \n",
    "        Y = np.concatenate((Y, label), axis=0)\n",
    "        \n",
    "    print(X.shape)\n",
    "    print(Y.shape)\n",
    "\n",
    "# combine all em signals into one dataframe\n",
    "em_data = pd.DataFrame(X)\n",
    "em_data.insert(len(em_data.columns), 'labels', Y)\n",
    "\n",
    "# save to csv file\n",
    "# (em_data.T).to_csv(f'/Users/Lojenaa/Documents/PhD/Smartphones/Cross-device-Portability-of-EMSCA/Smartphones/iPhone/iPhone13/i13_I_BeSh.csv', header=False)"
   ]
  },
  {
   "cell_type": "code",
   "execution_count": null,
   "metadata": {},
   "outputs": [],
   "source": [
    "from sklearn.decomposition import PCA\n",
    "\n",
    "def plot_3d(signal, plot_name, colors, labels, out_path):\n",
    "    pca = PCA(n_components=3)\n",
    "    pca_data =pd.DataFrame(pca.fit_transform(signal))\n",
    "    # visualize in 3d\n",
    "    fig = plt.figure(figsize=(15,8))\n",
    "    ax = fig.add_subplot(1, 1, 1, projection='3d')\n",
    "    scatter =ax.scatter(pca_data[0],pca_data[1],pca_data[2], c=colors)\n",
    "    ax.view_init(elev=35, azim=170)\n",
    "    ax.legend(handles=scatter.legend_elements()[0], loc=\"best\", labels=labels);\n",
    "    ax.set_title(plot_name);\n",
    "    plt.savefig(out_path)\n",
    "\n",
    "# EM scatter\n",
    "data = em_data\n",
    "labels = data['labels']\n",
    "data = data.drop(columns=['labels'])\n",
    "data = data.dropna(axis='columns')\n",
    "unique_labels = labels.unique()\n",
    "labels2colors = {}\n",
    "classes = []\n",
    "for i,unique_label in enumerate(unique_labels):\n",
    "    labels2colors[unique_label] = i\n",
    "    classes.append(unique_label)\n",
    "colors = [labels2colors[label] for label in labels]\n",
    "plot_3d(data,\"EM\", colors, classes,f'/Users/Lojenaa/Documents/PhD/Smartphones/Cross-device-Portability-of-EMSCA/Smartphones/iPhone/iPhone13/iPhone13_own_models/i13I_data1_scatter.pdf')"
   ]
  },
  {
   "cell_type": "code",
   "execution_count": null,
   "metadata": {},
   "outputs": [],
   "source": [
    "# Split data to train and test sets\n",
    "X_train, X_test, y_train, y_test = train_test_split(X, Y, test_size=0.1, random_state=0)"
   ]
  },
  {
   "cell_type": "code",
   "execution_count": null,
   "metadata": {},
   "outputs": [],
   "source": [
    "model = keras.models.Sequential()\n",
    "model.add(keras.layers.Input(shape=(feature_vector_size,)))\n",
    "model.add(keras.layers.Dense(1400, activation=\"relu\"))\n",
    "model.add(keras.layers.Dense(800, activation=\"relu\"))\n",
    "model.add(keras.layers.Dense(500, activation=\"relu\"))\n",
    "model.add(keras.layers.Dense(200, activation=\"relu\"))\n",
    "model.add(keras.layers.Dense(100, activation=\"relu\"))\n",
    "model.add(keras.layers.Dense(10, activation=\"softmax\"))\n",
    "model.summary()"
   ]
  },
  {
   "cell_type": "code",
   "execution_count": null,
   "metadata": {},
   "outputs": [],
   "source": [
    "opt = keras.optimizers.SGD(learning_rate=0.001)\n",
    "model.compile(loss=\"sparse_categorical_crossentropy\", optimizer=opt, metrics=[\"accuracy\"])\n",
    "\n",
    "checkpoint_cb = keras.callbacks.ModelCheckpoint(\"/Users/Lojenaa/Documents/PhD/Smartphones/Cross-device-Portability-of-EMSCA/Smartphones/iPhone/iPhone13/iPhone13_own_models/iPHONE13_I_data1_model.h5\", save_best_only=True)\n",
    "history = model.fit(X_train, y_train, epochs=30, validation_split=0.1, callbacks=[checkpoint_cb])"
   ]
  },
  {
   "cell_type": "code",
   "execution_count": null,
   "metadata": {},
   "outputs": [],
   "source": [
    "pd.DataFrame(history.history).plot(figsize=(8, 5))\n",
    "plt.grid(True)\n",
    "plt.gca().set_ylim(0, 1) # set the vertical range to [0-1]\n",
    "plt.show()"
   ]
  },
  {
   "cell_type": "code",
   "execution_count": null,
   "metadata": {},
   "outputs": [],
   "source": [
    "model = keras.models.load_model(\"/Users/Lojenaa/Documents/PhD/Smartphones/Cross-device-Portability-of-EMSCA/Smartphones/iPhone/iPhone13/iPhone13_own_models/iPHONE13_I_data1_model.h5\")"
   ]
  },
  {
   "cell_type": "code",
   "execution_count": null,
   "metadata": {},
   "outputs": [],
   "source": [
    "results = model.evaluate(X_test, y_test)\n",
    "print(\"test loss, test acc:\", results)"
   ]
  },
  {
   "cell_type": "code",
   "execution_count": null,
   "metadata": {},
   "outputs": [],
   "source": [
    "y_pred = np.argmax(model.predict(X_test), axis=-1)\n",
    "print(y_pred)\n",
    "print(y_pred[0])"
   ]
  },
  {
   "cell_type": "code",
   "execution_count": null,
   "metadata": {},
   "outputs": [],
   "source": [
    "print(confusion_matrix(y_test, y_pred))\n",
    "print(classification_report(y_test, y_pred))"
   ]
  },
  {
   "cell_type": "code",
   "execution_count": null,
   "metadata": {},
   "outputs": [],
   "source": [
    "# confusion matrix plot\n",
    "plt.rcParams[\"figure.figsize\"] = (15,15)\n",
    "fig, axs = plt.subplots(1)\n",
    "\n",
    "test_acc = metrics.accuracy_score(y_pred,y_test)\n",
    "print(f\"Test Accuracy:{test_acc}\")\n",
    "metrics.ConfusionMatrixDisplay.from_predictions(y_test, y_pred, ax=axs)\n",
    "plt.title(f\"Accuracy:{test_acc:.3f}\")\n",
    "# plt.savefig(f'/Users/Lojenaa/Documents/PhD/Smartphones/Cross-device-Portability-of-EMSCA/Smartphones/iPhone/iPhone13/iPhone13_II_confusion_matrix.pdf')"
   ]
  },
  {
   "cell_type": "markdown",
   "metadata": {},
   "source": [
    "## iPhone13_I_data2 dataset"
   ]
  },
  {
   "cell_type": "code",
   "execution_count": null,
   "metadata": {},
   "outputs": [],
   "source": [
    "class_label = 10\n",
    "for i in range(class_label):\n",
    "\n",
    "    folder_path = \"/Volumes/Transcend/PhD in Computing/Data Collection/Smartphones/EM_Signals_iPhone13_I_Validate/iPhone13_I_data2/\"\n",
    "    if(i==0):\n",
    "        data = getData(folder_path + \"calendar_app.cfile\")\n",
    "        print(np.array(data))\n",
    "        X, Y = create_dataset(data, i)\n",
    "\n",
    "    else:\n",
    "\n",
    "        if(i==1):\n",
    "            data = getData(folder_path + \"camera_photo.cfile\")\n",
    "            print(np.array(data))\n",
    "            dataset, label = create_dataset(data, i)\n",
    "\n",
    "        if(i==2):\n",
    "            data = getData(folder_path + \"camera_video.cfile\")\n",
    "            print(np.array(data))\n",
    "            dataset, label = create_dataset(data, i)\n",
    "\n",
    "        if(i==3):\n",
    "            data = getData(folder_path + \"email_app.cfile\")\n",
    "            print(np.array(data))\n",
    "            dataset, label = create_dataset(data, i)\n",
    "\n",
    "        if(i==4):\n",
    "            data = getData(folder_path + \"gallery_app.cfile\")\n",
    "            print(np.array(data))\n",
    "            dataset, label = create_dataset(data, i)\n",
    "\n",
    "        if(i==5):\n",
    "            data = getData(folder_path + \"home_screen.cfile\")\n",
    "            print(np.array(data))\n",
    "            dataset, label = create_dataset(data, i)\n",
    "\n",
    "        if(i==6):\n",
    "            data = getData(folder_path + \"idle.cfile\")\n",
    "            print(np.array(data))\n",
    "            dataset, label = create_dataset(data, i)\n",
    "\n",
    "        if(i==7):\n",
    "            data = getData(folder_path + \"phone_app.cfile\")\n",
    "            print(np.array(data))\n",
    "            dataset, label = create_dataset(data, i)\n",
    "\n",
    "        if(i==8):\n",
    "            data = getData(folder_path + \"sms_app.cfile\")\n",
    "            print(np.array(data))\n",
    "            dataset, label = create_dataset(data, i)\n",
    "\n",
    "        if(i==9):\n",
    "            data = getData(folder_path + \"web_browser_app.cfile\")\n",
    "            print(np.array(data))\n",
    "            dataset, label = create_dataset(data, i)\n",
    "\n",
    "        X = np.concatenate((X, dataset), axis=0) \n",
    "        Y = np.concatenate((Y, label), axis=0)\n",
    "        \n",
    "    print(X.shape)\n",
    "    print(Y.shape)\n",
    "\n",
    "# combine all em signals into one dataframe\n",
    "em_data = pd.DataFrame(X)\n",
    "em_data.insert(len(em_data.columns), 'labels', Y)\n",
    "\n",
    "# save to csv file\n",
    "# (em_data.T).to_csv(f'/Users/Lojenaa/Documents/PhD/Smartphones/Cross-device-Portability-of-EMSCA/Smartphones/iPhone/iPhone13/i13_I_BeSh.csv', header=False)"
   ]
  },
  {
   "cell_type": "code",
   "execution_count": null,
   "metadata": {},
   "outputs": [],
   "source": [
    "from sklearn.decomposition import PCA\n",
    "\n",
    "def plot_3d(signal, plot_name, colors, labels, out_path):\n",
    "    pca = PCA(n_components=3)\n",
    "    pca_data =pd.DataFrame(pca.fit_transform(signal))\n",
    "    # visualize in 3d\n",
    "    fig = plt.figure(figsize=(15,8))\n",
    "    ax = fig.add_subplot(1, 1, 1, projection='3d')\n",
    "    scatter =ax.scatter(pca_data[0],pca_data[1],pca_data[2], c=colors)\n",
    "    ax.view_init(elev=35, azim=170)\n",
    "    ax.legend(handles=scatter.legend_elements()[0], loc=\"best\", labels=labels);\n",
    "    ax.set_title(plot_name);\n",
    "    plt.savefig(out_path)\n",
    "\n",
    "# EM scatter\n",
    "data = em_data\n",
    "labels = data['labels']\n",
    "data = data.drop(columns=['labels'])\n",
    "data = data.dropna(axis='columns')\n",
    "unique_labels = labels.unique()\n",
    "labels2colors = {}\n",
    "classes = []\n",
    "for i,unique_label in enumerate(unique_labels):\n",
    "    labels2colors[unique_label] = i\n",
    "    classes.append(unique_label)\n",
    "colors = [labels2colors[label] for label in labels]\n",
    "plot_3d(data,\"EM\", colors, classes,f'/Users/Lojenaa/Documents/PhD/Smartphones/Cross-device-Portability-of-EMSCA/Smartphones/iPhone/iPhone13/iPhone13_own_models/i13I_data2_scatter.pdf')"
   ]
  },
  {
   "cell_type": "code",
   "execution_count": null,
   "metadata": {},
   "outputs": [],
   "source": [
    "# Split data to train and test sets\n",
    "X_train, X_test, y_train, y_test = train_test_split(X, Y, test_size=0.1, random_state=0)"
   ]
  },
  {
   "cell_type": "code",
   "execution_count": null,
   "metadata": {},
   "outputs": [],
   "source": [
    "model = keras.models.Sequential()\n",
    "model.add(keras.layers.Input(shape=(feature_vector_size,)))\n",
    "model.add(keras.layers.Dense(1400, activation=\"relu\"))\n",
    "model.add(keras.layers.Dense(800, activation=\"relu\"))\n",
    "model.add(keras.layers.Dense(500, activation=\"relu\"))\n",
    "model.add(keras.layers.Dense(200, activation=\"relu\"))\n",
    "model.add(keras.layers.Dense(100, activation=\"relu\"))\n",
    "model.add(keras.layers.Dense(10, activation=\"softmax\"))\n",
    "model.summary()"
   ]
  },
  {
   "cell_type": "code",
   "execution_count": null,
   "metadata": {},
   "outputs": [],
   "source": [
    "opt = keras.optimizers.SGD(learning_rate=0.001)\n",
    "model.compile(loss=\"sparse_categorical_crossentropy\", optimizer=opt, metrics=[\"accuracy\"])\n",
    "\n",
    "checkpoint_cb = keras.callbacks.ModelCheckpoint(\"/Users/Lojenaa/Documents/PhD/Smartphones/Cross-device-Portability-of-EMSCA/Smartphones/iPhone/iPhone13/iPhone13_own_models/iPHONE13_I_data2_model.h5\", save_best_only=True)\n",
    "history = model.fit(X_train, y_train, epochs=30, validation_split=0.1, callbacks=[checkpoint_cb])"
   ]
  },
  {
   "cell_type": "code",
   "execution_count": null,
   "metadata": {},
   "outputs": [],
   "source": [
    "pd.DataFrame(history.history).plot(figsize=(8, 5))\n",
    "plt.grid(True)\n",
    "plt.gca().set_ylim(0, 1) # set the vertical range to [0-1]\n",
    "plt.show()"
   ]
  },
  {
   "cell_type": "code",
   "execution_count": null,
   "metadata": {},
   "outputs": [],
   "source": [
    "model = keras.models.load_model(\"/Users/Lojenaa/Documents/PhD/Smartphones/Cross-device-Portability-of-EMSCA/Smartphones/iPhone/iPhone13/iPhone13_own_models/iPHONE13_I_data2_model.h5\")"
   ]
  },
  {
   "cell_type": "code",
   "execution_count": null,
   "metadata": {},
   "outputs": [],
   "source": [
    "results = model.evaluate(X_test, y_test)\n",
    "print(\"test loss, test acc:\", results)"
   ]
  },
  {
   "cell_type": "code",
   "execution_count": null,
   "metadata": {},
   "outputs": [],
   "source": [
    "y_pred = np.argmax(model.predict(X_test), axis=-1)\n",
    "print(y_pred)\n",
    "print(y_pred[0])"
   ]
  },
  {
   "cell_type": "code",
   "execution_count": null,
   "metadata": {},
   "outputs": [],
   "source": [
    "print(confusion_matrix(y_test, y_pred))\n",
    "print(classification_report(y_test, y_pred))"
   ]
  },
  {
   "cell_type": "code",
   "execution_count": null,
   "metadata": {},
   "outputs": [],
   "source": [
    "# confusion matrix plot\n",
    "plt.rcParams[\"figure.figsize\"] = (15,15)\n",
    "fig, axs = plt.subplots(1)\n",
    "\n",
    "test_acc = metrics.accuracy_score(y_pred,y_test)\n",
    "print(f\"Test Accuracy:{test_acc}\")\n",
    "metrics.ConfusionMatrixDisplay.from_predictions(y_test, y_pred, ax=axs)\n",
    "plt.title(f\"Accuracy:{test_acc:.3f}\")\n",
    "# plt.savefig(f'/Users/Lojenaa/Documents/PhD/Smartphones/Cross-device-Portability-of-EMSCA/Smartphones/iPhone/iPhone13/iPhone13_II_confusion_matrix.pdf')"
   ]
  },
  {
   "cell_type": "markdown",
   "metadata": {},
   "source": [
    "## iPhone13_II Own Model"
   ]
  },
  {
   "cell_type": "code",
   "execution_count": null,
   "metadata": {},
   "outputs": [],
   "source": [
    "class_label = 10\n",
    "for i in range(class_label):\n",
    "\n",
    "    folder_path = \"/Volumes/Transcend/PhD in Computing/Data Collection/Smartphones/EM_Signals/iPhone13/iPhone13_II/\"\n",
    "    if(i==0):\n",
    "        data = getData(folder_path + \"calender-app.cfile\")\n",
    "        print(np.array(data))\n",
    "        X, Y = create_dataset(data, i)\n",
    "\n",
    "    else:\n",
    "\n",
    "        if(i==1):\n",
    "            data = getData(folder_path + \"camera-photo.cfile\")\n",
    "            print(np.array(data))\n",
    "            dataset, label = create_dataset(data, i)\n",
    "\n",
    "        if(i==2):\n",
    "            data = getData(folder_path + \"camera-video.cfile\")\n",
    "            print(np.array(data))\n",
    "            dataset, label = create_dataset(data, i)\n",
    "\n",
    "        if(i==3):\n",
    "            data = getData(folder_path + \"email-app.cfile\")\n",
    "            print(np.array(data))\n",
    "            dataset, label = create_dataset(data, i)\n",
    "\n",
    "        if(i==4):\n",
    "            data = getData(folder_path + \"gallery-app.cfile\")\n",
    "            print(np.array(data))\n",
    "            dataset, label = create_dataset(data, i)\n",
    "\n",
    "        if(i==5):\n",
    "            data = getData(folder_path + \"home-screen.cfile\")\n",
    "            print(np.array(data))\n",
    "            dataset, label = create_dataset(data, i)\n",
    "\n",
    "        if(i==6):\n",
    "            data = getData(folder_path + \"idle.cfile\")\n",
    "            print(np.array(data))\n",
    "            dataset, label = create_dataset(data, i)\n",
    "\n",
    "        if(i==7):\n",
    "            data = getData(folder_path + \"phone-app.cfile\")\n",
    "            print(np.array(data))\n",
    "            dataset, label = create_dataset(data, i)\n",
    "\n",
    "        if(i==8):\n",
    "            data = getData(folder_path + \"sms-app.cfile\")\n",
    "            print(np.array(data))\n",
    "            dataset, label = create_dataset(data, i)\n",
    "\n",
    "        if(i==9):\n",
    "            data = getData(folder_path + \"web_browser-app.cfile\")\n",
    "            print(np.array(data))\n",
    "            dataset, label = create_dataset(data, i)\n",
    "\n",
    "        X = np.concatenate((X, dataset), axis=0) \n",
    "        Y = np.concatenate((Y, label), axis=0)\n",
    "        \n",
    "    print(X.shape)\n",
    "    print(Y.shape)\n",
    "\n",
    "# combine all em signals into one dataframe\n",
    "em_data = pd.DataFrame(X)\n",
    "em_data.insert(len(em_data.columns), 'labels', Y)\n",
    "\n",
    "# save to csv file\n",
    "# (em_data.T).to_csv(f'/Users/Lojenaa/Documents/PhD/Smartphones/Cross-device-Portability-of-EMSCA/Smartphones/iPhone/iPhone13/i13_I.csv', header=False)"
   ]
  },
  {
   "cell_type": "code",
   "execution_count": null,
   "metadata": {},
   "outputs": [],
   "source": [
    "from sklearn.decomposition import PCA\n",
    "\n",
    "def plot_3d(signal, plot_name, colors, labels, out_path):\n",
    "    pca = PCA(n_components=3)\n",
    "    pca_data =pd.DataFrame(pca.fit_transform(signal))\n",
    "    # visualize in 3d\n",
    "    fig = plt.figure(figsize=(15,8))\n",
    "    ax = fig.add_subplot(1, 1, 1, projection='3d')\n",
    "    scatter =ax.scatter(pca_data[0],pca_data[1],pca_data[2], c=colors)\n",
    "    ax.view_init(elev=35, azim=170)\n",
    "    ax.legend(handles=scatter.legend_elements()[0], loc=\"best\", labels=labels);\n",
    "    ax.set_title(plot_name);\n",
    "    plt.savefig(out_path)\n",
    "\n",
    "# EM scatter\n",
    "data = em_data\n",
    "labels = data['labels']\n",
    "data = data.drop(columns=['labels'])\n",
    "data = data.dropna(axis='columns')\n",
    "unique_labels = labels.unique()\n",
    "labels2colors = {}\n",
    "classes = []\n",
    "for i,unique_label in enumerate(unique_labels):\n",
    "    labels2colors[unique_label] = i\n",
    "    classes.append(unique_label)\n",
    "colors = [labels2colors[label] for label in labels]\n",
    "plot_3d(data,\"EM\", colors, classes,f'/Users/Lojenaa/Documents/PhD/Smartphones/Cross-device-Portability-of-EMSCA/Smartphones/iPhone/iPhone13/iPhone13_own_models/i13II_scatter.pdf')"
   ]
  },
  {
   "cell_type": "code",
   "execution_count": null,
   "metadata": {},
   "outputs": [],
   "source": [
    "# Split data to train and test sets\n",
    "X_train, X_test, y_train, y_test = train_test_split(X, Y, test_size=0.1, random_state=0)"
   ]
  },
  {
   "cell_type": "code",
   "execution_count": null,
   "metadata": {},
   "outputs": [],
   "source": [
    "model = keras.models.Sequential()\n",
    "model.add(keras.layers.Input(shape=(feature_vector_size,)))\n",
    "model.add(keras.layers.Dense(1400, activation=\"relu\"))\n",
    "model.add(keras.layers.Dense(800, activation=\"relu\"))\n",
    "model.add(keras.layers.Dense(500, activation=\"relu\"))\n",
    "model.add(keras.layers.Dense(200, activation=\"relu\"))\n",
    "model.add(keras.layers.Dense(100, activation=\"relu\"))\n",
    "model.add(keras.layers.Dense(10, activation=\"softmax\"))\n",
    "model.summary()"
   ]
  },
  {
   "cell_type": "code",
   "execution_count": null,
   "metadata": {},
   "outputs": [],
   "source": [
    "opt = keras.optimizers.SGD(learning_rate=0.001)\n",
    "model.compile(loss=\"sparse_categorical_crossentropy\", optimizer=opt, metrics=[\"accuracy\"])\n",
    "\n",
    "checkpoint_cb = keras.callbacks.ModelCheckpoint(\"/Users/Lojenaa/Documents/PhD/Smartphones/Cross-device-Portability-of-EMSCA/Smartphones/iPhone/iPhone13/iPhone13_own_models/iPHONE13_II_model.h5\", save_best_only=True)\n",
    "history = model.fit(X_train, y_train, epochs=30, validation_split=0.1, callbacks=[checkpoint_cb])"
   ]
  },
  {
   "cell_type": "code",
   "execution_count": null,
   "metadata": {},
   "outputs": [],
   "source": [
    "pd.DataFrame(history.history).plot(figsize=(8, 5))\n",
    "plt.grid(True)\n",
    "plt.gca().set_ylim(0, 1) # set the vertical range to [0-1]\n",
    "plt.show()"
   ]
  },
  {
   "cell_type": "code",
   "execution_count": null,
   "metadata": {},
   "outputs": [],
   "source": [
    "model = keras.models.load_model(\"/Users/Lojenaa/Documents/PhD/Smartphones/Cross-device-Portability-of-EMSCA/Smartphones/iPhone/iPhone13/iPhone13_own_models/iPHONE13_II_model.h5\")"
   ]
  },
  {
   "cell_type": "code",
   "execution_count": null,
   "metadata": {},
   "outputs": [],
   "source": [
    "results = model.evaluate(X_test, y_test)\n",
    "print(\"test loss, test acc:\", results)"
   ]
  },
  {
   "cell_type": "code",
   "execution_count": null,
   "metadata": {},
   "outputs": [],
   "source": [
    "y_pred = np.argmax(model.predict(X_test), axis=-1)\n",
    "print(y_pred)\n",
    "print(y_pred[0])"
   ]
  },
  {
   "cell_type": "code",
   "execution_count": null,
   "metadata": {},
   "outputs": [],
   "source": [
    "print(confusion_matrix(y_test, y_pred))\n",
    "print(classification_report(y_test, y_pred))"
   ]
  },
  {
   "cell_type": "code",
   "execution_count": null,
   "metadata": {},
   "outputs": [],
   "source": [
    "# confusion matrix plot\n",
    "plt.rcParams[\"figure.figsize\"] = (15,15)\n",
    "fig, axs = plt.subplots(1)\n",
    "\n",
    "test_acc = metrics.accuracy_score(y_pred,y_test)\n",
    "print(f\"Test Accuracy:{test_acc}\")\n",
    "metrics.ConfusionMatrixDisplay.from_predictions(y_test, y_pred, ax=axs)\n",
    "plt.title(f\"Accuracy:{test_acc:.3f}\")\n",
    "plt.savefig(f'/Users/Lojenaa/Documents/PhD/Smartphones/Cross-device-Portability-of-EMSCA/Smartphones/iPhone/iPhone13/iPhone13_II_confusion_matrix.pdf')"
   ]
  },
  {
   "cell_type": "markdown",
   "metadata": {},
   "source": [
    "## iPhone13_III Own Model"
   ]
  },
  {
   "cell_type": "code",
   "execution_count": null,
   "metadata": {},
   "outputs": [],
   "source": [
    "class_label = 10\n",
    "for i in range(class_label):\n",
    "\n",
    "    folder_path = \"/Volumes/Transcend/PhD in Computing/Data Collection/Smartphones/EM_Signals/iPhone13/iPhone13_III/\"\n",
    "    if(i==0):\n",
    "        data = getData(folder_path + \"calendar-app.cfile\")\n",
    "        print(np.array(data))\n",
    "        X, Y = create_dataset(data, i)\n",
    "\n",
    "    else:\n",
    "\n",
    "        if(i==1):\n",
    "            data = getData(folder_path + \"camera-photo.cfile\")\n",
    "            print(np.array(data))\n",
    "            dataset, label = create_dataset(data, i)\n",
    "\n",
    "        if(i==2):\n",
    "            data = getData(folder_path + \"camera-video.cfile\")\n",
    "            print(np.array(data))\n",
    "            dataset, label = create_dataset(data, i)\n",
    "\n",
    "        if(i==3):\n",
    "            data = getData(folder_path + \"email-app.cfile\")\n",
    "            print(np.array(data))\n",
    "            dataset, label = create_dataset(data, i)\n",
    "\n",
    "        if(i==4):\n",
    "            data = getData(folder_path + \"gallery-app.cfile\")\n",
    "            print(np.array(data))\n",
    "            dataset, label = create_dataset(data, i)\n",
    "\n",
    "        if(i==5):\n",
    "            data = getData(folder_path + \"home-screen.cfile\")\n",
    "            print(np.array(data))\n",
    "            dataset, label = create_dataset(data, i)\n",
    "\n",
    "        if(i==6):\n",
    "            data = getData(folder_path + \"idle.cfile\")\n",
    "            print(np.array(data))\n",
    "            dataset, label = create_dataset(data, i)\n",
    "\n",
    "        if(i==7):\n",
    "            data = getData(folder_path + \"phone-app.cfile\")\n",
    "            print(np.array(data))\n",
    "            dataset, label = create_dataset(data, i)\n",
    "\n",
    "        if(i==8):\n",
    "            data = getData(folder_path + \"sms-app.cfile\")\n",
    "            print(np.array(data))\n",
    "            dataset, label = create_dataset(data, i)\n",
    "\n",
    "        if(i==9):\n",
    "            data = getData(folder_path + \"web_browser-app.cfile\")\n",
    "            print(np.array(data))\n",
    "            dataset, label = create_dataset(data, i)\n",
    "\n",
    "        X = np.concatenate((X, dataset), axis=0) \n",
    "        Y = np.concatenate((Y, label), axis=0)\n",
    "        \n",
    "    print(i)\n",
    "    print(X.shape)\n",
    "    print(Y.shape)\n",
    "\n",
    "# combine all em signals into one dataframe\n",
    "em_data = pd.DataFrame(X)\n",
    "em_data.insert(len(em_data.columns), 'labels', Y)\n",
    "\n",
    "# save to csv file\n",
    "# (em_data.T).to_csv(f'/Users/Lojenaa/Documents/PhD/Smartphones/Cross-device-Portability-of-EMSCA/Smartphones/iPhone/iPhone13/i13_I.csv', header=False)"
   ]
  },
  {
   "cell_type": "code",
   "execution_count": null,
   "metadata": {},
   "outputs": [],
   "source": [
    "from sklearn.decomposition import PCA\n",
    "\n",
    "def plot_3d(signal, plot_name, colors, labels, out_path):\n",
    "    pca = PCA(n_components=3)\n",
    "    pca_data =pd.DataFrame(pca.fit_transform(signal))\n",
    "    # visualize in 3d\n",
    "    fig = plt.figure(figsize=(15,8))\n",
    "    ax = fig.add_subplot(1, 1, 1, projection='3d')\n",
    "    scatter =ax.scatter(pca_data[0],pca_data[1],pca_data[2], c=colors)\n",
    "    ax.view_init(elev=35, azim=170)\n",
    "    ax.legend(handles=scatter.legend_elements()[0], loc=\"best\", labels=labels);\n",
    "    ax.set_title(plot_name);\n",
    "    plt.savefig(out_path)\n",
    "\n",
    "# EM scatter\n",
    "data = em_data\n",
    "labels = data['labels']\n",
    "data = data.drop(columns=['labels'])\n",
    "data = data.dropna(axis='columns')\n",
    "unique_labels = labels.unique()\n",
    "labels2colors = {}\n",
    "classes = []\n",
    "for i,unique_label in enumerate(unique_labels):\n",
    "    labels2colors[unique_label] = i\n",
    "    classes.append(unique_label)\n",
    "colors = [labels2colors[label] for label in labels]\n",
    "plot_3d(data,\"EM\", colors, classes,f'/Users/Lojenaa/Documents/PhD/Smartphones/Cross-device-Portability-of-EMSCA/Smartphones/iPhone/iPhone13/iPhone13_own_models/i13III_scatter.pdf')"
   ]
  },
  {
   "cell_type": "code",
   "execution_count": null,
   "metadata": {},
   "outputs": [],
   "source": [
    "# Split data to train and test sets\n",
    "X_train, X_test, y_train, y_test = train_test_split(X, Y, test_size=0.1, random_state=0)"
   ]
  },
  {
   "cell_type": "code",
   "execution_count": null,
   "metadata": {},
   "outputs": [],
   "source": [
    "model = keras.models.Sequential()\n",
    "model.add(keras.layers.Input(shape=(feature_vector_size,)))\n",
    "model.add(keras.layers.Dense(1400, activation=\"relu\"))\n",
    "model.add(keras.layers.Dense(800, activation=\"relu\"))\n",
    "model.add(keras.layers.Dense(500, activation=\"relu\"))\n",
    "model.add(keras.layers.Dense(200, activation=\"relu\"))\n",
    "model.add(keras.layers.Dense(100, activation=\"relu\"))\n",
    "model.add(keras.layers.Dense(10, activation=\"softmax\"))\n",
    "model.summary()"
   ]
  },
  {
   "cell_type": "code",
   "execution_count": null,
   "metadata": {},
   "outputs": [],
   "source": [
    "opt = keras.optimizers.SGD(learning_rate=0.001)\n",
    "model.compile(loss=\"sparse_categorical_crossentropy\", optimizer=opt, metrics=[\"accuracy\"])\n",
    "\n",
    "checkpoint_cb = keras.callbacks.ModelCheckpoint(\"/Users/Lojenaa/Documents/PhD/Smartphones/Cross-device-Portability-of-EMSCA/Smartphones/iPhone/iPhone13/iPhone13_own_models/iPHONE13_III_model.h5\", save_best_only=True)\n",
    "history = model.fit(X_train, y_train, epochs=30, validation_split=0.1, callbacks=[checkpoint_cb])"
   ]
  },
  {
   "cell_type": "code",
   "execution_count": null,
   "metadata": {},
   "outputs": [],
   "source": [
    "pd.DataFrame(history.history).plot(figsize=(8, 5))\n",
    "plt.grid(True)\n",
    "plt.gca().set_ylim(0, 1) # set the vertical range to [0-1]\n",
    "plt.show()\n",
    "# plt.savefig(f'/Users/Lojenaa/Documents/PhD/Smartphones/Cross-device-Portability-of-EMSCA/Smartphones/iPhone/iPhone13/accuracy_and_loss_iPhone13_III.pdf')"
   ]
  },
  {
   "cell_type": "code",
   "execution_count": null,
   "metadata": {},
   "outputs": [],
   "source": [
    "model = keras.models.load_model(\"/Users/Lojenaa/Documents/PhD/Smartphones/Cross-device-Portability-of-EMSCA/Smartphones/iPhone/iPhone13/iPhone13_own_models/iPHONE13_III_model.h5\")"
   ]
  },
  {
   "cell_type": "code",
   "execution_count": null,
   "metadata": {},
   "outputs": [],
   "source": [
    "results = model.evaluate(X_test, y_test)\n",
    "print(\"test loss, test acc:\", results)"
   ]
  },
  {
   "cell_type": "code",
   "execution_count": null,
   "metadata": {},
   "outputs": [],
   "source": [
    "y_pred = np.argmax(model.predict(X_test), axis=-1)\n",
    "print(y_pred)\n",
    "print(y_pred[0])"
   ]
  },
  {
   "cell_type": "code",
   "execution_count": null,
   "metadata": {},
   "outputs": [],
   "source": [
    "print(confusion_matrix(y_test, y_pred))\n",
    "print(classification_report(y_test, y_pred))"
   ]
  },
  {
   "cell_type": "code",
   "execution_count": null,
   "metadata": {},
   "outputs": [],
   "source": [
    "# confusion matrix plot\n",
    "plt.rcParams[\"figure.figsize\"] = (15,15)\n",
    "fig, axs = plt.subplots(1)\n",
    "\n",
    "test_acc = metrics.accuracy_score(y_pred,y_test)\n",
    "print(f\"Test Accuracy:{test_acc}\")\n",
    "metrics.ConfusionMatrixDisplay.from_predictions(y_test, y_pred, ax=axs)\n",
    "plt.title(f\"Accuracy:{test_acc:.3f}\")\n",
    "# plt.savefig(f'/Users/Lojenaa/Documents/PhD/Smartphones/Cross-device-Portability-of-EMSCA/Smartphones/iPhone/iPhone13/iPhone13_III_confusion_matrix.pdf')"
   ]
  }
 ],
 "metadata": {
  "kernelspec": {
   "display_name": "Python 3.10.7 64-bit",
   "language": "python",
   "name": "python3"
  },
  "language_info": {
   "codemirror_mode": {
    "name": "ipython",
    "version": 3
   },
   "file_extension": ".py",
   "mimetype": "text/x-python",
   "name": "python",
   "nbconvert_exporter": "python",
   "pygments_lexer": "ipython3",
   "version": "3.10.6"
  },
  "orig_nbformat": 4,
  "vscode": {
   "interpreter": {
    "hash": "aee8b7b246df8f9039afb4144a1f6fd8d2ca17a180786b69acc140d282b71a49"
   }
  }
 },
 "nbformat": 4,
 "nbformat_minor": 2
}
