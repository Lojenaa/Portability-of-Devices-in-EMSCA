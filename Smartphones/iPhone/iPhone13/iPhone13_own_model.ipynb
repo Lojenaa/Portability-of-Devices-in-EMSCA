{
 "cells": [
  {
   "cell_type": "code",
   "execution_count": 1,
   "metadata": {},
   "outputs": [
    {
     "name": "stderr",
     "output_type": "stream",
     "text": [
      "2023-02-05 12:40:46.935148: I tensorflow/core/platform/cpu_feature_guard.cc:193] This TensorFlow binary is optimized with oneAPI Deep Neural Network Library (oneDNN) to use the following CPU instructions in performance-critical operations:  AVX2 FMA\n",
      "To enable them in other operations, rebuild TensorFlow with the appropriate compiler flags.\n"
     ]
    }
   ],
   "source": [
    "import h5py\n",
    "import numpy as np\n",
    "import pandas as pd\n",
    "import scipy\n",
    "from scipy import signal\n",
    "import matplotlib.pyplot as plt\n",
    "import tensorflow as tf\n",
    "from tensorflow import keras\n",
    "from sklearn import metrics\n",
    "from sklearn.model_selection import train_test_split\n",
    "from sklearn.preprocessing import MinMaxScaler\n",
    "from sklearn.metrics import confusion_matrix\n",
    "from sklearn.metrics import classification_report\n",
    "import warnings\n",
    "warnings.filterwarnings('ignore')"
   ]
  },
  {
   "cell_type": "code",
   "execution_count": 2,
   "metadata": {},
   "outputs": [],
   "source": [
    "def getData(cfileName):\n",
    "\n",
    "    # Read the *.cfile which has each element in float32 format.\n",
    "    data = np.fromfile(cfileName, dtype=\"float32\")\n",
    "\n",
    "    # Take each consecutive interleaved I sample and Q sample to create a single complex element.\n",
    "    data = data[0::2] + 1j*data[1::2]\n",
    "    #print(\"data type=\", type(data))\n",
    "    # Return the complex numpy array.\n",
    "    return data"
   ]
  },
  {
   "cell_type": "code",
   "execution_count": 3,
   "metadata": {},
   "outputs": [],
   "source": [
    "# number of samples per class\n",
    "num_samp_per_class = 10000\n",
    "\n",
    "# FFT size for the STFT operation (which is same as the feature vector size)\n",
    "fft_size = feature_vector_size = 2048 #1024\n",
    "\n",
    "# number of overlapping samples for the STFT operation\n",
    "fft_overlap = 256"
   ]
  },
  {
   "cell_type": "code",
   "execution_count": 4,
   "metadata": {},
   "outputs": [],
   "source": [
    "def create_dataset(data, class_label):\n",
    "    f, t, Zxx = signal.stft(data, fs=20e6, nperseg=fft_size, noverlap=fft_overlap)\n",
    "    print(len(f))\n",
    "    print(len(t))\n",
    "    print(Zxx.shape)\n",
    "\n",
    "    del data\n",
    "\n",
    "    Zxx = Zxx.transpose()\n",
    "\n",
    "    Zxx = abs(Zxx)\n",
    "    # scaling the features (only real part of the data can be used)\n",
    "    scaler = MinMaxScaler()\n",
    "    scaler.fit(Zxx)\n",
    "    print(scaler.data_max_)\n",
    "    Zxx = scaler.transform(Zxx)\n",
    "\n",
    "    X = Zxx[:num_samp_per_class]\n",
    "    Y = np.full(num_samp_per_class, class_label)\n",
    "\n",
    "    return X, Y"
   ]
  },
  {
   "cell_type": "markdown",
   "metadata": {},
   "source": [
    "## Create Own Model"
   ]
  },
  {
   "cell_type": "markdown",
   "metadata": {},
   "source": [
    "## iPhone13_I"
   ]
  },
  {
   "cell_type": "code",
   "execution_count": 5,
   "metadata": {},
   "outputs": [
    {
     "name": "stdout",
     "output_type": "stream",
     "text": [
      "[0.015625 +0.015625j  0.       +0.j        0.0078125+0.j        ...\n",
      " 0.0234375+0.0078125j 0.0234375+0.0078125j 0.03125  -0.0078125j]\n",
      "2048\n",
      "77387\n",
      "(2048, 77387)\n",
      "[0.01826616 0.00950806 0.00373913 ... 0.00167015 0.00381105 0.00957042]\n",
      "(10000, 2048)\n",
      "(10000,)\n"
     ]
    }
   ],
   "source": [
    "# reading a data for class  label 0\n",
    "data = getData(\"/Users/Lojenaa/Documents/DELL_Linux/Lojenaa/HackRF One/Smartphones/EM_Signals/iPhone_13/iPhone13_I/calender-app.cfile\")\n",
    "print(np.array(data))\n",
    "X, Y = create_dataset(data, 0)\n",
    "\n",
    "print(X.shape)\n",
    "print(Y.shape)"
   ]
  },
  {
   "cell_type": "code",
   "execution_count": 6,
   "metadata": {},
   "outputs": [
    {
     "name": "stdout",
     "output_type": "stream",
     "text": [
      "[0.0078125+0.015625j  0.0078125+0.j        0.015625 +0.j        ...\n",
      " 0.015625 +0.0234375j 0.015625 +0.j        0.015625 +0.j       ]\n",
      "2048\n",
      "81265\n",
      "(2048, 81265)\n",
      "[0.01835838 0.00961773 0.00350257 ... 0.00192106 0.00369137 0.00963282]\n",
      "(20000, 2048)\n",
      "(20000,)\n"
     ]
    }
   ],
   "source": [
    "# reading a data for class  label 1\n",
    "data = getData(\"/Users/Lojenaa/Documents/DELL_Linux/Lojenaa/HackRF One/Smartphones/EM_Signals/iPhone_13/iPhone13_I/camera-photo.cfile\")\n",
    "print(np.array(data))\n",
    "dataset, label = create_dataset(data, 1)\n",
    "\n",
    "X = np.concatenate((X, dataset), axis=0) \n",
    "Y = np.concatenate((Y, label), axis=0)\n",
    "\n",
    "print(X.shape)\n",
    "print(Y.shape)"
   ]
  },
  {
   "cell_type": "code",
   "execution_count": 7,
   "metadata": {},
   "outputs": [
    {
     "name": "stdout",
     "output_type": "stream",
     "text": [
      "[0.03125  +0.015625j  0.03125  +0.0078125j 0.015625 +0.0078125j ...\n",
      " 0.0234375+0.015625j  0.0234375+0.0078125j 0.015625 -0.0078125j]\n",
      "2048\n",
      "82947\n",
      "(2048, 82947)\n",
      "[0.01815592 0.00944388 0.00397235 ... 0.00185365 0.0036876  0.00957425]\n",
      "(30000, 2048)\n",
      "(30000,)\n"
     ]
    }
   ],
   "source": [
    "# reading a data for class  label 2\n",
    "data = getData(\"/Users/Lojenaa/Documents/DELL_Linux/Lojenaa/HackRF One/Smartphones/EM_Signals/iPhone_13/iPhone13_I/camera-video.cfile\")\n",
    "print(np.array(data))\n",
    "dataset, label = create_dataset(data, 2)\n",
    "\n",
    "X = np.concatenate((X, dataset), axis=0) \n",
    "Y = np.concatenate((Y, label), axis=0)\n",
    "\n",
    "print(X.shape)\n",
    "print(Y.shape)"
   ]
  },
  {
   "cell_type": "code",
   "execution_count": 8,
   "metadata": {},
   "outputs": [
    {
     "name": "stdout",
     "output_type": "stream",
     "text": [
      "[0.       +0.03125j  0.       +0.j       0.015625 +0.j       ...\n",
      " 0.015625 -0.015625j 0.0234375+0.015625j 0.0078125+0.015625j]\n",
      "2048\n",
      "82654\n",
      "(2048, 82654)\n",
      "[0.01825963 0.00967498 0.00359683 ... 0.00195847 0.00358379 0.01038325]\n",
      "(40000, 2048)\n",
      "(40000,)\n"
     ]
    }
   ],
   "source": [
    "# reading a data for class  label 3\n",
    "data = getData(\"/Users/Lojenaa/Documents/DELL_Linux/Lojenaa/HackRF One/Smartphones/EM_Signals/iPhone_13/iPhone13_I/email-app.cfile\")\n",
    "print(np.array(data))\n",
    "dataset, label = create_dataset(data, 3)\n",
    "\n",
    "X = np.concatenate((X, dataset), axis=0) \n",
    "Y = np.concatenate((Y, label), axis=0)\n",
    "\n",
    "print(X.shape)\n",
    "print(Y.shape)"
   ]
  },
  {
   "cell_type": "code",
   "execution_count": 9,
   "metadata": {},
   "outputs": [
    {
     "name": "stdout",
     "output_type": "stream",
     "text": [
      "[ 0.0078125+0.j         0.015625 +0.0078125j  0.015625 +0.015625j  ...\n",
      " -0.0078125-0.0078125j  0.015625 -0.0078125j  0.015625 +0.j       ]\n",
      "2048\n",
      "81924\n",
      "(2048, 81924)\n",
      "[0.018229   0.00966399 0.00349916 ... 0.0020021  0.00391866 0.00949263]\n",
      "(50000, 2048)\n",
      "(50000,)\n"
     ]
    }
   ],
   "source": [
    "# reading a data for class  label 4\n",
    "data = getData(\"/Users/Lojenaa/Documents/DELL_Linux/Lojenaa/HackRF One/Smartphones/EM_Signals/iPhone_13/iPhone13_I/gallery-app.cfile\")\n",
    "print(np.array(data))\n",
    "dataset, label = create_dataset(data, 4)\n",
    "\n",
    "X = np.concatenate((X, dataset), axis=0) \n",
    "Y = np.concatenate((Y, label), axis=0)\n",
    "\n",
    "print(X.shape)\n",
    "print(Y.shape)"
   ]
  },
  {
   "cell_type": "code",
   "execution_count": 10,
   "metadata": {},
   "outputs": [
    {
     "name": "stdout",
     "output_type": "stream",
     "text": [
      "[0.015625 +0.0078125j 0.0078125+0.j        0.0078125+0.0078125j ...\n",
      " 0.015625 +0.0078125j 0.       -0.0078125j 0.015625 -0.0078125j]\n",
      "2048\n",
      "87043\n",
      "(2048, 87043)\n",
      "[0.01827244 0.0094937  0.00347372 ... 0.00184199 0.00369919 0.00941139]\n",
      "(60000, 2048)\n",
      "(60000,)\n"
     ]
    }
   ],
   "source": [
    "# reading a data for class  label 5\n",
    "data = getData(\"/Users/Lojenaa/Documents/DELL_Linux/Lojenaa/HackRF One/Smartphones/EM_Signals/iPhone_13/iPhone13_I/home-screen.cfile\")\n",
    "print(np.array(data))\n",
    "dataset, label = create_dataset(data, 5)\n",
    "\n",
    "X = np.concatenate((X, dataset), axis=0) \n",
    "Y = np.concatenate((Y, label), axis=0)\n",
    "\n",
    "print(X.shape)\n",
    "print(Y.shape)"
   ]
  },
  {
   "cell_type": "code",
   "execution_count": 11,
   "metadata": {},
   "outputs": [
    {
     "name": "stdout",
     "output_type": "stream",
     "text": [
      "[0.015625 +0.015625j  0.0234375+0.0078125j 0.       -0.0078125j ...\n",
      " 0.015625 +0.j        0.015625 +0.0078125j 0.       +0.0078125j]\n",
      "2048\n",
      "80022\n",
      "(2048, 80022)\n",
      "[0.01823433 0.00957463 0.0036588  ... 0.00179094 0.00355725 0.00951913]\n",
      "(70000, 2048)\n",
      "(70000,)\n"
     ]
    }
   ],
   "source": [
    "# reading a data for class  label 6\n",
    "data = getData(\"/Users/Lojenaa/Documents/DELL_Linux/Lojenaa/HackRF One/Smartphones/EM_Signals/iPhone_13/iPhone13_I/idle.cfile\")\n",
    "print(np.array(data))\n",
    "dataset, label = create_dataset(data, 6)\n",
    "\n",
    "X = np.concatenate((X, dataset), axis=0) \n",
    "Y = np.concatenate((Y, label), axis=0)\n",
    "\n",
    "print(X.shape)\n",
    "print(Y.shape)"
   ]
  },
  {
   "cell_type": "code",
   "execution_count": 12,
   "metadata": {},
   "outputs": [
    {
     "name": "stdout",
     "output_type": "stream",
     "text": [
      "[0.015625 +0.015625j  0.0078125+0.0078125j 0.015625 +0.j        ...\n",
      " 0.015625 +0.015625j  0.03125  +0.015625j  0.015625 +0.0078125j]\n",
      "2048\n",
      "91505\n",
      "(2048, 91505)\n",
      "[0.01846059 0.01017757 0.00355808 ... 0.00216458 0.00378412 0.01003891]\n",
      "(80000, 2048)\n",
      "(80000,)\n"
     ]
    }
   ],
   "source": [
    "# reading a data for class  label 7\n",
    "data = getData(\"/Users/Lojenaa/Documents/DELL_Linux/Lojenaa/HackRF One/Smartphones/EM_Signals/iPhone_13/iPhone13_I/phone-app.cfile\")\n",
    "print(np.array(data))\n",
    "dataset, label = create_dataset(data, 7)\n",
    "\n",
    "X = np.concatenate((X, dataset), axis=0) \n",
    "Y = np.concatenate((Y, label), axis=0)\n",
    "\n",
    "print(X.shape)\n",
    "print(Y.shape)"
   ]
  },
  {
   "cell_type": "code",
   "execution_count": 13,
   "metadata": {},
   "outputs": [
    {
     "name": "stdout",
     "output_type": "stream",
     "text": [
      "[0.015625 +0.015625j  0.0078125+0.j        0.0234375+0.j        ...\n",
      " 0.015625 +0.0234375j 0.015625 -0.015625j  0.015625 +0.0234375j]\n",
      "2048\n",
      "90846\n",
      "(2048, 90846)\n",
      "[0.01815063 0.00949299 0.00352803 ... 0.00193189 0.00359627 0.00958246]\n",
      "(90000, 2048)\n",
      "(90000,)\n"
     ]
    }
   ],
   "source": [
    "# reading a data for class  label 8\n",
    "data = getData(\"/Users/Lojenaa/Documents/DELL_Linux/Lojenaa/HackRF One/Smartphones/EM_Signals/iPhone_13/iPhone13_I/sms-app.cfile\")\n",
    "print(np.array(data))\n",
    "dataset, label = create_dataset(data, 8)\n",
    "\n",
    "X = np.concatenate((X, dataset), axis=0) \n",
    "Y = np.concatenate((Y, label), axis=0)\n",
    "\n",
    "print(X.shape)\n",
    "print(Y.shape)"
   ]
  },
  {
   "cell_type": "code",
   "execution_count": 14,
   "metadata": {},
   "outputs": [
    {
     "name": "stdout",
     "output_type": "stream",
     "text": [
      "[ 3.1250000e-02+7.8125000e-03j  1.5625000e-02+1.5625000e-02j\n",
      "  1.5625000e-02+0.0000000e+00j ... -1.3769394e-33-7.7207416e-35j\n",
      " -6.0356438e-12-3.6518317e+31j  2.0628625e-32-6.2134089e-35j]\n",
      "2048\n",
      "81414\n",
      "(2048, 81414)\n",
      "[2.0676641e+35 5.4073593e+35 2.4178817e+35 ... 8.1073708e+34 2.0754027e+35\n",
      " 2.6083747e+35]\n",
      "(100000, 2048)\n",
      "(100000,)\n"
     ]
    }
   ],
   "source": [
    "# reading a data for class  label 9\n",
    "data = getData(\"/Users/Lojenaa/Documents/DELL_Linux/Lojenaa/HackRF One/Smartphones/EM_Signals/iPhone_13/iPhone13_I/web_browser-app.cfile\")\n",
    "print(np.array(data))\n",
    "dataset, label = create_dataset(data, 9)\n",
    "\n",
    "X = np.concatenate((X, dataset), axis=0) \n",
    "Y = np.concatenate((Y, label), axis=0)\n",
    "\n",
    "print(X.shape)\n",
    "print(Y.shape)"
   ]
  },
  {
   "cell_type": "markdown",
   "metadata": {},
   "source": [
    "Build a model for iPhone13_I"
   ]
  },
  {
   "cell_type": "code",
   "execution_count": 45,
   "metadata": {},
   "outputs": [],
   "source": [
    "# Split data to train and test sets\n",
    "X_train, X_test, y_train, y_test = train_test_split(X, Y, test_size=0.1, random_state=0)"
   ]
  },
  {
   "cell_type": "code",
   "execution_count": 46,
   "metadata": {},
   "outputs": [
    {
     "name": "stdout",
     "output_type": "stream",
     "text": [
      "Model: \"sequential_1\"\n",
      "_________________________________________________________________\n",
      " Layer (type)                Output Shape              Param #   \n",
      "=================================================================\n",
      " dense_6 (Dense)             (None, 1400)              2868600   \n",
      "                                                                 \n",
      " dense_7 (Dense)             (None, 800)               1120800   \n",
      "                                                                 \n",
      " dense_8 (Dense)             (None, 500)               400500    \n",
      "                                                                 \n",
      " dense_9 (Dense)             (None, 200)               100200    \n",
      "                                                                 \n",
      " dense_10 (Dense)            (None, 100)               20100     \n",
      "                                                                 \n",
      " dense_11 (Dense)            (None, 10)                1010      \n",
      "                                                                 \n",
      "=================================================================\n",
      "Total params: 4,511,210\n",
      "Trainable params: 4,511,210\n",
      "Non-trainable params: 0\n",
      "_________________________________________________________________\n"
     ]
    }
   ],
   "source": [
    "model = keras.models.Sequential()\n",
    "model.add(keras.layers.Input(shape=(feature_vector_size,)))\n",
    "model.add(keras.layers.Dense(1400, activation=\"relu\"))\n",
    "model.add(keras.layers.Dense(800, activation=\"relu\"))\n",
    "model.add(keras.layers.Dense(500, activation=\"relu\"))\n",
    "model.add(keras.layers.Dense(200, activation=\"relu\"))\n",
    "model.add(keras.layers.Dense(100, activation=\"relu\"))\n",
    "model.add(keras.layers.Dense(10, activation=\"softmax\"))\n",
    "model.summary()"
   ]
  },
  {
   "cell_type": "code",
   "execution_count": 47,
   "metadata": {},
   "outputs": [],
   "source": [
    "opt = keras.optimizers.SGD(learning_rate=0.001)\n",
    "model.compile(loss=\"sparse_categorical_crossentropy\", optimizer=opt, metrics=[\"accuracy\"])"
   ]
  },
  {
   "cell_type": "code",
   "execution_count": 48,
   "metadata": {},
   "outputs": [
    {
     "name": "stdout",
     "output_type": "stream",
     "text": [
      "Epoch 1/25\n",
      "2532/2532 [==============================] - 29s 11ms/step - loss: 1.9968 - accuracy: 0.5230 - val_loss: 1.4879 - val_accuracy: 0.8952\n",
      "Epoch 2/25\n",
      "2532/2532 [==============================] - 31s 12ms/step - loss: 0.9793 - accuracy: 0.9335 - val_loss: 0.5566 - val_accuracy: 0.9570\n",
      "Epoch 3/25\n",
      "2532/2532 [==============================] - 29s 11ms/step - loss: 0.3071 - accuracy: 0.9944 - val_loss: 0.1508 - val_accuracy: 0.9982\n",
      "Epoch 4/25\n",
      "2532/2532 [==============================] - 31s 12ms/step - loss: 0.0887 - accuracy: 0.9989 - val_loss: 0.0522 - val_accuracy: 0.9991\n",
      "Epoch 5/25\n",
      "2532/2532 [==============================] - 27s 11ms/step - loss: 0.0389 - accuracy: 0.9994 - val_loss: 0.0278 - val_accuracy: 0.9994\n",
      "Epoch 6/25\n",
      "2532/2532 [==============================] - 25s 10ms/step - loss: 0.0238 - accuracy: 0.9995 - val_loss: 0.0185 - val_accuracy: 0.9994\n",
      "Epoch 7/25\n",
      "2532/2532 [==============================] - 26s 10ms/step - loss: 0.0172 - accuracy: 0.9996 - val_loss: 0.0139 - val_accuracy: 0.9994\n",
      "Epoch 8/25\n",
      "2532/2532 [==============================] - 28s 11ms/step - loss: 0.0137 - accuracy: 0.9997 - val_loss: 0.0111 - val_accuracy: 0.9994\n",
      "Epoch 9/25\n",
      "2532/2532 [==============================] - 27s 11ms/step - loss: 0.0115 - accuracy: 0.9997 - val_loss: 0.0094 - val_accuracy: 0.9996\n",
      "Epoch 10/25\n",
      "2532/2532 [==============================] - 30s 12ms/step - loss: 0.0100 - accuracy: 0.9997 - val_loss: 0.0082 - val_accuracy: 0.9996\n",
      "Epoch 11/25\n",
      "2532/2532 [==============================] - 29s 12ms/step - loss: 0.0089 - accuracy: 0.9997 - val_loss: 0.0074 - val_accuracy: 0.9996\n",
      "Epoch 12/25\n",
      "2532/2532 [==============================] - 29s 11ms/step - loss: 0.0080 - accuracy: 0.9997 - val_loss: 0.0066 - val_accuracy: 0.9996\n",
      "Epoch 13/25\n",
      "2532/2532 [==============================] - 28s 11ms/step - loss: 0.0074 - accuracy: 0.9997 - val_loss: 0.0059 - val_accuracy: 0.9997\n",
      "Epoch 14/25\n",
      "2532/2532 [==============================] - 27s 11ms/step - loss: 0.0069 - accuracy: 0.9998 - val_loss: 0.0055 - val_accuracy: 0.9996\n",
      "Epoch 15/25\n",
      "2532/2532 [==============================] - 29s 12ms/step - loss: 0.0064 - accuracy: 0.9998 - val_loss: 0.0053 - val_accuracy: 0.9996\n",
      "Epoch 16/25\n",
      "2532/2532 [==============================] - 27s 11ms/step - loss: 0.0060 - accuracy: 0.9998 - val_loss: 0.0048 - val_accuracy: 0.9997\n",
      "Epoch 17/25\n",
      "2532/2532 [==============================] - 29s 12ms/step - loss: 0.0057 - accuracy: 0.9998 - val_loss: 0.0045 - val_accuracy: 0.9996\n",
      "Epoch 18/25\n",
      "2532/2532 [==============================] - 27s 11ms/step - loss: 0.0054 - accuracy: 0.9998 - val_loss: 0.0043 - val_accuracy: 0.9997\n",
      "Epoch 19/25\n",
      "2532/2532 [==============================] - 26s 10ms/step - loss: 0.0052 - accuracy: 0.9998 - val_loss: 0.0041 - val_accuracy: 0.9996\n",
      "Epoch 20/25\n",
      "2532/2532 [==============================] - 27s 11ms/step - loss: 0.0050 - accuracy: 0.9998 - val_loss: 0.0039 - val_accuracy: 0.9997\n",
      "Epoch 21/25\n",
      "2532/2532 [==============================] - 28s 11ms/step - loss: 0.0048 - accuracy: 0.9998 - val_loss: 0.0038 - val_accuracy: 0.9997\n",
      "Epoch 22/25\n",
      "2532/2532 [==============================] - 27s 11ms/step - loss: 0.0046 - accuracy: 0.9998 - val_loss: 0.0036 - val_accuracy: 0.9997\n",
      "Epoch 23/25\n",
      "2532/2532 [==============================] - 28s 11ms/step - loss: 0.0044 - accuracy: 0.9998 - val_loss: 0.0036 - val_accuracy: 0.9997\n",
      "Epoch 24/25\n",
      "2532/2532 [==============================] - 28s 11ms/step - loss: 0.0042 - accuracy: 0.9998 - val_loss: 0.0034 - val_accuracy: 0.9997\n",
      "Epoch 25/25\n",
      "2532/2532 [==============================] - 26s 10ms/step - loss: 0.0041 - accuracy: 0.9998 - val_loss: 0.0032 - val_accuracy: 0.9997\n"
     ]
    }
   ],
   "source": [
    "checkpoint_cb = keras.callbacks.ModelCheckpoint(\"/Users/Lojenaa/Documents/DELL_Linux/Lojenaa/HackRF One/Smartphones/17-09-2022/iPhone13/iPHONE13_I_model.h5\", save_best_only=True)\n",
    "history = model.fit(X_train, y_train, epochs=25, validation_split=0.1, callbacks=[checkpoint_cb])"
   ]
  },
  {
   "cell_type": "code",
   "execution_count": 49,
   "metadata": {},
   "outputs": [
    {
     "data": {
      "image/png": "[encoded data removed]",
      "text/plain": [
       "<Figure size 800x500 with 1 Axes>"
      ]
     },
     "metadata": {},
     "output_type": "display_data"
    }
   ],
   "source": [
    "pd.DataFrame(history.history).plot(figsize=(8, 5))\n",
    "plt.grid(True)\n",
    "plt.gca().set_ylim(0, 1) # set the vertical range to [0-1]\n",
    "plt.show()"
   ]
  },
  {
   "cell_type": "markdown",
   "metadata": {},
   "source": [
    "Test the own iPhone13_I model"
   ]
  },
  {
   "cell_type": "code",
   "execution_count": 50,
   "metadata": {},
   "outputs": [],
   "source": [
    "model = keras.models.load_model(\"/Users/Lojenaa/Documents/DELL_Linux/Lojenaa/HackRF One/Smartphones/17-09-2022/iPhone13/iPHONE13_I_model.h5\")"
   ]
  },
  {
   "cell_type": "code",
   "execution_count": 51,
   "metadata": {},
   "outputs": [
    {
     "name": "stdout",
     "output_type": "stream",
     "text": [
      "313/313 [==============================] - 2s 5ms/step - loss: 0.0053 - accuracy: 0.9997\n",
      "test loss, test acc: [0.005316311493515968, 0.9997000098228455]\n"
     ]
    }
   ],
   "source": [
    "results = model.evaluate(X_test, y_test)\n",
    "print(\"test loss, test acc:\", results)"
   ]
  },
  {
   "cell_type": "code",
   "execution_count": 52,
   "metadata": {},
   "outputs": [
    {
     "name": "stdout",
     "output_type": "stream",
     "text": [
      "313/313 [==============================] - 2s 4ms/step\n",
      "[0 6 5 ... 5 5 6]\n",
      "0\n"
     ]
    }
   ],
   "source": [
    "y_pred = np.argmax(model.predict(X_test), axis=-1)\n",
    "print(y_pred)\n",
    "print(y_pred[0])"
   ]
  },
  {
   "cell_type": "code",
   "execution_count": 53,
   "metadata": {},
   "outputs": [
    {
     "name": "stdout",
     "output_type": "stream",
     "text": [
      "[[1011    0    0    0    0    0    0    0    0    0]\n",
      " [   0 1009    0    0    0    0    1    0    0    0]\n",
      " [   0    0  993    0    0    0    0    0    0    0]\n",
      " [   1    0    0  938    0    0    0    0    0    0]\n",
      " [   0    0    0    0 1043    0    0    0    0    0]\n",
      " [   0    0    0    0    0 1027    0    0    0    0]\n",
      " [   1    0    0    0    0    0  998    0    0    0]\n",
      " [   0    0    0    0    0    0    0  974    0    0]\n",
      " [   0    0    0    0    0    0    0    0 1003    0]\n",
      " [   0    0    0    0    0    0    0    0    0 1001]]\n",
      "              precision    recall  f1-score   support\n",
      "\n",
      "           0       1.00      1.00      1.00      1011\n",
      "           1       1.00      1.00      1.00      1010\n",
      "           2       1.00      1.00      1.00       993\n",
      "           3       1.00      1.00      1.00       939\n",
      "           4       1.00      1.00      1.00      1043\n",
      "           5       1.00      1.00      1.00      1027\n",
      "           6       1.00      1.00      1.00       999\n",
      "           7       1.00      1.00      1.00       974\n",
      "           8       1.00      1.00      1.00      1003\n",
      "           9       1.00      1.00      1.00      1001\n",
      "\n",
      "    accuracy                           1.00     10000\n",
      "   macro avg       1.00      1.00      1.00     10000\n",
      "weighted avg       1.00      1.00      1.00     10000\n",
      "\n"
     ]
    }
   ],
   "source": [
    "print(confusion_matrix(y_test, y_pred))\n",
    "print(classification_report(y_test, y_pred))"
   ]
  },
  {
   "cell_type": "markdown",
   "metadata": {},
   "source": [
    "## iPhone13_II"
   ]
  },
  {
   "cell_type": "code",
   "execution_count": 5,
   "metadata": {},
   "outputs": [
    {
     "name": "stdout",
     "output_type": "stream",
     "text": [
      "[ 0.078125 +0.09375j    0.5625   -0.8046875j -0.984375 +0.9921875j ...\n",
      "  0.015625 +0.015625j   0.0078125-0.0078125j  0.015625 +0.015625j ]\n",
      "2048\n",
      "81191\n",
      "(2048, 81191)\n",
      "[0.03497613 0.0617279  0.03110138 ... 0.02998163 0.05360715 0.04346049]\n",
      "(10000, 2048)\n",
      "(10000,)\n"
     ]
    }
   ],
   "source": [
    "# reading a data for class  label 0\n",
    "data = getData(\"/Users/Lojenaa/Documents/DELL_Linux/Lojenaa/HackRF One/Smartphones/EM_Signals/iPhone_13/iPhone13_II/calender-app.cfile\")\n",
    "print(np.array(data))\n",
    "X, Y = create_dataset(data, 0)\n",
    "\n",
    "print(X.shape)\n",
    "print(Y.shape)"
   ]
  },
  {
   "cell_type": "code",
   "execution_count": 6,
   "metadata": {},
   "outputs": [
    {
     "name": "stdout",
     "output_type": "stream",
     "text": [
      "[0.015625 +0.0078125j 0.03125  +0.0078125j 0.0078125+0.015625j  ...\n",
      " 0.0078125+0.0078125j 0.0234375+0.0078125j 0.015625 +0.j       ]\n",
      "2048\n",
      "72123\n",
      "(2048, 72123)\n",
      "[0.0184771  0.00980769 0.00377408 ... 0.00184979 0.00378497 0.00949242]\n",
      "(20000, 2048)\n",
      "(20000,)\n"
     ]
    }
   ],
   "source": [
    "# reading a data for class  label 1\n",
    "data = getData(\"/Users/Lojenaa/Documents/DELL_Linux/Lojenaa/HackRF One/Smartphones/EM_Signals/iPhone_13/iPhone13_II/camera-photo.cfile\")\n",
    "print(np.array(data))\n",
    "dataset, label = create_dataset(data, 1)\n",
    "\n",
    "X = np.concatenate((X, dataset), axis=0) \n",
    "Y = np.concatenate((Y, label), axis=0)\n",
    "\n",
    "print(X.shape)\n",
    "print(Y.shape)"
   ]
  },
  {
   "cell_type": "code",
   "execution_count": 7,
   "metadata": {},
   "outputs": [
    {
     "name": "stdout",
     "output_type": "stream",
     "text": [
      "[0.0234375+0.0078125j 0.015625 +0.0078125j 0.0078125+0.015625j  ...\n",
      " 0.015625 +0.0078125j 0.0078125+0.j        0.0234375+0.0078125j]\n",
      "2048\n",
      "92893\n",
      "(2048, 92893)\n",
      "[0.01809648 0.00941779 0.00405625 ... 0.00197094 0.00359252 0.00953348]\n",
      "(30000, 2048)\n",
      "(30000,)\n"
     ]
    }
   ],
   "source": [
    "# reading a data for class  label 2\n",
    "data = getData(\"/Users/Lojenaa/Documents/DELL_Linux/Lojenaa/HackRF One/Smartphones/EM_Signals/iPhone_13/iPhone13_II/camera-video.cfile\")\n",
    "print(np.array(data))\n",
    "dataset, label = create_dataset(data, 2)\n",
    "\n",
    "X = np.concatenate((X, dataset), axis=0) \n",
    "Y = np.concatenate((Y, label), axis=0)\n",
    "\n",
    "print(X.shape)\n",
    "print(Y.shape)"
   ]
  },
  {
   "cell_type": "code",
   "execution_count": 8,
   "metadata": {},
   "outputs": [
    {
     "name": "stdout",
     "output_type": "stream",
     "text": [
      "[-0.0078125-0.0078125j  0.0234375-0.0078125j  0.0234375+0.j        ...\n",
      "  0.03125  +0.0078125j  0.015625 +0.0078125j  0.03125  +0.j       ]\n",
      "2048\n",
      "56322\n",
      "(2048, 56322)\n",
      "[0.01820297 0.00946224 0.00370945 ... 0.00208693 0.00383636 0.00951074]\n",
      "(40000, 2048)\n",
      "(40000,)\n"
     ]
    }
   ],
   "source": [
    "# reading a data for class  label 3\n",
    "data = getData(\"/Users/Lojenaa/Documents/DELL_Linux/Lojenaa/HackRF One/Smartphones/EM_Signals/iPhone_13/iPhone13_II/email-app.cfile\")\n",
    "print(np.array(data))\n",
    "dataset, label = create_dataset(data, 3)\n",
    "\n",
    "X = np.concatenate((X, dataset), axis=0) \n",
    "Y = np.concatenate((Y, label), axis=0)\n",
    "\n",
    "print(X.shape)\n",
    "print(Y.shape)"
   ]
  },
  {
   "cell_type": "code",
   "execution_count": 9,
   "metadata": {},
   "outputs": [
    {
     "name": "stdout",
     "output_type": "stream",
     "text": [
      "[0.0390625+0.j        0.015625 +0.0234375j 0.015625 +0.j        ...\n",
      " 0.0078125+0.0078125j 0.015625 +0.015625j  0.015625 +0.0078125j]\n",
      "2048\n",
      "71462\n",
      "(2048, 71462)\n",
      "[0.01826507 0.00975554 0.00367946 ... 0.00179136 0.0036102  0.00943712]\n",
      "(50000, 2048)\n",
      "(50000,)\n"
     ]
    }
   ],
   "source": [
    "# reading a data for class  label 4\n",
    "data = getData(\"/Users/Lojenaa/Documents/DELL_Linux/Lojenaa/HackRF One/Smartphones/EM_Signals/iPhone_13/iPhone13_II/gallery-app.cfile\")\n",
    "print(np.array(data))\n",
    "dataset, label = create_dataset(data, 4)\n",
    "\n",
    "X = np.concatenate((X, dataset), axis=0) \n",
    "Y = np.concatenate((Y, label), axis=0)\n",
    "\n",
    "print(X.shape)\n",
    "print(Y.shape)"
   ]
  },
  {
   "cell_type": "code",
   "execution_count": 10,
   "metadata": {},
   "outputs": [
    {
     "name": "stdout",
     "output_type": "stream",
     "text": [
      "[ 0.015625 +0.j         0.015625 +0.0078125j  0.0234375-0.0078125j ...\n",
      " -0.0078125-0.0078125j  0.015625 +0.0078125j  0.0234375-0.0078125j]\n",
      "2048\n",
      "77534\n",
      "(2048, 77534)\n",
      "[0.01885366 0.00955299 0.00381812 ... 0.00175554 0.00354502 0.00999323]\n",
      "(60000, 2048)\n",
      "(60000,)\n"
     ]
    }
   ],
   "source": [
    "# reading a data for class  label 5\n",
    "data = getData(\"/Users/Lojenaa/Documents/DELL_Linux/Lojenaa/HackRF One/Smartphones/EM_Signals/iPhone_13/iPhone13_II/home-screen.cfile\")\n",
    "print(np.array(data))\n",
    "dataset, label = create_dataset(data, 5)\n",
    "\n",
    "X = np.concatenate((X, dataset), axis=0) \n",
    "Y = np.concatenate((Y, label), axis=0)\n",
    "\n",
    "print(X.shape)\n",
    "print(Y.shape)"
   ]
  },
  {
   "cell_type": "code",
   "execution_count": 11,
   "metadata": {},
   "outputs": [
    {
     "name": "stdout",
     "output_type": "stream",
     "text": [
      "[0.0078125+0.0078125j 0.       +0.0078125j 0.015625 +0.0078125j ...\n",
      " 0.015625 +0.0078125j 0.0078125+0.j        0.0234375+0.j       ]\n",
      "2048\n",
      "71756\n",
      "(2048, 71756)\n",
      "[0.01843879 0.00944655 0.00375897 ... 0.00207559 0.00387582 0.00955302]\n",
      "(70000, 2048)\n",
      "(70000,)\n"
     ]
    }
   ],
   "source": [
    "# reading a data for class  label 6\n",
    "data = getData(\"/Users/Lojenaa/Documents/DELL_Linux/Lojenaa/HackRF One/Smartphones/EM_Signals/iPhone_13/iPhone13_II/idle.cfile\")\n",
    "print(np.array(data))\n",
    "dataset, label = create_dataset(data, 6)\n",
    "\n",
    "X = np.concatenate((X, dataset), axis=0) \n",
    "Y = np.concatenate((Y, label), axis=0)\n",
    "\n",
    "print(X.shape)\n",
    "print(Y.shape)"
   ]
  },
  {
   "cell_type": "code",
   "execution_count": 12,
   "metadata": {},
   "outputs": [
    {
     "name": "stdout",
     "output_type": "stream",
     "text": [
      "[0.0078125+0.0078125j 0.015625 +0.015625j  0.015625 +0.j        ...\n",
      " 0.015625 +0.0078125j 0.015625 -0.0078125j 0.0234375+0.015625j ]\n",
      "2048\n",
      "73292\n",
      "(2048, 73292)\n",
      "[0.01814853 0.00943132 0.00351341 ... 0.00200969 0.00380519 0.00951231]\n",
      "(80000, 2048)\n",
      "(80000,)\n"
     ]
    }
   ],
   "source": [
    "# reading a data for class  label 7\n",
    "data = getData(\"/Users/Lojenaa/Documents/DELL_Linux/Lojenaa/HackRF One/Smartphones/EM_Signals/iPhone_13/iPhone13_II/phone-app.cfile\")\n",
    "print(np.array(data))\n",
    "dataset, label = create_dataset(data, 7)\n",
    "\n",
    "X = np.concatenate((X, dataset), axis=0) \n",
    "Y = np.concatenate((Y, label), axis=0)\n",
    "\n",
    "print(X.shape)\n",
    "print(Y.shape)"
   ]
  },
  {
   "cell_type": "code",
   "execution_count": 13,
   "metadata": {},
   "outputs": [
    {
     "name": "stdout",
     "output_type": "stream",
     "text": [
      "[0.015625 +0.0078125j 0.015625 +0.0078125j 0.015625 +0.j        ...\n",
      " 0.0234375+0.0078125j 0.0078125+0.015625j  0.0234375+0.0078125j]\n",
      "2048\n",
      "71611\n",
      "(2048, 71611)\n",
      "[0.01817658 0.00939571 0.00359913 ... 0.00174631 0.00362656 0.00942984]\n",
      "(90000, 2048)\n",
      "(90000,)\n"
     ]
    }
   ],
   "source": [
    "# reading a data for class  label 8\n",
    "data = getData(\"/Users/Lojenaa/Documents/DELL_Linux/Lojenaa/HackRF One/Smartphones/EM_Signals/iPhone_13/iPhone13_II/sms-app.cfile\")\n",
    "print(np.array(data))\n",
    "dataset, label = create_dataset(data, 8)\n",
    "\n",
    "X = np.concatenate((X, dataset), axis=0) \n",
    "Y = np.concatenate((Y, label), axis=0)\n",
    "\n",
    "print(X.shape)\n",
    "print(Y.shape)"
   ]
  },
  {
   "cell_type": "code",
   "execution_count": 14,
   "metadata": {},
   "outputs": [
    {
     "name": "stdout",
     "output_type": "stream",
     "text": [
      "[0.0234375+0.j        0.03125  +0.0078125j 0.03125  +0.015625j  ...\n",
      " 0.0390625+0.0078125j 0.0234375+0.j        0.       +0.0078125j]\n",
      "2048\n",
      "84116\n",
      "(2048, 84116)\n",
      "[0.01812239 0.00943426 0.00367463 ... 0.00178114 0.00367117 0.00942098]\n",
      "(100000, 2048)\n",
      "(100000,)\n"
     ]
    }
   ],
   "source": [
    "# reading a data for class  label 9\n",
    "data = getData(\"/Users/Lojenaa/Documents/DELL_Linux/Lojenaa/HackRF One/Smartphones/EM_Signals/iPhone_13/iPhone13_II/web_browser-app.cfile\")\n",
    "print(np.array(data))\n",
    "dataset, label = create_dataset(data, 9)\n",
    "\n",
    "X = np.concatenate((X, dataset), axis=0) \n",
    "Y = np.concatenate((Y, label), axis=0)\n",
    "\n",
    "print(X.shape)\n",
    "print(Y.shape)"
   ]
  },
  {
   "cell_type": "markdown",
   "metadata": {},
   "source": [
    "Build iPhone13_II Model"
   ]
  },
  {
   "cell_type": "code",
   "execution_count": 15,
   "metadata": {},
   "outputs": [],
   "source": [
    "# Split data to train and test sets\n",
    "X_train, X_test, y_train, y_test = train_test_split(X, Y, test_size=0.1, random_state=0)"
   ]
  },
  {
   "cell_type": "code",
   "execution_count": 16,
   "metadata": {},
   "outputs": [
    {
     "name": "stderr",
     "output_type": "stream",
     "text": [
      "2022-09-17 20:11:10.883550: I tensorflow/core/platform/cpu_feature_guard.cc:193] This TensorFlow binary is optimized with oneAPI Deep Neural Network Library (oneDNN) to use the following CPU instructions in performance-critical operations:  AVX2 FMA\n",
      "To enable them in other operations, rebuild TensorFlow with the appropriate compiler flags.\n"
     ]
    },
    {
     "name": "stdout",
     "output_type": "stream",
     "text": [
      "Model: \"sequential\"\n",
      "_________________________________________________________________\n",
      " Layer (type)                Output Shape              Param #   \n",
      "=================================================================\n",
      " dense (Dense)               (None, 1400)              2868600   \n",
      "                                                                 \n",
      " dense_1 (Dense)             (None, 800)               1120800   \n",
      "                                                                 \n",
      " dense_2 (Dense)             (None, 500)               400500    \n",
      "                                                                 \n",
      " dense_3 (Dense)             (None, 200)               100200    \n",
      "                                                                 \n",
      " dense_4 (Dense)             (None, 100)               20100     \n",
      "                                                                 \n",
      " dense_5 (Dense)             (None, 10)                1010      \n",
      "                                                                 \n",
      "=================================================================\n",
      "Total params: 4,511,210\n",
      "Trainable params: 4,511,210\n",
      "Non-trainable params: 0\n",
      "_________________________________________________________________\n"
     ]
    }
   ],
   "source": [
    "model = keras.models.Sequential()\n",
    "model.add(keras.layers.Input(shape=(feature_vector_size,)))\n",
    "model.add(keras.layers.Dense(1400, activation=\"relu\"))\n",
    "model.add(keras.layers.Dense(800, activation=\"relu\"))\n",
    "model.add(keras.layers.Dense(500, activation=\"relu\"))\n",
    "model.add(keras.layers.Dense(200, activation=\"relu\"))\n",
    "model.add(keras.layers.Dense(100, activation=\"relu\"))\n",
    "model.add(keras.layers.Dense(10, activation=\"softmax\"))\n",
    "model.summary()"
   ]
  },
  {
   "cell_type": "code",
   "execution_count": 17,
   "metadata": {},
   "outputs": [],
   "source": [
    "opt = keras.optimizers.SGD(learning_rate=0.001)\n",
    "model.compile(loss=\"sparse_categorical_crossentropy\", optimizer=opt, metrics=[\"accuracy\"])"
   ]
  },
  {
   "cell_type": "code",
   "execution_count": 18,
   "metadata": {},
   "outputs": [
    {
     "name": "stdout",
     "output_type": "stream",
     "text": [
      "Epoch 1/25\n",
      "2532/2532 [==============================] - 24s 9ms/step - loss: 2.0235 - accuracy: 0.4164 - val_loss: 1.5184 - val_accuracy: 0.7480\n",
      "Epoch 2/25\n",
      "2532/2532 [==============================] - 23s 9ms/step - loss: 0.9021 - accuracy: 0.9358 - val_loss: 0.3986 - val_accuracy: 0.9963\n",
      "Epoch 3/25\n",
      "2532/2532 [==============================] - 23s 9ms/step - loss: 0.1936 - accuracy: 0.9977 - val_loss: 0.1209 - val_accuracy: 0.9983\n",
      "Epoch 4/25\n",
      "2532/2532 [==============================] - 23s 9ms/step - loss: 0.0689 - accuracy: 0.9986 - val_loss: 0.0712 - val_accuracy: 0.9987\n",
      "Epoch 5/25\n",
      "2532/2532 [==============================] - 24s 9ms/step - loss: 0.0443 - accuracy: 0.9989 - val_loss: 0.0552 - val_accuracy: 0.9990\n",
      "Epoch 6/25\n",
      "2532/2532 [==============================] - 23s 9ms/step - loss: 0.0345 - accuracy: 0.9991 - val_loss: 0.0468 - val_accuracy: 0.9990\n",
      "Epoch 7/25\n",
      "2532/2532 [==============================] - 23s 9ms/step - loss: 0.0289 - accuracy: 0.9991 - val_loss: 0.0405 - val_accuracy: 0.9990\n",
      "Epoch 8/25\n",
      "2532/2532 [==============================] - 23s 9ms/step - loss: 0.0252 - accuracy: 0.9992 - val_loss: 0.0356 - val_accuracy: 0.9990\n",
      "Epoch 9/25\n",
      "2532/2532 [==============================] - 23s 9ms/step - loss: 0.0224 - accuracy: 0.9993 - val_loss: 0.0313 - val_accuracy: 0.9991\n",
      "Epoch 10/25\n",
      "2532/2532 [==============================] - 23s 9ms/step - loss: 0.0201 - accuracy: 0.9993 - val_loss: 0.0278 - val_accuracy: 0.9991\n",
      "Epoch 11/25\n",
      "2532/2532 [==============================] - 23s 9ms/step - loss: 0.0182 - accuracy: 0.9993 - val_loss: 0.0248 - val_accuracy: 0.9992\n",
      "Epoch 12/25\n",
      "2532/2532 [==============================] - 23s 9ms/step - loss: 0.0165 - accuracy: 0.9993 - val_loss: 0.0219 - val_accuracy: 0.9992\n",
      "Epoch 13/25\n",
      "2532/2532 [==============================] - 23s 9ms/step - loss: 0.0150 - accuracy: 0.9993 - val_loss: 0.0194 - val_accuracy: 0.9992\n",
      "Epoch 14/25\n",
      "2532/2532 [==============================] - 23s 9ms/step - loss: 0.0137 - accuracy: 0.9994 - val_loss: 0.0169 - val_accuracy: 0.9993\n",
      "Epoch 15/25\n",
      "2532/2532 [==============================] - 23s 9ms/step - loss: 0.0125 - accuracy: 0.9994 - val_loss: 0.0147 - val_accuracy: 0.9993\n",
      "Epoch 16/25\n",
      "2532/2532 [==============================] - 23s 9ms/step - loss: 0.0114 - accuracy: 0.9994 - val_loss: 0.0130 - val_accuracy: 0.9993\n",
      "Epoch 17/25\n",
      "2532/2532 [==============================] - 23s 9ms/step - loss: 0.0103 - accuracy: 0.9995 - val_loss: 0.0105 - val_accuracy: 0.9993\n",
      "Epoch 18/25\n",
      "2532/2532 [==============================] - 23s 9ms/step - loss: 0.0094 - accuracy: 0.9995 - val_loss: 0.0084 - val_accuracy: 0.9993\n",
      "Epoch 19/25\n",
      "2532/2532 [==============================] - 24s 9ms/step - loss: 0.0085 - accuracy: 0.9995 - val_loss: 0.0068 - val_accuracy: 0.9993\n",
      "Epoch 20/25\n",
      "2532/2532 [==============================] - 24s 9ms/step - loss: 0.0077 - accuracy: 0.9995 - val_loss: 0.0053 - val_accuracy: 0.9993\n",
      "Epoch 21/25\n",
      "2532/2532 [==============================] - 24s 9ms/step - loss: 0.0070 - accuracy: 0.9995 - val_loss: 0.0045 - val_accuracy: 0.9993\n",
      "Epoch 22/25\n",
      "2532/2532 [==============================] - 23s 9ms/step - loss: 0.0065 - accuracy: 0.9995 - val_loss: 0.0040 - val_accuracy: 0.9993\n",
      "Epoch 23/25\n",
      "2532/2532 [==============================] - 23s 9ms/step - loss: 0.0061 - accuracy: 0.9995 - val_loss: 0.0035 - val_accuracy: 0.9993\n",
      "Epoch 24/25\n",
      "2532/2532 [==============================] - 23s 9ms/step - loss: 0.0058 - accuracy: 0.9995 - val_loss: 0.0032 - val_accuracy: 0.9996\n",
      "Epoch 25/25\n",
      "2532/2532 [==============================] - 23s 9ms/step - loss: 0.0055 - accuracy: 0.9996 - val_loss: 0.0030 - val_accuracy: 0.9998\n"
     ]
    }
   ],
   "source": [
    "checkpoint_cb = keras.callbacks.ModelCheckpoint(\"/Users/Lojenaa/Documents/DELL_Linux/Lojenaa/HackRF One/Smartphones/17-09-2022/iPhone13/iPHONE13_II_model.h5\", save_best_only=True)\n",
    "history = model.fit(X_train, y_train, epochs=25, validation_split=0.1, callbacks=[checkpoint_cb])"
   ]
  },
  {
   "cell_type": "code",
   "execution_count": 19,
   "metadata": {},
   "outputs": [
    {
     "data": {
      "image/png": "[encoded data removed]",
      "text/plain": [
       "<Figure size 800x500 with 1 Axes>"
      ]
     },
     "metadata": {},
     "output_type": "display_data"
    }
   ],
   "source": [
    "pd.DataFrame(history.history).plot(figsize=(8, 5))\n",
    "plt.grid(True)\n",
    "plt.gca().set_ylim(0, 1) # set the vertical range to [0-1]\n",
    "plt.show()"
   ]
  },
  {
   "cell_type": "markdown",
   "metadata": {},
   "source": [
    "Test the Own iPhone13_II Model"
   ]
  },
  {
   "cell_type": "code",
   "execution_count": 20,
   "metadata": {},
   "outputs": [],
   "source": [
    "model = keras.models.load_model(\"/Users/Lojenaa/Documents/DELL_Linux/Lojenaa/HackRF One/Smartphones/17-09-2022/iPhone13/iPHONE13_II_model.h5\")"
   ]
  },
  {
   "cell_type": "code",
   "execution_count": 21,
   "metadata": {},
   "outputs": [
    {
     "name": "stdout",
     "output_type": "stream",
     "text": [
      "313/313 [==============================] - 2s 5ms/step - loss: 0.0065 - accuracy: 0.9995\n",
      "test loss, test acc: [0.006476635113358498, 0.9994999766349792]\n"
     ]
    }
   ],
   "source": [
    "results = model.evaluate(X_test, y_test)\n",
    "print(\"test loss, test acc:\", results)"
   ]
  },
  {
   "cell_type": "code",
   "execution_count": 22,
   "metadata": {},
   "outputs": [
    {
     "name": "stdout",
     "output_type": "stream",
     "text": [
      "313/313 [==============================] - 1s 4ms/step\n",
      "[0 6 5 ... 5 5 6]\n",
      "0\n"
     ]
    }
   ],
   "source": [
    "y_pred = np.argmax(model.predict(X_test), axis=-1)\n",
    "print(y_pred)\n",
    "print(y_pred[0])"
   ]
  },
  {
   "cell_type": "code",
   "execution_count": 23,
   "metadata": {},
   "outputs": [
    {
     "name": "stdout",
     "output_type": "stream",
     "text": [
      "[[1011    0    0    0    0    0    0    0    0    0]\n",
      " [   0 1010    0    0    0    0    0    0    0    0]\n",
      " [   0    0  991    0    0    0    1    0    0    1]\n",
      " [   0    0    0  939    0    0    0    0    0    0]\n",
      " [   0    0    0    0 1043    0    0    0    0    0]\n",
      " [   0    0    0    0    0 1027    0    0    0    0]\n",
      " [   0    0    0    0    0    0  999    0    0    0]\n",
      " [   0    0    0    0    2    0    0  972    0    0]\n",
      " [   0    0    0    0    1    0    0    0 1002    0]\n",
      " [   0    0    0    0    0    0    0    0    0 1001]]\n",
      "              precision    recall  f1-score   support\n",
      "\n",
      "           0       1.00      1.00      1.00      1011\n",
      "           1       1.00      1.00      1.00      1010\n",
      "           2       1.00      1.00      1.00       993\n",
      "           3       1.00      1.00      1.00       939\n",
      "           4       1.00      1.00      1.00      1043\n",
      "           5       1.00      1.00      1.00      1027\n",
      "           6       1.00      1.00      1.00       999\n",
      "           7       1.00      1.00      1.00       974\n",
      "           8       1.00      1.00      1.00      1003\n",
      "           9       1.00      1.00      1.00      1001\n",
      "\n",
      "    accuracy                           1.00     10000\n",
      "   macro avg       1.00      1.00      1.00     10000\n",
      "weighted avg       1.00      1.00      1.00     10000\n",
      "\n"
     ]
    }
   ],
   "source": [
    "print(confusion_matrix(y_test, y_pred))\n",
    "print(classification_report(y_test, y_pred))"
   ]
  },
  {
   "cell_type": "markdown",
   "metadata": {},
   "source": [
    "## iPhone13_III"
   ]
  },
  {
   "cell_type": "code",
   "execution_count": 5,
   "metadata": {},
   "outputs": [
    {
     "name": "stdout",
     "output_type": "stream",
     "text": [
      "[0.015625 +0.j        0.015625 +0.0078125j 0.0234375+0.015625j  ...\n",
      " 0.       +0.j        0.015625 -0.0078125j 0.0234375+0.015625j ]\n",
      "2048\n",
      "78558\n",
      "(2048, 78558)\n",
      "[0.01852033 0.00958475 0.00369698 ... 0.00181086 0.003753   0.00963692]\n",
      "(10000, 2048)\n",
      "(10000,)\n"
     ]
    }
   ],
   "source": [
    "# reading a data for class  label 0\n",
    "data = getData(\"/Users/Lojenaa/Documents/DELL_Linux/Lojenaa/HackRF One/Smartphones/EM_Signals/iPhone_13/iPhone13_III/calendar-app.cfile\")\n",
    "print(np.array(data))\n",
    "X, Y = create_dataset(data, 0)\n",
    "\n",
    "print(X.shape)\n",
    "print(Y.shape)"
   ]
  },
  {
   "cell_type": "code",
   "execution_count": 6,
   "metadata": {},
   "outputs": [
    {
     "name": "stdout",
     "output_type": "stream",
     "text": [
      "[0.015625 +0.0234375j 0.0078125+0.j        0.0234375+0.j        ...\n",
      " 0.03125  +0.0078125j 0.0078125+0.015625j  0.0078125+0.0234375j]\n",
      "2048\n",
      "74243\n",
      "(2048, 74243)\n",
      "[0.01901824 0.00952496 0.00361272 ... 0.00181022 0.00350893 0.00955064]\n",
      "(20000, 2048)\n",
      "(20000,)\n"
     ]
    }
   ],
   "source": [
    "# reading a data for class  label 1\n",
    "data = getData(\"/Users/Lojenaa/Documents/DELL_Linux/Lojenaa/HackRF One/Smartphones/EM_Signals/iPhone_13/iPhone13_III/camera-photo.cfile\")\n",
    "print(np.array(data))\n",
    "dataset, label = create_dataset(data, 1)\n",
    "\n",
    "X = np.concatenate((X, dataset), axis=0) \n",
    "Y = np.concatenate((Y, label), axis=0)\n",
    "\n",
    "print(X.shape)\n",
    "print(Y.shape)"
   ]
  },
  {
   "cell_type": "code",
   "execution_count": 7,
   "metadata": {},
   "outputs": [
    {
     "name": "stdout",
     "output_type": "stream",
     "text": [
      "[0.0234375+0.j        0.0234375+0.0234375j 0.015625 +0.015625j  ...\n",
      " 0.015625 +0.0078125j 0.015625 +0.j        0.0234375+0.0078125j]\n",
      "2048\n",
      "79732\n",
      "(2048, 79732)\n",
      "[0.01835802 0.00962685 0.00344502 ... 0.00159603 0.00344605 0.00971396]\n",
      "(30000, 2048)\n",
      "(30000,)\n"
     ]
    }
   ],
   "source": [
    "# reading a data for class  label 2\n",
    "data = getData(\"/Users/Lojenaa/Documents/DELL_Linux/Lojenaa/HackRF One/Smartphones/EM_Signals/iPhone_13/iPhone13_III/camera-video.cfile\")\n",
    "print(np.array(data))\n",
    "dataset, label = create_dataset(data, 2)\n",
    "\n",
    "X = np.concatenate((X, dataset), axis=0) \n",
    "Y = np.concatenate((Y, label), axis=0)\n",
    "\n",
    "print(X.shape)\n",
    "print(Y.shape)"
   ]
  },
  {
   "cell_type": "code",
   "execution_count": 8,
   "metadata": {},
   "outputs": [
    {
     "name": "stdout",
     "output_type": "stream",
     "text": [
      "[0.015625 +0.j        0.0234375+0.0078125j 0.0078125+0.015625j  ...\n",
      " 0.       -0.0078125j 0.015625 -0.0078125j 0.03125  +0.0078125j]\n",
      "2048\n",
      "72926\n",
      "(2048, 72926)\n",
      "[0.01814387 0.00948817 0.00355478 ... 0.00184933 0.0035476  0.0094812 ]\n",
      "(40000, 2048)\n",
      "(40000,)\n"
     ]
    }
   ],
   "source": [
    "# reading a data for class  label 3\n",
    "data = getData(\"/Users/Lojenaa/Documents/DELL_Linux/Lojenaa/HackRF One/Smartphones/EM_Signals/iPhone_13/iPhone13_III/email-app.cfile\")\n",
    "print(np.array(data))\n",
    "dataset, label = create_dataset(data, 3)\n",
    "\n",
    "X = np.concatenate((X, dataset), axis=0) \n",
    "Y = np.concatenate((Y, label), axis=0)\n",
    "\n",
    "print(X.shape)\n",
    "print(Y.shape)"
   ]
  },
  {
   "cell_type": "code",
   "execution_count": 9,
   "metadata": {},
   "outputs": [
    {
     "name": "stdout",
     "output_type": "stream",
     "text": [
      "[0.0234375+0.0078125j 0.0234375+0.0078125j 0.0234375+0.j        ...\n",
      " 0.0078125+0.015625j  0.0234375-0.015625j  0.015625 +0.015625j ]\n",
      "2048\n",
      "70219\n",
      "(2048, 70219)\n",
      "[0.01831812 0.00958718 0.00350358 ... 0.00182362 0.00372122 0.00951167]\n",
      "(50000, 2048)\n",
      "(50000,)\n"
     ]
    }
   ],
   "source": [
    "# reading a data for class  label 4\n",
    "data = getData(\"/Users/Lojenaa/Documents/DELL_Linux/Lojenaa/HackRF One/Smartphones/EM_Signals/iPhone_13/iPhone13_III/gallery-app.cfile\")\n",
    "print(np.array(data))\n",
    "dataset, label = create_dataset(data, 4)\n",
    "\n",
    "X = np.concatenate((X, dataset), axis=0) \n",
    "Y = np.concatenate((Y, label), axis=0)\n",
    "\n",
    "print(X.shape)\n",
    "print(Y.shape)"
   ]
  },
  {
   "cell_type": "code",
   "execution_count": 10,
   "metadata": {},
   "outputs": [
    {
     "name": "stdout",
     "output_type": "stream",
     "text": [
      "[0.03125  +0.j        0.015625 +0.0078125j 0.       +0.0078125j ...\n",
      " 0.0078125+0.j        0.0078125+0.0078125j 0.0234375-0.0078125j]\n",
      "2048\n",
      "73439\n",
      "(2048, 73439)\n",
      "[0.01814429 0.00948737 0.00341386 ... 0.00191901 0.00374672 0.00948966]\n",
      "(60000, 2048)\n",
      "(60000,)\n"
     ]
    }
   ],
   "source": [
    "# reading a data for class  label 5\n",
    "data = getData(\"/Users/Lojenaa/Documents/DELL_Linux/Lojenaa/HackRF One/Smartphones/EM_Signals/iPhone_13/iPhone13_III/home-screen.cfile\")\n",
    "print(np.array(data))\n",
    "dataset, label = create_dataset(data, 5)\n",
    "\n",
    "X = np.concatenate((X, dataset), axis=0) \n",
    "Y = np.concatenate((Y, label), axis=0)\n",
    "\n",
    "print(X.shape)\n",
    "print(Y.shape)"
   ]
  },
  {
   "cell_type": "code",
   "execution_count": 11,
   "metadata": {},
   "outputs": [
    {
     "name": "stdout",
     "output_type": "stream",
     "text": [
      "[0.015625 +0.015625j  0.0078125+0.0078125j 0.0234375+0.0078125j ...\n",
      " 0.015625 +0.015625j  0.015625 +0.0078125j 0.0078125+0.0078125j]\n",
      "2048\n",
      "69895\n",
      "(2048, 69895)\n",
      "[0.01831148 0.00957138 0.00356465 ... 0.00186656 0.00368411 0.00954022]\n",
      "(70000, 2048)\n",
      "(70000,)\n"
     ]
    }
   ],
   "source": [
    "# reading a data for class  label 6\n",
    "data = getData(\"/Users/Lojenaa/Documents/DELL_Linux/Lojenaa/HackRF One/Smartphones/EM_Signals/iPhone_13/iPhone13_III/idle.cfile\")\n",
    "print(np.array(data))\n",
    "dataset, label = create_dataset(data, 6)\n",
    "\n",
    "X = np.concatenate((X, dataset), axis=0) \n",
    "Y = np.concatenate((Y, label), axis=0)\n",
    "\n",
    "print(X.shape)\n",
    "print(Y.shape)"
   ]
  },
  {
   "cell_type": "code",
   "execution_count": 12,
   "metadata": {},
   "outputs": [
    {
     "name": "stdout",
     "output_type": "stream",
     "text": [
      "[0.0078125+0.015625j  0.015625 -0.0078125j 0.03125  -0.0078125j ...\n",
      " 0.0234375+0.j        0.0078125+0.015625j  0.0078125+0.015625j ]\n",
      "2048\n",
      "105986\n",
      "(2048, 105986)\n",
      "[0.01823477 0.00951891 0.00358417 ... 0.00211496 0.00367384 0.00949519]\n",
      "(80000, 2048)\n",
      "(80000,)\n"
     ]
    }
   ],
   "source": [
    "# reading a data for class  label 7\n",
    "data = getData(\"/Users/Lojenaa/Documents/DELL_Linux/Lojenaa/HackRF One/Smartphones/EM_Signals/iPhone_13/iPhone13_III/phone-app.cfile\")\n",
    "print(np.array(data))\n",
    "dataset, label = create_dataset(data, 7)\n",
    "\n",
    "X = np.concatenate((X, dataset), axis=0) \n",
    "Y = np.concatenate((Y, label), axis=0)\n",
    "\n",
    "print(X.shape)\n",
    "print(Y.shape)"
   ]
  },
  {
   "cell_type": "code",
   "execution_count": 13,
   "metadata": {},
   "outputs": [
    {
     "name": "stdout",
     "output_type": "stream",
     "text": [
      "[0.0234375+0.j        0.015625 +0.0078125j 0.0078125+0.0078125j ...\n",
      " 0.0234375+0.0078125j 0.03125  +0.015625j  0.015625 +0.0078125j]\n",
      "2048\n",
      "73073\n",
      "(2048, 73073)\n",
      "[0.01833369 0.00956394 0.00357049 ... 0.00202475 0.0036879  0.0095438 ]\n",
      "(90000, 2048)\n",
      "(90000,)\n"
     ]
    }
   ],
   "source": [
    "# reading a data for class  label 8\n",
    "data = getData(\"/Users/Lojenaa/Documents/DELL_Linux/Lojenaa/HackRF One/Smartphones/EM_Signals/iPhone_13/iPhone13_III/sms-app.cfile\")\n",
    "print(np.array(data))\n",
    "dataset, label = create_dataset(data, 8)\n",
    "\n",
    "X = np.concatenate((X, dataset), axis=0) \n",
    "Y = np.concatenate((Y, label), axis=0)\n",
    "\n",
    "print(X.shape)\n",
    "print(Y.shape)"
   ]
  },
  {
   "cell_type": "code",
   "execution_count": 14,
   "metadata": {},
   "outputs": [
    {
     "name": "stdout",
     "output_type": "stream",
     "text": [
      "[0.0234375+0.0078125j 0.03125  +0.0078125j 0.015625 +0.j        ...\n",
      " 0.015625 +0.0078125j 0.0078125+0.j        0.0234375-0.015625j ]\n",
      "2048\n",
      "81190\n",
      "(2048, 81190)\n",
      "[0.01873207 0.00957678 0.00342764 ... 0.002072   0.00412383 0.00962331]\n",
      "(100000, 2048)\n",
      "(100000,)\n"
     ]
    }
   ],
   "source": [
    "# reading a data for class  label 9\n",
    "data = getData(\"/Users/Lojenaa/Documents/DELL_Linux/Lojenaa/HackRF One/Smartphones/EM_Signals/iPhone_13/iPhone13_III/web_browser-app.cfile\")\n",
    "print(np.array(data))\n",
    "dataset, label = create_dataset(data, 9)\n",
    "\n",
    "X = np.concatenate((X, dataset), axis=0) \n",
    "Y = np.concatenate((Y, label), axis=0)\n",
    "\n",
    "print(X.shape)\n",
    "print(Y.shape)"
   ]
  },
  {
   "cell_type": "markdown",
   "metadata": {},
   "source": [
    "Build an own model for iPhone13_III"
   ]
  },
  {
   "cell_type": "code",
   "execution_count": 15,
   "metadata": {},
   "outputs": [],
   "source": [
    "# Split data to train and test sets\n",
    "X_train, X_test, y_train, y_test = train_test_split(X, Y, test_size=0.1, random_state=0)"
   ]
  },
  {
   "cell_type": "code",
   "execution_count": 16,
   "metadata": {},
   "outputs": [
    {
     "name": "stderr",
     "output_type": "stream",
     "text": [
      "2022-09-18 12:47:00.575147: I tensorflow/core/platform/cpu_feature_guard.cc:193] This TensorFlow binary is optimized with oneAPI Deep Neural Network Library (oneDNN) to use the following CPU instructions in performance-critical operations:  AVX2 FMA\n",
      "To enable them in other operations, rebuild TensorFlow with the appropriate compiler flags.\n"
     ]
    },
    {
     "name": "stdout",
     "output_type": "stream",
     "text": [
      "Model: \"sequential\"\n",
      "_________________________________________________________________\n",
      " Layer (type)                Output Shape              Param #   \n",
      "=================================================================\n",
      " dense (Dense)               (None, 1400)              2868600   \n",
      "                                                                 \n",
      " dense_1 (Dense)             (None, 800)               1120800   \n",
      "                                                                 \n",
      " dense_2 (Dense)             (None, 500)               400500    \n",
      "                                                                 \n",
      " dense_3 (Dense)             (None, 200)               100200    \n",
      "                                                                 \n",
      " dense_4 (Dense)             (None, 100)               20100     \n",
      "                                                                 \n",
      " dense_5 (Dense)             (None, 10)                1010      \n",
      "                                                                 \n",
      "=================================================================\n",
      "Total params: 4,511,210\n",
      "Trainable params: 4,511,210\n",
      "Non-trainable params: 0\n",
      "_________________________________________________________________\n"
     ]
    }
   ],
   "source": [
    "model = keras.models.Sequential()\n",
    "model.add(keras.layers.Input(shape=(feature_vector_size,)))\n",
    "model.add(keras.layers.Dense(1400, activation=\"relu\"))\n",
    "model.add(keras.layers.Dense(800, activation=\"relu\"))\n",
    "model.add(keras.layers.Dense(500, activation=\"relu\"))\n",
    "model.add(keras.layers.Dense(200, activation=\"relu\"))\n",
    "model.add(keras.layers.Dense(100, activation=\"relu\"))\n",
    "model.add(keras.layers.Dense(10, activation=\"softmax\"))\n",
    "model.summary()"
   ]
  },
  {
   "cell_type": "code",
   "execution_count": 17,
   "metadata": {},
   "outputs": [],
   "source": [
    "opt = keras.optimizers.SGD(learning_rate=0.001)\n",
    "model.compile(loss=\"sparse_categorical_crossentropy\", optimizer=opt, metrics=[\"accuracy\"])"
   ]
  },
  {
   "cell_type": "code",
   "execution_count": 18,
   "metadata": {},
   "outputs": [
    {
     "name": "stdout",
     "output_type": "stream",
     "text": [
      "Epoch 1/25\n",
      "2532/2532 [==============================] - 23s 9ms/step - loss: 1.8170 - accuracy: 0.5481 - val_loss: 0.9901 - val_accuracy: 0.9098\n",
      "Epoch 2/25\n",
      "2532/2532 [==============================] - 23s 9ms/step - loss: 0.4600 - accuracy: 0.9831 - val_loss: 0.1945 - val_accuracy: 0.9904\n",
      "Epoch 3/25\n",
      "2532/2532 [==============================] - 37s 15ms/step - loss: 0.1085 - accuracy: 0.9977 - val_loss: 0.0765 - val_accuracy: 0.9976\n",
      "Epoch 4/25\n",
      "2532/2532 [==============================] - 30s 12ms/step - loss: 0.0574 - accuracy: 0.9982 - val_loss: 0.0526 - val_accuracy: 0.9979\n",
      "Epoch 5/25\n",
      "2532/2532 [==============================] - 29s 12ms/step - loss: 0.0421 - accuracy: 0.9983 - val_loss: 0.0436 - val_accuracy: 0.9977\n",
      "Epoch 6/25\n",
      "2532/2532 [==============================] - 30s 12ms/step - loss: 0.0343 - accuracy: 0.9983 - val_loss: 0.0369 - val_accuracy: 0.9979\n",
      "Epoch 7/25\n",
      "2532/2532 [==============================] - 28s 11ms/step - loss: 0.0292 - accuracy: 0.9985 - val_loss: 0.0323 - val_accuracy: 0.9980\n",
      "Epoch 8/25\n",
      "2532/2532 [==============================] - 26s 10ms/step - loss: 0.0255 - accuracy: 0.9985 - val_loss: 0.0287 - val_accuracy: 0.9982\n",
      "Epoch 9/25\n",
      "2532/2532 [==============================] - 26s 10ms/step - loss: 0.0225 - accuracy: 0.9985 - val_loss: 0.0256 - val_accuracy: 0.9982\n",
      "Epoch 10/25\n",
      "2532/2532 [==============================] - 26s 10ms/step - loss: 0.0199 - accuracy: 0.9986 - val_loss: 0.0231 - val_accuracy: 0.9982\n",
      "Epoch 11/25\n",
      "2532/2532 [==============================] - 24s 9ms/step - loss: 0.0176 - accuracy: 0.9986 - val_loss: 0.0209 - val_accuracy: 0.9982\n",
      "Epoch 12/25\n",
      "2532/2532 [==============================] - 25s 10ms/step - loss: 0.0157 - accuracy: 0.9987 - val_loss: 0.0187 - val_accuracy: 0.9982\n",
      "Epoch 13/25\n",
      "2532/2532 [==============================] - 28s 11ms/step - loss: 0.0140 - accuracy: 0.9988 - val_loss: 0.0172 - val_accuracy: 0.9982\n",
      "Epoch 14/25\n",
      "2532/2532 [==============================] - 27s 11ms/step - loss: 0.0125 - accuracy: 0.9988 - val_loss: 0.0153 - val_accuracy: 0.9982\n",
      "Epoch 15/25\n",
      "2532/2532 [==============================] - 25s 10ms/step - loss: 0.0111 - accuracy: 0.9989 - val_loss: 0.0137 - val_accuracy: 0.9982\n",
      "Epoch 16/25\n",
      "2532/2532 [==============================] - 26s 10ms/step - loss: 0.0098 - accuracy: 0.9990 - val_loss: 0.0123 - val_accuracy: 0.9983\n",
      "Epoch 17/25\n",
      "2532/2532 [==============================] - 26s 10ms/step - loss: 0.0087 - accuracy: 0.9991 - val_loss: 0.0110 - val_accuracy: 0.9983\n",
      "Epoch 18/25\n",
      "2532/2532 [==============================] - 24s 10ms/step - loss: 0.0078 - accuracy: 0.9991 - val_loss: 0.0102 - val_accuracy: 0.9983\n",
      "Epoch 19/25\n",
      "2532/2532 [==============================] - 25s 10ms/step - loss: 0.0070 - accuracy: 0.9992 - val_loss: 0.0091 - val_accuracy: 0.9984\n",
      "Epoch 20/25\n",
      "2532/2532 [==============================] - 23s 9ms/step - loss: 0.0063 - accuracy: 0.9992 - val_loss: 0.0085 - val_accuracy: 0.9984\n",
      "Epoch 21/25\n",
      "2532/2532 [==============================] - 25s 10ms/step - loss: 0.0058 - accuracy: 0.9992 - val_loss: 0.0083 - val_accuracy: 0.9984\n",
      "Epoch 22/25\n",
      "2532/2532 [==============================] - 27s 11ms/step - loss: 0.0053 - accuracy: 0.9993 - val_loss: 0.0076 - val_accuracy: 0.9986\n",
      "Epoch 23/25\n",
      "2532/2532 [==============================] - 25s 10ms/step - loss: 0.0049 - accuracy: 0.9993 - val_loss: 0.0075 - val_accuracy: 0.9984\n",
      "Epoch 24/25\n",
      "2532/2532 [==============================] - 25s 10ms/step - loss: 0.0046 - accuracy: 0.9994 - val_loss: 0.0069 - val_accuracy: 0.9987\n",
      "Epoch 25/25\n",
      "2532/2532 [==============================] - 27s 11ms/step - loss: 0.0043 - accuracy: 0.9995 - val_loss: 0.0065 - val_accuracy: 0.9988\n"
     ]
    }
   ],
   "source": [
    "checkpoint_cb = keras.callbacks.ModelCheckpoint(\"/Users/Lojenaa/Documents/DELL_Linux/Lojenaa/HackRF One/Smartphones/17-09-2022/iPhone13/iPHONE13_III_model.h5\", save_best_only=True)\n",
    "history = model.fit(X_train, y_train, epochs=25, validation_split=0.1, callbacks=[checkpoint_cb])"
   ]
  },
  {
   "cell_type": "code",
   "execution_count": 19,
   "metadata": {},
   "outputs": [
    {
     "data": {
      "image/png": "[encoded data removed]",
      "text/plain": [
       "<Figure size 800x500 with 1 Axes>"
      ]
     },
     "metadata": {},
     "output_type": "display_data"
    }
   ],
   "source": [
    "pd.DataFrame(history.history).plot(figsize=(8, 5))\n",
    "plt.grid(True)\n",
    "plt.gca().set_ylim(0, 1) # set the vertical range to [0-1]\n",
    "plt.show()"
   ]
  },
  {
   "cell_type": "markdown",
   "metadata": {},
   "source": [
    "Test the own iPhone_III Model"
   ]
  },
  {
   "cell_type": "code",
   "execution_count": 20,
   "metadata": {},
   "outputs": [],
   "source": [
    "model = keras.models.load_model(\"/Users/Lojenaa/Documents/DELL_Linux/Lojenaa/HackRF One/Smartphones/17-09-2022/iPhone13/iPHONE13_III_model.h5\")"
   ]
  },
  {
   "cell_type": "code",
   "execution_count": 21,
   "metadata": {},
   "outputs": [
    {
     "name": "stdout",
     "output_type": "stream",
     "text": [
      "313/313 [==============================] - 2s 5ms/step - loss: 0.0072 - accuracy: 0.9990\n",
      "test loss, test acc: [0.007211802061647177, 0.9990000128746033]\n"
     ]
    }
   ],
   "source": [
    "results = model.evaluate(X_test, y_test)\n",
    "print(\"test loss, test acc:\", results)"
   ]
  },
  {
   "cell_type": "code",
   "execution_count": 22,
   "metadata": {},
   "outputs": [
    {
     "name": "stdout",
     "output_type": "stream",
     "text": [
      "313/313 [==============================] - 1s 4ms/step\n",
      "[0 6 5 ... 5 5 6]\n",
      "0\n"
     ]
    }
   ],
   "source": [
    "y_pred = np.argmax(model.predict(X_test), axis=-1)\n",
    "print(y_pred)\n",
    "print(y_pred[0])"
   ]
  },
  {
   "cell_type": "code",
   "execution_count": 23,
   "metadata": {},
   "outputs": [
    {
     "name": "stdout",
     "output_type": "stream",
     "text": [
      "[[1010    1    0    0    0    0    0    0    0    0]\n",
      " [   0 1010    0    0    0    0    0    0    0    0]\n",
      " [   0    2  991    0    0    0    0    0    0    0]\n",
      " [   0    0    0  939    0    0    0    0    0    0]\n",
      " [   0    1    0    0 1042    0    0    0    0    0]\n",
      " [   0    0    0    0    0 1027    0    0    0    0]\n",
      " [   0    0    0    0    0    0  999    0    0    0]\n",
      " [   0    0    0    0    0    0    1  973    0    0]\n",
      " [   0    0    0    1    1    0    1    0  998    2]\n",
      " [   0    0    0    0    0    0    0    0    0 1001]]\n",
      "              precision    recall  f1-score   support\n",
      "\n",
      "           0       1.00      1.00      1.00      1011\n",
      "           1       1.00      1.00      1.00      1010\n",
      "           2       1.00      1.00      1.00       993\n",
      "           3       1.00      1.00      1.00       939\n",
      "           4       1.00      1.00      1.00      1043\n",
      "           5       1.00      1.00      1.00      1027\n",
      "           6       1.00      1.00      1.00       999\n",
      "           7       1.00      1.00      1.00       974\n",
      "           8       1.00      1.00      1.00      1003\n",
      "           9       1.00      1.00      1.00      1001\n",
      "\n",
      "    accuracy                           1.00     10000\n",
      "   macro avg       1.00      1.00      1.00     10000\n",
      "weighted avg       1.00      1.00      1.00     10000\n",
      "\n"
     ]
    }
   ],
   "source": [
    "print(confusion_matrix(y_test, y_pred))\n",
    "print(classification_report(y_test, y_pred))"
   ]
  },
  {
   "cell_type": "markdown",
   "metadata": {},
   "source": [
    "## Cross-check the same Model without split the dataset as training and testing"
   ]
  },
  {
   "cell_type": "markdown",
   "metadata": {},
   "source": [
    "iPhone13_I"
   ]
  },
  {
   "cell_type": "code",
   "execution_count": 15,
   "metadata": {},
   "outputs": [
    {
     "name": "stderr",
     "output_type": "stream",
     "text": [
      "2022-09-23 12:20:34.077021: I tensorflow/core/platform/cpu_feature_guard.cc:193] This TensorFlow binary is optimized with oneAPI Deep Neural Network Library (oneDNN) to use the following CPU instructions in performance-critical operations:  AVX2 FMA\n",
      "To enable them in other operations, rebuild TensorFlow with the appropriate compiler flags.\n"
     ]
    }
   ],
   "source": [
    "model = keras.models.load_model(\"/Users/Lojenaa/Documents/DELL_Linux/Lojenaa/HackRF One/Smartphones/Cross-device-Portability-of-EMSCA/Smartphones/iPhone/iPhone13/iPHONE13_I_model.h5\")"
   ]
  },
  {
   "cell_type": "code",
   "execution_count": 17,
   "metadata": {},
   "outputs": [
    {
     "name": "stdout",
     "output_type": "stream",
     "text": [
      "3125/3125 [==============================] - 12s 4ms/step - loss: 0.0040 - accuracy: 0.9998\n",
      "test loss, test acc: [0.004029067698866129, 0.9997699856758118]\n"
     ]
    }
   ],
   "source": [
    "results = model.evaluate(X, Y)\n",
    "print(\"test loss, test acc:\", results)"
   ]
  },
  {
   "cell_type": "code",
   "execution_count": 18,
   "metadata": {},
   "outputs": [
    {
     "name": "stdout",
     "output_type": "stream",
     "text": [
      "3125/3125 [==============================] - 11s 3ms/step\n",
      "[0 0 0 ... 9 9 9]\n",
      "0\n"
     ]
    }
   ],
   "source": [
    "y_pred = np.argmax(model.predict(X), axis=-1)\n",
    "print(y_pred)\n",
    "print(y_pred[0])"
   ]
  },
  {
   "cell_type": "code",
   "execution_count": 19,
   "metadata": {},
   "outputs": [
    {
     "name": "stdout",
     "output_type": "stream",
     "text": [
      "[[10000     0     0     0     0     0     0     0     0     0]\n",
      " [    0  9998     0     0     0     0     2     0     0     0]\n",
      " [    3     0  9997     0     0     0     0     0     0     0]\n",
      " [    1     0     2  9995     0     1     1     0     0     0]\n",
      " [    1     0     0     0  9998     0     0     0     1     0]\n",
      " [    0     2     0     0     0  9996     2     0     0     0]\n",
      " [    3     0     0     0     0     0  9997     0     0     0]\n",
      " [    1     1     0     0     1     0     0  9997     0     0]\n",
      " [    1     0     0     0     0     0     0     0  9999     0]\n",
      " [    0     0     0     0     0     0     0     0     0 10000]]\n",
      "              precision    recall  f1-score   support\n",
      "\n",
      "           0       1.00      1.00      1.00     10000\n",
      "           1       1.00      1.00      1.00     10000\n",
      "           2       1.00      1.00      1.00     10000\n",
      "           3       1.00      1.00      1.00     10000\n",
      "           4       1.00      1.00      1.00     10000\n",
      "           5       1.00      1.00      1.00     10000\n",
      "           6       1.00      1.00      1.00     10000\n",
      "           7       1.00      1.00      1.00     10000\n",
      "           8       1.00      1.00      1.00     10000\n",
      "           9       1.00      1.00      1.00     10000\n",
      "\n",
      "    accuracy                           1.00    100000\n",
      "   macro avg       1.00      1.00      1.00    100000\n",
      "weighted avg       1.00      1.00      1.00    100000\n",
      "\n"
     ]
    }
   ],
   "source": [
    "print(confusion_matrix(Y, y_pred))\n",
    "print(classification_report(Y, y_pred))"
   ]
  },
  {
   "cell_type": "markdown",
   "metadata": {},
   "source": [
    "iPhone13_II"
   ]
  },
  {
   "cell_type": "code",
   "execution_count": 15,
   "metadata": {},
   "outputs": [
    {
     "name": "stderr",
     "output_type": "stream",
     "text": [
      "2022-09-23 12:35:59.051798: I tensorflow/core/platform/cpu_feature_guard.cc:193] This TensorFlow binary is optimized with oneAPI Deep Neural Network Library (oneDNN) to use the following CPU instructions in performance-critical operations:  AVX2 FMA\n",
      "To enable them in other operations, rebuild TensorFlow with the appropriate compiler flags.\n"
     ]
    }
   ],
   "source": [
    "model = keras.models.load_model(\"/Users/Lojenaa/Documents/DELL_Linux/Lojenaa/HackRF One/Smartphones/Cross-device-Portability-of-EMSCA/Smartphones/iPhone/iPhone13/iPHONE13_II_model.h5\")"
   ]
  },
  {
   "cell_type": "code",
   "execution_count": 16,
   "metadata": {},
   "outputs": [
    {
     "name": "stdout",
     "output_type": "stream",
     "text": [
      "3125/3125 [==============================] - 13s 4ms/step - loss: 0.0052 - accuracy: 0.9997\n",
      "test loss, test acc: [0.005223894491791725, 0.9996700286865234]\n"
     ]
    }
   ],
   "source": [
    "results = model.evaluate(X, Y)\n",
    "print(\"test loss, test acc:\", results)"
   ]
  },
  {
   "cell_type": "code",
   "execution_count": 17,
   "metadata": {},
   "outputs": [
    {
     "name": "stdout",
     "output_type": "stream",
     "text": [
      "3125/3125 [==============================] - 11s 4ms/step\n",
      "[4 4 4 ... 9 9 9]\n",
      "4\n"
     ]
    }
   ],
   "source": [
    "y_pred = np.argmax(model.predict(X), axis=-1)\n",
    "print(y_pred)\n",
    "print(y_pred[0])"
   ]
  },
  {
   "cell_type": "code",
   "execution_count": 18,
   "metadata": {},
   "outputs": [
    {
     "name": "stdout",
     "output_type": "stream",
     "text": [
      "[[ 9995     0     0     0     5     0     0     0     0     0]\n",
      " [    0 10000     0     0     0     0     0     0     0     0]\n",
      " [    0     0  9994     1     1     0     2     1     0     1]\n",
      " [    0     1     0  9999     0     0     0     0     0     0]\n",
      " [    0     0     0     0 10000     0     0     0     0     0]\n",
      " [    0     0     0     0     1  9998     1     0     0     0]\n",
      " [    0     0     0     0     1     2  9995     0     0     2]\n",
      " [    0     2     0     0     5     0     0  9993     0     0]\n",
      " [    0     0     0     0     3     0     0     0  9996     1]\n",
      " [    0     0     0     0     1     0     0     1     1  9997]]\n",
      "              precision    recall  f1-score   support\n",
      "\n",
      "           0       1.00      1.00      1.00     10000\n",
      "           1       1.00      1.00      1.00     10000\n",
      "           2       1.00      1.00      1.00     10000\n",
      "           3       1.00      1.00      1.00     10000\n",
      "           4       1.00      1.00      1.00     10000\n",
      "           5       1.00      1.00      1.00     10000\n",
      "           6       1.00      1.00      1.00     10000\n",
      "           7       1.00      1.00      1.00     10000\n",
      "           8       1.00      1.00      1.00     10000\n",
      "           9       1.00      1.00      1.00     10000\n",
      "\n",
      "    accuracy                           1.00    100000\n",
      "   macro avg       1.00      1.00      1.00    100000\n",
      "weighted avg       1.00      1.00      1.00    100000\n",
      "\n"
     ]
    }
   ],
   "source": [
    "print(confusion_matrix(Y, y_pred))\n",
    "print(classification_report(Y, y_pred))"
   ]
  },
  {
   "cell_type": "markdown",
   "metadata": {},
   "source": [
    "iPhone13_III"
   ]
  },
  {
   "cell_type": "code",
   "execution_count": 15,
   "metadata": {},
   "outputs": [
    {
     "name": "stderr",
     "output_type": "stream",
     "text": [
      "2022-09-23 12:49:13.906221: I tensorflow/core/platform/cpu_feature_guard.cc:193] This TensorFlow binary is optimized with oneAPI Deep Neural Network Library (oneDNN) to use the following CPU instructions in performance-critical operations:  AVX2 FMA\n",
      "To enable them in other operations, rebuild TensorFlow with the appropriate compiler flags.\n"
     ]
    }
   ],
   "source": [
    "model = keras.models.load_model(\"/Users/Lojenaa/Documents/DELL_Linux/Lojenaa/HackRF One/Smartphones/Cross-device-Portability-of-EMSCA/Smartphones/iPhone/iPhone13/iPHONE13_III_model.h5\")"
   ]
  },
  {
   "cell_type": "code",
   "execution_count": 16,
   "metadata": {},
   "outputs": [
    {
     "name": "stdout",
     "output_type": "stream",
     "text": [
      "3125/3125 [==============================] - 14s 4ms/step - loss: 0.0048 - accuracy: 0.9994\n",
      "test loss, test acc: [0.004752619192004204, 0.9994199872016907]\n"
     ]
    }
   ],
   "source": [
    "results = model.evaluate(X, Y)\n",
    "print(\"test loss, test acc:\", results)"
   ]
  },
  {
   "cell_type": "code",
   "execution_count": 17,
   "metadata": {},
   "outputs": [
    {
     "name": "stdout",
     "output_type": "stream",
     "text": [
      "3125/3125 [==============================] - 11s 3ms/step\n",
      "[0 0 0 ... 9 9 9]\n",
      "0\n"
     ]
    }
   ],
   "source": [
    "y_pred = np.argmax(model.predict(X), axis=-1)\n",
    "print(y_pred)\n",
    "print(y_pred[0])"
   ]
  },
  {
   "cell_type": "code",
   "execution_count": 18,
   "metadata": {},
   "outputs": [
    {
     "name": "stdout",
     "output_type": "stream",
     "text": [
      "[[ 9997     2     1     0     0     0     0     0     0     0]\n",
      " [    0 10000     0     0     0     0     0     0     0     0]\n",
      " [    4     8  9988     0     0     0     0     0     0     0]\n",
      " [    0     0     0  9999     0     0     0     0     0     1]\n",
      " [    0     2     0     0  9997     0     1     0     0     0]\n",
      " [    0     0     0     0     1  9989     9     0     0     1]\n",
      " [    1     0     0     1     0     0  9998     0     0     0]\n",
      " [    0     0     0     0     0     0     5  9995     0     0]\n",
      " [    0     0     0     2     3     2     6     0  9981     6]\n",
      " [    0     0     0     0     0     0     2     0     0  9998]]\n",
      "              precision    recall  f1-score   support\n",
      "\n",
      "           0       1.00      1.00      1.00     10000\n",
      "           1       1.00      1.00      1.00     10000\n",
      "           2       1.00      1.00      1.00     10000\n",
      "           3       1.00      1.00      1.00     10000\n",
      "           4       1.00      1.00      1.00     10000\n",
      "           5       1.00      1.00      1.00     10000\n",
      "           6       1.00      1.00      1.00     10000\n",
      "           7       1.00      1.00      1.00     10000\n",
      "           8       1.00      1.00      1.00     10000\n",
      "           9       1.00      1.00      1.00     10000\n",
      "\n",
      "    accuracy                           1.00    100000\n",
      "   macro avg       1.00      1.00      1.00    100000\n",
      "weighted avg       1.00      1.00      1.00    100000\n",
      "\n"
     ]
    }
   ],
   "source": [
    "print(confusion_matrix(Y, y_pred))\n",
    "print(classification_report(Y, y_pred))"
   ]
  },
  {
   "cell_type": "markdown",
   "metadata": {},
   "source": [
    "## Testing Cross Models"
   ]
  },
  {
   "cell_type": "markdown",
   "metadata": {},
   "source": [
    "iPhone13_model_II to iPhone13_I Device"
   ]
  },
  {
   "cell_type": "code",
   "execution_count": 21,
   "metadata": {},
   "outputs": [],
   "source": [
    "model = keras.models.load_model(\"/Users/Lojenaa/Documents/DELL_Linux/Lojenaa/HackRF One/Smartphones/Cross-device-Portability-of-EMSCA/Smartphones/iPhone/iPhone13/iPHONE13_II_model.h5\")"
   ]
  },
  {
   "cell_type": "code",
   "execution_count": 22,
   "metadata": {},
   "outputs": [
    {
     "name": "stdout",
     "output_type": "stream",
     "text": [
      "3125/3125 [==============================] - 13s 4ms/step - loss: 8.9873 - accuracy: 0.0708\n",
      "test loss, test acc: [8.987310409545898, 0.07075999677181244]\n"
     ]
    }
   ],
   "source": [
    "results = model.evaluate(X, Y)\n",
    "print(\"test loss, test acc:\", results)"
   ]
  },
  {
   "cell_type": "code",
   "execution_count": 23,
   "metadata": {},
   "outputs": [
    {
     "name": "stdout",
     "output_type": "stream",
     "text": [
      "3125/3125 [==============================] - 11s 4ms/step\n",
      "[4 4 4 ... 0 0 0]\n",
      "4\n"
     ]
    }
   ],
   "source": [
    "y_pred = np.argmax(model.predict(X), axis=-1)\n",
    "print(y_pred)\n",
    "print(y_pred[0])"
   ]
  },
  {
   "cell_type": "code",
   "execution_count": 24,
   "metadata": {},
   "outputs": [
    {
     "name": "stdout",
     "output_type": "stream",
     "text": [
      "[[    0     0     0     0  9899     0     0     0    58    43]\n",
      " [    0   250     0     0     1  7276     0     0  1836   637]\n",
      " [    0   159     0     0     2  8235    11     0    94  1499]\n",
      " [    0     1  6058     0     1  3756   183     0     0     1]\n",
      " [    0   761     0     0     1  7709     0     0  1512    17]\n",
      " [    0  1790     0     1     2  6252     0     0  1936    19]\n",
      " [    0     0     0     0  8326     0     0     0  1028   646]\n",
      " [    0     0     0  9496     1     1     0   501     1     0]\n",
      " [    0  9351     0    10     1   565     0     0    72     1]\n",
      " [10000     0     0     0     0     0     0     0     0     0]]\n",
      "              precision    recall  f1-score   support\n",
      "\n",
      "           0       0.00      0.00      0.00     10000\n",
      "           1       0.02      0.03      0.02     10000\n",
      "           2       0.00      0.00      0.00     10000\n",
      "           3       0.00      0.00      0.00     10000\n",
      "           4       0.00      0.00      0.00     10000\n",
      "           5       0.19      0.63      0.29     10000\n",
      "           6       0.00      0.00      0.00     10000\n",
      "           7       1.00      0.05      0.10     10000\n",
      "           8       0.01      0.01      0.01     10000\n",
      "           9       0.00      0.00      0.00     10000\n",
      "\n",
      "    accuracy                           0.07    100000\n",
      "   macro avg       0.12      0.07      0.04    100000\n",
      "weighted avg       0.12      0.07      0.04    100000\n",
      "\n"
     ]
    }
   ],
   "source": [
    "print(confusion_matrix(Y, y_pred))\n",
    "print(classification_report(Y, y_pred))"
   ]
  },
  {
   "cell_type": "markdown",
   "metadata": {},
   "source": [
    "iPhone13_model_III to iPhone13_I Device"
   ]
  },
  {
   "cell_type": "code",
   "execution_count": 26,
   "metadata": {},
   "outputs": [],
   "source": [
    "model = keras.models.load_model(\"/Users/Lojenaa/Documents/DELL_Linux/Lojenaa/HackRF One/Smartphones/Cross-device-Portability-of-EMSCA/Smartphones/iPhone/iPhone13/iPHONE13_III_model.h5\")"
   ]
  },
  {
   "cell_type": "code",
   "execution_count": 27,
   "metadata": {},
   "outputs": [
    {
     "name": "stdout",
     "output_type": "stream",
     "text": [
      "3125/3125 [==============================] - 13s 4ms/step - loss: 16.1738 - accuracy: 0.1004\n",
      "test loss, test acc: [16.173818588256836, 0.10042999684810638]\n"
     ]
    }
   ],
   "source": [
    "results = model.evaluate(X, Y)\n",
    "print(\"test loss, test acc:\", results)"
   ]
  },
  {
   "cell_type": "code",
   "execution_count": 28,
   "metadata": {},
   "outputs": [
    {
     "name": "stdout",
     "output_type": "stream",
     "text": [
      "3125/3125 [==============================] - 11s 4ms/step\n",
      "[8 8 8 ... 8 8 8]\n",
      "8\n"
     ]
    }
   ],
   "source": [
    "y_pred = np.argmax(model.predict(X), axis=-1)\n",
    "print(y_pred)\n",
    "print(y_pred[0])"
   ]
  },
  {
   "cell_type": "code",
   "execution_count": 29,
   "metadata": {},
   "outputs": [
    {
     "name": "stdout",
     "output_type": "stream",
     "text": [
      "[[    0     0     0     1     0   168  2266  2897  4668     0]\n",
      " [    0     0     0     1     1     0     6     0  9992     0]\n",
      " [    0     0     1     1     0     1     3     0  9994     0]\n",
      " [    0     0     0     0     2     1     1     0  9996     0]\n",
      " [    0     0     0     0     2     0     0     1  9997     0]\n",
      " [    0     1     1     1     1     0     8     0  9988     0]\n",
      " [    0     1     0     0     0     0    42    68  9889     0]\n",
      " [    0     0     0     0     0     0     0     2  9998     0]\n",
      " [    0     0     0     1     0     0     3     0  9996     0]\n",
      " [    0     0     0     0     0     0     0     0 10000     0]]\n",
      "              precision    recall  f1-score   support\n",
      "\n",
      "           0       0.00      0.00      0.00     10000\n",
      "           1       0.00      0.00      0.00     10000\n",
      "           2       0.50      0.00      0.00     10000\n",
      "           3       0.00      0.00      0.00     10000\n",
      "           4       0.33      0.00      0.00     10000\n",
      "           5       0.00      0.00      0.00     10000\n",
      "           6       0.02      0.00      0.01     10000\n",
      "           7       0.00      0.00      0.00     10000\n",
      "           8       0.11      1.00      0.19     10000\n",
      "           9       0.00      0.00      0.00     10000\n",
      "\n",
      "    accuracy                           0.10    100000\n",
      "   macro avg       0.10      0.10      0.02    100000\n",
      "weighted avg       0.10      0.10      0.02    100000\n",
      "\n"
     ]
    }
   ],
   "source": [
    "print(confusion_matrix(Y, y_pred))\n",
    "print(classification_report(Y, y_pred))"
   ]
  },
  {
   "cell_type": "markdown",
   "metadata": {},
   "source": [
    "iPhone13_model_I to iPhone13_II Device"
   ]
  },
  {
   "cell_type": "code",
   "execution_count": 19,
   "metadata": {},
   "outputs": [],
   "source": [
    "model = keras.models.load_model(\"/Users/Lojenaa/Documents/DELL_Linux/Lojenaa/HackRF One/Smartphones/Cross-device-Portability-of-EMSCA/Smartphones/iPhone/iPhone13/iPHONE13_I_model.h5\")"
   ]
  },
  {
   "cell_type": "code",
   "execution_count": 20,
   "metadata": {},
   "outputs": [
    {
     "name": "stdout",
     "output_type": "stream",
     "text": [
      "3125/3125 [==============================] - 13s 4ms/step - loss: 10.6013 - accuracy: 0.0891\n",
      "test loss, test acc: [10.601271629333496, 0.08906000107526779]\n"
     ]
    }
   ],
   "source": [
    "results = model.evaluate(X, Y)\n",
    "print(\"test loss, test acc:\", results)"
   ]
  },
  {
   "cell_type": "code",
   "execution_count": 21,
   "metadata": {},
   "outputs": [
    {
     "name": "stdout",
     "output_type": "stream",
     "text": [
      "3125/3125 [==============================] - 11s 4ms/step\n",
      "[0 0 0 ... 2 6 6]\n",
      "0\n"
     ]
    }
   ],
   "source": [
    "y_pred = np.argmax(model.predict(X), axis=-1)\n",
    "print(y_pred)\n",
    "print(y_pred[0])"
   ]
  },
  {
   "cell_type": "code",
   "execution_count": 22,
   "metadata": {},
   "outputs": [
    {
     "name": "stdout",
     "output_type": "stream",
     "text": [
      "[[   5    0    1    0    0    0    0    0    0 9994]\n",
      " [   1    0    0    0    3    0    0    0 9996    0]\n",
      " [   1    0   14 8764 1183   30    2    0    6    0]\n",
      " [   0    0    0    0   45    5    0 5074 4876    0]\n",
      " [5949    0    0    0    0    0 4051    0    0    0]\n",
      " [   0    1   17   38 7096 1392    1    4 1451    0]\n",
      " [   2   22 8239  136 1137   42    2    0  420    0]\n",
      " [  27    0    0    0   24   15    0 4828 5106    0]\n",
      " [   5 3431   29    0    0    0 3870    0 2665    0]\n",
      " [   3   39  499    0    0    0 9435    0   24    0]]\n",
      "              precision    recall  f1-score   support\n",
      "\n",
      "           0       0.00      0.00      0.00     10000\n",
      "           1       0.00      0.00      0.00     10000\n",
      "           2       0.00      0.00      0.00     10000\n",
      "           3       0.00      0.00      0.00     10000\n",
      "           4       0.00      0.00      0.00     10000\n",
      "           5       0.94      0.14      0.24     10000\n",
      "           6       0.00      0.00      0.00     10000\n",
      "           7       0.49      0.48      0.49     10000\n",
      "           8       0.11      0.27      0.15     10000\n",
      "           9       0.00      0.00      0.00     10000\n",
      "\n",
      "    accuracy                           0.09    100000\n",
      "   macro avg       0.15      0.09      0.09    100000\n",
      "weighted avg       0.15      0.09      0.09    100000\n",
      "\n"
     ]
    }
   ],
   "source": [
    "print(confusion_matrix(Y, y_pred))\n",
    "print(classification_report(Y, y_pred))"
   ]
  },
  {
   "cell_type": "markdown",
   "metadata": {},
   "source": [
    "iPhone13_model_III to iPhone13_II Device"
   ]
  },
  {
   "cell_type": "code",
   "execution_count": 23,
   "metadata": {},
   "outputs": [],
   "source": [
    "model = keras.models.load_model(\"//Users/Lojenaa/Documents/DELL_Linux/Lojenaa/HackRF One/Smartphones/Cross-device-Portability-of-EMSCA/Smartphones/iPhone/iPhone13/iPHONE13_III_model.h5\")"
   ]
  },
  {
   "cell_type": "code",
   "execution_count": 24,
   "metadata": {},
   "outputs": [
    {
     "name": "stdout",
     "output_type": "stream",
     "text": [
      "3125/3125 [==============================] - 14s 4ms/step - loss: 16.9421 - accuracy: 0.1018\n",
      "test loss, test acc: [16.942100524902344, 0.10183999687433243]\n"
     ]
    }
   ],
   "source": [
    "results = model.evaluate(X, Y)\n",
    "print(\"test loss, test acc:\", results)"
   ]
  },
  {
   "cell_type": "code",
   "execution_count": 25,
   "metadata": {},
   "outputs": [
    {
     "name": "stdout",
     "output_type": "stream",
     "text": [
      "3125/3125 [==============================] - 11s 4ms/step\n",
      "[4 4 1 ... 8 8 8]\n",
      "4\n"
     ]
    }
   ],
   "source": [
    "y_pred = np.argmax(model.predict(X), axis=-1)\n",
    "print(y_pred)\n",
    "print(y_pred[0])"
   ]
  },
  {
   "cell_type": "code",
   "execution_count": 26,
   "metadata": {},
   "outputs": [
    {
     "name": "stdout",
     "output_type": "stream",
     "text": [
      "[[ 198    2 1292 8201    2  102  186   12    0    5]\n",
      " [   0    0    0    1    0    0    0    0 9999    0]\n",
      " [   0    0    0    0    2    1    0    1 9996    0]\n",
      " [   0    0    0    1    1    0    0    1 9997    0]\n",
      " [   0    0    4    1    3  131 8150  262 1449    0]\n",
      " [   0    0    1    0    0    0    0    0 9999    0]\n",
      " [   0    0    1    0    2    0    1    0 9996    0]\n",
      " [   1    0    0    0   21    1    0    1 9976    0]\n",
      " [   0    0    1    1    4    1   12    1 9979    1]\n",
      " [   0    0    0    0    1    1   18    0 9979    1]]\n",
      "              precision    recall  f1-score   support\n",
      "\n",
      "           0       0.99      0.02      0.04     10000\n",
      "           1       0.00      0.00      0.00     10000\n",
      "           2       0.00      0.00      0.00     10000\n",
      "           3       0.00      0.00      0.00     10000\n",
      "           4       0.08      0.00      0.00     10000\n",
      "           5       0.00      0.00      0.00     10000\n",
      "           6       0.00      0.00      0.00     10000\n",
      "           7       0.00      0.00      0.00     10000\n",
      "           8       0.12      1.00      0.22     10000\n",
      "           9       0.14      0.00      0.00     10000\n",
      "\n",
      "    accuracy                           0.10    100000\n",
      "   macro avg       0.13      0.10      0.03    100000\n",
      "weighted avg       0.13      0.10      0.03    100000\n",
      "\n"
     ]
    }
   ],
   "source": [
    "print(confusion_matrix(Y, y_pred))\n",
    "print(classification_report(Y, y_pred))"
   ]
  },
  {
   "cell_type": "markdown",
   "metadata": {},
   "source": [
    "iPhone13_model_I to iPhone13_III Device"
   ]
  },
  {
   "cell_type": "code",
   "execution_count": 19,
   "metadata": {},
   "outputs": [],
   "source": [
    "model = keras.models.load_model(\"/Users/Lojenaa/Documents/DELL_Linux/Lojenaa/HackRF One/Smartphones/Cross-device-Portability-of-EMSCA/Smartphones/iPhone/iPhone13/iPHONE13_I_model.h5\")"
   ]
  },
  {
   "cell_type": "code",
   "execution_count": 20,
   "metadata": {},
   "outputs": [
    {
     "name": "stdout",
     "output_type": "stream",
     "text": [
      "3125/3125 [==============================] - 13s 4ms/step - loss: 20.1494 - accuracy: 0.1880\n",
      "test loss, test acc: [20.14935874938965, 0.18801000714302063]\n"
     ]
    }
   ],
   "source": [
    "results = model.evaluate(X, Y)\n",
    "print(\"test loss, test acc:\", results)"
   ]
  },
  {
   "cell_type": "code",
   "execution_count": 21,
   "metadata": {},
   "outputs": [
    {
     "name": "stdout",
     "output_type": "stream",
     "text": [
      "3125/3125 [==============================] - 11s 4ms/step\n",
      "[0 0 0 ... 0 0 0]\n",
      "0\n"
     ]
    }
   ],
   "source": [
    "y_pred = np.argmax(model.predict(X), axis=-1)\n",
    "print(y_pred)\n",
    "print(y_pred[0])"
   ]
  },
  {
   "cell_type": "code",
   "execution_count": 22,
   "metadata": {},
   "outputs": [
    {
     "name": "stdout",
     "output_type": "stream",
     "text": [
      "[[10000     0     0     0     0     0     0     0     0     0]\n",
      " [10000     0     0     0     0     0     0     0     0     0]\n",
      " [10000     0     0     0     0     0     0     0     0     0]\n",
      " [10000     0     0     0     0     0     0     0     0     0]\n",
      " [10000     0     0     0     0     0     0     0     0     0]\n",
      " [ 5461     0     0     0     0     0  4537     0     2     0]\n",
      " [ 7726     0     0     0     0     0  2110     0   164     0]\n",
      " [ 3237    16     0     0     0     0  5664     0  1083     0]\n",
      " [   46    34     0     0     0     0  3229     0  6691     0]\n",
      " [10000     0     0     0     0     0     0     0     0     0]]\n",
      "              precision    recall  f1-score   support\n",
      "\n",
      "           0       0.13      1.00      0.23     10000\n",
      "           1       0.00      0.00      0.00     10000\n",
      "           2       0.00      0.00      0.00     10000\n",
      "           3       0.00      0.00      0.00     10000\n",
      "           4       0.00      0.00      0.00     10000\n",
      "           5       0.00      0.00      0.00     10000\n",
      "           6       0.14      0.21      0.17     10000\n",
      "           7       0.00      0.00      0.00     10000\n",
      "           8       0.84      0.67      0.75     10000\n",
      "           9       0.00      0.00      0.00     10000\n",
      "\n",
      "    accuracy                           0.19    100000\n",
      "   macro avg       0.11      0.19      0.11    100000\n",
      "weighted avg       0.11      0.19      0.11    100000\n",
      "\n"
     ]
    }
   ],
   "source": [
    "print(confusion_matrix(Y, y_pred))\n",
    "print(classification_report(Y, y_pred))"
   ]
  },
  {
   "cell_type": "markdown",
   "metadata": {},
   "source": [
    "iPhone13_model_II to iPhone13_III Device"
   ]
  },
  {
   "cell_type": "code",
   "execution_count": 23,
   "metadata": {},
   "outputs": [],
   "source": [
    "model = keras.models.load_model(\"/Users/Lojenaa/Documents/DELL_Linux/Lojenaa/HackRF One/Smartphones/Cross-device-Portability-of-EMSCA/Smartphones/iPhone/iPhone13/iPHONE13_II_model.h5\")"
   ]
  },
  {
   "cell_type": "code",
   "execution_count": 24,
   "metadata": {},
   "outputs": [
    {
     "name": "stdout",
     "output_type": "stream",
     "text": [
      "3125/3125 [==============================] - 13s 4ms/step - loss: 12.8690 - accuracy: 0.1635\n",
      "test loss, test acc: [12.868993759155273, 0.16345000267028809]\n"
     ]
    }
   ],
   "source": [
    "results = model.evaluate(X, Y)\n",
    "print(\"test loss, test acc:\", results)"
   ]
  },
  {
   "cell_type": "code",
   "execution_count": 25,
   "metadata": {},
   "outputs": [
    {
     "name": "stdout",
     "output_type": "stream",
     "text": [
      "3125/3125 [==============================] - 11s 4ms/step\n",
      "[4 4 4 ... 4 4 4]\n",
      "4\n"
     ]
    }
   ],
   "source": [
    "y_pred = np.argmax(model.predict(X), axis=-1)\n",
    "print(y_pred)\n",
    "print(y_pred[0])"
   ]
  },
  {
   "cell_type": "code",
   "execution_count": 26,
   "metadata": {},
   "outputs": [
    {
     "name": "stdout",
     "output_type": "stream",
     "text": [
      "[[    0     0     0     0 10000     0     0     0     0     0]\n",
      " [    1     0     0     0  9999     0     0     0     0     0]\n",
      " [    0     0     0     0 10000     0     0     0     0     0]\n",
      " [    0     0     0     0 10000     0     0     0     0     0]\n",
      " [    0     0     0     0 10000     0     0     0     0     0]\n",
      " [    0    47     0     0  4375     0     0     0   311  5267]\n",
      " [    0    12     0     0  8032     0     0     0  1802   154]\n",
      " [    0   120     0     0  1582     0     0     0  8232    66]\n",
      " [    0  2365     0     0    32     0     0     0  6345  1258]\n",
      " [    0     0     0     0 10000     0     0     0     0     0]]\n",
      "              precision    recall  f1-score   support\n",
      "\n",
      "           0       0.00      0.00      0.00     10000\n",
      "           1       0.00      0.00      0.00     10000\n",
      "           2       0.00      0.00      0.00     10000\n",
      "           3       0.00      0.00      0.00     10000\n",
      "           4       0.14      1.00      0.24     10000\n",
      "           5       0.00      0.00      0.00     10000\n",
      "           6       0.00      0.00      0.00     10000\n",
      "           7       0.00      0.00      0.00     10000\n",
      "           8       0.38      0.63      0.48     10000\n",
      "           9       0.00      0.00      0.00     10000\n",
      "\n",
      "    accuracy                           0.16    100000\n",
      "   macro avg       0.05      0.16      0.07    100000\n",
      "weighted avg       0.05      0.16      0.07    100000\n",
      "\n"
     ]
    }
   ],
   "source": [
    "print(confusion_matrix(Y, y_pred))\n",
    "print(classification_report(Y, y_pred))"
   ]
  }
 ],
 "metadata": {
  "kernelspec": {
   "display_name": "Python 3.10.7 64-bit",
   "language": "python",
   "name": "python3"
  },
  "language_info": {
   "codemirror_mode": {
    "name": "ipython",
    "version": 3
   },
   "file_extension": ".py",
   "mimetype": "text/x-python",
   "name": "python",
   "nbconvert_exporter": "python",
   "pygments_lexer": "ipython3",
   "version": "3.10.7"
  },
  "orig_nbformat": 4,
  "vscode": {
   "interpreter": {
    "hash": "aee8b7b246df8f9039afb4144a1f6fd8d2ca17a180786b69acc140d282b71a49"
   }
  }
 },
 "nbformat": 4,
 "nbformat_minor": 2
}
