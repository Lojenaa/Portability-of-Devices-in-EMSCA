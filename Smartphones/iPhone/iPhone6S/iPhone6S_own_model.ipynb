{
 "cells": [
  {
   "cell_type": "code",
   "execution_count": 1,
   "metadata": {},
   "outputs": [
    {
     "name": "stderr",
     "output_type": "stream",
     "text": [
      "2022-09-21 21:44:36.399974: I tensorflow/core/platform/cpu_feature_guard.cc:193] This TensorFlow binary is optimized with oneAPI Deep Neural Network Library (oneDNN) to use the following CPU instructions in performance-critical operations:  AVX2 FMA\n",
      "To enable them in other operations, rebuild TensorFlow with the appropriate compiler flags.\n"
     ]
    }
   ],
   "source": [
    "import h5py\n",
    "import numpy as np\n",
    "import pandas as pd\n",
    "import scipy\n",
    "from scipy import signal\n",
    "import matplotlib.pyplot as plt\n",
    "import tensorflow as tf\n",
    "from tensorflow import keras\n",
    "from sklearn.model_selection import train_test_split\n",
    "from sklearn.preprocessing import MinMaxScaler\n",
    "from sklearn.metrics import confusion_matrix\n",
    "from sklearn.metrics import classification_report\n",
    "import warnings\n",
    "warnings.filterwarnings('ignore')"
   ]
  },
  {
   "cell_type": "code",
   "execution_count": 2,
   "metadata": {},
   "outputs": [],
   "source": [
    "def getData(cfileName):\n",
    "\n",
    "    # Read the *.cfile which has each element in float32 format.\n",
    "    data = np.fromfile(cfileName, dtype=\"float32\")\n",
    "\n",
    "    # Take each consecutive interleaved I sample and Q sample to create a single complex element.\n",
    "    data = data[0::2] + 1j*data[1::2]\n",
    "    #print(\"data type=\", type(data))\n",
    "    # Return the complex numpy array.\n",
    "    return data"
   ]
  },
  {
   "cell_type": "code",
   "execution_count": 3,
   "metadata": {},
   "outputs": [],
   "source": [
    "# number of samples per class\n",
    "num_samp_per_class = 10000\n",
    "\n",
    "# FFT size for the STFT operation (which is same as the feature vector size)\n",
    "fft_size = feature_vector_size = 2048 #1024\n",
    "\n",
    "# number of overlapping samples for the STFT operation\n",
    "fft_overlap = 256"
   ]
  },
  {
   "cell_type": "code",
   "execution_count": 4,
   "metadata": {},
   "outputs": [],
   "source": [
    "def create_dataset(data, class_label):\n",
    "    f, t, Zxx = signal.stft(data, fs=20e6, nperseg=fft_size, noverlap=fft_overlap)\n",
    "    print(len(f))\n",
    "    print(len(t))\n",
    "    print(Zxx.shape)\n",
    "\n",
    "    del data\n",
    "\n",
    "    Zxx = Zxx.transpose()\n",
    "\n",
    "    Zxx = abs(Zxx)\n",
    "    # scaling the features (only real part of the data can be used)\n",
    "    scaler = MinMaxScaler()\n",
    "    scaler.fit(Zxx)\n",
    "    print(scaler.data_max_)\n",
    "    Zxx = scaler.transform(Zxx)\n",
    "\n",
    "    X = Zxx[:num_samp_per_class]\n",
    "    Y = np.full(num_samp_per_class, class_label)\n",
    "\n",
    "    return X, Y"
   ]
  },
  {
   "cell_type": "markdown",
   "metadata": {},
   "source": [
    "## Create Own Model"
   ]
  },
  {
   "cell_type": "markdown",
   "metadata": {},
   "source": [
    "## iPhone6S_I"
   ]
  },
  {
   "cell_type": "code",
   "execution_count": 5,
   "metadata": {},
   "outputs": [
    {
     "name": "stdout",
     "output_type": "stream",
     "text": [
      "[0.015625 -0.0234375j 0.015625 -0.0078125j 0.0390625+0.0078125j ...\n",
      " 0.03125  -0.0078125j 0.015625 -0.015625j  0.03125  -0.0078125j]\n",
      "2048\n",
      "79002\n",
      "(2048, 79002)\n",
      "[0.02281539 0.01194811 0.00464875 ... 0.00215009 0.00434015 0.0120582 ]\n",
      "(10000, 2048)\n",
      "(10000,)\n"
     ]
    }
   ],
   "source": [
    "# reading a data for class  label 0\n",
    "data = getData(\"/Users/Lojenaa/Documents/DELL_Linux/Lojenaa/HackRF One/Smartphones/EM_Signals/iPhone_6S/iPhone6S_I/calendar-app.cfile\")\n",
    "print(np.array(data))\n",
    "X, Y = create_dataset(data, 0)\n",
    "\n",
    "print(X.shape)\n",
    "print(Y.shape)"
   ]
  },
  {
   "cell_type": "code",
   "execution_count": 6,
   "metadata": {},
   "outputs": [
    {
     "name": "stdout",
     "output_type": "stream",
     "text": [
      "[0.015625 -0.0078125j 0.015625 -0.0078125j 0.       -0.0078125j ...\n",
      " 0.0234375-0.015625j  0.       -0.0078125j 0.0078125-0.0078125j]\n",
      "2048\n",
      "83422\n",
      "(2048, 83422)\n",
      "[0.02261406 0.01221008 0.00356162 ... 0.00220496 0.00347677 0.01195692]\n",
      "(20000, 2048)\n",
      "(20000,)\n"
     ]
    }
   ],
   "source": [
    "# reading a data for class  label 1\n",
    "data = getData(\"/Users/Lojenaa/Documents/DELL_Linux/Lojenaa/HackRF One/Smartphones/EM_Signals/iPhone_6S/iPhone6S_I/camera-photo.cfile\")\n",
    "print(np.array(data))\n",
    "dataset, label = create_dataset(data, 1)\n",
    "\n",
    "X = np.concatenate((X, dataset), axis=0) \n",
    "Y = np.concatenate((Y, label), axis=0)\n",
    "\n",
    "print(X.shape)\n",
    "print(Y.shape)"
   ]
  },
  {
   "cell_type": "code",
   "execution_count": 7,
   "metadata": {},
   "outputs": [
    {
     "name": "stdout",
     "output_type": "stream",
     "text": [
      "[0.015625 -0.0234375j 0.015625 +0.j        0.015625 -0.015625j  ...\n",
      " 0.015625 +0.0078125j 0.0078125-0.0234375j 0.015625 -0.0234375j]\n",
      "2048\n",
      "91947\n",
      "(2048, 91947)\n",
      "[0.02267564 0.01198972 0.00444621 ... 0.00256938 0.00477387 0.01187558]\n",
      "(30000, 2048)\n",
      "(30000,)\n"
     ]
    }
   ],
   "source": [
    "# reading a data for class  label 2\n",
    "data = getData(\"/Users/Lojenaa/Documents/DELL_Linux/Lojenaa/HackRF One/Smartphones/EM_Signals/iPhone_6S/iPhone6S_I/camera-video.cfile\")\n",
    "print(np.array(data))\n",
    "dataset, label = create_dataset(data, 2)\n",
    "\n",
    "X = np.concatenate((X, dataset), axis=0) \n",
    "Y = np.concatenate((Y, label), axis=0)\n",
    "\n",
    "print(X.shape)\n",
    "print(Y.shape)"
   ]
  },
  {
   "cell_type": "code",
   "execution_count": 8,
   "metadata": {},
   "outputs": [
    {
     "name": "stdout",
     "output_type": "stream",
     "text": [
      "[0.0078125-0.03125j   0.0234375+0.0078125j 0.0234375-0.015625j  ...\n",
      " 0.0078125-0.0234375j 0.0390625-0.0078125j 0.0390625-0.015625j ]\n",
      "2048\n",
      "91066\n",
      "(2048, 91066)\n",
      "[0.02257732 0.01187163 0.0045188  ... 0.00236705 0.0043952  0.01194121]\n",
      "(40000, 2048)\n",
      "(40000,)\n"
     ]
    }
   ],
   "source": [
    "# reading a data for class  label 3\n",
    "data = getData(\"/Users/Lojenaa/Documents/DELL_Linux/Lojenaa/HackRF One/Smartphones/EM_Signals/iPhone_6S/iPhone6S_I/email-app.cfile\")\n",
    "print(np.array(data))\n",
    "dataset, label = create_dataset(data, 3)\n",
    "\n",
    "X = np.concatenate((X, dataset), axis=0) \n",
    "Y = np.concatenate((Y, label), axis=0)\n",
    "\n",
    "print(X.shape)\n",
    "print(Y.shape)"
   ]
  },
  {
   "cell_type": "code",
   "execution_count": 9,
   "metadata": {},
   "outputs": [
    {
     "name": "stdout",
     "output_type": "stream",
     "text": [
      "[0.0078125-0.0078125j 0.0234375+0.j        0.0234375-0.015625j  ...\n",
      " 0.0078125-0.015625j  0.0234375+0.j        0.015625 -0.03125j  ]\n",
      "2048\n",
      "90701\n",
      "(2048, 90701)\n",
      "[0.02244814 0.01185012 0.00394583 ... 0.00198221 0.00406967 0.01176537]\n",
      "(50000, 2048)\n",
      "(50000,)\n"
     ]
    }
   ],
   "source": [
    "# reading a data for class  label 4\n",
    "data = getData(\"/Users/Lojenaa/Documents/DELL_Linux/Lojenaa/HackRF One/Smartphones/EM_Signals/iPhone_6S/iPhone6S_I/gallery-app.cfile\")\n",
    "print(np.array(data))\n",
    "dataset, label = create_dataset(data, 4)\n",
    "\n",
    "X = np.concatenate((X, dataset), axis=0) \n",
    "Y = np.concatenate((Y, label), axis=0)\n",
    "\n",
    "print(X.shape)\n",
    "print(Y.shape)"
   ]
  },
  {
   "cell_type": "code",
   "execution_count": 10,
   "metadata": {},
   "outputs": [
    {
     "name": "stdout",
     "output_type": "stream",
     "text": [
      "[0.015625 -0.0078125j 0.015625 -0.015625j  0.0234375-0.0078125j ...\n",
      " 0.015625 -0.0234375j 0.0078125-0.015625j  0.0234375-0.015625j ]\n",
      "2048\n",
      "87919\n",
      "(2048, 87919)\n",
      "[0.02270209 0.01186435 0.00445565 ... 0.00240018 0.00450414 0.01180683]\n",
      "(60000, 2048)\n",
      "(60000,)\n"
     ]
    }
   ],
   "source": [
    "# reading a data for class  label 5\n",
    "data = getData(\"/Users/Lojenaa/Documents/DELL_Linux/Lojenaa/HackRF One/Smartphones/EM_Signals/iPhone_6S/iPhone6S_I/home-screen.cfile\")\n",
    "print(np.array(data))\n",
    "dataset, label = create_dataset(data, 5)\n",
    "\n",
    "X = np.concatenate((X, dataset), axis=0) \n",
    "Y = np.concatenate((Y, label), axis=0)\n",
    "\n",
    "print(X.shape)\n",
    "print(Y.shape)"
   ]
  },
  {
   "cell_type": "code",
   "execution_count": 11,
   "metadata": {},
   "outputs": [
    {
     "name": "stdout",
     "output_type": "stream",
     "text": [
      "[0.       +0.0078125j 0.0078125-0.03125j   0.0234375-0.0078125j ...\n",
      " 0.       -0.0234375j 0.0234375-0.0078125j 0.0234375-0.015625j ]\n",
      "2048\n",
      "84628\n",
      "(2048, 84628)\n",
      "[0.02241303 0.01212316 0.00459265 ... 0.00210078 0.00421004 0.0118071 ]\n",
      "(70000, 2048)\n",
      "(70000,)\n"
     ]
    }
   ],
   "source": [
    "# reading a data for class  label 6\n",
    "data = getData(\"/Users/Lojenaa/Documents/DELL_Linux/Lojenaa/HackRF One/Smartphones/EM_Signals/iPhone_6S/iPhone6S_I/idle.cfile\")\n",
    "print(np.array(data))\n",
    "dataset, label = create_dataset(data, 6)\n",
    "\n",
    "X = np.concatenate((X, dataset), axis=0) \n",
    "Y = np.concatenate((Y, label), axis=0)\n",
    "\n",
    "print(X.shape)\n",
    "print(Y.shape)"
   ]
  },
  {
   "cell_type": "code",
   "execution_count": 12,
   "metadata": {},
   "outputs": [
    {
     "name": "stdout",
     "output_type": "stream",
     "text": [
      "[0.03125  -0.015625j  0.015625 -0.0078125j 0.0234375-0.015625j  ...\n",
      " 0.015625 -0.015625j  0.015625 -0.015625j  0.015625 -0.0234375j]\n",
      "2048\n",
      "82874\n",
      "(2048, 82874)\n",
      "[0.02339496 0.01292546 0.00451194 ... 0.0022962  0.00445246 0.0126978 ]\n",
      "(80000, 2048)\n",
      "(80000,)\n"
     ]
    }
   ],
   "source": [
    "# reading a data for class  label 7\n",
    "data = getData(\"/Users/Lojenaa/Documents/DELL_Linux/Lojenaa/HackRF One/Smartphones/EM_Signals/iPhone_6S/iPhone6S_I/phone-app.cfile\")\n",
    "print(np.array(data))\n",
    "dataset, label = create_dataset(data, 7)\n",
    "\n",
    "X = np.concatenate((X, dataset), axis=0) \n",
    "Y = np.concatenate((Y, label), axis=0)\n",
    "\n",
    "print(X.shape)\n",
    "print(Y.shape)"
   ]
  },
  {
   "cell_type": "code",
   "execution_count": 13,
   "metadata": {},
   "outputs": [
    {
     "name": "stdout",
     "output_type": "stream",
     "text": [
      "[0.03125  +0.015625j  0.0234375-0.0390625j 0.015625 -0.0078125j ...\n",
      " 0.0078125+0.j        0.015625 -0.015625j  0.015625 -0.015625j ]\n",
      "2048\n",
      "77095\n",
      "(2048, 77095)\n",
      "[0.02247975 0.01181555 0.00433592 ... 0.00227707 0.00459107 0.01169153]\n",
      "(90000, 2048)\n",
      "(90000,)\n"
     ]
    }
   ],
   "source": [
    "# reading a data for class  label 8\n",
    "data = getData(\"/Users/Lojenaa/Documents/DELL_Linux/Lojenaa/HackRF One/Smartphones/EM_Signals/iPhone_6S/iPhone6S_I/sms-app.cfile\")\n",
    "print(np.array(data))\n",
    "dataset, label = create_dataset(data, 8)\n",
    "\n",
    "X = np.concatenate((X, dataset), axis=0) \n",
    "Y = np.concatenate((Y, label), axis=0)\n",
    "\n",
    "print(X.shape)\n",
    "print(Y.shape)"
   ]
  },
  {
   "cell_type": "code",
   "execution_count": 14,
   "metadata": {},
   "outputs": [
    {
     "name": "stdout",
     "output_type": "stream",
     "text": [
      "[0.015625 -0.0234375j 0.0234375-0.0078125j 0.015625 -0.03125j   ...\n",
      " 0.0234375-0.0078125j 0.015625 +0.j        0.0390625-0.0078125j]\n",
      "2048\n",
      "75926\n",
      "(2048, 75926)\n",
      "[0.02247547 0.01193508 0.00450019 ... 0.00231793 0.00458043 0.01185459]\n",
      "(100000, 2048)\n",
      "(100000,)\n"
     ]
    }
   ],
   "source": [
    "# reading a data for class  label 9\n",
    "data = getData(\"/Users/Lojenaa/Documents/DELL_Linux/Lojenaa/HackRF One/Smartphones/EM_Signals/iPhone_6S/iPhone6S_I/web_browser-app.cfile\")\n",
    "print(np.array(data))\n",
    "dataset, label = create_dataset(data, 9)\n",
    "\n",
    "X = np.concatenate((X, dataset), axis=0) \n",
    "Y = np.concatenate((Y, label), axis=0)\n",
    "\n",
    "print(X.shape)\n",
    "print(Y.shape)"
   ]
  },
  {
   "cell_type": "markdown",
   "metadata": {},
   "source": [
    "Build a model for iPhone6S_I"
   ]
  },
  {
   "cell_type": "code",
   "execution_count": 15,
   "metadata": {},
   "outputs": [],
   "source": [
    "# Split data to train and test sets\n",
    "X_train, X_test, y_train, y_test = train_test_split(X, Y, test_size=0.1, random_state=0)"
   ]
  },
  {
   "cell_type": "code",
   "execution_count": 16,
   "metadata": {},
   "outputs": [
    {
     "name": "stderr",
     "output_type": "stream",
     "text": [
      "2022-09-21 21:51:17.893805: I tensorflow/core/platform/cpu_feature_guard.cc:193] This TensorFlow binary is optimized with oneAPI Deep Neural Network Library (oneDNN) to use the following CPU instructions in performance-critical operations:  AVX2 FMA\n",
      "To enable them in other operations, rebuild TensorFlow with the appropriate compiler flags.\n"
     ]
    },
    {
     "name": "stdout",
     "output_type": "stream",
     "text": [
      "Model: \"sequential\"\n",
      "_________________________________________________________________\n",
      " Layer (type)                Output Shape              Param #   \n",
      "=================================================================\n",
      " dense (Dense)               (None, 1400)              2868600   \n",
      "                                                                 \n",
      " dense_1 (Dense)             (None, 800)               1120800   \n",
      "                                                                 \n",
      " dense_2 (Dense)             (None, 500)               400500    \n",
      "                                                                 \n",
      " dense_3 (Dense)             (None, 200)               100200    \n",
      "                                                                 \n",
      " dense_4 (Dense)             (None, 100)               20100     \n",
      "                                                                 \n",
      " dense_5 (Dense)             (None, 10)                1010      \n",
      "                                                                 \n",
      "=================================================================\n",
      "Total params: 4,511,210\n",
      "Trainable params: 4,511,210\n",
      "Non-trainable params: 0\n",
      "_________________________________________________________________\n"
     ]
    }
   ],
   "source": [
    "model = keras.models.Sequential()\n",
    "model.add(keras.layers.Input(shape=(feature_vector_size,)))\n",
    "model.add(keras.layers.Dense(1400, activation=\"relu\"))\n",
    "model.add(keras.layers.Dense(800, activation=\"relu\"))\n",
    "model.add(keras.layers.Dense(500, activation=\"relu\"))\n",
    "model.add(keras.layers.Dense(200, activation=\"relu\"))\n",
    "model.add(keras.layers.Dense(100, activation=\"relu\"))\n",
    "model.add(keras.layers.Dense(10, activation=\"softmax\"))\n",
    "model.summary()"
   ]
  },
  {
   "cell_type": "code",
   "execution_count": 17,
   "metadata": {},
   "outputs": [],
   "source": [
    "opt = keras.optimizers.SGD(learning_rate=0.001)\n",
    "model.compile(loss=\"sparse_categorical_crossentropy\", optimizer=opt, metrics=[\"accuracy\"])"
   ]
  },
  {
   "cell_type": "code",
   "execution_count": 18,
   "metadata": {},
   "outputs": [
    {
     "name": "stdout",
     "output_type": "stream",
     "text": [
      "Epoch 1/25\n",
      "2532/2532 [==============================] - 27s 10ms/step - loss: 2.2472 - accuracy: 0.2553 - val_loss: 2.1573 - val_accuracy: 0.4262\n",
      "Epoch 2/25\n",
      "2532/2532 [==============================] - 24s 9ms/step - loss: 1.8175 - accuracy: 0.5713 - val_loss: 1.3480 - val_accuracy: 0.7106\n",
      "Epoch 3/25\n",
      "2532/2532 [==============================] - 23s 9ms/step - loss: 0.9273 - accuracy: 0.8282 - val_loss: 0.6528 - val_accuracy: 0.8597\n",
      "Epoch 4/25\n",
      "2532/2532 [==============================] - 23s 9ms/step - loss: 0.4542 - accuracy: 0.9180 - val_loss: 0.3302 - val_accuracy: 0.9358\n",
      "Epoch 5/25\n",
      "2532/2532 [==============================] - 24s 9ms/step - loss: 0.2472 - accuracy: 0.9586 - val_loss: 0.1795 - val_accuracy: 0.9727\n",
      "Epoch 6/25\n",
      "2532/2532 [==============================] - 23s 9ms/step - loss: 0.1548 - accuracy: 0.9771 - val_loss: 0.1195 - val_accuracy: 0.9841\n",
      "Epoch 7/25\n",
      "2532/2532 [==============================] - 24s 9ms/step - loss: 0.1090 - accuracy: 0.9858 - val_loss: 0.0955 - val_accuracy: 0.9839\n",
      "Epoch 8/25\n",
      "2532/2532 [==============================] - 23s 9ms/step - loss: 0.0828 - accuracy: 0.9900 - val_loss: 0.0688 - val_accuracy: 0.9902\n",
      "Epoch 9/25\n",
      "2532/2532 [==============================] - 23s 9ms/step - loss: 0.0662 - accuracy: 0.9932 - val_loss: 0.0569 - val_accuracy: 0.9930\n",
      "Epoch 10/25\n",
      "2532/2532 [==============================] - 23s 9ms/step - loss: 0.0550 - accuracy: 0.9945 - val_loss: 0.0740 - val_accuracy: 0.9843\n",
      "Epoch 11/25\n",
      "2532/2532 [==============================] - 20s 8ms/step - loss: 0.0466 - accuracy: 0.9959 - val_loss: 0.0434 - val_accuracy: 0.9933\n",
      "Epoch 12/25\n",
      "2532/2532 [==============================] - 23s 9ms/step - loss: 0.0402 - accuracy: 0.9965 - val_loss: 0.0380 - val_accuracy: 0.9944\n",
      "Epoch 13/25\n",
      "2532/2532 [==============================] - 23s 9ms/step - loss: 0.0352 - accuracy: 0.9970 - val_loss: 0.0346 - val_accuracy: 0.9949\n",
      "Epoch 14/25\n",
      "2532/2532 [==============================] - 23s 9ms/step - loss: 0.0312 - accuracy: 0.9975 - val_loss: 0.0328 - val_accuracy: 0.9947\n",
      "Epoch 15/25\n",
      "2532/2532 [==============================] - 23s 9ms/step - loss: 0.0278 - accuracy: 0.9980 - val_loss: 0.0279 - val_accuracy: 0.9961\n",
      "Epoch 16/25\n",
      "2532/2532 [==============================] - 23s 9ms/step - loss: 0.0250 - accuracy: 0.9983 - val_loss: 0.0265 - val_accuracy: 0.9964\n",
      "Epoch 17/25\n",
      "2532/2532 [==============================] - 23s 9ms/step - loss: 0.0225 - accuracy: 0.9986 - val_loss: 0.0242 - val_accuracy: 0.9966\n",
      "Epoch 18/25\n",
      "2532/2532 [==============================] - 23s 9ms/step - loss: 0.0204 - accuracy: 0.9986 - val_loss: 0.0228 - val_accuracy: 0.9964\n",
      "Epoch 19/25\n",
      "2532/2532 [==============================] - 23s 9ms/step - loss: 0.0187 - accuracy: 0.9989 - val_loss: 0.0218 - val_accuracy: 0.9962\n",
      "Epoch 20/25\n",
      "2532/2532 [==============================] - 23s 9ms/step - loss: 0.0172 - accuracy: 0.9991 - val_loss: 0.0206 - val_accuracy: 0.9971\n",
      "Epoch 21/25\n",
      "2532/2532 [==============================] - 24s 9ms/step - loss: 0.0159 - accuracy: 0.9991 - val_loss: 0.0193 - val_accuracy: 0.9968\n",
      "Epoch 22/25\n",
      "2532/2532 [==============================] - 23s 9ms/step - loss: 0.0148 - accuracy: 0.9991 - val_loss: 0.0199 - val_accuracy: 0.9963\n",
      "Epoch 23/25\n",
      "2532/2532 [==============================] - 22s 9ms/step - loss: 0.0138 - accuracy: 0.9992 - val_loss: 0.0183 - val_accuracy: 0.9969\n",
      "Epoch 24/25\n",
      "2532/2532 [==============================] - 24s 9ms/step - loss: 0.0129 - accuracy: 0.9992 - val_loss: 0.0174 - val_accuracy: 0.9970\n",
      "Epoch 25/25\n",
      "2532/2532 [==============================] - 24s 9ms/step - loss: 0.0121 - accuracy: 0.9993 - val_loss: 0.0167 - val_accuracy: 0.9971\n"
     ]
    }
   ],
   "source": [
    "checkpoint_cb = keras.callbacks.ModelCheckpoint(\"/Users/Lojenaa/Documents/DELL_Linux/Lojenaa/HackRF One/Smartphones/Cross-device-Portability-of-EMSCA/Smartphones/iPhone/iPhone6S/iPHONE6S_I_model.h5\", save_best_only=True)\n",
    "history = model.fit(X_train, y_train, epochs=25, validation_split=0.1, callbacks=[checkpoint_cb])"
   ]
  },
  {
   "cell_type": "code",
   "execution_count": 19,
   "metadata": {},
   "outputs": [
    {
     "data": {
      "image/png": "[encoded data removed]",
      "text/plain": [
       "<Figure size 800x500 with 1 Axes>"
      ]
     },
     "metadata": {},
     "output_type": "display_data"
    }
   ],
   "source": [
    "pd.DataFrame(history.history).plot(figsize=(8, 5))\n",
    "plt.grid(True)\n",
    "plt.gca().set_ylim(0, 1) # set the vertical range to [0-1]\n",
    "plt.show()"
   ]
  },
  {
   "cell_type": "markdown",
   "metadata": {},
   "source": [
    "Test the own iPhone13_I model"
   ]
  },
  {
   "cell_type": "code",
   "execution_count": 20,
   "metadata": {},
   "outputs": [],
   "source": [
    "model = keras.models.load_model(\"/Users/Lojenaa/Documents/DELL_Linux/Lojenaa/HackRF One/Smartphones/Cross-device-Portability-of-EMSCA/Smartphones/iPhone/iPhone6S/iPHONE6S_I_model.h5\")"
   ]
  },
  {
   "cell_type": "code",
   "execution_count": 21,
   "metadata": {},
   "outputs": [
    {
     "name": "stdout",
     "output_type": "stream",
     "text": [
      "313/313 [==============================] - 2s 4ms/step - loss: 0.0240 - accuracy: 0.9971\n",
      "test loss, test acc: [0.023971812799572945, 0.9970999956130981]\n"
     ]
    }
   ],
   "source": [
    "results = model.evaluate(X_test, y_test)\n",
    "print(\"test loss, test acc:\", results)"
   ]
  },
  {
   "cell_type": "code",
   "execution_count": 22,
   "metadata": {},
   "outputs": [
    {
     "name": "stdout",
     "output_type": "stream",
     "text": [
      "313/313 [==============================] - 1s 4ms/step\n",
      "[0 6 5 ... 5 5 6]\n",
      "0\n"
     ]
    }
   ],
   "source": [
    "y_pred = np.argmax(model.predict(X_test), axis=-1)\n",
    "print(y_pred)\n",
    "print(y_pred[0])"
   ]
  },
  {
   "cell_type": "code",
   "execution_count": 23,
   "metadata": {},
   "outputs": [
    {
     "name": "stdout",
     "output_type": "stream",
     "text": [
      "[[1008    2    1    0    0    0    0    0    0    0]\n",
      " [   2 1006    0    0    0    0    1    1    0    0]\n",
      " [   0    0  990    1    0    2    0    0    0    0]\n",
      " [   0    1    0  938    0    0    0    0    0    0]\n",
      " [   0    0    0    2 1037    1    2    0    1    0]\n",
      " [   0    0    1    1    1 1024    0    0    0    0]\n",
      " [   0    0    0    0    0    0  998    0    0    1]\n",
      " [   0    0    0    0    0    0    0  972    0    2]\n",
      " [   0    0    1    0    0    0    2    0  999    1]\n",
      " [   0    0    0    0    0    0    1    1    0  999]]\n",
      "              precision    recall  f1-score   support\n",
      "\n",
      "           0       1.00      1.00      1.00      1011\n",
      "           1       1.00      1.00      1.00      1010\n",
      "           2       1.00      1.00      1.00       993\n",
      "           3       1.00      1.00      1.00       939\n",
      "           4       1.00      0.99      1.00      1043\n",
      "           5       1.00      1.00      1.00      1027\n",
      "           6       0.99      1.00      1.00       999\n",
      "           7       1.00      1.00      1.00       974\n",
      "           8       1.00      1.00      1.00      1003\n",
      "           9       1.00      1.00      1.00      1001\n",
      "\n",
      "    accuracy                           1.00     10000\n",
      "   macro avg       1.00      1.00      1.00     10000\n",
      "weighted avg       1.00      1.00      1.00     10000\n",
      "\n"
     ]
    }
   ],
   "source": [
    "print(confusion_matrix(y_test, y_pred))\n",
    "print(classification_report(y_test, y_pred))"
   ]
  }
 ],
 "metadata": {
  "kernelspec": {
   "display_name": "Python 3.10.7 64-bit",
   "language": "python",
   "name": "python3"
  },
  "language_info": {
   "codemirror_mode": {
    "name": "ipython",
    "version": 3
   },
   "file_extension": ".py",
   "mimetype": "text/x-python",
   "name": "python",
   "nbconvert_exporter": "python",
   "pygments_lexer": "ipython3",
   "version": "3.10.7"
  },
  "orig_nbformat": 4,
  "vscode": {
   "interpreter": {
    "hash": "aee8b7b246df8f9039afb4144a1f6fd8d2ca17a180786b69acc140d282b71a49"
   }
  }
 },
 "nbformat": 4,
 "nbformat_minor": 2
}
