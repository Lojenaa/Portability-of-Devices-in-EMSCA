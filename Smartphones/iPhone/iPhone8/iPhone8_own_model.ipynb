{
 "cells": [
  {
   "cell_type": "code",
   "execution_count": 1,
   "metadata": {},
   "outputs": [
    {
     "name": "stderr",
     "output_type": "stream",
     "text": [
      "2022-09-21 22:02:32.093899: I tensorflow/core/platform/cpu_feature_guard.cc:193] This TensorFlow binary is optimized with oneAPI Deep Neural Network Library (oneDNN) to use the following CPU instructions in performance-critical operations:  AVX2 FMA\n",
      "To enable them in other operations, rebuild TensorFlow with the appropriate compiler flags.\n"
     ]
    }
   ],
   "source": [
    "import h5py\n",
    "import numpy as np\n",
    "import pandas as pd\n",
    "import scipy\n",
    "from scipy import signal\n",
    "import matplotlib.pyplot as plt\n",
    "import tensorflow as tf\n",
    "from tensorflow import keras\n",
    "from sklearn.model_selection import train_test_split\n",
    "from sklearn.preprocessing import MinMaxScaler\n",
    "from sklearn.metrics import confusion_matrix\n",
    "from sklearn.metrics import classification_report\n",
    "import warnings\n",
    "warnings.filterwarnings('ignore')"
   ]
  },
  {
   "cell_type": "code",
   "execution_count": 2,
   "metadata": {},
   "outputs": [],
   "source": [
    "def getData(cfileName):\n",
    "\n",
    "    # Read the *.cfile which has each element in float32 format.\n",
    "    data = np.fromfile(cfileName, dtype=\"float32\")\n",
    "\n",
    "    # Take each consecutive interleaved I sample and Q sample to create a single complex element.\n",
    "    data = data[0::2] + 1j*data[1::2]\n",
    "    #print(\"data type=\", type(data))\n",
    "    # Return the complex numpy array.\n",
    "    return data"
   ]
  },
  {
   "cell_type": "code",
   "execution_count": 3,
   "metadata": {},
   "outputs": [],
   "source": [
    "# number of samples per class\n",
    "num_samp_per_class = 10000\n",
    "\n",
    "# FFT size for the STFT operation (which is same as the feature vector size)\n",
    "fft_size = feature_vector_size = 2048 #1024\n",
    "\n",
    "# number of overlapping samples for the STFT operation\n",
    "fft_overlap = 256"
   ]
  },
  {
   "cell_type": "code",
   "execution_count": 5,
   "metadata": {},
   "outputs": [],
   "source": [
    "def create_dataset(data, class_label):\n",
    "    f, t, Zxx = signal.stft(data, fs=20e6, nperseg=fft_size, noverlap=fft_overlap)\n",
    "    print(len(f))\n",
    "    print(len(t))\n",
    "    print(Zxx.shape)\n",
    "\n",
    "    del data\n",
    "\n",
    "    Zxx = Zxx.transpose()\n",
    "\n",
    "    Zxx = abs(Zxx)\n",
    "    # scaling the features (only real part of the data can be used)\n",
    "    scaler = MinMaxScaler()\n",
    "    scaler.fit(Zxx)\n",
    "    print(scaler.data_max_)\n",
    "    Zxx = scaler.transform(Zxx)\n",
    "\n",
    "    X = Zxx[:num_samp_per_class]\n",
    "    Y = np.full(num_samp_per_class, class_label)\n",
    "\n",
    "    return X, Y"
   ]
  },
  {
   "cell_type": "markdown",
   "metadata": {},
   "source": [
    "## Create Own Model"
   ]
  },
  {
   "cell_type": "markdown",
   "metadata": {},
   "source": [
    "## iPhone8_I"
   ]
  },
  {
   "cell_type": "code",
   "execution_count": 6,
   "metadata": {},
   "outputs": [
    {
     "name": "stdout",
     "output_type": "stream",
     "text": [
      "[0.015625 +0.j        0.0234375+0.0078125j 0.015625 +0.0078125j ...\n",
      " 0.0234375+0.0078125j 0.0078125+0.0078125j 0.015625 +0.0078125j]\n",
      "2048\n",
      "75193\n",
      "(2048, 75193)\n",
      "[0.02359843 0.01450121 0.00629716 ... 0.00507639 0.00605692 0.01434469]\n",
      "(10000, 2048)\n",
      "(10000,)\n"
     ]
    }
   ],
   "source": [
    "# reading a data for class  label 0\n",
    "data = getData(\"/Users/Lojenaa/Documents/DELL_Linux/Lojenaa/HackRF One/Smartphones/EM_Signals/iPhone_8/iPhone8_I/calendar-app.cfile\")\n",
    "print(np.array(data))\n",
    "X, Y = create_dataset(data, 0)\n",
    "\n",
    "print(X.shape)\n",
    "print(Y.shape)"
   ]
  },
  {
   "cell_type": "code",
   "execution_count": 7,
   "metadata": {},
   "outputs": [
    {
     "name": "stdout",
     "output_type": "stream",
     "text": [
      "[-0.0078125-0.015625j   0.03125  +0.0078125j  0.0078125+0.015625j  ...\n",
      "  0.03125  +0.015625j   0.03125  -0.015625j   0.015625 +0.03125j  ]\n",
      "2048\n",
      "74718\n",
      "(2048, 74718)\n",
      "[0.02340776 0.01348814 0.00526938 ... 0.0034575  0.00560695 0.01365474]\n",
      "(20000, 2048)\n",
      "(20000,)\n"
     ]
    }
   ],
   "source": [
    "# reading a data for class  label 1\n",
    "data = getData(\"/Users/Lojenaa/Documents/DELL_Linux/Lojenaa/HackRF One/Smartphones/EM_Signals/iPhone_8/iPhone8_I/camera-photo.cfile\")\n",
    "print(np.array(data))\n",
    "dataset, label = create_dataset(data, 1)\n",
    "\n",
    "X = np.concatenate((X, dataset), axis=0) \n",
    "Y = np.concatenate((Y, label), axis=0)\n",
    "\n",
    "print(X.shape)\n",
    "print(Y.shape)"
   ]
  },
  {
   "cell_type": "code",
   "execution_count": 8,
   "metadata": {},
   "outputs": [
    {
     "name": "stdout",
     "output_type": "stream",
     "text": [
      "[ 0.015625 +0.j         0.015625 +0.j         0.015625 +0.0078125j ...\n",
      "  0.03125  +0.0078125j -0.0078125+0.0078125j  0.0390625+0.j       ]\n",
      "2048\n",
      "80971\n",
      "(2048, 80971)\n",
      "[0.02337759 0.01389773 0.00623942 ... 0.00357345 0.00575555 0.013909  ]\n",
      "(30000, 2048)\n",
      "(30000,)\n"
     ]
    }
   ],
   "source": [
    "# reading a data for class  label 2\n",
    "data = getData(\"/Users/Lojenaa/Documents/DELL_Linux/Lojenaa/HackRF One/Smartphones/EM_Signals/iPhone_8/iPhone8_I/camera-video.cfile\")\n",
    "print(np.array(data))\n",
    "dataset, label = create_dataset(data, 2)\n",
    "\n",
    "X = np.concatenate((X, dataset), axis=0) \n",
    "Y = np.concatenate((Y, label), axis=0)\n",
    "\n",
    "print(X.shape)\n",
    "print(Y.shape)"
   ]
  },
  {
   "cell_type": "code",
   "execution_count": 9,
   "metadata": {},
   "outputs": [
    {
     "name": "stdout",
     "output_type": "stream",
     "text": [
      "[0.0078125+0.0078125j 0.0078125-0.0078125j 0.0078125-0.0078125j ...\n",
      " 0.0234375+0.j        0.0234375+0.03125j   0.015625 +0.015625j ]\n",
      "2048\n",
      "72121\n",
      "(2048, 72121)\n",
      "[0.02316895 0.01445583 0.00709031 ... 0.00398197 0.00594652 0.01437647]\n",
      "(40000, 2048)\n",
      "(40000,)\n"
     ]
    }
   ],
   "source": [
    "# reading a data for class  label 3\n",
    "data = getData(\"/Users/Lojenaa/Documents/DELL_Linux/Lojenaa/HackRF One/Smartphones/EM_Signals/iPhone_8/iPhone8_I/email-app.cfile\")\n",
    "print(np.array(data))\n",
    "dataset, label = create_dataset(data, 3)\n",
    "\n",
    "X = np.concatenate((X, dataset), axis=0) \n",
    "Y = np.concatenate((Y, label), axis=0)\n",
    "\n",
    "print(X.shape)\n",
    "print(Y.shape)"
   ]
  },
  {
   "cell_type": "code",
   "execution_count": 10,
   "metadata": {},
   "outputs": [
    {
     "name": "stdout",
     "output_type": "stream",
     "text": [
      "[0.015625 +0.0234375j 0.       +0.j        0.0234375+0.0390625j ...\n",
      " 0.0234375+0.015625j  0.0078125+0.0078125j 0.03125  +0.0234375j]\n",
      "2048\n",
      "89261\n",
      "(2048, 89261)\n",
      "[0.02114244 0.01223788 0.00554262 ... 0.00337299 0.00464032 0.01173784]\n",
      "(50000, 2048)\n",
      "(50000,)\n"
     ]
    }
   ],
   "source": [
    "# reading a data for class  label 4\n",
    "data = getData(\"/Users/Lojenaa/Documents/DELL_Linux/Lojenaa/HackRF One/Smartphones/EM_Signals/iPhone_8/iPhone8_I/gallery-app.cfile\")\n",
    "print(np.array(data))\n",
    "dataset, label = create_dataset(data, 4)\n",
    "\n",
    "X = np.concatenate((X, dataset), axis=0) \n",
    "Y = np.concatenate((Y, label), axis=0)\n",
    "\n",
    "print(X.shape)\n",
    "print(Y.shape)"
   ]
  },
  {
   "cell_type": "code",
   "execution_count": 11,
   "metadata": {},
   "outputs": [
    {
     "name": "stdout",
     "output_type": "stream",
     "text": [
      "[0.0234375+0.j        0.0078125+0.j        0.0234375+0.0078125j ...\n",
      " 0.0234375+0.0078125j 0.0078125-0.0234375j 0.015625 +0.0234375j]\n",
      "2048\n",
      "79686\n",
      "(2048, 79686)\n",
      "[0.02141733 0.01279317 0.00536928 ... 0.00440678 0.0061739  0.01350739]\n",
      "(60000, 2048)\n",
      "(60000,)\n"
     ]
    }
   ],
   "source": [
    "# reading a data for class  label 5\n",
    "data = getData(\"/Users/Lojenaa/Documents/DELL_Linux/Lojenaa/HackRF One/Smartphones/EM_Signals/iPhone_8/iPhone8_I/home-screen.cfile\")\n",
    "print(np.array(data))\n",
    "dataset, label = create_dataset(data, 5)\n",
    "\n",
    "X = np.concatenate((X, dataset), axis=0) \n",
    "Y = np.concatenate((Y, label), axis=0)\n",
    "\n",
    "print(X.shape)\n",
    "print(Y.shape)"
   ]
  },
  {
   "cell_type": "code",
   "execution_count": 12,
   "metadata": {},
   "outputs": [
    {
     "name": "stdout",
     "output_type": "stream",
     "text": [
      "[-0.0078125-0.0078125j  0.046875 -0.015625j  -0.0078125+0.0234375j ...\n",
      "  0.015625 +0.015625j   0.046875 +0.0078125j  0.015625 +0.0078125j]\n",
      "2048\n",
      "77607\n",
      "(2048, 77607)\n",
      "[0.03628719 0.02857643 0.02234598 ... 0.02159735 0.02251928 0.02276763]\n",
      "(70000, 2048)\n",
      "(70000,)\n"
     ]
    }
   ],
   "source": [
    "# reading a data for class  label 6\n",
    "data = getData(\"/Users/Lojenaa/Documents/DELL_Linux/Lojenaa/HackRF One/Smartphones/EM_Signals/iPhone_8/iPhone8_I/idle.cfile\")\n",
    "print(np.array(data))\n",
    "dataset, label = create_dataset(data, 6)\n",
    "\n",
    "X = np.concatenate((X, dataset), axis=0) \n",
    "Y = np.concatenate((Y, label), axis=0)\n",
    "\n",
    "print(X.shape)\n",
    "print(Y.shape)"
   ]
  },
  {
   "cell_type": "code",
   "execution_count": 13,
   "metadata": {},
   "outputs": [
    {
     "name": "stdout",
     "output_type": "stream",
     "text": [
      "[0.03125  +0.0078125j 0.0078125+0.0078125j 0.03125  +0.0078125j ...\n",
      " 0.015625 +0.j        0.015625 +0.0234375j 0.0234375+0.0078125j]\n",
      "2048\n",
      "82818\n",
      "(2048, 82818)\n",
      "[0.03474096 0.02140298 0.02558963 ... 0.01840175 0.02333565 0.0356193 ]\n",
      "(80000, 2048)\n",
      "(80000,)\n"
     ]
    }
   ],
   "source": [
    "# reading a data for class  label 7\n",
    "data = getData(\"/Users/Lojenaa/Documents/DELL_Linux/Lojenaa/HackRF One/Smartphones/EM_Signals/iPhone_8/iPhone8_I/phone-app.cfile\")\n",
    "print(np.array(data))\n",
    "dataset, label = create_dataset(data, 7)\n",
    "\n",
    "X = np.concatenate((X, dataset), axis=0) \n",
    "Y = np.concatenate((Y, label), axis=0)\n",
    "\n",
    "print(X.shape)\n",
    "print(Y.shape)"
   ]
  },
  {
   "cell_type": "code",
   "execution_count": 14,
   "metadata": {},
   "outputs": [
    {
     "name": "stdout",
     "output_type": "stream",
     "text": [
      "[ 0.0234375+0.0234375j  0.       -0.015625j   0.015625 +0.0078125j ...\n",
      " -0.0078125+0.j         0.046875 +0.015625j   0.       +0.015625j ]\n",
      "2048\n",
      "76038\n",
      "(2048, 76038)\n",
      "[0.01928549 0.01008065 0.00371399 ... 0.00220439 0.0036942  0.01031906]\n",
      "(90000, 2048)\n",
      "(90000,)\n"
     ]
    }
   ],
   "source": [
    "# reading a data for class  label 8\n",
    "data = getData(\"/Users/Lojenaa/Documents/DELL_Linux/Lojenaa/HackRF One/Smartphones/EM_Signals/iPhone_8/iPhone8_I/sms-app.cfile\")\n",
    "print(np.array(data))\n",
    "dataset, label = create_dataset(data, 8)\n",
    "\n",
    "X = np.concatenate((X, dataset), axis=0) \n",
    "Y = np.concatenate((Y, label), axis=0)\n",
    "\n",
    "print(X.shape)\n",
    "print(Y.shape)"
   ]
  },
  {
   "cell_type": "code",
   "execution_count": 15,
   "metadata": {},
   "outputs": [
    {
     "name": "stdout",
     "output_type": "stream",
     "text": [
      "[0.015625 -0.0078125j 0.0234375+0.0078125j 0.0078125+0.j        ...\n",
      " 0.015625 +0.0078125j 0.015625 +0.j        0.0234375+0.0078125j]\n",
      "2048\n",
      "86457\n",
      "(2048, 86457)\n",
      "[0.02063283 0.01218774 0.00617775 ... 0.00287691 0.00458227 0.01164085]\n",
      "(100000, 2048)\n",
      "(100000,)\n"
     ]
    }
   ],
   "source": [
    "# reading a data for class  label 9\n",
    "data = getData(\"/Users/Lojenaa/Documents/DELL_Linux/Lojenaa/HackRF One/Smartphones/EM_Signals/iPhone_8/iPhone8_I/web_browser-app.cfile\")\n",
    "print(np.array(data))\n",
    "dataset, label = create_dataset(data, 9)\n",
    "\n",
    "X = np.concatenate((X, dataset), axis=0) \n",
    "Y = np.concatenate((Y, label), axis=0)\n",
    "\n",
    "print(X.shape)\n",
    "print(Y.shape)"
   ]
  },
  {
   "cell_type": "markdown",
   "metadata": {},
   "source": [
    "Build a model for iPhone8_I"
   ]
  },
  {
   "cell_type": "code",
   "execution_count": 16,
   "metadata": {},
   "outputs": [],
   "source": [
    "# Split data to train and test sets\n",
    "X_train, X_test, y_train, y_test = train_test_split(X, Y, test_size=0.1, random_state=0)"
   ]
  },
  {
   "cell_type": "code",
   "execution_count": 17,
   "metadata": {},
   "outputs": [
    {
     "name": "stdout",
     "output_type": "stream",
     "text": [
      "Model: \"sequential\"\n",
      "_________________________________________________________________\n",
      " Layer (type)                Output Shape              Param #   \n",
      "=================================================================\n",
      " dense (Dense)               (None, 1400)              2868600   \n",
      "                                                                 \n",
      " dense_1 (Dense)             (None, 800)               1120800   \n",
      "                                                                 \n",
      " dense_2 (Dense)             (None, 500)               400500    \n",
      "                                                                 \n",
      " dense_3 (Dense)             (None, 200)               100200    \n",
      "                                                                 \n",
      " dense_4 (Dense)             (None, 100)               20100     \n",
      "                                                                 \n",
      " dense_5 (Dense)             (None, 10)                1010      \n",
      "                                                                 \n",
      "=================================================================\n",
      "Total params: 4,511,210\n",
      "Trainable params: 4,511,210\n",
      "Non-trainable params: 0\n",
      "_________________________________________________________________\n"
     ]
    },
    {
     "name": "stderr",
     "output_type": "stream",
     "text": [
      "2022-09-21 22:06:52.751828: I tensorflow/core/platform/cpu_feature_guard.cc:193] This TensorFlow binary is optimized with oneAPI Deep Neural Network Library (oneDNN) to use the following CPU instructions in performance-critical operations:  AVX2 FMA\n",
      "To enable them in other operations, rebuild TensorFlow with the appropriate compiler flags.\n"
     ]
    }
   ],
   "source": [
    "model = keras.models.Sequential()\n",
    "model.add(keras.layers.Input(shape=(feature_vector_size,)))\n",
    "model.add(keras.layers.Dense(1400, activation=\"relu\"))\n",
    "model.add(keras.layers.Dense(800, activation=\"relu\"))\n",
    "model.add(keras.layers.Dense(500, activation=\"relu\"))\n",
    "model.add(keras.layers.Dense(200, activation=\"relu\"))\n",
    "model.add(keras.layers.Dense(100, activation=\"relu\"))\n",
    "model.add(keras.layers.Dense(10, activation=\"softmax\"))\n",
    "model.summary()"
   ]
  },
  {
   "cell_type": "code",
   "execution_count": 18,
   "metadata": {},
   "outputs": [],
   "source": [
    "opt = keras.optimizers.SGD(learning_rate=0.001)\n",
    "model.compile(loss=\"sparse_categorical_crossentropy\", optimizer=opt, metrics=[\"accuracy\"])"
   ]
  },
  {
   "cell_type": "code",
   "execution_count": 19,
   "metadata": {},
   "outputs": [
    {
     "name": "stdout",
     "output_type": "stream",
     "text": [
      "Epoch 1/25\n",
      "2532/2532 [==============================] - 24s 9ms/step - loss: 2.1423 - accuracy: 0.3439 - val_loss: 1.8951 - val_accuracy: 0.5027\n",
      "Epoch 2/25\n",
      "2532/2532 [==============================] - 23s 9ms/step - loss: 1.5516 - accuracy: 0.7109 - val_loss: 1.1533 - val_accuracy: 0.9157\n",
      "Epoch 3/25\n",
      "2532/2532 [==============================] - 23s 9ms/step - loss: 0.6909 - accuracy: 0.9755 - val_loss: 0.3556 - val_accuracy: 0.9913\n",
      "Epoch 4/25\n",
      "2532/2532 [==============================] - 24s 9ms/step - loss: 0.1934 - accuracy: 0.9961 - val_loss: 0.0958 - val_accuracy: 0.9987\n",
      "Epoch 5/25\n",
      "2532/2532 [==============================] - 23s 9ms/step - loss: 0.0762 - accuracy: 0.9976 - val_loss: 0.0448 - val_accuracy: 0.9987\n",
      "Epoch 6/25\n",
      "2532/2532 [==============================] - 23s 9ms/step - loss: 0.0458 - accuracy: 0.9982 - val_loss: 0.0274 - val_accuracy: 0.9988\n",
      "Epoch 7/25\n",
      "2532/2532 [==============================] - 23s 9ms/step - loss: 0.0339 - accuracy: 0.9988 - val_loss: 0.0197 - val_accuracy: 0.9994\n",
      "Epoch 8/25\n",
      "2532/2532 [==============================] - 23s 9ms/step - loss: 0.0280 - accuracy: 0.9989 - val_loss: 0.0148 - val_accuracy: 0.9996\n",
      "Epoch 9/25\n",
      "2532/2532 [==============================] - 22s 9ms/step - loss: 0.0243 - accuracy: 0.9992 - val_loss: 0.0119 - val_accuracy: 0.9996\n",
      "Epoch 10/25\n",
      "2532/2532 [==============================] - 24s 9ms/step - loss: 0.0217 - accuracy: 0.9993 - val_loss: 0.0101 - val_accuracy: 0.9997\n",
      "Epoch 11/25\n",
      "2532/2532 [==============================] - 23s 9ms/step - loss: 0.0197 - accuracy: 0.9993 - val_loss: 0.0099 - val_accuracy: 0.9994\n",
      "Epoch 12/25\n",
      "2532/2532 [==============================] - 24s 9ms/step - loss: 0.0182 - accuracy: 0.9994 - val_loss: 0.0078 - val_accuracy: 0.9998\n",
      "Epoch 13/25\n",
      "2532/2532 [==============================] - 24s 9ms/step - loss: 0.0170 - accuracy: 0.9994 - val_loss: 0.0072 - val_accuracy: 0.9997\n",
      "Epoch 14/25\n",
      "2532/2532 [==============================] - 23s 9ms/step - loss: 0.0159 - accuracy: 0.9995 - val_loss: 0.0076 - val_accuracy: 0.9996\n",
      "Epoch 15/25\n",
      "2532/2532 [==============================] - 23s 9ms/step - loss: 0.0150 - accuracy: 0.9995 - val_loss: 0.0068 - val_accuracy: 0.9996\n",
      "Epoch 16/25\n",
      "2532/2532 [==============================] - 23s 9ms/step - loss: 0.0142 - accuracy: 0.9995 - val_loss: 0.0055 - val_accuracy: 0.9997\n",
      "Epoch 17/25\n",
      "2532/2532 [==============================] - 24s 9ms/step - loss: 0.0135 - accuracy: 0.9995 - val_loss: 0.0052 - val_accuracy: 0.9997\n",
      "Epoch 18/25\n",
      "2532/2532 [==============================] - 24s 9ms/step - loss: 0.0129 - accuracy: 0.9996 - val_loss: 0.0050 - val_accuracy: 0.9997\n",
      "Epoch 19/25\n",
      "2532/2532 [==============================] - 23s 9ms/step - loss: 0.0123 - accuracy: 0.9996 - val_loss: 0.0047 - val_accuracy: 0.9998\n",
      "Epoch 20/25\n",
      "2532/2532 [==============================] - 23s 9ms/step - loss: 0.0117 - accuracy: 0.9996 - val_loss: 0.0042 - val_accuracy: 0.9999\n",
      "Epoch 21/25\n",
      "2532/2532 [==============================] - 24s 9ms/step - loss: 0.0112 - accuracy: 0.9996 - val_loss: 0.0042 - val_accuracy: 0.9998\n",
      "Epoch 22/25\n",
      "2532/2532 [==============================] - 23s 9ms/step - loss: 0.0107 - accuracy: 0.9997 - val_loss: 0.0038 - val_accuracy: 0.9999\n",
      "Epoch 23/25\n",
      "2532/2532 [==============================] - 23s 9ms/step - loss: 0.0103 - accuracy: 0.9997 - val_loss: 0.0036 - val_accuracy: 0.9999\n",
      "Epoch 24/25\n",
      "2532/2532 [==============================] - 23s 9ms/step - loss: 0.0099 - accuracy: 0.9997 - val_loss: 0.0038 - val_accuracy: 0.9998\n",
      "Epoch 25/25\n",
      "2532/2532 [==============================] - 22s 9ms/step - loss: 0.0095 - accuracy: 0.9997 - val_loss: 0.0036 - val_accuracy: 0.9998\n"
     ]
    }
   ],
   "source": [
    "checkpoint_cb = keras.callbacks.ModelCheckpoint(\"/Users/Lojenaa/Documents/DELL_Linux/Lojenaa/HackRF One/Smartphones/Cross-device-Portability-of-EMSCA/Smartphones/iPhone/iPhone8/iPHONE8_I_model.h5\", save_best_only=True)\n",
    "history = model.fit(X_train, y_train, epochs=25, validation_split=0.1, callbacks=[checkpoint_cb])"
   ]
  },
  {
   "cell_type": "code",
   "execution_count": 20,
   "metadata": {},
   "outputs": [
    {
     "data": {
      "image/png": "[encoded data removed]",
      "text/plain": [
       "<Figure size 800x500 with 1 Axes>"
      ]
     },
     "metadata": {},
     "output_type": "display_data"
    }
   ],
   "source": [
    "pd.DataFrame(history.history).plot(figsize=(8, 5))\n",
    "plt.grid(True)\n",
    "plt.gca().set_ylim(0, 1) # set the vertical range to [0-1]\n",
    "plt.show()"
   ]
  },
  {
   "cell_type": "markdown",
   "metadata": {},
   "source": [
    "Test the own iPhone13_I model"
   ]
  },
  {
   "cell_type": "code",
   "execution_count": 21,
   "metadata": {},
   "outputs": [],
   "source": [
    "model = keras.models.load_model(\"/Users/Lojenaa/Documents/DELL_Linux/Lojenaa/HackRF One/Smartphones/Cross-device-Portability-of-EMSCA/Smartphones/iPhone/iPhone8/iPHONE8_I_model.h5\")"
   ]
  },
  {
   "cell_type": "code",
   "execution_count": 22,
   "metadata": {},
   "outputs": [
    {
     "name": "stdout",
     "output_type": "stream",
     "text": [
      "313/313 [==============================] - 2s 4ms/step - loss: 0.0054 - accuracy: 0.9996\n",
      "test loss, test acc: [0.005375926848500967, 0.9995999932289124]\n"
     ]
    }
   ],
   "source": [
    "results = model.evaluate(X_test, y_test)\n",
    "print(\"test loss, test acc:\", results)"
   ]
  },
  {
   "cell_type": "code",
   "execution_count": 23,
   "metadata": {},
   "outputs": [
    {
     "name": "stdout",
     "output_type": "stream",
     "text": [
      "313/313 [==============================] - 1s 4ms/step\n",
      "[0 6 5 ... 5 5 6]\n",
      "0\n"
     ]
    }
   ],
   "source": [
    "y_pred = np.argmax(model.predict(X_test), axis=-1)\n",
    "print(y_pred)\n",
    "print(y_pred[0])"
   ]
  },
  {
   "cell_type": "code",
   "execution_count": 24,
   "metadata": {},
   "outputs": [
    {
     "name": "stdout",
     "output_type": "stream",
     "text": [
      "[[1010    0    0    0    0    1    0    0    0    0]\n",
      " [   0 1010    0    0    0    0    0    0    0    0]\n",
      " [   0    0  992    0    0    0    0    0    0    1]\n",
      " [   0    0    0  938    1    0    0    0    0    0]\n",
      " [   0    0    0    0 1043    0    0    0    0    0]\n",
      " [   0    0    0    0    0 1027    0    0    0    0]\n",
      " [   0    0    0    0    0    0  999    0    0    0]\n",
      " [   0    0    0    0    0    0    0  974    0    0]\n",
      " [   0    0    0    0    0    0    0    0 1003    0]\n",
      " [   0    0    0    0    0    0    0    0    1 1000]]\n",
      "              precision    recall  f1-score   support\n",
      "\n",
      "           0       1.00      1.00      1.00      1011\n",
      "           1       1.00      1.00      1.00      1010\n",
      "           2       1.00      1.00      1.00       993\n",
      "           3       1.00      1.00      1.00       939\n",
      "           4       1.00      1.00      1.00      1043\n",
      "           5       1.00      1.00      1.00      1027\n",
      "           6       1.00      1.00      1.00       999\n",
      "           7       1.00      1.00      1.00       974\n",
      "           8       1.00      1.00      1.00      1003\n",
      "           9       1.00      1.00      1.00      1001\n",
      "\n",
      "    accuracy                           1.00     10000\n",
      "   macro avg       1.00      1.00      1.00     10000\n",
      "weighted avg       1.00      1.00      1.00     10000\n",
      "\n"
     ]
    }
   ],
   "source": [
    "print(confusion_matrix(y_test, y_pred))\n",
    "print(classification_report(y_test, y_pred))"
   ]
  }
 ],
 "metadata": {
  "kernelspec": {
   "display_name": "Python 3.10.7 64-bit",
   "language": "python",
   "name": "python3"
  },
  "language_info": {
   "codemirror_mode": {
    "name": "ipython",
    "version": 3
   },
   "file_extension": ".py",
   "mimetype": "text/x-python",
   "name": "python",
   "nbconvert_exporter": "python",
   "pygments_lexer": "ipython3",
   "version": "3.10.7"
  },
  "orig_nbformat": 4,
  "vscode": {
   "interpreter": {
    "hash": "aee8b7b246df8f9039afb4144a1f6fd8d2ca17a180786b69acc140d282b71a49"
   }
  }
 },
 "nbformat": 4,
 "nbformat_minor": 2
}
