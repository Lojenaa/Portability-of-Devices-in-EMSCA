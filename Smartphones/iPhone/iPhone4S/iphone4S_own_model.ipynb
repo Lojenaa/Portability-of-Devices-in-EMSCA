{
  "cells": [
    {
      "cell_type": "markdown",
      "metadata": {
        "id": "uN0kzxHOYdKA"
      },
      "source": [
        "**Mount the Google Drive**"
      ]
    },
    {
      "cell_type": "code",
      "execution_count": 1,
      "metadata": {
        "colab": {
          "base_uri": "https://localhost:8080/"
        },
        "id": "mkfXS2SyZYWd",
        "outputId": "b38b8002-57ee-497f-babb-d79dab7f68fa"
      },
      "outputs": [
        {
          "name": "stdout",
          "output_type": "stream",
          "text": [
            "Mounted at /content/drive\n"
          ]
        }
      ],
      "source": [
        "from google.colab import drive\n",
        "drive.mount('/content/drive')"
      ]
    },
    {
      "cell_type": "markdown",
      "metadata": {
        "id": "brD6Li6aYPv1"
      },
      "source": [
        "**Necessary Header files**"
      ]
    },
    {
      "cell_type": "code",
      "execution_count": 2,
      "metadata": {
        "id": "c6-VQeCbUX1V"
      },
      "outputs": [],
      "source": [
        "import h5py\n",
        "import numpy as np\n",
        "import pandas as pd\n",
        "from scipy import signal\n",
        "import matplotlib.pyplot as plt\n",
        "import tensorflow as tf\n",
        "from tensorflow import keras\n",
        "from sklearn.model_selection import train_test_split\n",
        "from sklearn.preprocessing import MinMaxScaler\n",
        "from sklearn.metrics import confusion_matrix\n",
        "from sklearn.metrics import classification_report"
      ]
    },
    {
      "cell_type": "markdown",
      "metadata": {
        "id": "B1l5tRSJYqLp"
      },
      "source": [
        "**Read the hdf5 dataset**"
      ]
    },
    {
      "cell_type": "code",
      "execution_count": 3,
      "metadata": {
        "colab": {
          "base_uri": "https://localhost:8080/"
        },
        "id": "O6XNXM1FYiAv",
        "outputId": "6f9905fb-2b8a-49fb-fa7b-1f6cdfdaaf99"
      },
      "outputs": [
        {
          "name": "stdout",
          "output_type": "stream",
          "text": [
            "dataset_creater: Asanka P. Sayakkara <asa@ucsc.cmb.ac.lk>\n",
            "dataset_date: 2021-03-01\n",
            "dataset_version: 1\n"
          ]
        }
      ],
      "source": [
        "def printname(name):\n",
        "    print(name)\n",
        "\n",
        "# openning the file\n",
        "hf = h5py.File('/content/drive/MyDrive/Colab Notebooks/EMSCA/Data/em-dataset.h5', 'r')\n",
        "\n",
        "# printing the attributes of the file\n",
        "for item in hf.attrs.keys():\n",
        "    print(item + \":\", hf.attrs[item])\n"
      ]
    },
    {
      "cell_type": "code",
      "execution_count": null,
      "metadata": {
        "colab": {
          "base_uri": "https://localhost:8080/"
        },
        "id": "mMRA6LnUUsfW",
        "outputId": "3a962829-772d-438d-e224-fc246c563df9"
      },
      "outputs": [
        {
          "name": "stdout",
          "output_type": "stream",
          "text": [
            "<HDF5 file \"em-dataset.h5\" (mode r)>\n"
          ]
        }
      ],
      "source": [
        "print(hf)"
      ]
    },
    {
      "cell_type": "markdown",
      "metadata": {
        "id": "OyrFGJO1YzgN"
      },
      "source": [
        "**View full data structure**"
      ]
    },
    {
      "cell_type": "code",
      "execution_count": 4,
      "metadata": {
        "colab": {
          "base_uri": "https://localhost:8080/"
        },
        "id": "JQ98VamsU0y4",
        "outputId": "b6ebdf8b-80b3-4407-b66f-a339dbbf9eec"
      },
      "outputs": [
        {
          "name": "stdout",
          "output_type": "stream",
          "text": [
            "internet-of-things\n",
            "internet-of-things/amazon-echo-dot\n",
            "internet-of-things/amazon-echo-dot/asking-a-definition\n",
            "internet-of-things/amazon-echo-dot/asking-for-time\n",
            "internet-of-things/amazon-echo-dot/asking-to-play-radio\n",
            "internet-of-things/amazon-echo-dot/controlling-lightbulb\n",
            "internet-of-things/amazon-echo-dot/device-idle\n",
            "internet-of-things/amazon-echo-dot/device-muted\n",
            "internet-of-things/amazon-echo-dot/device-resetting\n",
            "internet-of-things/amazon-echo-dot/just-wakeup-word\n",
            "internet-of-things/amazon-echo-dot/powering-on\n",
            "internet-of-things/amazon-echo-show5\n",
            "internet-of-things/amazon-echo-show5/asking-a-definition\n",
            "internet-of-things/amazon-echo-show5/asking-for-time\n",
            "internet-of-things/amazon-echo-show5/asking-to-play-radio\n",
            "internet-of-things/amazon-echo-show5/controlling-lightbulb\n",
            "internet-of-things/amazon-echo-show5/device-idle\n",
            "internet-of-things/amazon-echo-show5/device-resetting\n",
            "internet-of-things/amazon-echo-show5/just-wakeup-word\n",
            "internet-of-things/amazon-echo-show5/powering-off\n",
            "internet-of-things/amazon-echo-show5/powering-on\n",
            "internet-of-things/google-home\n",
            "internet-of-things/google-home/asking-a-definition\n",
            "internet-of-things/google-home/asking-for-time\n",
            "internet-of-things/google-home/asking-to-play-radio\n",
            "internet-of-things/google-home/controlling-lightbulb\n",
            "internet-of-things/google-home/device-idle\n",
            "internet-of-things/google-home/device-muted\n",
            "internet-of-things/google-home/device-resetting\n",
            "internet-of-things/google-home/just-wakeup-word\n",
            "internet-of-things/google-home/powering-on\n",
            "internet-of-things/samsung-smartthings\n",
            "internet-of-things/samsung-smartthings/controlling-smart-outlet\n",
            "internet-of-things/samsung-smartthings/device-idle\n",
            "internet-of-things/samsung-smartthings/device-powered-off\n",
            "internet-of-things/samsung-smartthings/device-powering-on\n",
            "internet-of-things/samsung-smartthings/openning-the-app\n",
            "internet-of-things/samsung-smartthings/view-arrival-sensor\n",
            "internet-of-things/samsung-smartthings/view-door-sensor\n",
            "internet-of-things/samsung-smartthings/view-motion-sensor\n",
            "smartphones\n",
            "smartphones/galaxyprime\n",
            "smartphones/galaxyprime/audio-recording\n",
            "smartphones/galaxyprime/camera-photo\n",
            "smartphones/galaxyprime/camera-video\n",
            "smartphones/galaxyprime/email-app\n",
            "smartphones/galaxyprime/gallary-app\n",
            "smartphones/galaxyprime/home-screen\n",
            "smartphones/galaxyprime/idle\n",
            "smartphones/galaxyprime/phone-app\n",
            "smartphones/galaxyprime/sms-app\n",
            "smartphones/galaxyprime/web-browser-app\n",
            "smartphones/iphone4s\n",
            "smartphones/iphone4s/calendar-app\n",
            "smartphones/iphone4s/camera-photo\n",
            "smartphones/iphone4s/camera-video\n",
            "smartphones/iphone4s/email-app\n",
            "smartphones/iphone4s/gallary-app\n",
            "smartphones/iphone4s/home-screen\n",
            "smartphones/iphone4s/idle\n",
            "smartphones/iphone4s/phone-app\n",
            "smartphones/iphone4s/sms-app\n",
            "smartphones/iphone4s/web-browser-app\n",
            "smartphones/nokia42\n",
            "smartphones/nokia42/calendar-app\n",
            "smartphones/nokia42/camera-photo\n",
            "smartphones/nokia42/camera-video\n",
            "smartphones/nokia42/email-app\n",
            "smartphones/nokia42/gallary-app\n",
            "smartphones/nokia42/home-screen\n",
            "smartphones/nokia42/idle\n",
            "smartphones/nokia42/phone-app\n",
            "smartphones/nokia42/sms-app\n",
            "smartphones/nokia42/web-browser-app\n",
            "smartphones/sonyxperia\n",
            "smartphones/sonyxperia/calendar-app\n",
            "smartphones/sonyxperia/camera-photo\n",
            "smartphones/sonyxperia/camera-video\n",
            "smartphones/sonyxperia/email-app\n",
            "smartphones/sonyxperia/gallary-app\n",
            "smartphones/sonyxperia/home-screen\n",
            "smartphones/sonyxperia/idle\n",
            "smartphones/sonyxperia/phone-app\n",
            "smartphones/sonyxperia/sms-app\n",
            "smartphones/sonyxperia/web-browser-app\n"
          ]
        }
      ],
      "source": [
        "# viewing full data structure\n",
        "hf.visit(printname)"
      ]
    },
    {
      "cell_type": "code",
      "execution_count": 5,
      "metadata": {
        "id": "dtkFbRr_D4Ez"
      },
      "outputs": [],
      "source": [
        "def create_dataset(data, class_label):\n",
        "    f, t, Zxx = signal.stft(data, fs=20e6, nperseg=fft_size, noverlap=fft_overlap)\n",
        "    print(len(f))\n",
        "    print(len(t))\n",
        "    print(Zxx.shape)\n",
        "\n",
        "    del data\n",
        "\n",
        "    Zxx = Zxx.transpose()\n",
        "\n",
        "    Zxx = abs(Zxx)\n",
        "    # scaling the features (only real part of the data can be used)\n",
        "    scaler = MinMaxScaler()\n",
        "    scaler.fit(Zxx)\n",
        "    print(scaler.data_max_)\n",
        "    Zxx = scaler.transform(Zxx)\n",
        "\n",
        "    X = Zxx[:num_samp_per_class]\n",
        "    Y = np.full(num_samp_per_class, class_label)\n",
        "\n",
        "    return X, Y"
      ]
    },
    {
      "cell_type": "markdown",
      "metadata": {
        "id": "mp7CfAhRY5o7"
      },
      "source": [
        "**Settings**"
      ]
    },
    {
      "cell_type": "code",
      "execution_count": 6,
      "metadata": {
        "id": "mvvqWEHsWHp1"
      },
      "outputs": [],
      "source": [
        "# number of samples per class\n",
        "num_samp_per_class = 10000\n",
        "\n",
        "# FFT size for the STFT operation (which is same as the feature vector size)\n",
        "fft_size = feature_vector_size = 2048 #1024\n",
        "\n",
        "# number of overlapping samples for the STFT operation\n",
        "fft_overlap = 256"
      ]
    },
    {
      "cell_type": "markdown",
      "metadata": {
        "id": "6ok1Acs9ZIGp"
      },
      "source": [
        "**Load the lables from load file**"
      ]
    },
    {
      "cell_type": "code",
      "execution_count": 7,
      "metadata": {
        "colab": {
          "base_uri": "https://localhost:8080/"
        },
        "id": "JfGbWAevWVPx",
        "outputId": "766c905a-329c-4fd2-edbf-7a7304944145"
      },
      "outputs": [
        {
          "name": "stdout",
          "output_type": "stream",
          "text": [
            "['calendar-app' 'camera-photo' 'camera-video' 'email-app' 'gallary-app'\n",
            " 'home-screen' 'idle' 'phone-app' 'sms-app' 'web-browser-app']\n"
          ]
        }
      ],
      "source": [
        "# reading a dataset/labels\n",
        "data = hf.get('/smartphones/iphone4s')\n",
        "labels = np.array(data)\n",
        "\n",
        "print(labels)"
      ]
    },
    {
      "cell_type": "markdown",
      "metadata": {},
      "source": [
        "## Create Own Model"
      ]
    },
    {
      "cell_type": "markdown",
      "metadata": {},
      "source": [
        "## iPhone4S_I"
      ]
    },
    {
      "cell_type": "markdown",
      "metadata": {
        "id": "PxfQegPdrTz6"
      },
      "source": [
        "**Preparing dataset for class label 0**"
      ]
    },
    {
      "cell_type": "code",
      "execution_count": 8,
      "metadata": {
        "colab": {
          "base_uri": "https://localhost:8080/"
        },
        "id": "YBmlFzjkWtuk",
        "outputId": "e212483c-51f7-4eca-ca97-32d379921732"
      },
      "outputs": [
        {
          "name": "stdout",
          "output_type": "stream",
          "text": [
            "[0.03125  +0.j       0.       +0.j       0.03125  -0.03125j  ...\n",
            " 0.0234375-0.03125j  0.0546875-0.015625j 0.015625 +0.j      ]\n"
          ]
        },
        {
          "name": "stderr",
          "output_type": "stream",
          "text": [
            "/usr/local/lib/python3.7/dist-packages/scipy/signal/spectral.py:1816: UserWarning: Input data is complex, switching to return_onesided=False\n",
            "  warnings.warn('Input data is complex, switching to '\n"
          ]
        },
        {
          "name": "stdout",
          "output_type": "stream",
          "text": [
            "2048\n",
            "33428\n",
            "(2048, 33428)\n",
            "[0.02488573 0.01461495 0.00517034 ... 0.00663629 0.00442523 0.01420262]\n",
            "(10000, 2048)\n",
            "(10000,)\n"
          ]
        }
      ],
      "source": [
        "# reading a data for class  label 0\n",
        "data = hf.get('smartphones/iphone4s/calendar-app')\n",
        "print(np.array(data))\n",
        "X, Y = create_dataset(data, 0)\n",
        "\n",
        "print(X.shape)\n",
        "print(Y.shape)"
      ]
    },
    {
      "cell_type": "markdown",
      "metadata": {
        "id": "LcPn6izLrvPU"
      },
      "source": [
        "**Preparing dataset for class label 1**"
      ]
    },
    {
      "cell_type": "code",
      "execution_count": 9,
      "metadata": {
        "colab": {
          "base_uri": "https://localhost:8080/"
        },
        "id": "ntOEvugyr2eG",
        "outputId": "ce5e3f00-f2b9-490b-d8a3-b555a15f2018"
      },
      "outputs": [
        {
          "name": "stdout",
          "output_type": "stream",
          "text": [
            "[ 0.0078125-0.03125j    0.0234375-0.015625j   0.0234375+0.j        ...\n",
            " -0.0078125+0.j         0.03125  -0.0234375j  0.0390625-0.015625j ]\n"
          ]
        },
        {
          "name": "stderr",
          "output_type": "stream",
          "text": [
            "/usr/local/lib/python3.7/dist-packages/scipy/signal/spectral.py:1816: UserWarning: Input data is complex, switching to return_onesided=False\n",
            "  warnings.warn('Input data is complex, switching to '\n"
          ]
        },
        {
          "name": "stdout",
          "output_type": "stream",
          "text": [
            "2048\n",
            "38645\n",
            "(2048, 38645)\n",
            "[0.02234858 0.01373823 0.0042615  ... 0.00250264 0.00466313 0.01401206]\n",
            "(20000, 2048)\n",
            "(20000,)\n"
          ]
        }
      ],
      "source": [
        "# reading a data for class  label 1\n",
        "data = hf.get('/smartphones/iphone4s/camera-photo')\n",
        "print(np.array(data))\n",
        "dataset, label = create_dataset(data, 1)\n",
        "\n",
        "X = np.concatenate((X, dataset), axis=0) \n",
        "Y = np.concatenate((Y, label), axis=0)\n",
        "\n",
        "print(X.shape)\n",
        "print(Y.shape)"
      ]
    },
    {
      "cell_type": "markdown",
      "metadata": {
        "id": "W0U5OxUts-EU"
      },
      "source": [
        "**Preparing dataset for class label 2**"
      ]
    },
    {
      "cell_type": "code",
      "execution_count": 10,
      "metadata": {
        "colab": {
          "base_uri": "https://localhost:8080/"
        },
        "id": "PVD96Lx6tFi6",
        "outputId": "ef2b1fc4-2717-4277-c728-80ef059b7ce8"
      },
      "outputs": [
        {
          "name": "stdout",
          "output_type": "stream",
          "text": [
            "[ 0.03125  -0.0078125j  0.0234375-0.0234375j  0.015625 -0.0078125j ...\n",
            "  0.0078125-0.0390625j -0.015625 +0.j         0.0625   +0.j       ]\n"
          ]
        },
        {
          "name": "stderr",
          "output_type": "stream",
          "text": [
            "/usr/local/lib/python3.7/dist-packages/scipy/signal/spectral.py:1816: UserWarning: Input data is complex, switching to return_onesided=False\n",
            "  warnings.warn('Input data is complex, switching to '\n"
          ]
        },
        {
          "name": "stdout",
          "output_type": "stream",
          "text": [
            "2048\n",
            "48315\n",
            "(2048, 48315)\n",
            "[0.02550059 0.01659532 0.00878719 ... 0.01732491 0.01035367 0.01616922]\n",
            "(30000, 2048)\n",
            "(30000,)\n"
          ]
        }
      ],
      "source": [
        "# reading a data for class  label 2\n",
        "data = hf.get('smartphones/iphone4s/camera-video')\n",
        "print(np.array(data))\n",
        "dataset, label = create_dataset(data, 2)\n",
        "\n",
        "X = np.concatenate((X, dataset), axis=0) \n",
        "Y = np.concatenate((Y, label), axis=0)\n",
        "\n",
        "print(X.shape)\n",
        "print(Y.shape)"
      ]
    },
    {
      "cell_type": "markdown",
      "metadata": {
        "id": "l4LvmnuWvboX"
      },
      "source": [
        "**Preparing dataset for class label 3**"
      ]
    },
    {
      "cell_type": "code",
      "execution_count": 11,
      "metadata": {
        "colab": {
          "base_uri": "https://localhost:8080/"
        },
        "id": "VU0msOs1veee",
        "outputId": "b89377c5-cf10-4b04-a681-36e58fbcb75b"
      },
      "outputs": [
        {
          "name": "stdout",
          "output_type": "stream",
          "text": [
            "[ 0.03125  -0.015625j   0.015625 -0.015625j  -0.0078125-0.015625j  ...\n",
            "  0.0078125+0.j        -0.0078125+0.0078125j  0.0234375-0.0234375j]\n"
          ]
        },
        {
          "name": "stderr",
          "output_type": "stream",
          "text": [
            "/usr/local/lib/python3.7/dist-packages/scipy/signal/spectral.py:1816: UserWarning: Input data is complex, switching to return_onesided=False\n",
            "  warnings.warn('Input data is complex, switching to '\n"
          ]
        },
        {
          "name": "stdout",
          "output_type": "stream",
          "text": [
            "2048\n",
            "36129\n",
            "(2048, 36129)\n",
            "[0.04209983 0.02760862 0.02790638 ... 0.02090047 0.02404625 0.03802438]\n",
            "(40000, 2048)\n",
            "(40000,)\n"
          ]
        }
      ],
      "source": [
        "# reading a data for class  label 3\n",
        "data = hf.get('/smartphones/iphone4s/email-app')\n",
        "print(np.array(data))\n",
        "dataset, label = create_dataset(data, 3)\n",
        "\n",
        "X = np.concatenate((X, dataset), axis=0) \n",
        "Y = np.concatenate((Y, label), axis=0)\n",
        "\n",
        "print(X.shape)\n",
        "print(Y.shape)"
      ]
    },
    {
      "cell_type": "markdown",
      "metadata": {
        "id": "tGrmYkcsv5WP"
      },
      "source": [
        "***Preparing dataset for class label 4***"
      ]
    },
    {
      "cell_type": "code",
      "execution_count": 12,
      "metadata": {
        "colab": {
          "base_uri": "https://localhost:8080/"
        },
        "id": "--0Wln6bv-uU",
        "outputId": "f65aa320-af86-4afe-d30d-ade676ca220c"
      },
      "outputs": [
        {
          "name": "stdout",
          "output_type": "stream",
          "text": [
            "[0.0234375-0.015625j  0.0078125+0.0078125j 0.0078125-0.015625j  ...\n",
            " 0.0234375+0.015625j  0.       -0.015625j  0.015625 -0.015625j ]\n"
          ]
        },
        {
          "name": "stderr",
          "output_type": "stream",
          "text": [
            "/usr/local/lib/python3.7/dist-packages/scipy/signal/spectral.py:1816: UserWarning: Input data is complex, switching to return_onesided=False\n",
            "  warnings.warn('Input data is complex, switching to '\n"
          ]
        },
        {
          "name": "stdout",
          "output_type": "stream",
          "text": [
            "2048\n",
            "40949\n",
            "(2048, 40949)\n",
            "[0.02759015 0.01684842 0.00878586 ... 0.01630829 0.00898384 0.01655869]\n",
            "(50000, 2048)\n",
            "(50000,)\n"
          ]
        }
      ],
      "source": [
        "# reading a data for class  label 4\n",
        "data = hf.get('/smartphones/iphone4s/gallary-app')\n",
        "print(np.array(data))\n",
        "dataset, label = create_dataset(data, 4)\n",
        "\n",
        "X = np.concatenate((X, dataset), axis=0) \n",
        "Y = np.concatenate((Y, label), axis=0)\n",
        "\n",
        "print(X.shape)\n",
        "print(Y.shape)"
      ]
    },
    {
      "cell_type": "markdown",
      "metadata": {
        "id": "qrdZ9sHUwVhb"
      },
      "source": [
        "**Preparing dataset for label 5**"
      ]
    },
    {
      "cell_type": "code",
      "execution_count": 13,
      "metadata": {
        "colab": {
          "base_uri": "https://localhost:8080/"
        },
        "id": "dLWG9hfNwnj8",
        "outputId": "15e26010-8069-49fe-aae0-8e4e23cd6d05"
      },
      "outputs": [
        {
          "name": "stdout",
          "output_type": "stream",
          "text": [
            "[0.0390625-0.0234375j 0.0078125-0.0078125j 0.       +0.j        ...\n",
            " 0.0078125+0.j        0.       -0.0625j    0.015625 -0.0078125j]\n"
          ]
        },
        {
          "name": "stderr",
          "output_type": "stream",
          "text": [
            "/usr/local/lib/python3.7/dist-packages/scipy/signal/spectral.py:1816: UserWarning: Input data is complex, switching to return_onesided=False\n",
            "  warnings.warn('Input data is complex, switching to '\n"
          ]
        },
        {
          "name": "stdout",
          "output_type": "stream",
          "text": [
            "2048\n",
            "38694\n",
            "(2048, 38694)\n",
            "[0.03421063 0.02778965 0.02299778 ... 0.01896842 0.02162224 0.03236637]\n",
            "(60000, 2048)\n",
            "(60000,)\n"
          ]
        }
      ],
      "source": [
        "# reading a data for class  label 5\n",
        "data = hf.get('/smartphones/iphone4s/home-screen')\n",
        "print(np.array(data))\n",
        "dataset, label = create_dataset(data, 5)\n",
        "\n",
        "X = np.concatenate((X, dataset), axis=0) \n",
        "Y = np.concatenate((Y, label), axis=0)\n",
        "\n",
        "print(X.shape)\n",
        "print(Y.shape)"
      ]
    },
    {
      "cell_type": "markdown",
      "metadata": {
        "id": "4qb2STHQxGbf"
      },
      "source": [
        "**Preparing dataset for label 6**"
      ]
    },
    {
      "cell_type": "code",
      "execution_count": 14,
      "metadata": {
        "colab": {
          "base_uri": "https://localhost:8080/"
        },
        "id": "uGGz80UuxIre",
        "outputId": "01df3e7d-443f-4242-cec7-6c9d9f58a0a8"
      },
      "outputs": [
        {
          "name": "stdout",
          "output_type": "stream",
          "text": [
            "[0.       +0.0078125j 0.0078125-0.0234375j 0.015625 -0.015625j  ...\n",
            " 0.03125  -0.0078125j 0.015625 -0.03125j   0.0234375-0.0078125j]\n"
          ]
        },
        {
          "name": "stderr",
          "output_type": "stream",
          "text": [
            "/usr/local/lib/python3.7/dist-packages/scipy/signal/spectral.py:1816: UserWarning: Input data is complex, switching to return_onesided=False\n",
            "  warnings.warn('Input data is complex, switching to '\n"
          ]
        },
        {
          "name": "stdout",
          "output_type": "stream",
          "text": [
            "2048\n",
            "42242\n",
            "(2048, 42242)\n",
            "[0.0231918  0.01341356 0.00473634 ... 0.00485555 0.00465081 0.01240863]\n",
            "(70000, 2048)\n",
            "(70000,)\n"
          ]
        }
      ],
      "source": [
        "# reading a data for class  label 6\n",
        "data = hf.get('/smartphones/iphone4s/idle')\n",
        "print(np.array(data))\n",
        "dataset, label = create_dataset(data, 6)\n",
        "\n",
        "X = np.concatenate((X, dataset), axis=0) \n",
        "Y = np.concatenate((Y, label), axis=0)\n",
        "\n",
        "print(X.shape)\n",
        "print(Y.shape)"
      ]
    },
    {
      "cell_type": "markdown",
      "metadata": {
        "id": "DPniDCMdxclC"
      },
      "source": [
        "**Preparing dataset for label 7**"
      ]
    },
    {
      "cell_type": "code",
      "execution_count": 15,
      "metadata": {
        "colab": {
          "base_uri": "https://localhost:8080/"
        },
        "id": "uhxxsPQRxga7",
        "outputId": "0987734a-9d75-4fbd-c5f9-afcd53559749"
      },
      "outputs": [
        {
          "name": "stdout",
          "output_type": "stream",
          "text": [
            "[ 0.       -0.03125j    0.046875 -0.015625j   0.0234375+0.0078125j ...\n",
            "  0.0078125-0.015625j   0.0546875-0.015625j  -0.0078125-0.0078125j]\n"
          ]
        },
        {
          "name": "stderr",
          "output_type": "stream",
          "text": [
            "/usr/local/lib/python3.7/dist-packages/scipy/signal/spectral.py:1816: UserWarning: Input data is complex, switching to return_onesided=False\n",
            "  warnings.warn('Input data is complex, switching to '\n"
          ]
        },
        {
          "name": "stdout",
          "output_type": "stream",
          "text": [
            "2048\n",
            "34233\n",
            "(2048, 34233)\n",
            "[0.02253933 0.01400823 0.00429395 ... 0.00248525 0.00471229 0.01189943]\n",
            "(80000, 2048)\n",
            "(80000,)\n"
          ]
        }
      ],
      "source": [
        "# reading a data for class  label 7\n",
        "data = hf.get('/smartphones/iphone4s/phone-app')\n",
        "print(np.array(data))\n",
        "dataset, label = create_dataset(data, 7)\n",
        "\n",
        "X = np.concatenate((X, dataset), axis=0) \n",
        "Y = np.concatenate((Y, label), axis=0)\n",
        "\n",
        "print(X.shape)\n",
        "print(Y.shape)"
      ]
    },
    {
      "cell_type": "markdown",
      "metadata": {
        "id": "azhpOQ6Ox6QG"
      },
      "source": [
        "**Preparing dataset for label 8**"
      ]
    },
    {
      "cell_type": "code",
      "execution_count": 16,
      "metadata": {
        "colab": {
          "base_uri": "https://localhost:8080/"
        },
        "id": "L_vv38yQx9uq",
        "outputId": "f460d265-633c-4f89-dc29-6c8b294ad879"
      },
      "outputs": [
        {
          "name": "stdout",
          "output_type": "stream",
          "text": [
            "[0.0390625-0.03125j   0.0234375-0.0078125j 0.015625 -0.0078125j ...\n",
            " 0.0078125-0.03125j   0.       -0.0078125j 0.015625 -0.0234375j]\n"
          ]
        },
        {
          "name": "stderr",
          "output_type": "stream",
          "text": [
            "/usr/local/lib/python3.7/dist-packages/scipy/signal/spectral.py:1816: UserWarning: Input data is complex, switching to return_onesided=False\n",
            "  warnings.warn('Input data is complex, switching to '\n"
          ]
        },
        {
          "name": "stdout",
          "output_type": "stream",
          "text": [
            "2048\n",
            "42207\n",
            "(2048, 42207)\n",
            "[0.03743655 0.03107382 0.03086529 ... 0.02413252 0.02411451 0.03702537]\n",
            "(90000, 2048)\n",
            "(90000,)\n"
          ]
        }
      ],
      "source": [
        "# reading a data for class  label 8\n",
        "data = hf.get('/smartphones/iphone4s/sms-app')\n",
        "print(np.array(data))\n",
        "dataset, label = create_dataset(data, 8)\n",
        "\n",
        "X = np.concatenate((X, dataset), axis=0) \n",
        "Y = np.concatenate((Y, label), axis=0)\n",
        "\n",
        "print(X.shape)\n",
        "print(Y.shape)"
      ]
    },
    {
      "cell_type": "markdown",
      "metadata": {
        "id": "ocfWZslCyNr1"
      },
      "source": [
        "**Preparing dataset for label 9**"
      ]
    },
    {
      "cell_type": "code",
      "execution_count": 17,
      "metadata": {
        "colab": {
          "base_uri": "https://localhost:8080/"
        },
        "id": "Upz64VCHySyN",
        "outputId": "cefdf403-3670-4648-9ef1-adde417ad944"
      },
      "outputs": [
        {
          "name": "stdout",
          "output_type": "stream",
          "text": [
            "[ 0.0078125+0.0078125j  0.0234375-0.0234375j  0.0390625-0.0078125j ...\n",
            " -0.015625 -0.015625j   0.0234375-0.0390625j  0.015625 -0.0234375j]\n"
          ]
        },
        {
          "name": "stderr",
          "output_type": "stream",
          "text": [
            "/usr/local/lib/python3.7/dist-packages/scipy/signal/spectral.py:1816: UserWarning: Input data is complex, switching to return_onesided=False\n",
            "  warnings.warn('Input data is complex, switching to '\n"
          ]
        },
        {
          "name": "stdout",
          "output_type": "stream",
          "text": [
            "2048\n",
            "33209\n",
            "(2048, 33209)\n",
            "[0.04312244 0.03490404 0.02452176 ... 0.03249698 0.02744557 0.03319968]\n",
            "(100000, 2048)\n",
            "(100000,)\n"
          ]
        }
      ],
      "source": [
        "# reading a data for class  label 9\n",
        "data = hf.get('/smartphones/iphone4s/web-browser-app')\n",
        "print(np.array(data))\n",
        "dataset, label = create_dataset(data, 9)\n",
        "\n",
        "X = np.concatenate((X, dataset), axis=0) \n",
        "Y = np.concatenate((Y, label), axis=0)\n",
        "\n",
        "print(X.shape)\n",
        "print(Y.shape)"
      ]
    },
    {
      "cell_type": "markdown",
      "metadata": {
        "id": "S2I03C5jIgri"
      },
      "source": [
        "**Save the newly generated dataset as dataframe**"
      ]
    },
    {
      "cell_type": "code",
      "execution_count": null,
      "metadata": {
        "colab": {
          "base_uri": "https://localhost:8080/"
        },
        "id": "3L_OuCduImrL",
        "outputId": "0507bcea-c410-49f6-d002-57b39628a029"
      },
      "outputs": [
        {
          "name": "stdout",
          "output_type": "stream",
          "text": [
            "                     0     ...                2047\n",
            "0      0.007919-0.006800j  ... -0.008307-0.001626j\n",
            "1      0.015647-0.013556j  ... -0.007269+0.006531j\n",
            "2      0.015664-0.013822j  ... -0.007546+0.006920j\n",
            "3      0.015952-0.013029j  ... -0.007961+0.006076j\n",
            "4      0.015398-0.013920j  ... -0.007631+0.007445j\n",
            "...                   ...  ...                 ...\n",
            "99995  0.015469-0.014148j  ... -0.007803+0.007169j\n",
            "99996  0.015874-0.013751j  ... -0.008015+0.006634j\n",
            "99997  0.015700-0.013872j  ... -0.007563+0.006673j\n",
            "99998  0.016120-0.013640j  ... -0.007659+0.006876j\n",
            "99999  0.016389-0.013217j  ... -0.008413+0.006367j\n",
            "\n",
            "[100000 rows x 2048 columns]\n"
          ]
        }
      ],
      "source": [
        "# df = pd.DataFrame(data=X)\n",
        "# print (df)"
      ]
    },
    {
      "cell_type": "code",
      "execution_count": null,
      "metadata": {
        "id": "v6368MwrJOTL"
      },
      "outputs": [],
      "source": [
        "# df.to_csv('/content/drive/MyDrive/Colab Notebooks/EMSCA/Model/iphone_dataset.csv', index=False)"
      ]
    },
    {
      "cell_type": "code",
      "execution_count": null,
      "metadata": {
        "id": "GEbLEwLKS97T"
      },
      "outputs": [],
      "source": [
        "# df.to_csv('/content/drive/MyDrive/Colab Notebooks/EMSCA/Model/iphone_label.csv', index=False)"
      ]
    },
    {
      "cell_type": "markdown",
      "metadata": {
        "id": "7c0SDlvoysqS"
      },
      "source": [
        "**Build ML Model**"
      ]
    },
    {
      "cell_type": "code",
      "execution_count": 18,
      "metadata": {
        "id": "fF5F1PkWzDR-"
      },
      "outputs": [],
      "source": [
        "# Split data to train and test sets\n",
        "X_train, X_test, y_train, y_test = train_test_split(X, Y, test_size=0.1, random_state=0)"
      ]
    },
    {
      "cell_type": "code",
      "execution_count": 19,
      "metadata": {
        "colab": {
          "base_uri": "https://localhost:8080/"
        },
        "id": "9F2sPO_vzKY5",
        "outputId": "a3557591-064d-40ec-ec4e-f8a707ee4ecc"
      },
      "outputs": [
        {
          "name": "stdout",
          "output_type": "stream",
          "text": [
            "Model: \"sequential\"\n",
            "_________________________________________________________________\n",
            " Layer (type)                Output Shape              Param #   \n",
            "=================================================================\n",
            " dense (Dense)               (None, 1400)              2868600   \n",
            "                                                                 \n",
            " dense_1 (Dense)             (None, 800)               1120800   \n",
            "                                                                 \n",
            " dense_2 (Dense)             (None, 500)               400500    \n",
            "                                                                 \n",
            " dense_3 (Dense)             (None, 200)               100200    \n",
            "                                                                 \n",
            " dense_4 (Dense)             (None, 100)               20100     \n",
            "                                                                 \n",
            " dense_5 (Dense)             (None, 10)                1010      \n",
            "                                                                 \n",
            "=================================================================\n",
            "Total params: 4,511,210\n",
            "Trainable params: 4,511,210\n",
            "Non-trainable params: 0\n",
            "_________________________________________________________________\n"
          ]
        }
      ],
      "source": [
        "model = keras.models.Sequential()\n",
        "model.add(keras.layers.Input(shape=(feature_vector_size,)))\n",
        "model.add(keras.layers.Dense(1400, activation=\"relu\"))\n",
        "model.add(keras.layers.Dense(800, activation=\"relu\"))\n",
        "model.add(keras.layers.Dense(500, activation=\"relu\"))\n",
        "model.add(keras.layers.Dense(200, activation=\"relu\"))\n",
        "model.add(keras.layers.Dense(100, activation=\"relu\"))\n",
        "model.add(keras.layers.Dense(10, activation=\"softmax\"))\n",
        "model.summary()"
      ]
    },
    {
      "cell_type": "code",
      "execution_count": 20,
      "metadata": {
        "id": "CQVoWYhMzYUy"
      },
      "outputs": [],
      "source": [
        "opt = keras.optimizers.SGD(learning_rate=0.001)\n",
        "model.compile(loss=\"sparse_categorical_crossentropy\", optimizer=opt, metrics=[\"accuracy\"])"
      ]
    },
    {
      "cell_type": "code",
      "execution_count": 21,
      "metadata": {
        "colab": {
          "base_uri": "https://localhost:8080/"
        },
        "id": "fT62tFtDpvgD",
        "outputId": "06792e88-8294-46aa-9f5e-ae8d0337f1e7"
      },
      "outputs": [
        {
          "name": "stdout",
          "output_type": "stream",
          "text": [
            "Epoch 1/25\n",
            "2532/2532 [==============================] - 89s 35ms/step - loss: 1.9407 - accuracy: 0.2875 - val_loss: 1.5942 - val_accuracy: 0.4384\n",
            "Epoch 2/25\n",
            "2532/2532 [==============================] - 89s 35ms/step - loss: 1.2900 - accuracy: 0.6516 - val_loss: 1.0258 - val_accuracy: 0.8056\n",
            "Epoch 3/25\n",
            "2532/2532 [==============================] - 89s 35ms/step - loss: 0.8277 - accuracy: 0.8448 - val_loss: 0.7126 - val_accuracy: 0.8494\n",
            "Epoch 4/25\n",
            "2532/2532 [==============================] - 88s 35ms/step - loss: 0.6133 - accuracy: 0.8791 - val_loss: 0.5508 - val_accuracy: 0.8827\n",
            "Epoch 5/25\n",
            "2532/2532 [==============================] - 89s 35ms/step - loss: 0.4711 - accuracy: 0.9184 - val_loss: 0.4126 - val_accuracy: 0.9724\n",
            "Epoch 6/25\n",
            "2532/2532 [==============================] - 87s 34ms/step - loss: 0.3512 - accuracy: 0.9764 - val_loss: 0.3052 - val_accuracy: 0.9866\n",
            "Epoch 7/25\n",
            "2532/2532 [==============================] - 96s 38ms/step - loss: 0.2632 - accuracy: 0.9874 - val_loss: 0.2270 - val_accuracy: 0.9898\n",
            "Epoch 8/25\n",
            "2532/2532 [==============================] - 91s 36ms/step - loss: 0.1973 - accuracy: 0.9887 - val_loss: 0.1682 - val_accuracy: 0.9893\n",
            "Epoch 9/25\n",
            "2532/2532 [==============================] - 92s 36ms/step - loss: 0.1505 - accuracy: 0.9890 - val_loss: 0.1288 - val_accuracy: 0.9908\n",
            "Epoch 10/25\n",
            "2532/2532 [==============================] - 91s 36ms/step - loss: 0.1210 - accuracy: 0.9900 - val_loss: 0.1077 - val_accuracy: 0.9906\n",
            "Epoch 11/25\n",
            "2532/2532 [==============================] - 90s 36ms/step - loss: 0.1031 - accuracy: 0.9906 - val_loss: 0.0912 - val_accuracy: 0.9923\n",
            "Epoch 12/25\n",
            "2532/2532 [==============================] - 89s 35ms/step - loss: 0.0917 - accuracy: 0.9909 - val_loss: 0.0799 - val_accuracy: 0.9920\n",
            "Epoch 13/25\n",
            "2532/2532 [==============================] - 95s 38ms/step - loss: 0.0837 - accuracy: 0.9914 - val_loss: 0.0731 - val_accuracy: 0.9932\n",
            "Epoch 14/25\n",
            "2532/2532 [==============================] - 92s 36ms/step - loss: 0.0776 - accuracy: 0.9918 - val_loss: 0.0678 - val_accuracy: 0.9932\n",
            "Epoch 15/25\n",
            "2532/2532 [==============================] - 91s 36ms/step - loss: 0.0726 - accuracy: 0.9923 - val_loss: 0.0631 - val_accuracy: 0.9934\n",
            "Epoch 16/25\n",
            "2532/2532 [==============================] - 90s 35ms/step - loss: 0.0686 - accuracy: 0.9927 - val_loss: 0.0599 - val_accuracy: 0.9938\n",
            "Epoch 17/25\n",
            "2532/2532 [==============================] - 89s 35ms/step - loss: 0.0651 - accuracy: 0.9928 - val_loss: 0.0565 - val_accuracy: 0.9940\n",
            "Epoch 18/25\n",
            "2532/2532 [==============================] - 88s 35ms/step - loss: 0.0618 - accuracy: 0.9933 - val_loss: 0.0539 - val_accuracy: 0.9940\n",
            "Epoch 19/25\n",
            "2532/2532 [==============================] - 87s 34ms/step - loss: 0.0589 - accuracy: 0.9933 - val_loss: 0.0516 - val_accuracy: 0.9941\n",
            "Epoch 20/25\n",
            "2532/2532 [==============================] - 92s 36ms/step - loss: 0.0561 - accuracy: 0.9936 - val_loss: 0.0542 - val_accuracy: 0.9927\n",
            "Epoch 21/25\n",
            "2532/2532 [==============================] - 90s 35ms/step - loss: 0.0534 - accuracy: 0.9938 - val_loss: 0.0467 - val_accuracy: 0.9943\n",
            "Epoch 22/25\n",
            "2532/2532 [==============================] - 88s 35ms/step - loss: 0.0509 - accuracy: 0.9939 - val_loss: 0.0446 - val_accuracy: 0.9943\n",
            "Epoch 23/25\n",
            "2532/2532 [==============================] - 91s 36ms/step - loss: 0.0485 - accuracy: 0.9940 - val_loss: 0.0425 - val_accuracy: 0.9943\n",
            "Epoch 24/25\n",
            "2532/2532 [==============================] - 90s 35ms/step - loss: 0.0463 - accuracy: 0.9941 - val_loss: 0.0405 - val_accuracy: 0.9949\n",
            "Epoch 25/25\n",
            "2532/2532 [==============================] - 88s 35ms/step - loss: 0.0441 - accuracy: 0.9943 - val_loss: 0.0385 - val_accuracy: 0.9954\n"
          ]
        }
      ],
      "source": [
        "checkpoint_cb = keras.callbacks.ModelCheckpoint(\"/content/drive/MyDrive/Colab Notebooks/EMSCA/CDP_fro_EMSCA/iphone4S_I_model.h5\", save_best_only=True)\n",
        "history = model.fit(X_train, y_train, epochs=25, validation_split=0.1, callbacks=[checkpoint_cb])"
      ]
    },
    {
      "cell_type": "code",
      "execution_count": 22,
      "metadata": {
        "colab": {
          "base_uri": "https://localhost:8080/",
          "height": 324
        },
        "id": "llrUkl-r8oUe",
        "outputId": "fca59a89-1868-44a4-f7c8-c43779868986"
      },
      "outputs": [
        {
          "data": {
            "image/png": "[encoded data removed]",
            "text/plain": [
              "<Figure size 576x360 with 1 Axes>"
            ]
          },
          "metadata": {
            "needs_background": "light"
          },
          "output_type": "display_data"
        }
      ],
      "source": [
        "pd.DataFrame(history.history).plot(figsize=(8, 5))\n",
        "plt.grid(True)\n",
        "plt.gca().set_ylim(0, 1) # set the vertical range to [0-1]\n",
        "plt.show()"
      ]
    },
    {
      "cell_type": "markdown",
      "metadata": {
        "id": "B9yApsKi0S6i"
      },
      "source": [
        "**Test the Model**"
      ]
    },
    {
      "cell_type": "code",
      "execution_count": 23,
      "metadata": {
        "id": "hZ6KTya70STJ"
      },
      "outputs": [],
      "source": [
        "model = keras.models.load_model(\"/content/drive/MyDrive/Colab Notebooks/EMSCA/CDP_fro_EMSCA/iphone4S_I_model.h5\")"
      ]
    },
    {
      "cell_type": "code",
      "execution_count": 24,
      "metadata": {
        "colab": {
          "base_uri": "https://localhost:8080/"
        },
        "id": "dZUVqKzh0vt9",
        "outputId": "c71cbac8-3221-4f3c-8547-480fd1b98315"
      },
      "outputs": [
        {
          "name": "stdout",
          "output_type": "stream",
          "text": [
            "313/313 [==============================] - 4s 12ms/step - loss: 0.0340 - accuracy: 0.9948\n",
            "test loss, test acc: [0.03404422476887703, 0.9947999715805054]\n"
          ]
        }
      ],
      "source": [
        "results = model.evaluate(X_test, y_test)\n",
        "print(\"test loss, test acc:\", results)"
      ]
    },
    {
      "cell_type": "code",
      "execution_count": 25,
      "metadata": {
        "colab": {
          "base_uri": "https://localhost:8080/"
        },
        "id": "2J8ztRjs0z96",
        "outputId": "f2735592-9fa5-4c9d-e4e8-1924963fc5d0"
      },
      "outputs": [
        {
          "name": "stdout",
          "output_type": "stream",
          "text": [
            "[0 6 5 ... 5 5 6]\n",
            "0\n"
          ]
        }
      ],
      "source": [
        "y_pred = np.argmax(model.predict(X_test), axis=-1)\n",
        "print(y_pred)\n",
        "print(y_pred[0])"
      ]
    },
    {
      "cell_type": "code",
      "execution_count": 26,
      "metadata": {
        "colab": {
          "base_uri": "https://localhost:8080/"
        },
        "id": "g-Z_spj23rGi",
        "outputId": "f6c4826e-8cda-4d3c-956a-fc3fa8a6585d"
      },
      "outputs": [
        {
          "name": "stdout",
          "output_type": "stream",
          "text": [
            "[[1007    0    0    0    0    1    0    0    3    0]\n",
            " [   0 1003    0    1    0    0    3    3    0    0]\n",
            " [   0    0  988    0    0    3    0    0    2    0]\n",
            " [   0    0    0  925    1    4    1    0    3    5]\n",
            " [   0    0    0    1 1041    0    0    0    0    1]\n",
            " [   0    0    0    7    0 1017    0    0    1    2]\n",
            " [   0    0    0    0    0    0  997    0    2    0]\n",
            " [   0    0    0    0    0    0    4  970    0    0]\n",
            " [   0    0    0    0    0    0    0    0 1000    3]\n",
            " [   0    0    0    0    0    1    0    0    0 1000]]\n",
            "              precision    recall  f1-score   support\n",
            "\n",
            "           0       1.00      1.00      1.00      1011\n",
            "           1       1.00      0.99      1.00      1010\n",
            "           2       1.00      0.99      1.00       993\n",
            "           3       0.99      0.99      0.99       939\n",
            "           4       1.00      1.00      1.00      1043\n",
            "           5       0.99      0.99      0.99      1027\n",
            "           6       0.99      1.00      1.00       999\n",
            "           7       1.00      1.00      1.00       974\n",
            "           8       0.99      1.00      0.99      1003\n",
            "           9       0.99      1.00      0.99      1001\n",
            "\n",
            "    accuracy                           0.99     10000\n",
            "   macro avg       0.99      0.99      0.99     10000\n",
            "weighted avg       0.99      0.99      0.99     10000\n",
            "\n"
          ]
        }
      ],
      "source": [
        "print(confusion_matrix(y_test, y_pred))\n",
        "print(classification_report(y_test, y_pred))"
      ]
    },
    {
      "cell_type": "code",
      "execution_count": null,
      "metadata": {
        "id": "4-UPl2LgKO8W"
      },
      "outputs": [],
      "source": [
        "#model.save(\"/content/drive/MyDrive/Colab Notebooks/EMSCA/CDP_fro_EMSCA/iphone4S_I_model.h5\")"
      ]
    }
  ],
  "metadata": {
    "colab": {
      "provenance": []
    },
    "kernelspec": {
      "display_name": "Python 3.9.5 64-bit ('3.9.5')",
      "language": "python",
      "name": "python3"
    },
    "language_info": {
      "name": "python",
      "version": "3.9.5"
    },
    "vscode": {
      "interpreter": {
        "hash": "19cf15e5935f850a4094b09c57caf73573aa67bff627da8f739fe48cd95b0430"
      }
    }
  },
  "nbformat": 4,
  "nbformat_minor": 0
}
